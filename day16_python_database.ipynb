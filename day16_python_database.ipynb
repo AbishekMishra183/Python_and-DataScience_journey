{
  "cells": [
    {
      "cell_type": "markdown",
      "metadata": {
        "id": "view-in-github",
        "colab_type": "text"
      },
      "source": [
        "<a href=\"https://colab.research.google.com/github/AbishekMishra183/data-science-ml-journey/blob/main/day16_python_database.ipynb\" target=\"_parent\"><img src=\"https://colab.research.google.com/assets/colab-badge.svg\" alt=\"Open In Colab\"/></a>"
      ]
    },
    {
      "cell_type": "code",
      "execution_count": null,
      "id": "1a505bab-6ad1-424d-ba8d-0b9059851619",
      "metadata": {
        "id": "1a505bab-6ad1-424d-ba8d-0b9059851619"
      },
      "outputs": [],
      "source": [
        "import sqlite3\n"
      ]
    },
    {
      "cell_type": "code",
      "execution_count": null,
      "id": "f0a4efdc-6d1c-4cae-82f3-1519c03d37f8",
      "metadata": {
        "id": "f0a4efdc-6d1c-4cae-82f3-1519c03d37f8"
      },
      "outputs": [],
      "source": [
        "con=sqlite3.connect('students1.sqlite3')"
      ]
    },
    {
      "cell_type": "code",
      "execution_count": null,
      "id": "98a44baa-6b9a-4342-93d4-1d501adbddf2",
      "metadata": {
        "id": "98a44baa-6b9a-4342-93d4-1d501adbddf2"
      },
      "outputs": [],
      "source": [
        "cur =con.cursor()"
      ]
    },
    {
      "cell_type": "code",
      "execution_count": null,
      "id": "ced087d1-53a6-49db-ab7b-46f494d2d5fd",
      "metadata": {
        "id": "ced087d1-53a6-49db-ab7b-46f494d2d5fd",
        "outputId": "56355267-7a80-4a7f-8006-4439f1a9bcc8"
      },
      "outputs": [
        {
          "data": {
            "text/plain": [
              "<sqlite3.Cursor at 0x251bd364740>"
            ]
          },
          "execution_count": 4,
          "metadata": {},
          "output_type": "execute_result"
        }
      ],
      "source": [
        "create_table_query=\"\"\"\n",
        "CREATE TABLE student(\n",
        "\tid int primary key,\n",
        "\tname varchar not null,\n",
        "\taddress varchar not null,\n",
        "\tcollege varchar not null,\n",
        "\tage int not null,\n",
        "\tgender varchar(1) not null,\n",
        "\tfaculty varchar not null\n",
        "\n",
        ");\n",
        "\"\"\"\n",
        "cur.execute(create_table_query)"
      ]
    },
    {
      "cell_type": "code",
      "execution_count": null,
      "id": "6c131f4a-9fc9-4662-a8ff-0b25a369b7ed",
      "metadata": {
        "id": "6c131f4a-9fc9-4662-a8ff-0b25a369b7ed",
        "outputId": "2bdfad0d-d4d0-4b77-f7c3-94ae654d6fd8"
      },
      "outputs": [
        {
          "data": {
            "text/plain": [
              "<sqlite3.Cursor at 0x251bd364740>"
            ]
          },
          "execution_count": 5,
          "metadata": {},
          "output_type": "execute_result"
        }
      ],
      "source": [
        "insert_records=\"\"\"\n",
        "\n",
        "INSERT INTO student\n",
        "('id', 'name', 'address', 'college', 'age', 'gender', 'faculty')\n",
        "VALUES\n",
        "(1, 'ram', 'kathmandu', 'ncit', 18, 'm', 'IT'),\n",
        "(2, 'shyam', 'lalitpur', 'islington', 20, 'm', 'CSIT'),\n",
        "(3, 'gita', 'pokhara', 'ncit', 21, 'f', 'SE'),\n",
        "(4, 'sita', 'kathmandu', 'pulchwok', 25, 'f', 'CE');\n",
        "\"\"\"\n",
        "cur.execute(insert_records)"
      ]
    },
    {
      "cell_type": "code",
      "execution_count": null,
      "id": "173477d5-3f4b-4f2d-b546-4a85d06b9bf0",
      "metadata": {
        "id": "173477d5-3f4b-4f2d-b546-4a85d06b9bf0"
      },
      "outputs": [],
      "source": [
        "con.commit()"
      ]
    },
    {
      "cell_type": "code",
      "execution_count": null,
      "id": "3f569a61-3e82-4ab4-87ee-b2d214536f2b",
      "metadata": {
        "id": "3f569a61-3e82-4ab4-87ee-b2d214536f2b",
        "outputId": "b20bf3cb-c88d-47c6-8a95-bfdc47cce531"
      },
      "outputs": [
        {
          "name": "stdout",
          "output_type": "stream",
          "text": [
            "(1, 'ram', 'kathmandu', 'ncit', 18, 'm', 'IT')\n",
            "(2, 'shyam', 'lalitpur', 'islington', 20, 'm', 'CSIT')\n",
            "(3, 'gita', 'pokhara', 'ncit', 21, 'f', 'SE')\n",
            "(4, 'sita', 'kathmandu', 'pulchwok', 25, 'f', 'CE')\n"
          ]
        }
      ],
      "source": [
        "students=cur.execute(\"SELECT * FROM student;\")\n",
        "for student in students:\n",
        "    print(student)"
      ]
    },
    {
      "cell_type": "code",
      "execution_count": null,
      "id": "e1ed84e3-72e5-49c5-9293-5dcb22e74666",
      "metadata": {
        "id": "e1ed84e3-72e5-49c5-9293-5dcb22e74666",
        "outputId": "b9054f75-c2d6-48b4-e003-f72afa5cf850"
      },
      "outputs": [
        {
          "data": {
            "text/plain": [
              "<sqlite3.Cursor at 0x251bd364740>"
            ]
          },
          "execution_count": 8,
          "metadata": {},
          "output_type": "execute_result"
        }
      ],
      "source": [
        "# no need to commit for table realted operation\n",
        "cur.execute(\"ALTER table student add university varchar default 'TU';\")"
      ]
    },
    {
      "cell_type": "code",
      "execution_count": null,
      "id": "ae7ed8a6-6483-4010-b8be-be1381c09fdc",
      "metadata": {
        "id": "ae7ed8a6-6483-4010-b8be-be1381c09fdc",
        "outputId": "a722847c-804d-4c69-c0b6-2ea7ec51e7ee"
      },
      "outputs": [
        {
          "name": "stdout",
          "output_type": "stream",
          "text": [
            "(2, 'shyam', 'lalitpur', 'islington', 20, 'm', 'CSIT', 'TU')\n"
          ]
        }
      ],
      "source": [
        "\n",
        "cur.execute(\"SELECT * FROM student WHERE  address='lalitpur';\")\n",
        "for student in students:\n",
        "    print(student)"
      ]
    },
    {
      "cell_type": "code",
      "execution_count": null,
      "id": "9f64db65-f35a-4533-ba53-952bf7e39f30",
      "metadata": {
        "id": "9f64db65-f35a-4533-ba53-952bf7e39f30",
        "outputId": "a2a1407d-b07d-493e-ff99-733560472b74"
      },
      "outputs": [
        {
          "name": "stdin",
          "output_type": "stream",
          "text": [
            "Enter address to search:  lalitpur\n"
          ]
        },
        {
          "name": "stdout",
          "output_type": "stream",
          "text": [
            "(2, 'shyam', 'lalitpur', 'islington', 20, 'm', 'CSIT', 'TU')\n"
          ]
        }
      ],
      "source": [
        "\n",
        "address = input(\"Enter address to search: \")\n",
        "\n",
        "\n",
        "students=cur.execute(f\"SELECT * FROM student WHERE address = '{address}';\")\n",
        "\n",
        "\n",
        "\n",
        "for student in students:\n",
        "    print(student)\n",
        "\n",
        "\n"
      ]
    },
    {
      "cell_type": "code",
      "execution_count": null,
      "id": "2943dd5d-1325-4a4d-ae80-dff1db1f1833",
      "metadata": {
        "id": "2943dd5d-1325-4a4d-ae80-dff1db1f1833"
      },
      "outputs": [],
      "source": [
        "#SELECT * FROM student WHERE address = 'lalitpur' OR TRUE OR address = 'kathmandu';\n"
      ]
    },
    {
      "cell_type": "code",
      "execution_count": null,
      "id": "5593951e-dfcf-4aff-b2e0-f96c8f06be4f",
      "metadata": {
        "id": "5593951e-dfcf-4aff-b2e0-f96c8f06be4f",
        "outputId": "3ca8fd20-37aa-45e9-d256-578ff5b2d5bb"
      },
      "outputs": [
        {
          "name": "stdin",
          "output_type": "stream",
          "text": [
            "Enter address to search:  lalitpur\n"
          ]
        },
        {
          "name": "stdout",
          "output_type": "stream",
          "text": [
            "(2, 'shyam', 'lalitpur', 'islington', 20, 'm', 'CSIT', 'TU')\n"
          ]
        }
      ],
      "source": [
        "\n",
        "address = input(\"Enter address to search: \")\n",
        "\n",
        "\n",
        "student=cur.execute(\"SELECT * FROM student WHERE address = ?\", (address,))\n",
        "\n",
        "\n",
        "for student in students:\n",
        "    print(student)\n",
        "\n"
      ]
    },
    {
      "cell_type": "code",
      "execution_count": null,
      "id": "69c86603-0fac-4521-b4cf-643deae3a5ee",
      "metadata": {
        "id": "69c86603-0fac-4521-b4cf-643deae3a5ee"
      },
      "outputs": [],
      "source": [
        "student = (5, 'shyam', 'lalitpur', 'islington', 20, 'm', 'CSIT', 'TU')\n",
        "\n",
        "INSERT_RECORDS = \"\"\"\n",
        "INSERT INTO student\n",
        "(id, name, address, college, age, gender, faculty, university)\n",
        "VALUES (?, ?, ?, ?, ?, ?, ?, ?);\n",
        "\"\"\"\n",
        "\n",
        "cur.execute(INSERT_RECORDS, student)\n",
        "con.commit()\n"
      ]
    },
    {
      "cell_type": "code",
      "execution_count": null,
      "id": "e7d49b07-373a-4032-ac30-7fe98e44a239",
      "metadata": {
        "id": "e7d49b07-373a-4032-ac30-7fe98e44a239"
      },
      "outputs": [],
      "source": [
        "students=[\n",
        "    (9, 'hariBahadur', 'kathmandu', 'ncit', 18, 'm', 'IT','pu'),\n",
        "    (10, 'MadanBhandari', 'lalitpur', 'islington', 20, 'm', 'CSIT','TU'),\n",
        "    (11, 'mayaDevi', 'pokhara', 'ncit', 21, 'f', 'SE','TU'),\n",
        "]\n",
        "INSERT_RECORDS = \"\"\"\n",
        "INSERT INTO student\n",
        "(id, name, address, college, age, gender, faculty, university)\n",
        "VALUES (?, ?, ?, ?, ?, ?, ?, ?);\n",
        "\"\"\"\n",
        "\n",
        "for student in students:\n",
        "    cur.execute(INSERT_RECORDS, student)\n",
        "    con.commit()\n",
        "\n",
        ""
      ]
    },
    {
      "cell_type": "code",
      "execution_count": null,
      "id": "8f62b361-2428-44e7-9e55-00e767bb9c30",
      "metadata": {
        "id": "8f62b361-2428-44e7-9e55-00e767bb9c30"
      },
      "outputs": [],
      "source": [
        "INSERT_RECORDS = \"\"\"\n",
        "INSERT INTO student\n",
        "(id, name, address, college, age, gender, faculty, university)\n",
        "VALUES (?, ?, ?, ?, ?, ?, ?, ?);\n",
        "\"\"\"\n",
        "\n",
        "cur.execute(INSERT_RECORDS, student)\n",
        "con.commit()\n",
        "students=[\n",
        "    (202, 'hariBahadur', 'kathmandu', 'ncit', 18, 'm', 'IT','pu'),\n",
        "    (203, 'MadanBhandari', 'lalitpur', 'islington', 20, 'm', 'CSIT','TU'),\n",
        "    (204, 'mayaDevi', 'pokhara', 'ncit', 21, 'f', 'SE','TU'),\n",
        "]\n",
        "INSERT_RECORDS = \"\"\"\n",
        "INSERT INTO student\n",
        "(id, name, address, college, age, gender, faculty, university)\n",
        "VALUES (?, ?, ?, ?, ?, ?, ?, ?);\n",
        "\"\"\"\n",
        "\n",
        "cur.executemany(INSERT_RECORDS, students)\n",
        "con.commit()\n",
        "\n",
        ""
      ]
    },
    {
      "cell_type": "code",
      "execution_count": null,
      "id": "a913c4a6-47b8-4864-8b52-37f4b13827f6",
      "metadata": {
        "id": "a913c4a6-47b8-4864-8b52-37f4b13827f6"
      },
      "outputs": [],
      "source": []
    },
    {
      "cell_type": "code",
      "execution_count": null,
      "id": "f6271c9c-e889-417f-b6d8-f4b4e3127bb1",
      "metadata": {
        "id": "f6271c9c-e889-417f-b6d8-f4b4e3127bb1"
      },
      "outputs": [],
      "source": []
    }
  ],
  "metadata": {
    "kernelspec": {
      "display_name": "Python 3 (ipykernel)",
      "language": "python",
      "name": "python3"
    },
    "language_info": {
      "codemirror_mode": {
        "name": "ipython",
        "version": 3
      },
      "file_extension": ".py",
      "mimetype": "text/x-python",
      "name": "python",
      "nbconvert_exporter": "python",
      "pygments_lexer": "ipython3",
      "version": "3.13.1"
    },
    "colab": {
      "provenance": [],
      "include_colab_link": true
    }
  },
  "nbformat": 4,
  "nbformat_minor": 5
}