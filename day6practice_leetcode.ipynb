{
  "nbformat": 4,
  "nbformat_minor": 0,
  "metadata": {
    "colab": {
      "provenance": [],
      "authorship_tag": "ABX9TyNICodf3Xu9/IQmRj5tyak8",
      "include_colab_link": true
    },
    "kernelspec": {
      "name": "python3",
      "display_name": "Python 3"
    },
    "language_info": {
      "name": "python"
    }
  },
  "cells": [
    {
      "cell_type": "markdown",
      "metadata": {
        "id": "view-in-github",
        "colab_type": "text"
      },
      "source": [
        "<a href=\"https://colab.research.google.com/github/AbishekMishra183/data-science-ml-journey/blob/main/day6practice_leetcode.ipynb\" target=\"_parent\"><img src=\"https://colab.research.google.com/assets/colab-badge.svg\" alt=\"Open In Colab\"/></a>"
      ]
    },
    {
      "cell_type": "markdown",
      "source": [
        "#*** 10  Question solving from the leetcode ***"
      ],
      "metadata": {
        "id": "NaIT_eOH8m3L"
      }
    },
    {
      "cell_type": "markdown",
      "source": [
        "Question 1. Find two numbers in a list that add up to a specific target and return their indices.\n",
        "\n",
        "***Logic***\n",
        "\n",
        "---\n",
        "\n",
        "\n",
        "You are given a list of numbers, and a target number.\n",
        "\n",
        "You have to check every possible pair (two numbers) to see if their sum equals the target.\n",
        "\n",
        "**Assume**\n",
        "\n",
        "nums = [2, 7, 11, 15]\n",
        "target = 9\n",
        "\n",
        " here is the how this happens\n",
        " First number: 2\n",
        "\n",
        "Check 2 + 7 = 9 → Yes!\n",
        "\n",
        "So, return the indices of 2 and 7, which are [0, 1].\n",
        "\n"
      ],
      "metadata": {
        "id": "LghneN_487TE"
      }
    },
    {
      "cell_type": "code",
      "source": [
        "def twoSum(nums,target):\n",
        "  for i in range(len(nums)):\n",
        "    for j in range(i+1,len(nums)):\n",
        "      if nums[i]+nums[j]==target:\n",
        "        return[i,j]\n"
      ],
      "metadata": {
        "id": "PjLpgW_c-ZrE"
      },
      "execution_count": 2,
      "outputs": []
    },
    {
      "cell_type": "code",
      "source": [
        "twoSum([1,2,3,4,5],3)# Because nums[0] + nums[1]=1+2=>3"
      ],
      "metadata": {
        "colab": {
          "base_uri": "https://localhost:8080/",
          "height": 0
        },
        "id": "rODOI_ev849K",
        "outputId": "6bab91a9-b32e-471d-bfe1-fc117f6c4363"
      },
      "execution_count": 3,
      "outputs": [
        {
          "output_type": "execute_result",
          "data": {
            "text/plain": [
              "[0, 1]"
            ]
          },
          "metadata": {},
          "execution_count": 3
        }
      ]
    },
    {
      "cell_type": "markdown",
      "source": [
        "Palindrome Number (check if the number is same from forward and backward\n",
        "\n",
        "\n",
        "***logic***\n",
        "\n",
        "\n",
        "---\n",
        "\n",
        "\n",
        "\n",
        "\n",
        "\n",
        "\n",
        "\n",
        "*   converts the number into string\n",
        "*  compares the string in reverse  \n",
        "\n",
        "\n",
        "x = 121\n",
        "\n",
        "Convert to string: \"121\"\n",
        "\n",
        "Reverse it: \"121\"\n",
        "\n",
        "Compare original and reversed → they are same → Palindrome.\n",
        "\n",
        "\n",
        "\n",
        "\n",
        "\n",
        "\n",
        "\n",
        "\n",
        "\n",
        "\n"
      ],
      "metadata": {
        "id": "qrFMNC4o_nHp"
      }
    },
    {
      "cell_type": "code",
      "source": [
        "def is_palindrome(num):\n",
        "  orginal_num=num\n",
        "  reversed_num=0\n",
        "  while num>0:\n",
        "    digit=num%10\n",
        "    reversed_num=reversed_num*10+digit\n",
        "    num=num/10\n",
        "    return orginal_num==reversed_num\n",
        "\n"
      ],
      "metadata": {
        "id": "PYFA6PfRAtML"
      },
      "execution_count": 5,
      "outputs": []
    },
    {
      "cell_type": "code",
      "source": [
        " is_palindrome(123)"
      ],
      "metadata": {
        "colab": {
          "base_uri": "https://localhost:8080/",
          "height": 0
        },
        "id": "t2Rru3NZ_Ukb",
        "outputId": "2ed28ab4-e247-4e09-cb4d-aa798eb3a50a"
      },
      "execution_count": 6,
      "outputs": [
        {
          "output_type": "execute_result",
          "data": {
            "text/plain": [
              "False"
            ]
          },
          "metadata": {},
          "execution_count": 6
        }
      ]
    },
    {
      "cell_type": "markdown",
      "source": [
        "# FizzBuzz\n",
        "\n",
        " Problem:\n",
        "\n",
        "Print numbers from 1 to n.\n",
        "\n",
        "Multiples of 3 → \"Fizz\", 5 → \"Buzz\", both → \"FizzBuzz\".\n"
      ],
      "metadata": {
        "id": "YkoMub0sB0jm"
      }
    },
    {
      "cell_type": "code",
      "source": [
        "def fizzBuzz(n):\n",
        "  for i in range(n):\n",
        "    if i%3==0 and i%5==0:\n",
        "     print(\"Fizzbuzz\")\n",
        "    elif i%3 ==0:\n",
        "        print(\"fizz\")\n",
        "    elif i%5==0:\n",
        "          print(\"Buzz\")\n",
        "    else:\n",
        "            print(1)\n",
        ""
      ],
      "metadata": {
        "id": "eyTzLOArCF23"
      },
      "execution_count": 9,
      "outputs": []
    },
    {
      "cell_type": "code",
      "source": [
        " fizzBuzz(589)"
      ],
      "metadata": {
        "colab": {
          "base_uri": "https://localhost:8080/",
          "height": 0
        },
        "id": "u34dXWkcC6vf",
        "outputId": "5ed9822a-3db7-4a98-8142-fd889dcd9f0f"
      },
      "execution_count": 10,
      "outputs": [
        {
          "output_type": "stream",
          "name": "stdout",
          "text": [
            "Fizzbuzz\n",
            "1\n",
            "1\n",
            "fizz\n",
            "1\n",
            "Buzz\n",
            "fizz\n",
            "1\n",
            "1\n",
            "fizz\n",
            "Buzz\n",
            "1\n",
            "fizz\n",
            "1\n",
            "1\n",
            "Fizzbuzz\n",
            "1\n",
            "1\n",
            "fizz\n",
            "1\n",
            "Buzz\n",
            "fizz\n",
            "1\n",
            "1\n",
            "fizz\n",
            "Buzz\n",
            "1\n",
            "fizz\n",
            "1\n",
            "1\n",
            "Fizzbuzz\n",
            "1\n",
            "1\n",
            "fizz\n",
            "1\n",
            "Buzz\n",
            "fizz\n",
            "1\n",
            "1\n",
            "fizz\n",
            "Buzz\n",
            "1\n",
            "fizz\n",
            "1\n",
            "1\n",
            "Fizzbuzz\n",
            "1\n",
            "1\n",
            "fizz\n",
            "1\n",
            "Buzz\n",
            "fizz\n",
            "1\n",
            "1\n",
            "fizz\n",
            "Buzz\n",
            "1\n",
            "fizz\n",
            "1\n",
            "1\n",
            "Fizzbuzz\n",
            "1\n",
            "1\n",
            "fizz\n",
            "1\n",
            "Buzz\n",
            "fizz\n",
            "1\n",
            "1\n",
            "fizz\n",
            "Buzz\n",
            "1\n",
            "fizz\n",
            "1\n",
            "1\n",
            "Fizzbuzz\n",
            "1\n",
            "1\n",
            "fizz\n",
            "1\n",
            "Buzz\n",
            "fizz\n",
            "1\n",
            "1\n",
            "fizz\n",
            "Buzz\n",
            "1\n",
            "fizz\n",
            "1\n",
            "1\n",
            "Fizzbuzz\n",
            "1\n",
            "1\n",
            "fizz\n",
            "1\n",
            "Buzz\n",
            "fizz\n",
            "1\n",
            "1\n",
            "fizz\n",
            "Buzz\n",
            "1\n",
            "fizz\n",
            "1\n",
            "1\n",
            "Fizzbuzz\n",
            "1\n",
            "1\n",
            "fizz\n",
            "1\n",
            "Buzz\n",
            "fizz\n",
            "1\n",
            "1\n",
            "fizz\n",
            "Buzz\n",
            "1\n",
            "fizz\n",
            "1\n",
            "1\n",
            "Fizzbuzz\n",
            "1\n",
            "1\n",
            "fizz\n",
            "1\n",
            "Buzz\n",
            "fizz\n",
            "1\n",
            "1\n",
            "fizz\n",
            "Buzz\n",
            "1\n",
            "fizz\n",
            "1\n",
            "1\n",
            "Fizzbuzz\n",
            "1\n",
            "1\n",
            "fizz\n",
            "1\n",
            "Buzz\n",
            "fizz\n",
            "1\n",
            "1\n",
            "fizz\n",
            "Buzz\n",
            "1\n",
            "fizz\n",
            "1\n",
            "1\n",
            "Fizzbuzz\n",
            "1\n",
            "1\n",
            "fizz\n",
            "1\n",
            "Buzz\n",
            "fizz\n",
            "1\n",
            "1\n",
            "fizz\n",
            "Buzz\n",
            "1\n",
            "fizz\n",
            "1\n",
            "1\n",
            "Fizzbuzz\n",
            "1\n",
            "1\n",
            "fizz\n",
            "1\n",
            "Buzz\n",
            "fizz\n",
            "1\n",
            "1\n",
            "fizz\n",
            "Buzz\n",
            "1\n",
            "fizz\n",
            "1\n",
            "1\n",
            "Fizzbuzz\n",
            "1\n",
            "1\n",
            "fizz\n",
            "1\n",
            "Buzz\n",
            "fizz\n",
            "1\n",
            "1\n",
            "fizz\n",
            "Buzz\n",
            "1\n",
            "fizz\n",
            "1\n",
            "1\n",
            "Fizzbuzz\n",
            "1\n",
            "1\n",
            "fizz\n",
            "1\n",
            "Buzz\n",
            "fizz\n",
            "1\n",
            "1\n",
            "fizz\n",
            "Buzz\n",
            "1\n",
            "fizz\n",
            "1\n",
            "1\n",
            "Fizzbuzz\n",
            "1\n",
            "1\n",
            "fizz\n",
            "1\n",
            "Buzz\n",
            "fizz\n",
            "1\n",
            "1\n",
            "fizz\n",
            "Buzz\n",
            "1\n",
            "fizz\n",
            "1\n",
            "1\n",
            "Fizzbuzz\n",
            "1\n",
            "1\n",
            "fizz\n",
            "1\n",
            "Buzz\n",
            "fizz\n",
            "1\n",
            "1\n",
            "fizz\n",
            "Buzz\n",
            "1\n",
            "fizz\n",
            "1\n",
            "1\n",
            "Fizzbuzz\n",
            "1\n",
            "1\n",
            "fizz\n",
            "1\n",
            "Buzz\n",
            "fizz\n",
            "1\n",
            "1\n",
            "fizz\n",
            "Buzz\n",
            "1\n",
            "fizz\n",
            "1\n",
            "1\n",
            "Fizzbuzz\n",
            "1\n",
            "1\n",
            "fizz\n",
            "1\n",
            "Buzz\n",
            "fizz\n",
            "1\n",
            "1\n",
            "fizz\n",
            "Buzz\n",
            "1\n",
            "fizz\n",
            "1\n",
            "1\n",
            "Fizzbuzz\n",
            "1\n",
            "1\n",
            "fizz\n",
            "1\n",
            "Buzz\n",
            "fizz\n",
            "1\n",
            "1\n",
            "fizz\n",
            "Buzz\n",
            "1\n",
            "fizz\n",
            "1\n",
            "1\n",
            "Fizzbuzz\n",
            "1\n",
            "1\n",
            "fizz\n",
            "1\n",
            "Buzz\n",
            "fizz\n",
            "1\n",
            "1\n",
            "fizz\n",
            "Buzz\n",
            "1\n",
            "fizz\n",
            "1\n",
            "1\n",
            "Fizzbuzz\n",
            "1\n",
            "1\n",
            "fizz\n",
            "1\n",
            "Buzz\n",
            "fizz\n",
            "1\n",
            "1\n",
            "fizz\n",
            "Buzz\n",
            "1\n",
            "fizz\n",
            "1\n",
            "1\n",
            "Fizzbuzz\n",
            "1\n",
            "1\n",
            "fizz\n",
            "1\n",
            "Buzz\n",
            "fizz\n",
            "1\n",
            "1\n",
            "fizz\n",
            "Buzz\n",
            "1\n",
            "fizz\n",
            "1\n",
            "1\n",
            "Fizzbuzz\n",
            "1\n",
            "1\n",
            "fizz\n",
            "1\n",
            "Buzz\n",
            "fizz\n",
            "1\n",
            "1\n",
            "fizz\n",
            "Buzz\n",
            "1\n",
            "fizz\n",
            "1\n",
            "1\n",
            "Fizzbuzz\n",
            "1\n",
            "1\n",
            "fizz\n",
            "1\n",
            "Buzz\n",
            "fizz\n",
            "1\n",
            "1\n",
            "fizz\n",
            "Buzz\n",
            "1\n",
            "fizz\n",
            "1\n",
            "1\n",
            "Fizzbuzz\n",
            "1\n",
            "1\n",
            "fizz\n",
            "1\n",
            "Buzz\n",
            "fizz\n",
            "1\n",
            "1\n",
            "fizz\n",
            "Buzz\n",
            "1\n",
            "fizz\n",
            "1\n",
            "1\n",
            "Fizzbuzz\n",
            "1\n",
            "1\n",
            "fizz\n",
            "1\n",
            "Buzz\n",
            "fizz\n",
            "1\n",
            "1\n",
            "fizz\n",
            "Buzz\n",
            "1\n",
            "fizz\n",
            "1\n",
            "1\n",
            "Fizzbuzz\n",
            "1\n",
            "1\n",
            "fizz\n",
            "1\n",
            "Buzz\n",
            "fizz\n",
            "1\n",
            "1\n",
            "fizz\n",
            "Buzz\n",
            "1\n",
            "fizz\n",
            "1\n",
            "1\n",
            "Fizzbuzz\n",
            "1\n",
            "1\n",
            "fizz\n",
            "1\n",
            "Buzz\n",
            "fizz\n",
            "1\n",
            "1\n",
            "fizz\n",
            "Buzz\n",
            "1\n",
            "fizz\n",
            "1\n",
            "1\n",
            "Fizzbuzz\n",
            "1\n",
            "1\n",
            "fizz\n",
            "1\n",
            "Buzz\n",
            "fizz\n",
            "1\n",
            "1\n",
            "fizz\n",
            "Buzz\n",
            "1\n",
            "fizz\n",
            "1\n",
            "1\n",
            "Fizzbuzz\n",
            "1\n",
            "1\n",
            "fizz\n",
            "1\n",
            "Buzz\n",
            "fizz\n",
            "1\n",
            "1\n",
            "fizz\n",
            "Buzz\n",
            "1\n",
            "fizz\n",
            "1\n",
            "1\n",
            "Fizzbuzz\n",
            "1\n",
            "1\n",
            "fizz\n",
            "1\n",
            "Buzz\n",
            "fizz\n",
            "1\n",
            "1\n",
            "fizz\n",
            "Buzz\n",
            "1\n",
            "fizz\n",
            "1\n",
            "1\n",
            "Fizzbuzz\n",
            "1\n",
            "1\n",
            "fizz\n",
            "1\n",
            "Buzz\n",
            "fizz\n",
            "1\n",
            "1\n",
            "fizz\n",
            "Buzz\n",
            "1\n",
            "fizz\n",
            "1\n",
            "1\n",
            "Fizzbuzz\n",
            "1\n",
            "1\n",
            "fizz\n",
            "1\n",
            "Buzz\n",
            "fizz\n",
            "1\n",
            "1\n",
            "fizz\n",
            "Buzz\n",
            "1\n",
            "fizz\n",
            "1\n",
            "1\n",
            "Fizzbuzz\n",
            "1\n",
            "1\n",
            "fizz\n",
            "1\n",
            "Buzz\n",
            "fizz\n",
            "1\n",
            "1\n",
            "fizz\n",
            "Buzz\n",
            "1\n",
            "fizz\n",
            "1\n",
            "1\n",
            "Fizzbuzz\n",
            "1\n",
            "1\n",
            "fizz\n",
            "1\n",
            "Buzz\n",
            "fizz\n",
            "1\n",
            "1\n",
            "fizz\n",
            "Buzz\n",
            "1\n",
            "fizz\n",
            "1\n",
            "1\n",
            "Fizzbuzz\n",
            "1\n",
            "1\n",
            "fizz\n",
            "1\n",
            "Buzz\n",
            "fizz\n",
            "1\n",
            "1\n",
            "fizz\n",
            "Buzz\n",
            "1\n",
            "fizz\n",
            "1\n",
            "1\n",
            "Fizzbuzz\n",
            "1\n",
            "1\n",
            "fizz\n",
            "1\n",
            "Buzz\n",
            "fizz\n",
            "1\n",
            "1\n",
            "fizz\n",
            "Buzz\n",
            "1\n",
            "fizz\n",
            "1\n",
            "1\n",
            "Fizzbuzz\n",
            "1\n",
            "1\n",
            "fizz\n",
            "1\n",
            "Buzz\n",
            "fizz\n",
            "1\n",
            "1\n",
            "fizz\n",
            "Buzz\n",
            "1\n",
            "fizz\n",
            "1\n",
            "1\n",
            "Fizzbuzz\n",
            "1\n",
            "1\n",
            "fizz\n",
            "1\n",
            "Buzz\n",
            "fizz\n",
            "1\n",
            "1\n",
            "fizz\n",
            "Buzz\n",
            "1\n",
            "fizz\n",
            "1\n",
            "1\n",
            "Fizzbuzz\n",
            "1\n",
            "1\n",
            "fizz\n"
          ]
        }
      ]
    },
    {
      "cell_type": "markdown",
      "source": [
        "##  4. Reverse string"
      ],
      "metadata": {
        "id": "Ic4wykSyDj2p"
      }
    },
    {
      "cell_type": "code",
      "source": [
        "def reverse_string(s):\n",
        "  return s[::-1]\n",
        ""
      ],
      "metadata": {
        "id": "H_UlhCbgD1Mh"
      },
      "execution_count": 11,
      "outputs": []
    },
    {
      "cell_type": "code",
      "source": [
        "print(reverse_string(\"hello\"))"
      ],
      "metadata": {
        "colab": {
          "base_uri": "https://localhost:8080/",
          "height": 0
        },
        "id": "WFGXc9V2D5-e",
        "outputId": "4700faa3-648f-48a1-b2e0-5a039e16ffa2"
      },
      "execution_count": 13,
      "outputs": [
        {
          "output_type": "stream",
          "name": "stdout",
          "text": [
            "olleh\n"
          ]
        }
      ]
    },
    {
      "cell_type": "markdown",
      "source": [
        "#  5. Maximum Number of Words Found in Sentences\n",
        "\n",
        ".split() breaks the sentence into words.\n",
        "\n",
        "Count words using len().\n",
        "\n",
        "Keep track of the maximum count.\n",
        "\n",
        "example: \"I love coding\"\n",
        "\n",
        "sentence.split() will split the sentence by spaces.\n",
        "\n",
        "\"I love coding\".split() → [\"I\", \"love\", \"coding\"]\n",
        "\n",
        "It has 3 words.\n",
        "\"Python is great\"\n",
        "\n",
        "\"Python is great\".split() → [\"Python\", \"is\", \"great\"]\n",
        "\n",
        "It also has 3 words.\n",
        "\n"
      ],
      "metadata": {
        "id": "SEOQOiV8EUV9"
      }
    },
    {
      "cell_type": "code",
      "source": [
        "def mostWordsFound(sentences):\n",
        "    max_words = 0\n",
        "    for sentence in sentences:\n",
        "        words = sentence.split()\n",
        "        max_words = max(max_words, len(words))\n",
        "    return max_words"
      ],
      "metadata": {
        "id": "Qri3vjxmElkB"
      },
      "execution_count": 14,
      "outputs": []
    },
    {
      "cell_type": "code",
      "source": [
        "print(mostWordsFound([\"I love coding\", \"Python is great\"]))"
      ],
      "metadata": {
        "colab": {
          "base_uri": "https://localhost:8080/",
          "height": 0
        },
        "id": "gj4LFgooEwgC",
        "outputId": "e1a96b5e-0867-4e66-8382-3a0b612fe7ea"
      },
      "execution_count": 19,
      "outputs": [
        {
          "output_type": "stream",
          "name": "stdout",
          "text": [
            "3\n"
          ]
        }
      ]
    },
    {
      "cell_type": "markdown",
      "source": [
        "6. Problem:\n",
        "Given two strings haystack and needle, find the first index where needle appears in haystack.\n",
        "\n",
        "**logic**\n",
        "\n",
        "---\n",
        "\n",
        "Check if needle exists inside haystack.\n",
        "\n",
        "If yes, return the starting index.\n",
        "\n",
        "If not, return -1."
      ],
      "metadata": {
        "id": "jhqh1zZ3GQuw"
      }
    },
    {
      "cell_type": "code",
      "source": [
        "def strStr(haystack, needle):\n",
        "    if needle in haystack:\n",
        "        return haystack.index(needle)\n",
        "    return -1\n"
      ],
      "metadata": {
        "id": "KsC5jz6WGoOh"
      },
      "execution_count": 20,
      "outputs": []
    },
    {
      "cell_type": "code",
      "source": [
        "strStr(\"hello\",\"ll\")"
      ],
      "metadata": {
        "colab": {
          "base_uri": "https://localhost:8080/",
          "height": 0
        },
        "id": "LyEnGh75Gr6i",
        "outputId": "7be5d23d-3182-4c09-af8b-b4dd2a72bc5d"
      },
      "execution_count": 21,
      "outputs": [
        {
          "output_type": "execute_result",
          "data": {
            "text/plain": [
              "2"
            ]
          },
          "metadata": {},
          "execution_count": 21
        }
      ]
    },
    {
      "cell_type": "markdown",
      "source": [
        "\n",
        "Look inside \"hello\":\n",
        "\n",
        "'h' → no\n",
        "\n",
        "'he' → no\n",
        "\n",
        "'hel' → no\n",
        "\n",
        "'hell' → YES → 'll' starts at index 2.\n",
        "\n"
      ],
      "metadata": {
        "id": "C3CpoCqmG3Kt"
      }
    },
    {
      "cell_type": "code",
      "source": [],
      "metadata": {
        "id": "hHz5J3K_HBOG"
      },
      "execution_count": null,
      "outputs": []
    },
    {
      "cell_type": "markdown",
      "source": [
        "7. Problem:\n",
        "Count how many odd numbers exist between low and high (inclusive)\n",
        "***logic***\n",
        "\n",
        "---\n",
        "\n",
        "\n",
        "Find how many numbers total → (high - low).\n",
        "\n",
        "Half of them will be odd roughly.\n",
        "\n",
        "Special case: if either low or high is odd, add 1."
      ],
      "metadata": {
        "id": "16aKrxSrHHWM"
      }
    },
    {
      "cell_type": "code",
      "source": [
        "def countOdds(low, high):\n",
        "    return (high - low)//2 + (1 if low % 2 != 0 or high % 2 != 0 else 0)\n"
      ],
      "metadata": {
        "id": "stU-pOA5HY-0"
      },
      "execution_count": null,
      "outputs": []
    },
    {
      "cell_type": "code",
      "source": [
        "countOdds(low=3,high=7)"
      ],
      "metadata": {
        "colab": {
          "base_uri": "https://localhost:8080/",
          "height": 141
        },
        "id": "uTlTVU53HxVA",
        "outputId": "727b8c4d-a5d2-4b5a-d4bd-b2ab66a8b9b8"
      },
      "execution_count": 23,
      "outputs": [
        {
          "output_type": "error",
          "ename": "NameError",
          "evalue": "name 'countOdds' is not defined",
          "traceback": [
            "\u001b[0;31m---------------------------------------------------------------------------\u001b[0m",
            "\u001b[0;31mNameError\u001b[0m                                 Traceback (most recent call last)",
            "\u001b[0;32m<ipython-input-23-39d44bf0e076>\u001b[0m in \u001b[0;36m<cell line: 0>\u001b[0;34m()\u001b[0m\n\u001b[0;32m----> 1\u001b[0;31m \u001b[0mcountOdds\u001b[0m\u001b[0;34m(\u001b[0m\u001b[0mlow\u001b[0m\u001b[0;34m=\u001b[0m\u001b[0;36m3\u001b[0m\u001b[0;34m,\u001b[0m\u001b[0mhigh\u001b[0m\u001b[0;34m=\u001b[0m\u001b[0;36m7\u001b[0m\u001b[0;34m)\u001b[0m\u001b[0;34m\u001b[0m\u001b[0;34m\u001b[0m\u001b[0m\n\u001b[0m",
            "\u001b[0;31mNameError\u001b[0m: name 'countOdds' is not defined"
          ]
        }
      ]
    },
    {
      "cell_type": "markdown",
      "source": [
        " 9.Problem: Each element becomes sum of itself + previous elements.(finding sum of 1 D array)"
      ],
      "metadata": {
        "id": "vFAR7XOWI7-0"
      }
    },
    {
      "cell_type": "code",
      "source": [
        "def runningSum(nums):\n",
        "    for i in range(1, len(nums)):\n",
        "        nums[i] += nums[i-1]\n",
        "    return nums\n",
        "\n"
      ],
      "metadata": {
        "id": "uAEgqvRbJV5p"
      },
      "execution_count": 24,
      "outputs": []
    },
    {
      "cell_type": "code",
      "source": [
        "print(runningSum([1,2,3,4]))\n"
      ],
      "metadata": {
        "colab": {
          "base_uri": "https://localhost:8080/",
          "height": 0
        },
        "id": "GuQ9VJVEJaqN",
        "outputId": "5c910b87-bf62-43c4-844e-6da02955f204"
      },
      "execution_count": 25,
      "outputs": [
        {
          "output_type": "stream",
          "name": "stdout",
          "text": [
            "[1, 3, 6, 10]\n"
          ]
        }
      ]
    },
    {
      "cell_type": "markdown",
      "source": [
        "\n",
        "Remove Duplicates from Sorted Array\n",
        "( Problem: Remove duplicates in-place.)\n"
      ],
      "metadata": {
        "id": "1gyBL310Jqyb"
      }
    },
    {
      "cell_type": "code",
      "source": [
        "def removeDuplicates(nums):\n",
        "    unique = []\n",
        "    for num in nums:\n",
        "        if num not in unique:\n",
        "            unique.append(num)\n",
        "    return unique\n",
        "print(removeDuplicates([1,1,2,2,3,4,4]))\n",
        "\n"
      ],
      "metadata": {
        "colab": {
          "base_uri": "https://localhost:8080/",
          "height": 0
        },
        "id": "2MiFTU-sJ0X7",
        "outputId": "207b51a4-95ba-4515-87d2-6dd647700c2a"
      },
      "execution_count": 27,
      "outputs": [
        {
          "output_type": "stream",
          "name": "stdout",
          "text": [
            "[1, 2, 3, 4]\n"
          ]
        }
      ]
    },
    {
      "cell_type": "code",
      "source": [],
      "metadata": {
        "id": "YvoqDLWBKAAC"
      },
      "execution_count": null,
      "outputs": []
    }
  ]
}