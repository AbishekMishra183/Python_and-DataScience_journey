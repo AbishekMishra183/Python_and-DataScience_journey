{
  "nbformat": 4,
  "nbformat_minor": 0,
  "metadata": {
    "colab": {
      "provenance": [],
      "authorship_tag": "ABX9TyMzE5jmd+FDVFxuQYm+1rzE",
      "include_colab_link": true
    },
    "kernelspec": {
      "name": "python3",
      "display_name": "Python 3"
    },
    "language_info": {
      "name": "python"
    }
  },
  "cells": [
    {
      "cell_type": "markdown",
      "metadata": {
        "id": "view-in-github",
        "colab_type": "text"
      },
      "source": [
        "<a href=\"https://colab.research.google.com/github/AbishekMishra183/data-science-ml-journey/blob/main/day9_OOP_Continue.ipynb\" target=\"_parent\"><img src=\"https://colab.research.google.com/assets/colab-badge.svg\" alt=\"Open In Colab\"/></a>"
      ]
    },
    {
      "cell_type": "markdown",
      "source": [
        "# Multilevel Inheritance in Python 🐍\n",
        "\n",
        "## 📚 What is Multilevel Inheritance?\n",
        "\n",
        "Multilevel inheritance is a type of inheritance in which a class is derived from a child class, which is already derived from another class.\n",
        "\n",
        "In simple terms, it creates a chain of inheritance like:\n",
        "\n",
        "\n",
        "Each class inherits features from its parent class. The child class at the bottom of the chain can access properties and methods of all its ancestors.\n",
        "\n",
        "## 🔄 Inheritance Flow\n",
        "\n",
        "- `Grandparent`: Base class\n",
        "- `Parent`: Inherits from Grandparent\n",
        "- `Child`: Inherits from Parent\n",
        "\n",
        "Let's see this in action!\n",
        "\n",
        "## ✅ Example of Multilevel Inheritance in Python\n",
        "here is  simple program demonstrating multilevel inheritance:\n"
      ],
      "metadata": {
        "id": "ha5VvoYI_3tX"
      }
    },
    {
      "cell_type": "code",
      "source": [
        "# Super class\n",
        "class Super_clss:\n",
        "    def superClass(self):\n",
        "        print(\"We are in the Super class\")\n",
        "\n",
        "# First derived class inherits from Super_clss\n",
        "class Derieved1(Super_clss):\n",
        "    def derieved1(self):\n",
        "        print(\"We are in the Derieved1 class\")\n",
        "\n",
        "# Second derived class inherits from Derieved1 (multilevel)\n",
        "class Derieved2(Derieved1):\n",
        "    def derieved2(self):\n",
        "        print(\"We are in the Derieved2 class\")\n",
        "\n",
        "# Creating object of the last class in the chain\n",
        "obj = Derieved2()\n",
        "\n",
        "# Accessing methods from all levels\n",
        "obj.superClass()   # From Super_clss\n",
        "obj.derieved1()    # From Derieved1\n",
        "obj.derieved2()    # From Derieved2\n"
      ],
      "metadata": {
        "colab": {
          "base_uri": "https://localhost:8080/",
          "height": 0
        },
        "id": "idQrut4eE9BL",
        "outputId": "e2068622-ab96-4f1d-a991-18e54cfd386e"
      },
      "execution_count": 12,
      "outputs": [
        {
          "output_type": "stream",
          "name": "stdout",
          "text": [
            "We are in the Super class\n",
            "We are in the Derieved1 class\n",
            "We are in the Derieved2 class\n"
          ]
        }
      ]
    },
    {
      "cell_type": "code",
      "source": [
        "\n",
        "# Creating object of the last class in the chain\n",
        "obj = Derieved2()\n",
        "\n",
        "# Accessing methods from all levels\n",
        "obj.superClass()   # From Super_clss\n",
        "obj.derieved1()    # From Derieved1\n",
        "obj.derieved2()    # From Derieved2\n"
      ],
      "metadata": {
        "colab": {
          "base_uri": "https://localhost:8080/",
          "height": 0
        },
        "id": "XBQZaPvFF05Q",
        "outputId": "b3cd83c5-68f0-4958-9ff7-17710a457bb6"
      },
      "execution_count": 13,
      "outputs": [
        {
          "output_type": "stream",
          "name": "stdout",
          "text": [
            "We are in the Super class\n",
            "We are in the Derieved1 class\n",
            "We are in the Derieved2 class\n"
          ]
        }
      ]
    },
    {
      "cell_type": "code",
      "source": [
        "# for the bank system the multilevel inheritance\n",
        "# this is the base class\n",
        "class Bank:\n",
        "  def bank_name(self):\n",
        "    print(\"Bank_name: nepal rastriya bank\")\n",
        "    # this is the first derieved class\n",
        "class Account(Bank):\n",
        "  def account_type(self):\n",
        "    print(\"Account Type : Saving account\")\n",
        "\n",
        "class Customer(Account):\n",
        "  def customer_details(self):\n",
        "    print(\"Customer_Name : abishek,age:22,\")\n"
      ],
      "metadata": {
        "id": "7K2JlIOeGGw6"
      },
      "execution_count": 14,
      "outputs": []
    },
    {
      "cell_type": "code",
      "source": [
        "obj=Customer()"
      ],
      "metadata": {
        "id": "rkpxD9qGIyay"
      },
      "execution_count": 15,
      "outputs": []
    },
    {
      "cell_type": "code",
      "source": [
        "obj.bank_name()\n",
        "obj.account_type()\n",
        "obj.customer_details()"
      ],
      "metadata": {
        "colab": {
          "base_uri": "https://localhost:8080/",
          "height": 0
        },
        "id": "629oam8VI2mG",
        "outputId": "963cea79-3384-4955-daa0-4088f9ac21c3"
      },
      "execution_count": 16,
      "outputs": [
        {
          "output_type": "stream",
          "name": "stdout",
          "text": [
            "Bank_name: nepal rastriya bank\n",
            "Account Type : Saving account\n",
            "Customer_Name : abishek,age:22,\n"
          ]
        }
      ]
    },
    {
      "cell_type": "code",
      "source": [
        "# school management System:\n",
        "#base class\n",
        "class College:\n",
        "  def school_info(self):\n",
        "    print(\"School name:Cosmos College of mangement and Technology\")\n",
        "class ClassRoom(College):\n",
        "  def class_info(self):\n",
        "    print(\"class:6th semester \")\n",
        "\n",
        "class Student(ClassRoom):\n",
        "  def Student_info(self):\n",
        "    print(\"student_name:abishek\")\n",
        "\n"
      ],
      "metadata": {
        "id": "AtQNalAUJGNu"
      },
      "execution_count": 17,
      "outputs": []
    },
    {
      "cell_type": "code",
      "source": [
        "obj=Student()"
      ],
      "metadata": {
        "id": "Ya3xXygLKJT8"
      },
      "execution_count": 18,
      "outputs": []
    },
    {
      "cell_type": "code",
      "source": [
        "obj.school_info()\n",
        "obj.class_info()\n",
        "obj.Student_info()"
      ],
      "metadata": {
        "colab": {
          "base_uri": "https://localhost:8080/",
          "height": 0
        },
        "id": "Z_TY8uTgKM8R",
        "outputId": "70250013-c7f8-43f9-c1be-d1c878da9b0b"
      },
      "execution_count": 19,
      "outputs": [
        {
          "output_type": "stream",
          "name": "stdout",
          "text": [
            "School name:Cosmos College of mangement and Technology\n",
            "class:6th semester \n",
            "student_name:abishek\n"
          ]
        }
      ]
    },
    {
      "cell_type": "code",
      "source": [
        "# Base class\n",
        "class Platform:\n",
        "    def __init__(self, platform_name):\n",
        "        self.platform_name = platform_name\n",
        "\n",
        "    def show_platform(self):\n",
        "        print(f\"Platform: {self.platform_name}\")\n",
        "\n",
        "# First derived class\n",
        "class Course(Platform):\n",
        "    def __init__(self, platform_name, course_name):\n",
        "        super().__init__(platform_name)\n",
        "        self.course_name = course_name\n",
        "\n",
        "    def show_course(self):\n",
        "        print(f\"Course: {self.course_name}\")\n",
        "\n",
        "# Second derived class\n",
        "class Student(Course):\n",
        "    def __init__(self, platform_name, course_name, student_name):\n",
        "        super().__init__(platform_name, course_name)\n",
        "        self.student_name = student_name\n",
        "\n",
        "    def show_student(self):\n",
        "        print(f\"Student: {self.student_name}\")\n"
      ],
      "metadata": {
        "id": "_qoIqlCsK00D"
      },
      "execution_count": 20,
      "outputs": []
    },
    {
      "cell_type": "code",
      "source": [
        "# Creating an object of Student\n",
        "s1 = Student(\"Broadway_info\", \"Python for Data Science\", \"Abishek Mishra\")\n"
      ],
      "metadata": {
        "id": "s22PTNbAKWD9"
      },
      "execution_count": 21,
      "outputs": []
    },
    {
      "cell_type": "code",
      "source": [
        "s1.show_platform()\n",
        "s1.show_course()\n",
        "s1.show_student()"
      ],
      "metadata": {
        "colab": {
          "base_uri": "https://localhost:8080/",
          "height": 0
        },
        "id": "-GzsR9loLLNx",
        "outputId": "c5bda63f-f26c-4639-951c-629fa20dd0b5"
      },
      "execution_count": 23,
      "outputs": [
        {
          "output_type": "stream",
          "name": "stdout",
          "text": [
            "Platform: Broadway_info\n",
            "Course: Python for Data Science\n",
            "Student: Abishek Mishra\n"
          ]
        }
      ]
    },
    {
      "cell_type": "markdown",
      "source": [
        "# 🧬 Polymorphism, Method Overriding & Method Overloading in Python (OOP)\n",
        "\n",
        "---\n",
        "\n",
        "## 📌 What is Polymorphism?\n",
        "Polymorphism means \"many forms\". In Python OOP, it allows the same method name to behave differently depending on the object/class calling it.\n",
        "\n",
        "---\n",
        "## There are two types of the polymorphism\n",
        "### ✅ 1. Method Overriding\n",
        "When a child class **changes the behavior** of a method it got from the parent class.\n",
        "\n",
        "🧠 Example:  \n",
        "A `Dog` class can override the `speak()` method of the `Animal` class to make it bark instead.\n",
        "\n",
        "---\n",
        "\n",
        "### ✅ 2. Method Overloading\n",
        "When a method can work in **different ways** depending on **how many** or **what kind of arguments** you give it.\n",
        "\n",
        "➡️ In Python, this is done using **default arguments** or `*args`.\n",
        "\n",
        "🧠 Example:  \n",
        "A `Calculator` class can have an `add()` method that works with 2 or 3 numbers.\n"
      ],
      "metadata": {
        "id": "-jn-ZEEdMrf4"
      }
    },
    {
      "cell_type": "code",
      "source": [
        "# Parent class\n",
        "class Animal:\n",
        "    def speak(self):\n",
        "        print(\"Animal makes a sound\")\n",
        "\n",
        "# Child class that overrides the speak method\n",
        "class Dog(Animal):\n",
        "    def speak(self):\n",
        "        print(\"Dog barks\")\n",
        "\n",
        "class Cat(Animal):\n",
        "    def speak(self):\n",
        "        print(\"Cat meows\")\n"
      ],
      "metadata": {
        "id": "osRsDrtQNvHz"
      },
      "execution_count": 24,
      "outputs": []
    },
    {
      "cell_type": "code",
      "source": [
        "\n",
        "# Creating objects\n",
        "a = Animal()\n",
        "d = Dog()\n",
        "c = Cat()\n",
        "\n"
      ],
      "metadata": {
        "id": "gOB1xSFjObLD"
      },
      "execution_count": 25,
      "outputs": []
    },
    {
      "cell_type": "code",
      "source": [
        "# Method calls\n",
        "a.speak()  # Output: Animal makes a sound\n",
        "d.speak()  # Output: Dog barks\n",
        "c.speak()  # Output: Cat meows\n"
      ],
      "metadata": {
        "colab": {
          "base_uri": "https://localhost:8080/",
          "height": 0
        },
        "id": "0JHNJJ1YOemp",
        "outputId": "061d3439-8311-436a-bffc-f83ac240a5d8"
      },
      "execution_count": 26,
      "outputs": [
        {
          "output_type": "stream",
          "name": "stdout",
          "text": [
            "Animal makes a sound\n",
            "Dog barks\n",
            "Cat meows\n"
          ]
        }
      ]
    },
    {
      "cell_type": "code",
      "source": [
        "# Make sure you're using the correct Cat class definition.\n",
        "# This code is likely in a different cell in your notebook.\n",
        "class Cat:\n",
        "    def sound(self):\n",
        "        print(\"Meow\")\n",
        "\n",
        "class Dog:\n",
        "    def sound(self):\n",
        "        print(\"Bark\")\n",
        "\n",
        "# Common interface function\n",
        "def animal_sound(animal):\n",
        "    animal.sound()\n",
        "\n",
        "# Creating objects using the correct Cat class:\n",
        "c = Cat()  # Now this 'c' has the 'sound' method\n",
        "d = Dog()\n",
        "\n",
        "c.sound()"
      ],
      "metadata": {
        "colab": {
          "base_uri": "https://localhost:8080/",
          "height": 0
        },
        "id": "uRW-i9WjOfOb",
        "outputId": "12bea3c4-27c2-4d47-a44b-4dfca61d8392"
      },
      "execution_count": 32,
      "outputs": [
        {
          "output_type": "stream",
          "name": "stdout",
          "text": [
            "Meow\n"
          ]
        }
      ]
    },
    {
      "cell_type": "markdown",
      "source": [
        "## 🔄 Method Overriding (Runtime Polymorphism)\n",
        "\n",
        "Method overriding is when a child class defines a method with the same name as a method in the parent class, but with different behavior.\n",
        "\n",
        "✅ This is useful when you want to change or extend the functionality of the inherited method.\n"
      ],
      "metadata": {
        "id": "QplW5J5sPThq"
      }
    },
    {
      "cell_type": "code",
      "source": [
        "class Vehicle:\n",
        "    def start(self):\n",
        "        print(\"Vehicle is starting...\")\n",
        "\n",
        "class Car(Vehicle):\n",
        "    def start(self):\n",
        "        print(\"Car is starting with a key...\")\n",
        "\n",
        "v = Vehicle()\n",
        "c = Car()\n",
        "\n",
        "v.start()   # Output: Vehicle is starting...\n",
        "c.start()   # Output: Car is starting with a key...\n"
      ],
      "metadata": {
        "colab": {
          "base_uri": "https://localhost:8080/",
          "height": 0
        },
        "id": "XFeQhccRPdte",
        "outputId": "960e621e-1873-4634-f5d4-5a8fffc03f88"
      },
      "execution_count": 33,
      "outputs": [
        {
          "output_type": "stream",
          "name": "stdout",
          "text": [
            "Vehicle is starting...\n",
            "Car is starting with a key...\n"
          ]
        }
      ]
    },
    {
      "cell_type": "markdown",
      "source": [
        "## ➕ Method Overloading (Simulated in Python)\n",
        "\n",
        "Python doesn't support method overloading like C++/Java.\n",
        "But we can simulate it using:\n",
        "\n",
        "- Default arguments\n",
        "- `*args` (variable number of arguments)\n"
      ],
      "metadata": {
        "id": "fjU5yZPVPjVn"
      }
    },
    {
      "cell_type": "code",
      "source": [
        "class Calculator:\n",
        "    def add(self, a=0, b=0, c=0):\n",
        "        return a + b + c\n",
        "\n",
        "calc = Calculator()\n",
        "\n",
        "print(calc.add(5, 10))        # Output: 15\n",
        "print(calc.add(5, 10, 15))    # Output: 30\n",
        "print(calc.add())             # Output: 0\n"
      ],
      "metadata": {
        "colab": {
          "base_uri": "https://localhost:8080/",
          "height": 0
        },
        "id": "gUIGqdFnPmwR",
        "outputId": "b5c2f85f-becc-4eda-d03a-c43391d49f95"
      },
      "execution_count": 34,
      "outputs": [
        {
          "output_type": "stream",
          "name": "stdout",
          "text": [
            "15\n",
            "30\n",
            "0\n"
          ]
        }
      ]
    },
    {
      "cell_type": "code",
      "source": [
        "# Another example with the *args\n",
        "class Sum:\n",
        "    def total(self, *args):\n",
        "        return sum(args)\n",
        "\n",
        "s = Sum()\n",
        "\n",
        "print(s.total(1, 2))             # Output: 3\n",
        "print(s.total(1, 2, 3, 4))       # Output: 10\n",
        "print(s.total())                 # Output: 0\n"
      ],
      "metadata": {
        "colab": {
          "base_uri": "https://localhost:8080/",
          "height": 0
        },
        "id": "6l9_pfEBPrTc",
        "outputId": "acba28e2-c56f-4e88-c10f-b249d4a76189"
      },
      "execution_count": 35,
      "outputs": [
        {
          "output_type": "stream",
          "name": "stdout",
          "text": [
            "3\n",
            "10\n",
            "0\n"
          ]
        }
      ]
    },
    {
      "cell_type": "markdown",
      "source": [
        "## ✅ Summary\n",
        "\n",
        "| Concept              | Description                                      |\n",
        "|----------------------|--------------------------------------------------|\n",
        "| Polymorphism         | Same interface, different behavior               |\n",
        "| Method Overriding    | Redefining parent method in child class          |\n",
        "| Method Overloading   | Simulated with default args or *args             |\n",
        "\n",
        "---\n",
        "\n",
        "\n"
      ],
      "metadata": {
        "id": "yvLQ2j-iP2_U"
      }
    },
    {
      "cell_type": "markdown",
      "source": [
        "# 🔐 Encapsulation in Python (OOP)\n",
        "\n",
        "### ✅ What is Encapsulation?\n",
        "Encapsulation is the process of **hiding internal data** and only allowing access to it through **methods**. This helps protect the data from being changed accidentally or incorrectly.\n",
        "\n",
        "---\n",
        "\n",
        "### 🎯 Why Use Encapsulation?\n",
        "- Protect sensitive data\n",
        "- Control access using methods\n",
        "- Add validations\n",
        "- Keep internal details hidden from users\n",
        "\n",
        "---\n",
        "\n",
        "### 🧠 Real-World Example:\n",
        "A bank account class that hides the balance and only allows deposits or withdrawals through methods.\n",
        "\n",
        "---\n",
        "\n",
        "### 🔒 Access Modifiers in Python:\n",
        "\n",
        "| Modifier    | Prefix     | Example          | Access Level        |\n",
        "|-------------|------------|------------------|---------------------|\n",
        "| Public      | (none)     | `self.data`      | Can be accessed from anywhere |\n",
        "| Protected   | `_`        | `self._data`     | Intended for internal use |\n",
        "| Private     | `__`       | `self.__data`    | Can't be accessed directly |\n"
      ],
      "metadata": {
        "id": "w2F6Uh9AQyd1"
      }
    },
    {
      "cell_type": "code",
      "source": [
        "class BankAccount:\n",
        "    def __init__(self, owner, balance):\n",
        "        self.owner = owner          # public\n",
        "        self.__balance = balance    # private (name mangled)\n",
        "\n",
        "    # Public method to display balance (getter)\n",
        "    def get_balance(self):\n",
        "        return self.__balance\n",
        "\n",
        "    # Public method to modify balance (setter)\n",
        "    def deposit(self, amount):\n",
        "        if amount > 0:\n",
        "            self.__balance += amount\n",
        "            print(f\"Deposited {amount}. New balance: {self.__balance}\")\n",
        "        else:\n",
        "            print(\"Invalid deposit amount.\")\n",
        "\n",
        "    def withdraw(self, amount):\n",
        "        if 0 < amount <= self.__balance:\n",
        "            self.__balance -= amount\n",
        "            print(f\"Withdrew {amount}. New balance: {self.__balance}\")\n",
        "        else:\n",
        "            print(\"Invalid or insufficient funds.\")\n",
        "\n",
        "\n",
        "\n",
        "# Trying to access private variable directly\n",
        "# print(acc.__balance)  # ❌ Will raise AttributeError\n"
      ],
      "metadata": {
        "colab": {
          "base_uri": "https://localhost:8080/",
          "height": 0
        },
        "id": "C3MNdIWmQ354",
        "outputId": "6bb50dae-5060-43a1-afb5-6ea3c8cb661d"
      },
      "execution_count": 36,
      "outputs": [
        {
          "output_type": "stream",
          "name": "stdout",
          "text": [
            "Account owner: Aayush\n",
            "Balance (via method): 5000\n",
            "Deposited 1500. New balance: 6500\n",
            "Withdrew 2000. New balance: 4500\n"
          ]
        }
      ]
    },
    {
      "cell_type": "code",
      "source": [
        "# Creating object\n",
        "acc = BankAccount(\"Abishek Mishra\", 5000)\n"
      ],
      "metadata": {
        "id": "CHd-pprGQ8T5"
      },
      "execution_count": 37,
      "outputs": []
    },
    {
      "cell_type": "code",
      "source": [
        "# Accessing methods (encapsulated access)\n",
        "print(\"Account owner:\", acc.owner)\n",
        "print(\"Balance (via method):\", acc.get_balance())\n",
        "\n",
        "acc.deposit(1500)\n",
        "\n",
        "\n",
        "# Trying to access private variable directly\n",
        "# print(acc.__balance)  # ❌ Will raise AttributeError"
      ],
      "metadata": {
        "colab": {
          "base_uri": "https://localhost:8080/",
          "height": 0
        },
        "id": "Ybos7cyARJrN",
        "outputId": "81a6f428-b96f-4ab1-8ed2-c8e676953296"
      },
      "execution_count": 38,
      "outputs": [
        {
          "output_type": "stream",
          "name": "stdout",
          "text": [
            "Account owner: Abishek Mishra\n",
            "Balance (via method): 5000\n",
            "Deposited 1500. New balance: 6500\n"
          ]
        }
      ]
    },
    {
      "cell_type": "code",
      "source": [],
      "metadata": {
        "id": "0vrzoVlbRQIw"
      },
      "execution_count": null,
      "outputs": []
    }
  ]
}