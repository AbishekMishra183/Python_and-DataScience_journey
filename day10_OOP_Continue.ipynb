{
  "cells": [
    {
      "cell_type": "markdown",
      "metadata": {
        "id": "view-in-github",
        "colab_type": "text"
      },
      "source": [
        "<a href=\"https://colab.research.google.com/github/AbishekMishra183/data-science-ml-journey/blob/main/day10_OOP_Continue.ipynb\" target=\"_parent\"><img src=\"https://colab.research.google.com/assets/colab-badge.svg\" alt=\"Open In Colab\"/></a>"
      ]
    },
    {
      "cell_type": "code",
      "execution_count": null,
      "id": "5a1efaa0-f79a-41b6-b4e7-29c04ea46b53",
      "metadata": {
        "id": "5a1efaa0-f79a-41b6-b4e7-29c04ea46b53"
      },
      "outputs": [],
      "source": [
        "#multilevel Inheritance\n",
        "class Person:\n",
        "    pass\n",
        "class Student(Person):\n",
        "    pass\n",
        "class  BachelorStudent(Student):\n",
        "    pass\n",
        ""
      ]
    },
    {
      "cell_type": "code",
      "execution_count": null,
      "id": "5e4e5208-9382-4d5e-b829-6e5f0a1c195c",
      "metadata": {
        "id": "5e4e5208-9382-4d5e-b829-6e5f0a1c195c"
      },
      "outputs": [],
      "source": [
        "class Person:\n",
        "    def __init__(self, name ,age, address):\n",
        "        self.name = name\n",
        "        self.age = age\n",
        "        self.address = address\n",
        "\n",
        "    def eat(self): # self is object\n",
        "        print(f'{self.name} is eating')\n",
        "\n",
        "    def sleep(self):\n",
        "        print(f'{self.name} is sleeping')\n",
        "\n",
        "    def walk(self):\n",
        "        print(f'{self.name} is walking')\n",
        "\n",
        "    def info(self):\n",
        "        print(f\"Name: {self.name}\")\n",
        "        print(f\"Age: {self.age}\")\n",
        "        print(f\"Address: {self.address}\")\n",
        "\n",
        "\n",
        "class Student(Person): # Inheritance\n",
        "    def __init__(self, name ,age, address, college, faculty, roll_no):\n",
        "        super().__init__(name, age, address) # calling Person's __init__ method\n",
        "        self.college = college\n",
        "        self.faculty = faculty\n",
        "        self.roll_no = roll_no\n",
        "        self.subjects = []\n",
        "\n",
        "    def learn(self):\n",
        "        print(f\"Student is learning {self.subjects}.\")\n",
        "\n",
        "    def add_subject(self, subject_name):\n",
        "        if subject_name not in self.subjects:\n",
        "            self.subjects.append(subject_name)\n",
        "\n",
        "    def info(self):\n",
        "        super().info() # calling Person's info method\n",
        "        print(f\"College: {self.college}\")\n",
        "        print(f\"Faculty: {self.faculty}\")\n",
        "        print(f\"Roll No: {self.roll_no}\")\n",
        "        print(f\"Subjects: {self.subjects}\")\n",
        "\n",
        "class BachelorStudent(Student):\n",
        "    def __init__(self, name ,age, address, college, faculty, roll_no,university):\n",
        "    #calling Student __init__method\n",
        "         super().__init__(name ,age, address, college, faculty, roll_no)\n",
        "         self.university=university\n",
        "\n",
        "    #bachelor student le student class  ko info method override garako ho\n",
        "\n",
        "    def info(self):\n",
        "        #calling Student info method\n",
        "        super().info()\n",
        "        print(f\"university:{self.university}\")\n",
        "\n",
        ""
      ]
    },
    {
      "cell_type": "code",
      "execution_count": null,
      "id": "5743553c-0db1-488e-bfea-6adb0c6d0a63",
      "metadata": {
        "id": "5743553c-0db1-488e-bfea-6adb0c6d0a63"
      },
      "outputs": [],
      "source": [
        "s1=BachelorStudent(name=\"Abishek\" ,age=22, address=\"ktm\", college=\"Cosmos\", faculty=\"science &Tech\", roll_no=44,university=\"pOU\")"
      ]
    },
    {
      "cell_type": "code",
      "execution_count": null,
      "id": "087d38ee-d5a3-4a27-8348-26eee40d3153",
      "metadata": {
        "id": "087d38ee-d5a3-4a27-8348-26eee40d3153",
        "outputId": "7aac4321-974a-4986-a91b-174e73025205"
      },
      "outputs": [
        {
          "name": "stdout",
          "output_type": "stream",
          "text": [
            "Name: Abishek\n",
            "Age: 22\n",
            "Address: ktm\n",
            "College: Cosmos\n",
            "Faculty: science &Tech\n",
            "Roll No: 44\n",
            "Subjects: []\n",
            "university:pOU\n"
          ]
        }
      ],
      "source": [
        "s1.info()"
      ]
    },
    {
      "cell_type": "code",
      "execution_count": null,
      "id": "e26b8dd8-942e-45dc-942e-204f15b8905c",
      "metadata": {
        "id": "e26b8dd8-942e-45dc-942e-204f15b8905c"
      },
      "outputs": [],
      "source": [
        "s1.add_subject( \"python\")"
      ]
    },
    {
      "cell_type": "code",
      "execution_count": null,
      "id": "b94f9e5c-55ac-4aa3-b2f7-c51a66149daf",
      "metadata": {
        "id": "b94f9e5c-55ac-4aa3-b2f7-c51a66149daf",
        "outputId": "fb753190-e213-49f6-903c-d9eaa1cdd388"
      },
      "outputs": [
        {
          "name": "stdout",
          "output_type": "stream",
          "text": [
            "Name: Abishek\n",
            "Age: 22\n",
            "Address: ktm\n",
            "College: Cosmos\n",
            "Faculty: science &Tech\n",
            "Roll No: 44\n",
            "Subjects: ['python']\n",
            "university:pOU\n"
          ]
        }
      ],
      "source": [
        "s1.info()"
      ]
    },
    {
      "cell_type": "code",
      "execution_count": null,
      "id": "56bc303d-a3b9-4cd1-8ecd-66afb882f30f",
      "metadata": {
        "id": "56bc303d-a3b9-4cd1-8ecd-66afb882f30f"
      },
      "outputs": [],
      "source": [
        "#hierarchal  inheritance\n",
        "class Person:\n",
        "    pass\n",
        "class Student(Person):\n",
        "    pass\n",
        "class  Teacher(Person):\n",
        "    pass\n",
        "class Employee(Person):\n",
        "    pass\n",
        "\n",
        "class Principal(Person):\n",
        "    pass\n",
        ""
      ]
    },
    {
      "cell_type": "code",
      "execution_count": null,
      "id": "5c0c9420-538b-4093-834a-e65cebe9f807",
      "metadata": {
        "id": "5c0c9420-538b-4093-834a-e65cebe9f807"
      },
      "outputs": [],
      "source": [
        "class Vehicle:\n",
        "    def info(self):\n",
        "        print(\"this is vehicle \")\n",
        "class car(Vehicle):\n",
        "    def car_info(self,name):\n",
        "        print(\"car name is :\",name)\n",
        "class Truck(Vehicle):\n",
        "    def truck_info(self,name):\n",
        "        print(\"Truck name is :\",name)"
      ]
    },
    {
      "cell_type": "code",
      "execution_count": null,
      "id": "46791b8c-0776-4e92-816b-102d4a4ca7c1",
      "metadata": {
        "id": "46791b8c-0776-4e92-816b-102d4a4ca7c1"
      },
      "outputs": [],
      "source": [
        "obj1=car()"
      ]
    },
    {
      "cell_type": "code",
      "execution_count": null,
      "id": "a2c1fcd6-fbe7-4f98-ac1f-56c245d80beb",
      "metadata": {
        "id": "a2c1fcd6-fbe7-4f98-ac1f-56c245d80beb",
        "outputId": "bec5ec7e-c358-493e-d1cd-f09c4270067f"
      },
      "outputs": [
        {
          "name": "stdout",
          "output_type": "stream",
          "text": [
            "this is vehicle \n"
          ]
        }
      ],
      "source": [
        "obj1.info()"
      ]
    },
    {
      "cell_type": "code",
      "execution_count": null,
      "id": "52d00ea1-d754-420c-b0f4-9e014a25dfd3",
      "metadata": {
        "id": "52d00ea1-d754-420c-b0f4-9e014a25dfd3",
        "outputId": "69886371-a2d7-428c-90a2-3c221190b1ad"
      },
      "outputs": [
        {
          "name": "stdout",
          "output_type": "stream",
          "text": [
            "car name is : BMW\n"
          ]
        }
      ],
      "source": [
        "obj1.car_info(\"BMW\")"
      ]
    },
    {
      "cell_type": "code",
      "execution_count": null,
      "id": "6f121cf3-3ec3-48f9-bf98-8df38f2a75f4",
      "metadata": {
        "id": "6f121cf3-3ec3-48f9-bf98-8df38f2a75f4"
      },
      "outputs": [],
      "source": [
        "obj2=Truck()"
      ]
    },
    {
      "cell_type": "code",
      "execution_count": null,
      "id": "fd840842-b04e-4f50-9522-df94b3676a14",
      "metadata": {
        "id": "fd840842-b04e-4f50-9522-df94b3676a14",
        "outputId": "29f93962-68c3-443e-d2d6-fff692509cf8"
      },
      "outputs": [
        {
          "name": "stdout",
          "output_type": "stream",
          "text": [
            "this is vehicle \n"
          ]
        }
      ],
      "source": [
        "obj2.info()"
      ]
    },
    {
      "cell_type": "code",
      "execution_count": null,
      "id": "d2dec417-f048-454e-8728-1b8196066481",
      "metadata": {
        "id": "d2dec417-f048-454e-8728-1b8196066481",
        "outputId": "29e8a0ed-e906-49e0-91a0-52481b9e43be"
      },
      "outputs": [
        {
          "name": "stdout",
          "output_type": "stream",
          "text": [
            "car name is : Ford\n"
          ]
        }
      ],
      "source": [
        "obj1.car_info(\"Ford\")"
      ]
    },
    {
      "cell_type": "code",
      "execution_count": null,
      "id": "f3c09fed-b4d5-4598-9082-f64dfe1efb67",
      "metadata": {
        "id": "f3c09fed-b4d5-4598-9082-f64dfe1efb67",
        "outputId": "2a9dc54d-a76b-4158-8152-9e22d00cb331"
      },
      "outputs": [
        {
          "name": "stdout",
          "output_type": "stream",
          "text": [
            "inside the vehicle class \n",
            "inside the car class \n",
            "inside the Sports_car class \n"
          ]
        }
      ],
      "source": [
        "#Hybrid inheritance =>sphagetti code\n",
        "class Vehicle:\n",
        "    def Vehicle_info(self):\n",
        "        print(\"inside the vehicle class \")\n",
        "class car(Vehicle):\n",
        "    def car_info(self):\n",
        "        print(\"inside the car class \")\n",
        "\n",
        "class Truck(Vehicle):\n",
        "    def Truck_info(self):\n",
        "        print(\"inside the Truck class \")\n",
        "class Sports_car(car,Vehicle):\n",
        "    def Sports_car_info(self):\n",
        "        print(\"inside the Sports_car class \")\n",
        "\n",
        "s_car=Sports_car()\n",
        "s_car.Vehicle_info()\n",
        "s_car.car_info()\n",
        "s_car.Sports_car_info()\n",
        ""
      ]
    },
    {
      "cell_type": "code",
      "execution_count": null,
      "id": "c809e0d8-26c7-4f36-bda2-9f5dc0f8d82c",
      "metadata": {
        "id": "c809e0d8-26c7-4f36-bda2-9f5dc0f8d82c"
      },
      "outputs": [],
      "source": [
        "class Hello:\n",
        "    def hi(self):#object created outside the class\n",
        "        print(self)\n",
        ""
      ]
    },
    {
      "cell_type": "code",
      "execution_count": null,
      "id": "df004831-54a8-4239-867c-dfdde4848783",
      "metadata": {
        "id": "df004831-54a8-4239-867c-dfdde4848783"
      },
      "outputs": [],
      "source": [
        "h=Hello()"
      ]
    },
    {
      "cell_type": "code",
      "execution_count": null,
      "id": "3072ffcb-ec36-4c07-b0e3-35b734dcb530",
      "metadata": {
        "id": "3072ffcb-ec36-4c07-b0e3-35b734dcb530",
        "outputId": "79f4d70a-5c3e-4caf-bca3-7725ddb13ebd"
      },
      "outputs": [
        {
          "name": "stdout",
          "output_type": "stream",
          "text": [
            "<__main__.Hello object at 0x000001E4A2AC5BE0>\n"
          ]
        }
      ],
      "source": [
        "print(h)"
      ]
    },
    {
      "cell_type": "code",
      "execution_count": null,
      "id": "ad21426c-f227-48fc-b349-21df1c55d839",
      "metadata": {
        "id": "ad21426c-f227-48fc-b349-21df1c55d839",
        "outputId": "503e8fef-27fe-4fa6-c1d5-95372f794ad8"
      },
      "outputs": [
        {
          "name": "stdout",
          "output_type": "stream",
          "text": [
            "<__main__.Hello object at 0x000001E4A2AC5BE0>\n"
          ]
        }
      ],
      "source": [
        "h.hi()"
      ]
    },
    {
      "cell_type": "code",
      "execution_count": null,
      "id": "2c341f67-e2eb-4c2b-94a4-eae5b6e9651c",
      "metadata": {
        "id": "2c341f67-e2eb-4c2b-94a4-eae5b6e9651c",
        "outputId": "5bb0da2f-04b6-4f0e-8dab-8b7e8779d25c"
      },
      "outputs": [
        {
          "name": "stdout",
          "output_type": "stream",
          "text": [
            "<__main__.Hello object at 0x000001E4A2AC5BE0>\n"
          ]
        }
      ],
      "source": [
        "Hello.hi(h)"
      ]
    },
    {
      "cell_type": "code",
      "execution_count": null,
      "id": "0e042849-b9ff-4c8c-8562-aeba73ed09ed",
      "metadata": {
        "id": "0e042849-b9ff-4c8c-8562-aeba73ed09ed"
      },
      "outputs": [],
      "source": [
        "# this is the public access modifier where we can also accessed outside the class\n",
        "class Rectangle:\n",
        "    def __init__(self, length, breadth):\n",
        "        #public attribute=>can be accessed outside the class\n",
        "        self.length = length\n",
        "        self.breadth = breadth\n",
        " #public method\n",
        "    def area(self):\n",
        "        return self.length * self.breadth\n",
        "#public Methdod\n",
        "    def perimeter(self):\n",
        "        return 2 * (self.length + self.breadth)"
      ]
    },
    {
      "cell_type": "code",
      "execution_count": null,
      "id": "221daee9-568f-4864-81c8-8c749fb3990c",
      "metadata": {
        "id": "221daee9-568f-4864-81c8-8c749fb3990c"
      },
      "outputs": [],
      "source": [
        "r1=Rectangle(3,5)"
      ]
    },
    {
      "cell_type": "code",
      "execution_count": null,
      "id": "c44a45b6-078e-42c9-b3d2-740899e01efd",
      "metadata": {
        "id": "c44a45b6-078e-42c9-b3d2-740899e01efd",
        "outputId": "ad75e3db-3e9c-474b-ff69-49ff0a70e75e"
      },
      "outputs": [
        {
          "data": {
            "text/plain": [
              "15"
            ]
          },
          "execution_count": 34,
          "metadata": {},
          "output_type": "execute_result"
        }
      ],
      "source": [
        "r1.area()"
      ]
    },
    {
      "cell_type": "code",
      "execution_count": null,
      "id": "030e308b-4806-46e3-8dbd-3497cf071f17",
      "metadata": {
        "id": "030e308b-4806-46e3-8dbd-3497cf071f17",
        "outputId": "9b7df8f2-2b0b-418d-ed5a-17d00150cb68"
      },
      "outputs": [
        {
          "data": {
            "text/plain": [
              "16"
            ]
          },
          "execution_count": 35,
          "metadata": {},
          "output_type": "execute_result"
        }
      ],
      "source": [
        "r1.perimeter()"
      ]
    },
    {
      "cell_type": "code",
      "execution_count": null,
      "id": "22451884-e39b-4575-9f8d-faf69f00012c",
      "metadata": {
        "id": "22451884-e39b-4575-9f8d-faf69f00012c",
        "outputId": "25303fdc-ffbb-4241-f14c-c8dca0a15de0"
      },
      "outputs": [
        {
          "data": {
            "text/plain": [
              "3"
            ]
          },
          "execution_count": 36,
          "metadata": {},
          "output_type": "execute_result"
        }
      ],
      "source": [
        "r1.length"
      ]
    },
    {
      "cell_type": "code",
      "execution_count": null,
      "id": "448dedec-36a6-4ca7-8eea-6ecca7c4e27f",
      "metadata": {
        "id": "448dedec-36a6-4ca7-8eea-6ecca7c4e27f",
        "outputId": "c6972a79-3e9d-44f0-aefd-50c9272655e0"
      },
      "outputs": [
        {
          "data": {
            "text/plain": [
              "5"
            ]
          },
          "execution_count": 38,
          "metadata": {},
          "output_type": "execute_result"
        }
      ],
      "source": [
        "r1.breadth"
      ]
    },
    {
      "cell_type": "code",
      "execution_count": null,
      "id": "d35b51ec-4feb-4b4f-81cd-fa46ef23e67f",
      "metadata": {
        "id": "d35b51ec-4feb-4b4f-81cd-fa46ef23e67f"
      },
      "outputs": [],
      "source": [
        "# private Access modifier\n",
        "class Rectangle:\n",
        "    def __init__(self, length, breadth):\n",
        "        #private attribute=>can be accessed  the class\n",
        "        self.__length = length\n",
        "        self.__breadth = breadth\n",
        " #Private method\n",
        "    def area(self):\n",
        "        return self.__length * self.__breadth\n",
        "#private method\n",
        "    def perimeter(self):\n",
        "        return 2 * (self.__length + self.__breadth)"
      ]
    },
    {
      "cell_type": "code",
      "execution_count": null,
      "id": "1d5bb28b-0249-420f-8a1d-71cce6f4080f",
      "metadata": {
        "id": "1d5bb28b-0249-420f-8a1d-71cce6f4080f"
      },
      "outputs": [],
      "source": [
        "r1=Rectangle(3,5)"
      ]
    },
    {
      "cell_type": "code",
      "execution_count": null,
      "id": "597a1b12-2a24-4388-aad5-7e9b6cb25d06",
      "metadata": {
        "id": "597a1b12-2a24-4388-aad5-7e9b6cb25d06",
        "outputId": "9983c998-982f-4f60-a492-d7f540035e5f"
      },
      "outputs": [
        {
          "data": {
            "text/plain": [
              "15"
            ]
          },
          "execution_count": 42,
          "metadata": {},
          "output_type": "execute_result"
        }
      ],
      "source": [
        "r1.area()"
      ]
    },
    {
      "cell_type": "code",
      "execution_count": null,
      "id": "43474c78-e8d8-44b8-b287-c4314322cbed",
      "metadata": {
        "id": "43474c78-e8d8-44b8-b287-c4314322cbed",
        "outputId": "2fed9ff6-b821-4386-fc6b-d7eee3357503"
      },
      "outputs": [
        {
          "ename": "AttributeError",
          "evalue": "'Rectangle' object has no attribute '__length'",
          "output_type": "error",
          "traceback": [
            "\u001b[31m---------------------------------------------------------------------------\u001b[39m",
            "\u001b[31mAttributeError\u001b[39m                            Traceback (most recent call last)",
            "\u001b[36mCell\u001b[39m\u001b[36m \u001b[39m\u001b[32mIn[46]\u001b[39m\u001b[32m, line 1\u001b[39m\n\u001b[32m----> \u001b[39m\u001b[32m1\u001b[39m \u001b[43mr1\u001b[49m\u001b[43m.\u001b[49m\u001b[43m__length\u001b[49m\n",
            "\u001b[31mAttributeError\u001b[39m: 'Rectangle' object has no attribute '__length'"
          ]
        }
      ],
      "source": [
        "r1.__length# this is the private attribute so we cannot acess outside the class so error occur"
      ]
    },
    {
      "cell_type": "code",
      "execution_count": null,
      "id": "e74b5a16-b50c-40b2-8d10-9c79955260f3",
      "metadata": {
        "id": "e74b5a16-b50c-40b2-8d10-9c79955260f3",
        "outputId": "a8a4899c-fa2e-4041-9557-3cdba8fba126"
      },
      "outputs": [
        {
          "ename": "AttributeError",
          "evalue": "'Rectangle' object has no attribute '__breadth'",
          "output_type": "error",
          "traceback": [
            "\u001b[31m---------------------------------------------------------------------------\u001b[39m",
            "\u001b[31mAttributeError\u001b[39m                            Traceback (most recent call last)",
            "\u001b[36mCell\u001b[39m\u001b[36m \u001b[39m\u001b[32mIn[47]\u001b[39m\u001b[32m, line 1\u001b[39m\n\u001b[32m----> \u001b[39m\u001b[32m1\u001b[39m \u001b[43mr1\u001b[49m\u001b[43m.\u001b[49m\u001b[43m__breadth\u001b[49m\n",
            "\u001b[31mAttributeError\u001b[39m: 'Rectangle' object has no attribute '__breadth'"
          ]
        }
      ],
      "source": [
        "r1.__breadth #this is the private attribute so we cannot acess outside the class so error occur"
      ]
    },
    {
      "cell_type": "code",
      "execution_count": null,
      "id": "f91145eb-a692-46da-b16e-bbb2c2c40e22",
      "metadata": {
        "id": "f91145eb-a692-46da-b16e-bbb2c2c40e22"
      },
      "outputs": [],
      "source": [
        "class Rectangle:\n",
        "    def __init__(self, length, breadth):\n",
        "        #private attribute=>can be accessed  the class\n",
        "        self.__length = length\n",
        "        self.__breadth = breadth\n",
        " #Private method\n",
        "    def area(self):\n",
        "        return self.__length * self.__breadth\n",
        "#private method\n",
        "    def perimeter(self):\n",
        "        return 2 * (self.__length + self.__breadth)\n",
        "    def length_getter(self):\n",
        "         return self.__length\n",
        "    def breadth_getter(self):\n",
        "         return self.__breadth\n",
        ""
      ]
    },
    {
      "cell_type": "markdown",
      "id": "0cdc9cbd-3aa1-4dd7-8212-854bf8ab468c",
      "metadata": {
        "id": "0cdc9cbd-3aa1-4dd7-8212-854bf8ab468c"
      },
      "source": [
        "r1.length_getter()"
      ]
    },
    {
      "cell_type": "code",
      "execution_count": null,
      "id": "535065f3-60f5-48aa-831f-3e1bdb8e9371",
      "metadata": {
        "id": "535065f3-60f5-48aa-831f-3e1bdb8e9371"
      },
      "outputs": [],
      "source": [
        "# this is the public access modifier where we can also accessed outside the class\n",
        "class Rectangle:\n",
        "    def __init__(self, length, breadth):\n",
        "        #public attribute=>can be accessed outside the class\n",
        "        self.length = length\n",
        "        self.breadth = breadth\n",
        " #public method\n",
        "    def area(self):\n",
        "        return self.length * self.breadth\n",
        "#public Methdod\n",
        "    def perimeter(self):\n",
        "        return 2 * (self.length + self.breadth)\n",
        "    def length__getter(self):\n",
        "         return self.__length\n",
        "\n",
        "    def length__setter(self,value):\n",
        "         self.__length=value\n",
        "\n",
        "    def breadth_getter(self):# this is used to see the private attributes of the classs\n",
        "         return self.__breadth\n",
        "    def breadth__setter(self,value):# this is used to set the value of the private attribute\n",
        "         self.__breadth=value\n",
        "\n",
        ""
      ]
    },
    {
      "cell_type": "code",
      "execution_count": null,
      "id": "52eb20a1-65b7-4686-b26c-bf418ee90faa",
      "metadata": {
        "id": "52eb20a1-65b7-4686-b26c-bf418ee90faa"
      },
      "outputs": [],
      "source": [
        "r1=Rectangle(3,5)"
      ]
    },
    {
      "cell_type": "code",
      "execution_count": null,
      "id": "f26bb7c2-61a5-4da7-b021-5d3eb6282e19",
      "metadata": {
        "id": "f26bb7c2-61a5-4da7-b021-5d3eb6282e19"
      },
      "outputs": [],
      "source": [
        "r1.length__setter(5)"
      ]
    },
    {
      "cell_type": "code",
      "execution_count": null,
      "id": "02cb4d54-9082-4b3c-998a-2cdf814f4d86",
      "metadata": {
        "id": "02cb4d54-9082-4b3c-998a-2cdf814f4d86",
        "outputId": "f35dd480-f373-4438-dea5-f280705e51ef"
      },
      "outputs": [
        {
          "data": {
            "text/plain": [
              "5"
            ]
          },
          "execution_count": 56,
          "metadata": {},
          "output_type": "execute_result"
        }
      ],
      "source": [
        "r1.length__getter()"
      ]
    },
    {
      "cell_type": "code",
      "execution_count": null,
      "id": "2277150c-da9f-4566-a63d-b26f14d3db0e",
      "metadata": {
        "id": "2277150c-da9f-4566-a63d-b26f14d3db0e",
        "outputId": "6c7a43fb-314c-4bbc-b6b7-eb23ef64c2c6"
      },
      "outputs": [
        {
          "data": {
            "text/plain": [
              "True"
            ]
          },
          "execution_count": 57,
          "metadata": {},
          "output_type": "execute_result"
        }
      ],
      "source": [
        "isinstance(4,int)"
      ]
    },
    {
      "cell_type": "code",
      "execution_count": null,
      "id": "8951c361-2a93-46d1-ab7c-f2a91f06d3c5",
      "metadata": {
        "id": "8951c361-2a93-46d1-ab7c-f2a91f06d3c5",
        "outputId": "316c7bd0-9d68-4860-caae-68a776dd76a7"
      },
      "outputs": [
        {
          "data": {
            "text/plain": [
              "False"
            ]
          },
          "execution_count": 58,
          "metadata": {},
          "output_type": "execute_result"
        }
      ],
      "source": [
        "isinstance(4,str)# use for the validation  to check if the 4 is string or not"
      ]
    },
    {
      "cell_type": "code",
      "execution_count": null,
      "id": "27560adf-92e7-42b2-a16f-2c0c78b9c815",
      "metadata": {
        "id": "27560adf-92e7-42b2-a16f-2c0c78b9c815",
        "outputId": "16432d9b-9213-426e-e1c8-99baff905e98"
      },
      "outputs": [
        {
          "data": {
            "text/plain": [
              "True"
            ]
          },
          "execution_count": 59,
          "metadata": {},
          "output_type": "execute_result"
        }
      ],
      "source": [
        "isinstance(4,(int,float))"
      ]
    },
    {
      "cell_type": "code",
      "execution_count": null,
      "id": "b31cbe94-a5c5-4523-933c-6bf5456e637a",
      "metadata": {
        "id": "b31cbe94-a5c5-4523-933c-6bf5456e637a",
        "outputId": "1b1fece2-bc33-4e29-eff4-fa68b9c8ec3e"
      },
      "outputs": [
        {
          "data": {
            "text/plain": [
              "False"
            ]
          },
          "execution_count": 60,
          "metadata": {},
          "output_type": "execute_result"
        }
      ],
      "source": [
        "isinstance(4,(str,float))"
      ]
    },
    {
      "cell_type": "code",
      "execution_count": null,
      "id": "527a0f17-2431-43b4-8478-c3dcf18a7cc2",
      "metadata": {
        "id": "527a0f17-2431-43b4-8478-c3dcf18a7cc2"
      },
      "outputs": [],
      "source": [
        "# this is the public access modifier where we can also accessed outside the class\n",
        "class Rectangle:\n",
        "    def __init__(self, length, breadth):\n",
        "        #public attribute=>can be accessed outside the class\n",
        "        self.length = length\n",
        "        self.breadth = breadth\n",
        " #public method\n",
        "    def area(self):\n",
        "        return self.length * self.breadth\n",
        "#public Methdod\n",
        "    def perimeter(self):\n",
        "        return 2 * (self.length + self.breadth)\n",
        "    def length__getter(self):\n",
        "        if  not isinstance(value,(int,float)):\n",
        "            raise ValueError(\"incorrect Datatype\")\n",
        "        return self.__length\n",
        "\n",
        "    def length__setter(self,value):\n",
        "         self.__length=value\n",
        "\n",
        "    def breadth_getter(self):\n",
        "          if  not isinstance(value,(int,float)):\n",
        "            raise ValueError(\"incorrect Datatype\")\n",
        "        # this is used to see the private attributes of the classs\n",
        "\n",
        "    def breadth__setter(self,value):\n",
        "         if  not isinstance(value,(int,float)):\n",
        "            raise ValueError(\"incorrect Datatype\")\n",
        "        # this is used to see the private attributes of\n",
        "        # this is used to set the value of the private attribute\n",
        "         self.__breadth=value\n",
        "\n",
        ""
      ]
    },
    {
      "cell_type": "code",
      "execution_count": null,
      "id": "96493fe1-9492-4e4f-a67b-34854935823c",
      "metadata": {
        "id": "96493fe1-9492-4e4f-a67b-34854935823c"
      },
      "outputs": [],
      "source": [
        "r1=Rectangle(3,5)"
      ]
    },
    {
      "cell_type": "code",
      "execution_count": null,
      "id": "7b759c57-e626-49b5-8fe1-a84c1f9873a1",
      "metadata": {
        "id": "7b759c57-e626-49b5-8fe1-a84c1f9873a1"
      },
      "outputs": [],
      "source": [
        "r1.length__setter(\"ram\")"
      ]
    },
    {
      "cell_type": "code",
      "execution_count": null,
      "id": "1d4b10a2-83f8-46b5-8ac0-4549c457b9c7",
      "metadata": {
        "id": "1d4b10a2-83f8-46b5-8ac0-4549c457b9c7",
        "outputId": "55c7624d-5721-48ff-eba3-90365e81645d"
      },
      "outputs": [
        {
          "ename": "IndentationError",
          "evalue": "expected an indented block after function definition on line 27 (2370002865.py, line 31)",
          "output_type": "error",
          "traceback": [
            "  \u001b[36mCell\u001b[39m\u001b[36m \u001b[39m\u001b[32mIn[72]\u001b[39m\u001b[32m, line 31\u001b[39m\n\u001b[31m    \u001b[39m\u001b[31mdef breadth__setter(self,value):\u001b[39m\n    ^\n\u001b[31mIndentationError\u001b[39m\u001b[31m:\u001b[39m expected an indented block after function definition on line 27\n"
          ]
        }
      ],
      "source": [
        "# this is called the data encapsulation=>access modifier\n",
        "class Rectangle:\n",
        "    def __init__(self, length, breadth):\n",
        "        #public attribute=>can be accessed outside the class\n",
        "        self.length = length\n",
        "        self.breadth = breadth\n",
        " #public method\n",
        "    def area(self):\n",
        "        return self.length * self.breadth\n",
        "#public Methdod\n",
        "    def perimeter(self):\n",
        "        return 2 * (self.length + self.breadth)\n",
        "\n",
        "        def validate(self,value):\n",
        "            if  not isinstance(value,(int,float)):\n",
        "\n",
        "                raise ValueError(\"incorrect Datatype\")\n",
        "\n",
        "    def length__getter(self):\n",
        "        self.validate(value)\n",
        "        return self.__length\n",
        "\n",
        "    def length__setter(self,value):\n",
        "\n",
        "         self.__length=value\n",
        "\n",
        "    def breadth_getter(self):# this is used to see the private attributes of the classs\n",
        "\n",
        "\n",
        "\n",
        "    def breadth__setter(self,value):\n",
        "        # this is used to set the value of the private attribute\n",
        "         self.validate(value)\n",
        "\n",
        "         self.__breadth=value\n",
        "\n",
        ""
      ]
    },
    {
      "cell_type": "code",
      "execution_count": null,
      "id": "1c8936ba-9c62-4741-81c2-27b20dddad2b",
      "metadata": {
        "id": "1c8936ba-9c62-4741-81c2-27b20dddad2b"
      },
      "outputs": [],
      "source": [
        "class Rectangle:\n",
        "    def __init__(self, length, breadth):\n",
        "        self.set_length(length)\n",
        "        self.set_breadth(breadth)\n",
        "\n",
        "    # Private attributes (name mangling with __)\n",
        "    def __validate(self, value):\n",
        "        if not isinstance(value, (int, float)):\n",
        "            raise ValueError(\"Incorrect datatype. Only int or float allowed.\")\n",
        "        if value <= 0:\n",
        "            raise ValueError(\"Value must be positive.\")\n",
        "\n",
        "    # Getter and Setter for length\n",
        "    def get_length(self):\n",
        "        return self.__length\n",
        "\n",
        "    def set_length(self, value):\n",
        "        self.__validate(value)\n",
        "        self.__length = value\n",
        "\n",
        "    # Getter and Setter for breadth\n",
        "    def get_breadth(self):\n",
        "        return self.__breadth\n",
        "\n",
        "    def set_breadth(self, value):\n",
        "        self.__validate(value)\n",
        "        self.__breadth = value\n",
        "\n",
        "    # Public method to calculate area\n",
        "    def area(self):\n",
        "        return self.__length * self.__breadth\n",
        "\n",
        "    # Public method to calculate perimeter\n",
        "    def perimeter(self):\n",
        "        return 2 * (self.__length + self.__breadth)\n"
      ]
    }
  ],
  "metadata": {
    "kernelspec": {
      "display_name": "Python 3 (ipykernel)",
      "language": "python",
      "name": "python3"
    },
    "language_info": {
      "codemirror_mode": {
        "name": "ipython",
        "version": 3
      },
      "file_extension": ".py",
      "mimetype": "text/x-python",
      "name": "python",
      "nbconvert_exporter": "python",
      "pygments_lexer": "ipython3",
      "version": "3.13.1"
    },
    "colab": {
      "provenance": [],
      "include_colab_link": true
    }
  },
  "nbformat": 4,
  "nbformat_minor": 5
}