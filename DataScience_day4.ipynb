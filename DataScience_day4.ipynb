{
  "cells": [
    {
      "cell_type": "markdown",
      "metadata": {
        "id": "view-in-github",
        "colab_type": "text"
      },
      "source": [
        "<a href=\"https://colab.research.google.com/github/AbishekMishra183/data-science-ml-journey/blob/main/DataScience_day4.ipynb\" target=\"_parent\"><img src=\"https://colab.research.google.com/assets/colab-badge.svg\" alt=\"Open In Colab\"/></a>"
      ]
    },
    {
      "cell_type": "markdown",
      "id": "453f7287-8b32-444a-9931-813c085e4fcf",
      "metadata": {
        "id": "453f7287-8b32-444a-9931-813c085e4fcf"
      },
      "source": [
        "# day3:\n",
        "Series is the single dimesnsion data stored format\n",
        "To work with the tabular data dataframe is used"
      ]
    },
    {
      "cell_type": "code",
      "execution_count": null,
      "id": "a0ffc0ac-111d-4abc-92cc-1f6013881050",
      "metadata": {
        "id": "a0ffc0ac-111d-4abc-92cc-1f6013881050",
        "outputId": "8220cf3a-d298-4780-9052-78d70c0f449e"
      },
      "outputs": [
        {
          "name": "stdout",
          "output_type": "stream",
          "text": [
            "a    5\n",
            "b    7\n",
            "c    8\n",
            "d    9\n",
            "dtype: int64\n"
          ]
        }
      ],
      "source": [
        "import pandas as pd\n",
        "y=pd.Series([5,7,8,9],index=['a','b','c','d'])\n",
        "print(y)"
      ]
    },
    {
      "cell_type": "code",
      "execution_count": null,
      "id": "74bc9a67-711f-4b55-b12d-71f45f52f1cd",
      "metadata": {
        "id": "74bc9a67-711f-4b55-b12d-71f45f52f1cd",
        "outputId": "5603b540-6efb-4a10-84e0-d2764f56027d"
      },
      "outputs": [
        {
          "name": "stdout",
          "output_type": "stream",
          "text": [
            "7\n"
          ]
        }
      ],
      "source": [
        "print(y.iloc[1])# iloc is the implict loc and loc is the explicit loc\n"
      ]
    },
    {
      "cell_type": "markdown",
      "id": "21e01c23-bf4b-4367-af20-122bbfa790a1",
      "metadata": {
        "id": "21e01c23-bf4b-4367-af20-122bbfa790a1"
      },
      "source": [
        "# DataFrame=>Collection of the Series\n",
        "#Dictionary=> it can be empty\n"
      ]
    },
    {
      "cell_type": "code",
      "execution_count": null,
      "id": "85c6dbc9-9bc2-48f4-a249-25f28360511e",
      "metadata": {
        "id": "85c6dbc9-9bc2-48f4-a249-25f28360511e"
      },
      "outputs": [],
      "source": [
        "dis={\n",
        "   'roll':[4,5,7,9,12],\n",
        "    'Name':['Abishek','Garima','Rabina','Puja','Harish'],\n",
        "    'Faculty':['DS','CS','DS','CS','DS']\n",
        "}\n"
      ]
    },
    {
      "cell_type": "code",
      "execution_count": null,
      "id": "c59022a7-45f2-4316-ae3b-fa5eaac2a602",
      "metadata": {
        "id": "c59022a7-45f2-4316-ae3b-fa5eaac2a602",
        "outputId": "d544416e-c9a7-409d-d8b1-5dccffd6cdc2"
      },
      "outputs": [
        {
          "name": "stdout",
          "output_type": "stream",
          "text": [
            "   roll     Name Faculty\n",
            "0     4  Abishek      DS\n",
            "1     5   Garima      CS\n",
            "2     7   Rabina      DS\n",
            "3     9     Puja      CS\n",
            "4    12   Harish      DS\n"
          ]
        }
      ],
      "source": [
        "df=pd.DataFrame(dis)\n",
        "print(df)"
      ]
    },
    {
      "cell_type": "code",
      "execution_count": null,
      "id": "b6d73502-2adf-4a0f-8a35-84346775edf0",
      "metadata": {
        "id": "b6d73502-2adf-4a0f-8a35-84346775edf0",
        "outputId": "afcc3b2c-b1fa-40df-e9d0-8bd54451bbe1"
      },
      "outputs": [
        {
          "data": {
            "text/plain": [
              "pandas.core.frame.DataFrame"
            ]
          },
          "execution_count": 12,
          "metadata": {},
          "output_type": "execute_result"
        }
      ],
      "source": [
        "type(df)"
      ]
    },
    {
      "cell_type": "code",
      "execution_count": null,
      "id": "6098f53e-6655-436b-830b-9937d48c6579",
      "metadata": {
        "id": "6098f53e-6655-436b-830b-9937d48c6579",
        "outputId": "28180efb-cc5d-49f1-e71e-4ff606d4ac0a"
      },
      "outputs": [
        {
          "data": {
            "text/plain": [
              "(5, 3)"
            ]
          },
          "execution_count": 13,
          "metadata": {},
          "output_type": "execute_result"
        }
      ],
      "source": [
        "df.shape\n"
      ]
    },
    {
      "cell_type": "code",
      "execution_count": null,
      "id": "74733c07-3061-4c33-9b9a-5c198589e59e",
      "metadata": {
        "id": "74733c07-3061-4c33-9b9a-5c198589e59e",
        "outputId": "7eda5758-a0c6-4bc2-f344-f2093bf006cf"
      },
      "outputs": [
        {
          "data": {
            "text/plain": [
              "Index(['roll', 'Name', 'Faculty'], dtype='object')"
            ]
          },
          "execution_count": 14,
          "metadata": {},
          "output_type": "execute_result"
        }
      ],
      "source": [
        "df.columns# to know about the columns of the above dataframe\n"
      ]
    },
    {
      "cell_type": "code",
      "execution_count": null,
      "id": "c9d59bd5-3632-4e9d-9d6c-94c6ec0a7a76",
      "metadata": {
        "collapsed": true,
        "jupyter": {
          "outputs_hidden": true
        },
        "scrolled": true,
        "id": "c9d59bd5-3632-4e9d-9d6c-94c6ec0a7a76",
        "outputId": "13cabd44-752c-4a12-cfb3-0ed06813e43b"
      },
      "outputs": [
        {
          "name": "stdout",
          "output_type": "stream",
          "text": [
            "       Age  Gender    Education Level              Job Title  \\\n",
            "0     32.0    Male         Bachelor's      Software Engineer   \n",
            "1     28.0  Female           Master's           Data Analyst   \n",
            "2     45.0    Male                PhD         Senior Manager   \n",
            "3     36.0  Female         Bachelor's        Sales Associate   \n",
            "4     52.0    Male           Master's               Director   \n",
            "...    ...     ...                ...                    ...   \n",
            "6699  49.0  Female                PhD  Director of Marketing   \n",
            "6700  32.0    Male        High School        Sales Associate   \n",
            "6701  30.0  Female  Bachelor's Degree      Financial Manager   \n",
            "6702  46.0    Male    Master's Degree      Marketing Manager   \n",
            "6703  26.0  Female        High School        Sales Executive   \n",
            "\n",
            "      Years of Experience    Salary  \n",
            "0                     5.0   90000.0  \n",
            "1                     3.0   65000.0  \n",
            "2                    15.0  150000.0  \n",
            "3                     7.0   60000.0  \n",
            "4                    20.0  200000.0  \n",
            "...                   ...       ...  \n",
            "6699                 20.0  200000.0  \n",
            "6700                  3.0   50000.0  \n",
            "6701                  4.0   55000.0  \n",
            "6702                 14.0  140000.0  \n",
            "6703                  1.0   35000.0  \n",
            "\n",
            "[6704 rows x 6 columns]\n"
          ]
        }
      ],
      "source": [
        "data =pd.read_csv(\"Salary_Data.csv\")# read csv  is the already built the function which is used to read the Csv File\n",
        "print(data)"
      ]
    },
    {
      "cell_type": "code",
      "execution_count": null,
      "id": "5dd7a3de-0b0c-4dc8-809c-8ed8fa171ff9",
      "metadata": {
        "id": "5dd7a3de-0b0c-4dc8-809c-8ed8fa171ff9"
      },
      "outputs": [],
      "source": [
        "#DataFrame- attributes and function"
      ]
    },
    {
      "cell_type": "code",
      "execution_count": null,
      "id": "66db0b49-54b5-43de-9dbf-00d4b3b8a8de",
      "metadata": {
        "scrolled": true,
        "id": "66db0b49-54b5-43de-9dbf-00d4b3b8a8de",
        "outputId": "4f897d61-691e-4919-a914-6611a06fd73c"
      },
      "outputs": [
        {
          "data": {
            "text/html": [
              "<div>\n",
              "<style scoped>\n",
              "    .dataframe tbody tr th:only-of-type {\n",
              "        vertical-align: middle;\n",
              "    }\n",
              "\n",
              "    .dataframe tbody tr th {\n",
              "        vertical-align: top;\n",
              "    }\n",
              "\n",
              "    .dataframe thead th {\n",
              "        text-align: right;\n",
              "    }\n",
              "</style>\n",
              "<table border=\"1\" class=\"dataframe\">\n",
              "  <thead>\n",
              "    <tr style=\"text-align: right;\">\n",
              "      <th></th>\n",
              "      <th>Age</th>\n",
              "      <th>Gender</th>\n",
              "      <th>Education Level</th>\n",
              "      <th>Job Title</th>\n",
              "      <th>Years of Experience</th>\n",
              "      <th>Salary</th>\n",
              "    </tr>\n",
              "  </thead>\n",
              "  <tbody>\n",
              "    <tr>\n",
              "      <th>0</th>\n",
              "      <td>32.0</td>\n",
              "      <td>Male</td>\n",
              "      <td>Bachelor's</td>\n",
              "      <td>Software Engineer</td>\n",
              "      <td>5.0</td>\n",
              "      <td>90000.0</td>\n",
              "    </tr>\n",
              "    <tr>\n",
              "      <th>1</th>\n",
              "      <td>28.0</td>\n",
              "      <td>Female</td>\n",
              "      <td>Master's</td>\n",
              "      <td>Data Analyst</td>\n",
              "      <td>3.0</td>\n",
              "      <td>65000.0</td>\n",
              "    </tr>\n",
              "    <tr>\n",
              "      <th>2</th>\n",
              "      <td>45.0</td>\n",
              "      <td>Male</td>\n",
              "      <td>PhD</td>\n",
              "      <td>Senior Manager</td>\n",
              "      <td>15.0</td>\n",
              "      <td>150000.0</td>\n",
              "    </tr>\n",
              "    <tr>\n",
              "      <th>3</th>\n",
              "      <td>36.0</td>\n",
              "      <td>Female</td>\n",
              "      <td>Bachelor's</td>\n",
              "      <td>Sales Associate</td>\n",
              "      <td>7.0</td>\n",
              "      <td>60000.0</td>\n",
              "    </tr>\n",
              "    <tr>\n",
              "      <th>4</th>\n",
              "      <td>52.0</td>\n",
              "      <td>Male</td>\n",
              "      <td>Master's</td>\n",
              "      <td>Director</td>\n",
              "      <td>20.0</td>\n",
              "      <td>200000.0</td>\n",
              "    </tr>\n",
              "  </tbody>\n",
              "</table>\n",
              "</div>"
            ],
            "text/plain": [
              "    Age  Gender Education Level          Job Title  Years of Experience  \\\n",
              "0  32.0    Male      Bachelor's  Software Engineer                  5.0   \n",
              "1  28.0  Female        Master's       Data Analyst                  3.0   \n",
              "2  45.0    Male             PhD     Senior Manager                 15.0   \n",
              "3  36.0  Female      Bachelor's    Sales Associate                  7.0   \n",
              "4  52.0    Male        Master's           Director                 20.0   \n",
              "\n",
              "     Salary  \n",
              "0   90000.0  \n",
              "1   65000.0  \n",
              "2  150000.0  \n",
              "3   60000.0  \n",
              "4  200000.0  "
            ]
          },
          "execution_count": 16,
          "metadata": {},
          "output_type": "execute_result"
        }
      ],
      "source": [
        "data.head()# provide the information of the first top 5 rows"
      ]
    },
    {
      "cell_type": "code",
      "execution_count": null,
      "id": "758ae3d0-e970-44a0-9ea3-c51bc4c0e051",
      "metadata": {
        "collapsed": true,
        "jupyter": {
          "outputs_hidden": true
        },
        "scrolled": true,
        "id": "758ae3d0-e970-44a0-9ea3-c51bc4c0e051",
        "outputId": "f4ca59af-7e77-40b3-86e6-9bbaad23625a"
      },
      "outputs": [
        {
          "data": {
            "text/html": [
              "<div>\n",
              "<style scoped>\n",
              "    .dataframe tbody tr th:only-of-type {\n",
              "        vertical-align: middle;\n",
              "    }\n",
              "\n",
              "    .dataframe tbody tr th {\n",
              "        vertical-align: top;\n",
              "    }\n",
              "\n",
              "    .dataframe thead th {\n",
              "        text-align: right;\n",
              "    }\n",
              "</style>\n",
              "<table border=\"1\" class=\"dataframe\">\n",
              "  <thead>\n",
              "    <tr style=\"text-align: right;\">\n",
              "      <th></th>\n",
              "      <th>Age</th>\n",
              "      <th>Gender</th>\n",
              "      <th>Education Level</th>\n",
              "      <th>Job Title</th>\n",
              "      <th>Years of Experience</th>\n",
              "      <th>Salary</th>\n",
              "    </tr>\n",
              "  </thead>\n",
              "  <tbody>\n",
              "    <tr>\n",
              "      <th>0</th>\n",
              "      <td>32.0</td>\n",
              "      <td>Male</td>\n",
              "      <td>Bachelor's</td>\n",
              "      <td>Software Engineer</td>\n",
              "      <td>5.0</td>\n",
              "      <td>90000.0</td>\n",
              "    </tr>\n",
              "    <tr>\n",
              "      <th>1</th>\n",
              "      <td>28.0</td>\n",
              "      <td>Female</td>\n",
              "      <td>Master's</td>\n",
              "      <td>Data Analyst</td>\n",
              "      <td>3.0</td>\n",
              "      <td>65000.0</td>\n",
              "    </tr>\n",
              "    <tr>\n",
              "      <th>2</th>\n",
              "      <td>45.0</td>\n",
              "      <td>Male</td>\n",
              "      <td>PhD</td>\n",
              "      <td>Senior Manager</td>\n",
              "      <td>15.0</td>\n",
              "      <td>150000.0</td>\n",
              "    </tr>\n",
              "    <tr>\n",
              "      <th>3</th>\n",
              "      <td>36.0</td>\n",
              "      <td>Female</td>\n",
              "      <td>Bachelor's</td>\n",
              "      <td>Sales Associate</td>\n",
              "      <td>7.0</td>\n",
              "      <td>60000.0</td>\n",
              "    </tr>\n",
              "    <tr>\n",
              "      <th>4</th>\n",
              "      <td>52.0</td>\n",
              "      <td>Male</td>\n",
              "      <td>Master's</td>\n",
              "      <td>Director</td>\n",
              "      <td>20.0</td>\n",
              "      <td>200000.0</td>\n",
              "    </tr>\n",
              "    <tr>\n",
              "      <th>5</th>\n",
              "      <td>29.0</td>\n",
              "      <td>Male</td>\n",
              "      <td>Bachelor's</td>\n",
              "      <td>Marketing Analyst</td>\n",
              "      <td>2.0</td>\n",
              "      <td>55000.0</td>\n",
              "    </tr>\n",
              "    <tr>\n",
              "      <th>6</th>\n",
              "      <td>42.0</td>\n",
              "      <td>Female</td>\n",
              "      <td>Master's</td>\n",
              "      <td>Product Manager</td>\n",
              "      <td>12.0</td>\n",
              "      <td>120000.0</td>\n",
              "    </tr>\n",
              "    <tr>\n",
              "      <th>7</th>\n",
              "      <td>31.0</td>\n",
              "      <td>Male</td>\n",
              "      <td>Bachelor's</td>\n",
              "      <td>Sales Manager</td>\n",
              "      <td>4.0</td>\n",
              "      <td>80000.0</td>\n",
              "    </tr>\n",
              "    <tr>\n",
              "      <th>8</th>\n",
              "      <td>26.0</td>\n",
              "      <td>Female</td>\n",
              "      <td>Bachelor's</td>\n",
              "      <td>Marketing Coordinator</td>\n",
              "      <td>1.0</td>\n",
              "      <td>45000.0</td>\n",
              "    </tr>\n",
              "    <tr>\n",
              "      <th>9</th>\n",
              "      <td>38.0</td>\n",
              "      <td>Male</td>\n",
              "      <td>PhD</td>\n",
              "      <td>Senior Scientist</td>\n",
              "      <td>10.0</td>\n",
              "      <td>110000.0</td>\n",
              "    </tr>\n",
              "  </tbody>\n",
              "</table>\n",
              "</div>"
            ],
            "text/plain": [
              "    Age  Gender Education Level              Job Title  Years of Experience  \\\n",
              "0  32.0    Male      Bachelor's      Software Engineer                  5.0   \n",
              "1  28.0  Female        Master's           Data Analyst                  3.0   \n",
              "2  45.0    Male             PhD         Senior Manager                 15.0   \n",
              "3  36.0  Female      Bachelor's        Sales Associate                  7.0   \n",
              "4  52.0    Male        Master's               Director                 20.0   \n",
              "5  29.0    Male      Bachelor's      Marketing Analyst                  2.0   \n",
              "6  42.0  Female        Master's        Product Manager                 12.0   \n",
              "7  31.0    Male      Bachelor's          Sales Manager                  4.0   \n",
              "8  26.0  Female      Bachelor's  Marketing Coordinator                  1.0   \n",
              "9  38.0    Male             PhD       Senior Scientist                 10.0   \n",
              "\n",
              "     Salary  \n",
              "0   90000.0  \n",
              "1   65000.0  \n",
              "2  150000.0  \n",
              "3   60000.0  \n",
              "4  200000.0  \n",
              "5   55000.0  \n",
              "6  120000.0  \n",
              "7   80000.0  \n",
              "8   45000.0  \n",
              "9  110000.0  "
            ]
          },
          "execution_count": 17,
          "metadata": {},
          "output_type": "execute_result"
        }
      ],
      "source": [
        "data.head(10)# by default 5 if mention it provide accordingly"
      ]
    },
    {
      "cell_type": "code",
      "execution_count": null,
      "id": "8e7d1cef-d7bd-473f-942e-53ef4c8e88ae",
      "metadata": {
        "collapsed": true,
        "jupyter": {
          "outputs_hidden": true
        },
        "id": "8e7d1cef-d7bd-473f-942e-53ef4c8e88ae",
        "outputId": "b43f54b7-2542-40e3-bfec-9be5ee43b256"
      },
      "outputs": [
        {
          "data": {
            "text/html": [
              "<div>\n",
              "<style scoped>\n",
              "    .dataframe tbody tr th:only-of-type {\n",
              "        vertical-align: middle;\n",
              "    }\n",
              "\n",
              "    .dataframe tbody tr th {\n",
              "        vertical-align: top;\n",
              "    }\n",
              "\n",
              "    .dataframe thead th {\n",
              "        text-align: right;\n",
              "    }\n",
              "</style>\n",
              "<table border=\"1\" class=\"dataframe\">\n",
              "  <thead>\n",
              "    <tr style=\"text-align: right;\">\n",
              "      <th></th>\n",
              "      <th>Age</th>\n",
              "      <th>Gender</th>\n",
              "      <th>Education Level</th>\n",
              "      <th>Job Title</th>\n",
              "      <th>Years of Experience</th>\n",
              "      <th>Salary</th>\n",
              "    </tr>\n",
              "  </thead>\n",
              "  <tbody>\n",
              "    <tr>\n",
              "      <th>6699</th>\n",
              "      <td>49.0</td>\n",
              "      <td>Female</td>\n",
              "      <td>PhD</td>\n",
              "      <td>Director of Marketing</td>\n",
              "      <td>20.0</td>\n",
              "      <td>200000.0</td>\n",
              "    </tr>\n",
              "    <tr>\n",
              "      <th>6700</th>\n",
              "      <td>32.0</td>\n",
              "      <td>Male</td>\n",
              "      <td>High School</td>\n",
              "      <td>Sales Associate</td>\n",
              "      <td>3.0</td>\n",
              "      <td>50000.0</td>\n",
              "    </tr>\n",
              "    <tr>\n",
              "      <th>6701</th>\n",
              "      <td>30.0</td>\n",
              "      <td>Female</td>\n",
              "      <td>Bachelor's Degree</td>\n",
              "      <td>Financial Manager</td>\n",
              "      <td>4.0</td>\n",
              "      <td>55000.0</td>\n",
              "    </tr>\n",
              "    <tr>\n",
              "      <th>6702</th>\n",
              "      <td>46.0</td>\n",
              "      <td>Male</td>\n",
              "      <td>Master's Degree</td>\n",
              "      <td>Marketing Manager</td>\n",
              "      <td>14.0</td>\n",
              "      <td>140000.0</td>\n",
              "    </tr>\n",
              "    <tr>\n",
              "      <th>6703</th>\n",
              "      <td>26.0</td>\n",
              "      <td>Female</td>\n",
              "      <td>High School</td>\n",
              "      <td>Sales Executive</td>\n",
              "      <td>1.0</td>\n",
              "      <td>35000.0</td>\n",
              "    </tr>\n",
              "  </tbody>\n",
              "</table>\n",
              "</div>"
            ],
            "text/plain": [
              "       Age  Gender    Education Level              Job Title  \\\n",
              "6699  49.0  Female                PhD  Director of Marketing   \n",
              "6700  32.0    Male        High School        Sales Associate   \n",
              "6701  30.0  Female  Bachelor's Degree      Financial Manager   \n",
              "6702  46.0    Male    Master's Degree      Marketing Manager   \n",
              "6703  26.0  Female        High School        Sales Executive   \n",
              "\n",
              "      Years of Experience    Salary  \n",
              "6699                 20.0  200000.0  \n",
              "6700                  3.0   50000.0  \n",
              "6701                  4.0   55000.0  \n",
              "6702                 14.0  140000.0  \n",
              "6703                  1.0   35000.0  "
            ]
          },
          "execution_count": 18,
          "metadata": {},
          "output_type": "execute_result"
        }
      ],
      "source": [
        "data.tail()# same as head function"
      ]
    },
    {
      "cell_type": "code",
      "execution_count": null,
      "id": "d30dff54-79eb-4f83-aebc-4c7652be2bec",
      "metadata": {
        "collapsed": true,
        "jupyter": {
          "outputs_hidden": true
        },
        "scrolled": true,
        "id": "d30dff54-79eb-4f83-aebc-4c7652be2bec",
        "outputId": "0ae1e055-d519-42f0-aa1c-ba626edd959f"
      },
      "outputs": [
        {
          "data": {
            "text/html": [
              "<div>\n",
              "<style scoped>\n",
              "    .dataframe tbody tr th:only-of-type {\n",
              "        vertical-align: middle;\n",
              "    }\n",
              "\n",
              "    .dataframe tbody tr th {\n",
              "        vertical-align: top;\n",
              "    }\n",
              "\n",
              "    .dataframe thead th {\n",
              "        text-align: right;\n",
              "    }\n",
              "</style>\n",
              "<table border=\"1\" class=\"dataframe\">\n",
              "  <thead>\n",
              "    <tr style=\"text-align: right;\">\n",
              "      <th></th>\n",
              "      <th>Age</th>\n",
              "      <th>Gender</th>\n",
              "      <th>Education Level</th>\n",
              "      <th>Job Title</th>\n",
              "      <th>Years of Experience</th>\n",
              "      <th>Salary</th>\n",
              "    </tr>\n",
              "  </thead>\n",
              "  <tbody>\n",
              "    <tr>\n",
              "      <th>6694</th>\n",
              "      <td>27.0</td>\n",
              "      <td>Male</td>\n",
              "      <td>High School</td>\n",
              "      <td>Digital Marketing Manager</td>\n",
              "      <td>2.0</td>\n",
              "      <td>40000.0</td>\n",
              "    </tr>\n",
              "    <tr>\n",
              "      <th>6695</th>\n",
              "      <td>33.0</td>\n",
              "      <td>Female</td>\n",
              "      <td>Bachelor's Degree</td>\n",
              "      <td>Content Marketing Manager</td>\n",
              "      <td>7.0</td>\n",
              "      <td>90000.0</td>\n",
              "    </tr>\n",
              "    <tr>\n",
              "      <th>6696</th>\n",
              "      <td>28.0</td>\n",
              "      <td>Male</td>\n",
              "      <td>PhD</td>\n",
              "      <td>Sales Representative</td>\n",
              "      <td>4.0</td>\n",
              "      <td>55000.0</td>\n",
              "    </tr>\n",
              "    <tr>\n",
              "      <th>6697</th>\n",
              "      <td>51.0</td>\n",
              "      <td>Female</td>\n",
              "      <td>Master's Degree</td>\n",
              "      <td>Senior Product Marketing Manager</td>\n",
              "      <td>19.0</td>\n",
              "      <td>190000.0</td>\n",
              "    </tr>\n",
              "    <tr>\n",
              "      <th>6698</th>\n",
              "      <td>37.0</td>\n",
              "      <td>Male</td>\n",
              "      <td>Bachelor's Degree</td>\n",
              "      <td>Junior Sales Representative</td>\n",
              "      <td>6.0</td>\n",
              "      <td>75000.0</td>\n",
              "    </tr>\n",
              "    <tr>\n",
              "      <th>6699</th>\n",
              "      <td>49.0</td>\n",
              "      <td>Female</td>\n",
              "      <td>PhD</td>\n",
              "      <td>Director of Marketing</td>\n",
              "      <td>20.0</td>\n",
              "      <td>200000.0</td>\n",
              "    </tr>\n",
              "    <tr>\n",
              "      <th>6700</th>\n",
              "      <td>32.0</td>\n",
              "      <td>Male</td>\n",
              "      <td>High School</td>\n",
              "      <td>Sales Associate</td>\n",
              "      <td>3.0</td>\n",
              "      <td>50000.0</td>\n",
              "    </tr>\n",
              "    <tr>\n",
              "      <th>6701</th>\n",
              "      <td>30.0</td>\n",
              "      <td>Female</td>\n",
              "      <td>Bachelor's Degree</td>\n",
              "      <td>Financial Manager</td>\n",
              "      <td>4.0</td>\n",
              "      <td>55000.0</td>\n",
              "    </tr>\n",
              "    <tr>\n",
              "      <th>6702</th>\n",
              "      <td>46.0</td>\n",
              "      <td>Male</td>\n",
              "      <td>Master's Degree</td>\n",
              "      <td>Marketing Manager</td>\n",
              "      <td>14.0</td>\n",
              "      <td>140000.0</td>\n",
              "    </tr>\n",
              "    <tr>\n",
              "      <th>6703</th>\n",
              "      <td>26.0</td>\n",
              "      <td>Female</td>\n",
              "      <td>High School</td>\n",
              "      <td>Sales Executive</td>\n",
              "      <td>1.0</td>\n",
              "      <td>35000.0</td>\n",
              "    </tr>\n",
              "  </tbody>\n",
              "</table>\n",
              "</div>"
            ],
            "text/plain": [
              "       Age  Gender    Education Level                         Job Title  \\\n",
              "6694  27.0    Male        High School         Digital Marketing Manager   \n",
              "6695  33.0  Female  Bachelor's Degree         Content Marketing Manager   \n",
              "6696  28.0    Male                PhD              Sales Representative   \n",
              "6697  51.0  Female    Master's Degree  Senior Product Marketing Manager   \n",
              "6698  37.0    Male  Bachelor's Degree       Junior Sales Representative   \n",
              "6699  49.0  Female                PhD             Director of Marketing   \n",
              "6700  32.0    Male        High School                   Sales Associate   \n",
              "6701  30.0  Female  Bachelor's Degree                 Financial Manager   \n",
              "6702  46.0    Male    Master's Degree                 Marketing Manager   \n",
              "6703  26.0  Female        High School                   Sales Executive   \n",
              "\n",
              "      Years of Experience    Salary  \n",
              "6694                  2.0   40000.0  \n",
              "6695                  7.0   90000.0  \n",
              "6696                  4.0   55000.0  \n",
              "6697                 19.0  190000.0  \n",
              "6698                  6.0   75000.0  \n",
              "6699                 20.0  200000.0  \n",
              "6700                  3.0   50000.0  \n",
              "6701                  4.0   55000.0  \n",
              "6702                 14.0  140000.0  \n",
              "6703                  1.0   35000.0  "
            ]
          },
          "execution_count": 19,
          "metadata": {},
          "output_type": "execute_result"
        }
      ],
      "source": [
        "data.tail(10)"
      ]
    },
    {
      "cell_type": "code",
      "execution_count": null,
      "id": "8a7d37e6-66b7-44f4-9ed5-96b0123c20e0",
      "metadata": {
        "collapsed": true,
        "jupyter": {
          "outputs_hidden": true
        },
        "scrolled": true,
        "id": "8a7d37e6-66b7-44f4-9ed5-96b0123c20e0",
        "outputId": "d032e46e-4a96-4712-aa60-78ea66e18d15"
      },
      "outputs": [
        {
          "data": {
            "text/html": [
              "<div>\n",
              "<style scoped>\n",
              "    .dataframe tbody tr th:only-of-type {\n",
              "        vertical-align: middle;\n",
              "    }\n",
              "\n",
              "    .dataframe tbody tr th {\n",
              "        vertical-align: top;\n",
              "    }\n",
              "\n",
              "    .dataframe thead th {\n",
              "        text-align: right;\n",
              "    }\n",
              "</style>\n",
              "<table border=\"1\" class=\"dataframe\">\n",
              "  <thead>\n",
              "    <tr style=\"text-align: right;\">\n",
              "      <th></th>\n",
              "      <th>Age</th>\n",
              "      <th>Gender</th>\n",
              "      <th>Education Level</th>\n",
              "      <th>Job Title</th>\n",
              "      <th>Years of Experience</th>\n",
              "      <th>Salary</th>\n",
              "    </tr>\n",
              "  </thead>\n",
              "  <tbody>\n",
              "    <tr>\n",
              "      <th>67</th>\n",
              "      <td>31.0</td>\n",
              "      <td>Female</td>\n",
              "      <td>Bachelor's</td>\n",
              "      <td>Customer Service Representative</td>\n",
              "      <td>5.0</td>\n",
              "      <td>45000.0</td>\n",
              "    </tr>\n",
              "    <tr>\n",
              "      <th>5415</th>\n",
              "      <td>37.0</td>\n",
              "      <td>Male</td>\n",
              "      <td>Bachelor's Degree</td>\n",
              "      <td>Product Manager</td>\n",
              "      <td>13.0</td>\n",
              "      <td>160000.0</td>\n",
              "    </tr>\n",
              "    <tr>\n",
              "      <th>6185</th>\n",
              "      <td>38.0</td>\n",
              "      <td>Male</td>\n",
              "      <td>Master's Degree</td>\n",
              "      <td>Marketing Director</td>\n",
              "      <td>14.0</td>\n",
              "      <td>195000.0</td>\n",
              "    </tr>\n",
              "    <tr>\n",
              "      <th>6653</th>\n",
              "      <td>33.0</td>\n",
              "      <td>Female</td>\n",
              "      <td>Bachelor's Degree</td>\n",
              "      <td>Director of Marketing</td>\n",
              "      <td>8.0</td>\n",
              "      <td>80000.0</td>\n",
              "    </tr>\n",
              "    <tr>\n",
              "      <th>5899</th>\n",
              "      <td>36.0</td>\n",
              "      <td>Male</td>\n",
              "      <td>PhD</td>\n",
              "      <td>Research Scientist</td>\n",
              "      <td>13.0</td>\n",
              "      <td>180000.0</td>\n",
              "    </tr>\n",
              "    <tr>\n",
              "      <th>6147</th>\n",
              "      <td>29.0</td>\n",
              "      <td>Male</td>\n",
              "      <td>Bachelor's Degree</td>\n",
              "      <td>Marketing Analyst</td>\n",
              "      <td>4.0</td>\n",
              "      <td>75000.0</td>\n",
              "    </tr>\n",
              "    <tr>\n",
              "      <th>6386</th>\n",
              "      <td>48.0</td>\n",
              "      <td>Female</td>\n",
              "      <td>PhD</td>\n",
              "      <td>Senior Product Marketing Manager</td>\n",
              "      <td>17.0</td>\n",
              "      <td>170000.0</td>\n",
              "    </tr>\n",
              "    <tr>\n",
              "      <th>1538</th>\n",
              "      <td>34.0</td>\n",
              "      <td>Male</td>\n",
              "      <td>Bachelor's Degree</td>\n",
              "      <td>Back end Developer</td>\n",
              "      <td>6.0</td>\n",
              "      <td>120000.0</td>\n",
              "    </tr>\n",
              "    <tr>\n",
              "      <th>5582</th>\n",
              "      <td>39.0</td>\n",
              "      <td>Female</td>\n",
              "      <td>Bachelor's Degree</td>\n",
              "      <td>Financial Manager</td>\n",
              "      <td>16.0</td>\n",
              "      <td>200000.0</td>\n",
              "    </tr>\n",
              "    <tr>\n",
              "      <th>5137</th>\n",
              "      <td>22.0</td>\n",
              "      <td>Female</td>\n",
              "      <td>High School</td>\n",
              "      <td>Receptionist</td>\n",
              "      <td>0.0</td>\n",
              "      <td>25000.0</td>\n",
              "    </tr>\n",
              "  </tbody>\n",
              "</table>\n",
              "</div>"
            ],
            "text/plain": [
              "       Age  Gender    Education Level                         Job Title  \\\n",
              "67    31.0  Female         Bachelor's   Customer Service Representative   \n",
              "5415  37.0    Male  Bachelor's Degree                   Product Manager   \n",
              "6185  38.0    Male    Master's Degree                Marketing Director   \n",
              "6653  33.0  Female  Bachelor's Degree             Director of Marketing   \n",
              "5899  36.0    Male                PhD                Research Scientist   \n",
              "6147  29.0    Male  Bachelor's Degree                 Marketing Analyst   \n",
              "6386  48.0  Female                PhD  Senior Product Marketing Manager   \n",
              "1538  34.0    Male  Bachelor's Degree                Back end Developer   \n",
              "5582  39.0  Female  Bachelor's Degree                 Financial Manager   \n",
              "5137  22.0  Female        High School                      Receptionist   \n",
              "\n",
              "      Years of Experience    Salary  \n",
              "67                    5.0   45000.0  \n",
              "5415                 13.0  160000.0  \n",
              "6185                 14.0  195000.0  \n",
              "6653                  8.0   80000.0  \n",
              "5899                 13.0  180000.0  \n",
              "6147                  4.0   75000.0  \n",
              "6386                 17.0  170000.0  \n",
              "1538                  6.0  120000.0  \n",
              "5582                 16.0  200000.0  \n",
              "5137                  0.0   25000.0  "
            ]
          },
          "execution_count": 20,
          "metadata": {},
          "output_type": "execute_result"
        }
      ],
      "source": [
        "data.sample(10)# provide the information randomly  here in this case 10 random data is extracted from the table"
      ]
    },
    {
      "cell_type": "code",
      "execution_count": null,
      "id": "1401a48e-b646-479b-a65a-7764667ec113",
      "metadata": {
        "id": "1401a48e-b646-479b-a65a-7764667ec113",
        "outputId": "bcea0173-a336-46d1-8015-e33791b29d39"
      },
      "outputs": [
        {
          "data": {
            "text/plain": [
              "(6704, 6)"
            ]
          },
          "execution_count": 21,
          "metadata": {},
          "output_type": "execute_result"
        }
      ],
      "source": [
        "data.shape# no of rows and column"
      ]
    },
    {
      "cell_type": "code",
      "execution_count": null,
      "id": "9a35f619-9760-426c-8417-e5d105517b7e",
      "metadata": {
        "id": "9a35f619-9760-426c-8417-e5d105517b7e",
        "outputId": "029ef261-6fc8-4ff3-d06c-c44bfda8fdf6"
      },
      "outputs": [
        {
          "data": {
            "text/plain": [
              "6704"
            ]
          },
          "execution_count": 22,
          "metadata": {},
          "output_type": "execute_result"
        }
      ],
      "source": [
        "data.shape[0]# to dispaly the no of rows only"
      ]
    },
    {
      "cell_type": "code",
      "execution_count": null,
      "id": "c7081560-1f9a-48a7-82f0-aedd79e2c35b",
      "metadata": {
        "id": "c7081560-1f9a-48a7-82f0-aedd79e2c35b",
        "outputId": "1a9d85d5-40b6-4fe7-b3c8-a9a50765596d"
      },
      "outputs": [
        {
          "data": {
            "text/plain": [
              "6"
            ]
          },
          "execution_count": 23,
          "metadata": {},
          "output_type": "execute_result"
        }
      ],
      "source": [
        "data.shape[1]# to dispaly only the no of columns"
      ]
    },
    {
      "cell_type": "code",
      "execution_count": null,
      "id": "3311af4e-c955-49cb-9469-f5a23be2b8ea",
      "metadata": {
        "id": "3311af4e-c955-49cb-9469-f5a23be2b8ea",
        "outputId": "3a4f1d22-7dd9-444d-ec73-b0f8edccb840"
      },
      "outputs": [
        {
          "name": "stdout",
          "output_type": "stream",
          "text": [
            "Index(['Age', 'Gender', 'Education Level', 'Job Title', 'Years of Experience',\n",
            "       'Salary'],\n",
            "      dtype='object')\n"
          ]
        }
      ],
      "source": [
        "print(data.columns)# to find the name of the colums in the table"
      ]
    },
    {
      "cell_type": "code",
      "execution_count": null,
      "id": "045dffe7-65b6-4b6c-88c8-fa7cb30634e8",
      "metadata": {
        "collapsed": true,
        "jupyter": {
          "outputs_hidden": true
        },
        "id": "045dffe7-65b6-4b6c-88c8-fa7cb30634e8",
        "outputId": "43fc756a-7050-4619-ec24-35dea020d4f9"
      },
      "outputs": [
        {
          "data": {
            "text/plain": [
              "0       32.0\n",
              "1       28.0\n",
              "2       45.0\n",
              "3       36.0\n",
              "4       52.0\n",
              "        ... \n",
              "6699    49.0\n",
              "6700    32.0\n",
              "6701    30.0\n",
              "6702    46.0\n",
              "6703    26.0\n",
              "Name: Age, Length: 6704, dtype: float64"
            ]
          },
          "execution_count": 25,
          "metadata": {},
          "output_type": "execute_result"
        }
      ],
      "source": [
        "# Select Particular rows and columns\n",
        "#For Columns=>syntax:dataframe.column_name\n",
        "data.Age"
      ]
    },
    {
      "cell_type": "code",
      "execution_count": null,
      "id": "276728e5-41cb-4f3b-873d-ac21444bff89",
      "metadata": {
        "id": "276728e5-41cb-4f3b-873d-ac21444bff89",
        "outputId": "b4d7022f-0237-4909-a296-60d503bb29e7"
      },
      "outputs": [
        {
          "data": {
            "text/plain": [
              "0         Male\n",
              "1       Female\n",
              "2         Male\n",
              "3       Female\n",
              "4         Male\n",
              "         ...  \n",
              "6699    Female\n",
              "6700      Male\n",
              "6701    Female\n",
              "6702      Male\n",
              "6703    Female\n",
              "Name: Gender, Length: 6704, dtype: object"
            ]
          },
          "execution_count": 27,
          "metadata": {},
          "output_type": "execute_result"
        }
      ],
      "source": [
        "# Another Approach for the column dispaly\n",
        "#For Columns=>syntax:data['name of the column']\n",
        "data['Gender']"
      ]
    },
    {
      "cell_type": "code",
      "execution_count": null,
      "id": "ae4dd585-65e6-4cd2-855f-87c3504fb089",
      "metadata": {
        "id": "ae4dd585-65e6-4cd2-855f-87c3504fb089",
        "outputId": "a8c2e9ca-c46d-4e81-89d5-aa5c4e872e96"
      },
      "outputs": [
        {
          "data": {
            "text/plain": [
              "0              Bachelor's\n",
              "1                Master's\n",
              "2                     PhD\n",
              "3              Bachelor's\n",
              "4                Master's\n",
              "              ...        \n",
              "6699                  PhD\n",
              "6700          High School\n",
              "6701    Bachelor's Degree\n",
              "6702      Master's Degree\n",
              "6703          High School\n",
              "Name: Education Level, Length: 6704, dtype: object"
            ]
          },
          "execution_count": 28,
          "metadata": {},
          "output_type": "execute_result"
        }
      ],
      "source": [
        "data['Education Level']# in the case of the space in the column name the . syntax might not work properly so at that time this is suitable"
      ]
    },
    {
      "cell_type": "code",
      "execution_count": null,
      "id": "4e2c99e8-8748-4166-bf9a-5a2693195c06",
      "metadata": {
        "id": "4e2c99e8-8748-4166-bf9a-5a2693195c06",
        "outputId": "9267dc37-e588-4271-8082-c5d952c6eadc"
      },
      "outputs": [
        {
          "data": {
            "text/plain": [
              "Age                                 32.0\n",
              "Gender                              Male\n",
              "Education Level               Bachelor's\n",
              "Job Title              Software Engineer\n",
              "Years of Experience                  5.0\n",
              "Salary                           90000.0\n",
              "Name: 0, dtype: object"
            ]
          },
          "execution_count": 29,
          "metadata": {},
          "output_type": "execute_result"
        }
      ],
      "source": [
        "# Here start for the row data extraction\n",
        "data.loc[0]"
      ]
    },
    {
      "cell_type": "code",
      "execution_count": null,
      "id": "34c75fd4-c48f-4c10-b475-f067eb4e588f",
      "metadata": {
        "id": "34c75fd4-c48f-4c10-b475-f067eb4e588f",
        "outputId": "16869cc4-a571-456a-edd7-b863a5c672c2"
      },
      "outputs": [
        {
          "data": {
            "text/html": [
              "<div>\n",
              "<style scoped>\n",
              "    .dataframe tbody tr th:only-of-type {\n",
              "        vertical-align: middle;\n",
              "    }\n",
              "\n",
              "    .dataframe tbody tr th {\n",
              "        vertical-align: top;\n",
              "    }\n",
              "\n",
              "    .dataframe thead th {\n",
              "        text-align: right;\n",
              "    }\n",
              "</style>\n",
              "<table border=\"1\" class=\"dataframe\">\n",
              "  <thead>\n",
              "    <tr style=\"text-align: right;\">\n",
              "      <th></th>\n",
              "      <th>Age</th>\n",
              "      <th>Gender</th>\n",
              "      <th>Education Level</th>\n",
              "      <th>Job Title</th>\n",
              "      <th>Years of Experience</th>\n",
              "      <th>Salary</th>\n",
              "    </tr>\n",
              "  </thead>\n",
              "  <tbody>\n",
              "    <tr>\n",
              "      <th>0</th>\n",
              "      <td>32.0</td>\n",
              "      <td>Male</td>\n",
              "      <td>Bachelor's</td>\n",
              "      <td>Software Engineer</td>\n",
              "      <td>5.0</td>\n",
              "      <td>90000.0</td>\n",
              "    </tr>\n",
              "    <tr>\n",
              "      <th>1</th>\n",
              "      <td>28.0</td>\n",
              "      <td>Female</td>\n",
              "      <td>Master's</td>\n",
              "      <td>Data Analyst</td>\n",
              "      <td>3.0</td>\n",
              "      <td>65000.0</td>\n",
              "    </tr>\n",
              "    <tr>\n",
              "      <th>2</th>\n",
              "      <td>45.0</td>\n",
              "      <td>Male</td>\n",
              "      <td>PhD</td>\n",
              "      <td>Senior Manager</td>\n",
              "      <td>15.0</td>\n",
              "      <td>150000.0</td>\n",
              "    </tr>\n",
              "    <tr>\n",
              "      <th>3</th>\n",
              "      <td>36.0</td>\n",
              "      <td>Female</td>\n",
              "      <td>Bachelor's</td>\n",
              "      <td>Sales Associate</td>\n",
              "      <td>7.0</td>\n",
              "      <td>60000.0</td>\n",
              "    </tr>\n",
              "    <tr>\n",
              "      <th>4</th>\n",
              "      <td>52.0</td>\n",
              "      <td>Male</td>\n",
              "      <td>Master's</td>\n",
              "      <td>Director</td>\n",
              "      <td>20.0</td>\n",
              "      <td>200000.0</td>\n",
              "    </tr>\n",
              "    <tr>\n",
              "      <th>5</th>\n",
              "      <td>29.0</td>\n",
              "      <td>Male</td>\n",
              "      <td>Bachelor's</td>\n",
              "      <td>Marketing Analyst</td>\n",
              "      <td>2.0</td>\n",
              "      <td>55000.0</td>\n",
              "    </tr>\n",
              "  </tbody>\n",
              "</table>\n",
              "</div>"
            ],
            "text/plain": [
              "    Age  Gender Education Level          Job Title  Years of Experience  \\\n",
              "0  32.0    Male      Bachelor's  Software Engineer                  5.0   \n",
              "1  28.0  Female        Master's       Data Analyst                  3.0   \n",
              "2  45.0    Male             PhD     Senior Manager                 15.0   \n",
              "3  36.0  Female      Bachelor's    Sales Associate                  7.0   \n",
              "4  52.0    Male        Master's           Director                 20.0   \n",
              "5  29.0    Male      Bachelor's  Marketing Analyst                  2.0   \n",
              "\n",
              "     Salary  \n",
              "0   90000.0  \n",
              "1   65000.0  \n",
              "2  150000.0  \n",
              "3   60000.0  \n",
              "4  200000.0  \n",
              "5   55000.0  "
            ]
          },
          "execution_count": 30,
          "metadata": {},
          "output_type": "execute_result"
        }
      ],
      "source": [
        "data.loc[0:5]# inclusion of the both start and end index in the case of the loc"
      ]
    },
    {
      "cell_type": "code",
      "execution_count": null,
      "id": "8228435f-90fc-47d6-9fbb-c5055352af5a",
      "metadata": {
        "collapsed": true,
        "jupyter": {
          "outputs_hidden": true
        },
        "scrolled": true,
        "id": "8228435f-90fc-47d6-9fbb-c5055352af5a",
        "outputId": "5eb06dfa-d5ea-4cb3-c52f-963bc86e9fa1"
      },
      "outputs": [
        {
          "data": {
            "text/html": [
              "<div>\n",
              "<style scoped>\n",
              "    .dataframe tbody tr th:only-of-type {\n",
              "        vertical-align: middle;\n",
              "    }\n",
              "\n",
              "    .dataframe tbody tr th {\n",
              "        vertical-align: top;\n",
              "    }\n",
              "\n",
              "    .dataframe thead th {\n",
              "        text-align: right;\n",
              "    }\n",
              "</style>\n",
              "<table border=\"1\" class=\"dataframe\">\n",
              "  <thead>\n",
              "    <tr style=\"text-align: right;\">\n",
              "      <th></th>\n",
              "      <th>Age</th>\n",
              "      <th>Gender</th>\n",
              "      <th>Education Level</th>\n",
              "      <th>Job Title</th>\n",
              "      <th>Years of Experience</th>\n",
              "      <th>Salary</th>\n",
              "    </tr>\n",
              "  </thead>\n",
              "  <tbody>\n",
              "    <tr>\n",
              "      <th>0</th>\n",
              "      <td>32.0</td>\n",
              "      <td>Male</td>\n",
              "      <td>Bachelor's</td>\n",
              "      <td>Software Engineer</td>\n",
              "      <td>5.0</td>\n",
              "      <td>90000.0</td>\n",
              "    </tr>\n",
              "    <tr>\n",
              "      <th>1</th>\n",
              "      <td>28.0</td>\n",
              "      <td>Female</td>\n",
              "      <td>Master's</td>\n",
              "      <td>Data Analyst</td>\n",
              "      <td>3.0</td>\n",
              "      <td>65000.0</td>\n",
              "    </tr>\n",
              "    <tr>\n",
              "      <th>2</th>\n",
              "      <td>45.0</td>\n",
              "      <td>Male</td>\n",
              "      <td>PhD</td>\n",
              "      <td>Senior Manager</td>\n",
              "      <td>15.0</td>\n",
              "      <td>150000.0</td>\n",
              "    </tr>\n",
              "    <tr>\n",
              "      <th>3</th>\n",
              "      <td>36.0</td>\n",
              "      <td>Female</td>\n",
              "      <td>Bachelor's</td>\n",
              "      <td>Sales Associate</td>\n",
              "      <td>7.0</td>\n",
              "      <td>60000.0</td>\n",
              "    </tr>\n",
              "    <tr>\n",
              "      <th>4</th>\n",
              "      <td>52.0</td>\n",
              "      <td>Male</td>\n",
              "      <td>Master's</td>\n",
              "      <td>Director</td>\n",
              "      <td>20.0</td>\n",
              "      <td>200000.0</td>\n",
              "    </tr>\n",
              "  </tbody>\n",
              "</table>\n",
              "</div>"
            ],
            "text/plain": [
              "    Age  Gender Education Level          Job Title  Years of Experience  \\\n",
              "0  32.0    Male      Bachelor's  Software Engineer                  5.0   \n",
              "1  28.0  Female        Master's       Data Analyst                  3.0   \n",
              "2  45.0    Male             PhD     Senior Manager                 15.0   \n",
              "3  36.0  Female      Bachelor's    Sales Associate                  7.0   \n",
              "4  52.0    Male        Master's           Director                 20.0   \n",
              "\n",
              "     Salary  \n",
              "0   90000.0  \n",
              "1   65000.0  \n",
              "2  150000.0  \n",
              "3   60000.0  \n",
              "4  200000.0  "
            ]
          },
          "execution_count": 31,
          "metadata": {},
          "output_type": "execute_result"
        }
      ],
      "source": [
        "data.iloc[0:5]# iloc is exclusiove of the last index"
      ]
    },
    {
      "cell_type": "code",
      "execution_count": null,
      "id": "d95d0488-59d9-4607-87aa-92cf5f4c407d",
      "metadata": {
        "collapsed": true,
        "jupyter": {
          "outputs_hidden": true
        },
        "id": "d95d0488-59d9-4607-87aa-92cf5f4c407d",
        "outputId": "686482f8-bb47-43a6-ef22-f828a8e3747c"
      },
      "outputs": [
        {
          "data": {
            "text/html": [
              "<div>\n",
              "<style scoped>\n",
              "    .dataframe tbody tr th:only-of-type {\n",
              "        vertical-align: middle;\n",
              "    }\n",
              "\n",
              "    .dataframe tbody tr th {\n",
              "        vertical-align: top;\n",
              "    }\n",
              "\n",
              "    .dataframe thead th {\n",
              "        text-align: right;\n",
              "    }\n",
              "</style>\n",
              "<table border=\"1\" class=\"dataframe\">\n",
              "  <thead>\n",
              "    <tr style=\"text-align: right;\">\n",
              "      <th></th>\n",
              "      <th>Age</th>\n",
              "      <th>Gender</th>\n",
              "    </tr>\n",
              "  </thead>\n",
              "  <tbody>\n",
              "    <tr>\n",
              "      <th>0</th>\n",
              "      <td>32.0</td>\n",
              "      <td>Male</td>\n",
              "    </tr>\n",
              "    <tr>\n",
              "      <th>1</th>\n",
              "      <td>28.0</td>\n",
              "      <td>Female</td>\n",
              "    </tr>\n",
              "    <tr>\n",
              "      <th>2</th>\n",
              "      <td>45.0</td>\n",
              "      <td>Male</td>\n",
              "    </tr>\n",
              "    <tr>\n",
              "      <th>3</th>\n",
              "      <td>36.0</td>\n",
              "      <td>Female</td>\n",
              "    </tr>\n",
              "    <tr>\n",
              "      <th>4</th>\n",
              "      <td>52.0</td>\n",
              "      <td>Male</td>\n",
              "    </tr>\n",
              "    <tr>\n",
              "      <th>...</th>\n",
              "      <td>...</td>\n",
              "      <td>...</td>\n",
              "    </tr>\n",
              "    <tr>\n",
              "      <th>6699</th>\n",
              "      <td>49.0</td>\n",
              "      <td>Female</td>\n",
              "    </tr>\n",
              "    <tr>\n",
              "      <th>6700</th>\n",
              "      <td>32.0</td>\n",
              "      <td>Male</td>\n",
              "    </tr>\n",
              "    <tr>\n",
              "      <th>6701</th>\n",
              "      <td>30.0</td>\n",
              "      <td>Female</td>\n",
              "    </tr>\n",
              "    <tr>\n",
              "      <th>6702</th>\n",
              "      <td>46.0</td>\n",
              "      <td>Male</td>\n",
              "    </tr>\n",
              "    <tr>\n",
              "      <th>6703</th>\n",
              "      <td>26.0</td>\n",
              "      <td>Female</td>\n",
              "    </tr>\n",
              "  </tbody>\n",
              "</table>\n",
              "<p>6704 rows × 2 columns</p>\n",
              "</div>"
            ],
            "text/plain": [
              "       Age  Gender\n",
              "0     32.0    Male\n",
              "1     28.0  Female\n",
              "2     45.0    Male\n",
              "3     36.0  Female\n",
              "4     52.0    Male\n",
              "...    ...     ...\n",
              "6699  49.0  Female\n",
              "6700  32.0    Male\n",
              "6701  30.0  Female\n",
              "6702  46.0    Male\n",
              "6703  26.0  Female\n",
              "\n",
              "[6704 rows x 2 columns]"
            ]
          },
          "execution_count": 32,
          "metadata": {},
          "output_type": "execute_result"
        }
      ],
      "source": [
        "data[['Age','Gender']]# 2 square bracket indicate it is extracting data as dataframe rather than the Series"
      ]
    },
    {
      "cell_type": "markdown",
      "id": "12e4d54b-d828-4311-a3dd-2e9a8c5cc091",
      "metadata": {
        "id": "12e4d54b-d828-4311-a3dd-2e9a8c5cc091"
      },
      "source": [
        "Numerical=>float, integer\n",
        "text=>Catagerical(object)"
      ]
    },
    {
      "cell_type": "code",
      "execution_count": null,
      "id": "ec39a27f-f99c-49bf-8ef4-d9524f323924",
      "metadata": {
        "collapsed": true,
        "jupyter": {
          "outputs_hidden": true
        },
        "id": "ec39a27f-f99c-49bf-8ef4-d9524f323924",
        "outputId": "521135ce-b184-4683-de1a-30449927e403"
      },
      "outputs": [
        {
          "name": "stdout",
          "output_type": "stream",
          "text": [
            "<class 'pandas.core.frame.DataFrame'>\n",
            "RangeIndex: 6704 entries, 0 to 6703\n",
            "Data columns (total 6 columns):\n",
            " #   Column               Non-Null Count  Dtype  \n",
            "---  ------               --------------  -----  \n",
            " 0   Age                  6702 non-null   float64\n",
            " 1   Gender               6702 non-null   object \n",
            " 2   Education Level      6701 non-null   object \n",
            " 3   Job Title            6702 non-null   object \n",
            " 4   Years of Experience  6701 non-null   float64\n",
            " 5   Salary               6699 non-null   float64\n",
            "dtypes: float64(3), object(3)\n",
            "memory usage: 314.4+ KB\n"
          ]
        }
      ],
      "source": [
        "data.info()# to find the datatype of the column"
      ]
    },
    {
      "cell_type": "code",
      "execution_count": null,
      "id": "7fbd909e-d8cc-467d-800b-539be274ab50",
      "metadata": {
        "id": "7fbd909e-d8cc-467d-800b-539be274ab50",
        "outputId": "e3fff69e-fb28-4098-db7f-ad7800c80398"
      },
      "outputs": [
        {
          "data": {
            "text/html": [
              "<div>\n",
              "<style scoped>\n",
              "    .dataframe tbody tr th:only-of-type {\n",
              "        vertical-align: middle;\n",
              "    }\n",
              "\n",
              "    .dataframe tbody tr th {\n",
              "        vertical-align: top;\n",
              "    }\n",
              "\n",
              "    .dataframe thead th {\n",
              "        text-align: right;\n",
              "    }\n",
              "</style>\n",
              "<table border=\"1\" class=\"dataframe\">\n",
              "  <thead>\n",
              "    <tr style=\"text-align: right;\">\n",
              "      <th></th>\n",
              "      <th>Age</th>\n",
              "      <th>Years of Experience</th>\n",
              "      <th>Salary</th>\n",
              "    </tr>\n",
              "  </thead>\n",
              "  <tbody>\n",
              "    <tr>\n",
              "      <th>count</th>\n",
              "      <td>6702.000000</td>\n",
              "      <td>6701.000000</td>\n",
              "      <td>6699.000000</td>\n",
              "    </tr>\n",
              "    <tr>\n",
              "      <th>mean</th>\n",
              "      <td>33.620859</td>\n",
              "      <td>8.094687</td>\n",
              "      <td>115326.964771</td>\n",
              "    </tr>\n",
              "    <tr>\n",
              "      <th>std</th>\n",
              "      <td>7.614633</td>\n",
              "      <td>6.059003</td>\n",
              "      <td>52786.183911</td>\n",
              "    </tr>\n",
              "    <tr>\n",
              "      <th>min</th>\n",
              "      <td>21.000000</td>\n",
              "      <td>0.000000</td>\n",
              "      <td>350.000000</td>\n",
              "    </tr>\n",
              "    <tr>\n",
              "      <th>25%</th>\n",
              "      <td>28.000000</td>\n",
              "      <td>3.000000</td>\n",
              "      <td>70000.000000</td>\n",
              "    </tr>\n",
              "    <tr>\n",
              "      <th>50%</th>\n",
              "      <td>32.000000</td>\n",
              "      <td>7.000000</td>\n",
              "      <td>115000.000000</td>\n",
              "    </tr>\n",
              "    <tr>\n",
              "      <th>75%</th>\n",
              "      <td>38.000000</td>\n",
              "      <td>12.000000</td>\n",
              "      <td>160000.000000</td>\n",
              "    </tr>\n",
              "    <tr>\n",
              "      <th>max</th>\n",
              "      <td>62.000000</td>\n",
              "      <td>34.000000</td>\n",
              "      <td>250000.000000</td>\n",
              "    </tr>\n",
              "  </tbody>\n",
              "</table>\n",
              "</div>"
            ],
            "text/plain": [
              "               Age  Years of Experience         Salary\n",
              "count  6702.000000          6701.000000    6699.000000\n",
              "mean     33.620859             8.094687  115326.964771\n",
              "std       7.614633             6.059003   52786.183911\n",
              "min      21.000000             0.000000     350.000000\n",
              "25%      28.000000             3.000000   70000.000000\n",
              "50%      32.000000             7.000000  115000.000000\n",
              "75%      38.000000            12.000000  160000.000000\n",
              "max      62.000000            34.000000  250000.000000"
            ]
          },
          "execution_count": 34,
          "metadata": {},
          "output_type": "execute_result"
        }
      ],
      "source": [
        "data.describe()# it describes the whole summary and overview =>mean, median, sd,count,quartiles"
      ]
    },
    {
      "cell_type": "markdown",
      "id": "478776c1-9cdb-4a35-992c-ca7faaabb185",
      "metadata": {
        "id": "478776c1-9cdb-4a35-992c-ca7faaabb185"
      },
      "source": [
        "Assignment"
      ]
    },
    {
      "cell_type": "code",
      "execution_count": null,
      "id": "a34ff853-9c12-45f5-815c-d6c409a084de",
      "metadata": {
        "id": "a34ff853-9c12-45f5-815c-d6c409a084de",
        "outputId": "beaccb92-1a31-47eb-da36-02669e15158b"
      },
      "outputs": [
        {
          "name": "stdout",
          "output_type": "stream",
          "text": [
            "     PassengerId  Pclass                                          Name  \\\n",
            "0            892       3                              Kelly, Mr. James   \n",
            "1            893       3              Wilkes, Mrs. James (Ellen Needs)   \n",
            "2            894       2                     Myles, Mr. Thomas Francis   \n",
            "3            895       3                              Wirz, Mr. Albert   \n",
            "4            896       3  Hirvonen, Mrs. Alexander (Helga E Lindqvist)   \n",
            "..           ...     ...                                           ...   \n",
            "413         1305       3                            Spector, Mr. Woolf   \n",
            "414         1306       1                  Oliva y Ocana, Dona. Fermina   \n",
            "415         1307       3                  Saether, Mr. Simon Sivertsen   \n",
            "416         1308       3                           Ware, Mr. Frederick   \n",
            "417         1309       3                      Peter, Master. Michael J   \n",
            "\n",
            "        Sex   Age  SibSp  Parch              Ticket      Fare Cabin Embarked  \n",
            "0      male  34.5      0      0              330911    7.8292   NaN        Q  \n",
            "1    female  47.0      1      0              363272    7.0000   NaN        S  \n",
            "2      male  62.0      0      0              240276    9.6875   NaN        Q  \n",
            "3      male  27.0      0      0              315154    8.6625   NaN        S  \n",
            "4    female  22.0      1      1             3101298   12.2875   NaN        S  \n",
            "..      ...   ...    ...    ...                 ...       ...   ...      ...  \n",
            "413    male   NaN      0      0           A.5. 3236    8.0500   NaN        S  \n",
            "414  female  39.0      0      0            PC 17758  108.9000  C105        C  \n",
            "415    male  38.5      0      0  SOTON/O.Q. 3101262    7.2500   NaN        S  \n",
            "416    male   NaN      0      0              359309    8.0500   NaN        S  \n",
            "417    male   NaN      1      1                2668   22.3583   NaN        C  \n",
            "\n",
            "[418 rows x 11 columns]\n"
          ]
        }
      ],
      "source": [
        "import pandas as pd\n",
        "data =pd.read_csv(\"test.csv\")# importing the tatinic.csv file from the kaggle\n",
        "print(data)"
      ]
    },
    {
      "cell_type": "code",
      "execution_count": null,
      "id": "113cb94b-f15c-4f7a-b7b2-d46a6bf08539",
      "metadata": {
        "id": "113cb94b-f15c-4f7a-b7b2-d46a6bf08539",
        "outputId": "ff5be7a3-d4e8-47a4-ecef-48e330f62abe"
      },
      "outputs": [
        {
          "data": {
            "text/html": [
              "<div>\n",
              "<style scoped>\n",
              "    .dataframe tbody tr th:only-of-type {\n",
              "        vertical-align: middle;\n",
              "    }\n",
              "\n",
              "    .dataframe tbody tr th {\n",
              "        vertical-align: top;\n",
              "    }\n",
              "\n",
              "    .dataframe thead th {\n",
              "        text-align: right;\n",
              "    }\n",
              "</style>\n",
              "<table border=\"1\" class=\"dataframe\">\n",
              "  <thead>\n",
              "    <tr style=\"text-align: right;\">\n",
              "      <th></th>\n",
              "      <th>PassengerId</th>\n",
              "      <th>Pclass</th>\n",
              "      <th>Name</th>\n",
              "      <th>Sex</th>\n",
              "      <th>Age</th>\n",
              "      <th>SibSp</th>\n",
              "      <th>Parch</th>\n",
              "      <th>Ticket</th>\n",
              "      <th>Fare</th>\n",
              "      <th>Cabin</th>\n",
              "      <th>Embarked</th>\n",
              "    </tr>\n",
              "  </thead>\n",
              "  <tbody>\n",
              "    <tr>\n",
              "      <th>0</th>\n",
              "      <td>892</td>\n",
              "      <td>3</td>\n",
              "      <td>Kelly, Mr. James</td>\n",
              "      <td>male</td>\n",
              "      <td>34.5</td>\n",
              "      <td>0</td>\n",
              "      <td>0</td>\n",
              "      <td>330911</td>\n",
              "      <td>7.8292</td>\n",
              "      <td>NaN</td>\n",
              "      <td>Q</td>\n",
              "    </tr>\n",
              "    <tr>\n",
              "      <th>1</th>\n",
              "      <td>893</td>\n",
              "      <td>3</td>\n",
              "      <td>Wilkes, Mrs. James (Ellen Needs)</td>\n",
              "      <td>female</td>\n",
              "      <td>47.0</td>\n",
              "      <td>1</td>\n",
              "      <td>0</td>\n",
              "      <td>363272</td>\n",
              "      <td>7.0000</td>\n",
              "      <td>NaN</td>\n",
              "      <td>S</td>\n",
              "    </tr>\n",
              "    <tr>\n",
              "      <th>2</th>\n",
              "      <td>894</td>\n",
              "      <td>2</td>\n",
              "      <td>Myles, Mr. Thomas Francis</td>\n",
              "      <td>male</td>\n",
              "      <td>62.0</td>\n",
              "      <td>0</td>\n",
              "      <td>0</td>\n",
              "      <td>240276</td>\n",
              "      <td>9.6875</td>\n",
              "      <td>NaN</td>\n",
              "      <td>Q</td>\n",
              "    </tr>\n",
              "    <tr>\n",
              "      <th>3</th>\n",
              "      <td>895</td>\n",
              "      <td>3</td>\n",
              "      <td>Wirz, Mr. Albert</td>\n",
              "      <td>male</td>\n",
              "      <td>27.0</td>\n",
              "      <td>0</td>\n",
              "      <td>0</td>\n",
              "      <td>315154</td>\n",
              "      <td>8.6625</td>\n",
              "      <td>NaN</td>\n",
              "      <td>S</td>\n",
              "    </tr>\n",
              "    <tr>\n",
              "      <th>4</th>\n",
              "      <td>896</td>\n",
              "      <td>3</td>\n",
              "      <td>Hirvonen, Mrs. Alexander (Helga E Lindqvist)</td>\n",
              "      <td>female</td>\n",
              "      <td>22.0</td>\n",
              "      <td>1</td>\n",
              "      <td>1</td>\n",
              "      <td>3101298</td>\n",
              "      <td>12.2875</td>\n",
              "      <td>NaN</td>\n",
              "      <td>S</td>\n",
              "    </tr>\n",
              "    <tr>\n",
              "      <th>5</th>\n",
              "      <td>897</td>\n",
              "      <td>3</td>\n",
              "      <td>Svensson, Mr. Johan Cervin</td>\n",
              "      <td>male</td>\n",
              "      <td>14.0</td>\n",
              "      <td>0</td>\n",
              "      <td>0</td>\n",
              "      <td>7538</td>\n",
              "      <td>9.2250</td>\n",
              "      <td>NaN</td>\n",
              "      <td>S</td>\n",
              "    </tr>\n",
              "    <tr>\n",
              "      <th>6</th>\n",
              "      <td>898</td>\n",
              "      <td>3</td>\n",
              "      <td>Connolly, Miss. Kate</td>\n",
              "      <td>female</td>\n",
              "      <td>30.0</td>\n",
              "      <td>0</td>\n",
              "      <td>0</td>\n",
              "      <td>330972</td>\n",
              "      <td>7.6292</td>\n",
              "      <td>NaN</td>\n",
              "      <td>Q</td>\n",
              "    </tr>\n",
              "    <tr>\n",
              "      <th>7</th>\n",
              "      <td>899</td>\n",
              "      <td>2</td>\n",
              "      <td>Caldwell, Mr. Albert Francis</td>\n",
              "      <td>male</td>\n",
              "      <td>26.0</td>\n",
              "      <td>1</td>\n",
              "      <td>1</td>\n",
              "      <td>248738</td>\n",
              "      <td>29.0000</td>\n",
              "      <td>NaN</td>\n",
              "      <td>S</td>\n",
              "    </tr>\n",
              "    <tr>\n",
              "      <th>8</th>\n",
              "      <td>900</td>\n",
              "      <td>3</td>\n",
              "      <td>Abrahim, Mrs. Joseph (Sophie Halaut Easu)</td>\n",
              "      <td>female</td>\n",
              "      <td>18.0</td>\n",
              "      <td>0</td>\n",
              "      <td>0</td>\n",
              "      <td>2657</td>\n",
              "      <td>7.2292</td>\n",
              "      <td>NaN</td>\n",
              "      <td>C</td>\n",
              "    </tr>\n",
              "    <tr>\n",
              "      <th>9</th>\n",
              "      <td>901</td>\n",
              "      <td>3</td>\n",
              "      <td>Davies, Mr. John Samuel</td>\n",
              "      <td>male</td>\n",
              "      <td>21.0</td>\n",
              "      <td>2</td>\n",
              "      <td>0</td>\n",
              "      <td>A/4 48871</td>\n",
              "      <td>24.1500</td>\n",
              "      <td>NaN</td>\n",
              "      <td>S</td>\n",
              "    </tr>\n",
              "    <tr>\n",
              "      <th>10</th>\n",
              "      <td>902</td>\n",
              "      <td>3</td>\n",
              "      <td>Ilieff, Mr. Ylio</td>\n",
              "      <td>male</td>\n",
              "      <td>NaN</td>\n",
              "      <td>0</td>\n",
              "      <td>0</td>\n",
              "      <td>349220</td>\n",
              "      <td>7.8958</td>\n",
              "      <td>NaN</td>\n",
              "      <td>S</td>\n",
              "    </tr>\n",
              "    <tr>\n",
              "      <th>11</th>\n",
              "      <td>903</td>\n",
              "      <td>1</td>\n",
              "      <td>Jones, Mr. Charles Cresson</td>\n",
              "      <td>male</td>\n",
              "      <td>46.0</td>\n",
              "      <td>0</td>\n",
              "      <td>0</td>\n",
              "      <td>694</td>\n",
              "      <td>26.0000</td>\n",
              "      <td>NaN</td>\n",
              "      <td>S</td>\n",
              "    </tr>\n",
              "    <tr>\n",
              "      <th>12</th>\n",
              "      <td>904</td>\n",
              "      <td>1</td>\n",
              "      <td>Snyder, Mrs. John Pillsbury (Nelle Stevenson)</td>\n",
              "      <td>female</td>\n",
              "      <td>23.0</td>\n",
              "      <td>1</td>\n",
              "      <td>0</td>\n",
              "      <td>21228</td>\n",
              "      <td>82.2667</td>\n",
              "      <td>B45</td>\n",
              "      <td>S</td>\n",
              "    </tr>\n",
              "    <tr>\n",
              "      <th>13</th>\n",
              "      <td>905</td>\n",
              "      <td>2</td>\n",
              "      <td>Howard, Mr. Benjamin</td>\n",
              "      <td>male</td>\n",
              "      <td>63.0</td>\n",
              "      <td>1</td>\n",
              "      <td>0</td>\n",
              "      <td>24065</td>\n",
              "      <td>26.0000</td>\n",
              "      <td>NaN</td>\n",
              "      <td>S</td>\n",
              "    </tr>\n",
              "    <tr>\n",
              "      <th>14</th>\n",
              "      <td>906</td>\n",
              "      <td>1</td>\n",
              "      <td>Chaffee, Mrs. Herbert Fuller (Carrie Constance...</td>\n",
              "      <td>female</td>\n",
              "      <td>47.0</td>\n",
              "      <td>1</td>\n",
              "      <td>0</td>\n",
              "      <td>W.E.P. 5734</td>\n",
              "      <td>61.1750</td>\n",
              "      <td>E31</td>\n",
              "      <td>S</td>\n",
              "    </tr>\n",
              "  </tbody>\n",
              "</table>\n",
              "</div>"
            ],
            "text/plain": [
              "    PassengerId  Pclass                                               Name  \\\n",
              "0           892       3                                   Kelly, Mr. James   \n",
              "1           893       3                   Wilkes, Mrs. James (Ellen Needs)   \n",
              "2           894       2                          Myles, Mr. Thomas Francis   \n",
              "3           895       3                                   Wirz, Mr. Albert   \n",
              "4           896       3       Hirvonen, Mrs. Alexander (Helga E Lindqvist)   \n",
              "5           897       3                         Svensson, Mr. Johan Cervin   \n",
              "6           898       3                               Connolly, Miss. Kate   \n",
              "7           899       2                       Caldwell, Mr. Albert Francis   \n",
              "8           900       3          Abrahim, Mrs. Joseph (Sophie Halaut Easu)   \n",
              "9           901       3                            Davies, Mr. John Samuel   \n",
              "10          902       3                                   Ilieff, Mr. Ylio   \n",
              "11          903       1                         Jones, Mr. Charles Cresson   \n",
              "12          904       1      Snyder, Mrs. John Pillsbury (Nelle Stevenson)   \n",
              "13          905       2                               Howard, Mr. Benjamin   \n",
              "14          906       1  Chaffee, Mrs. Herbert Fuller (Carrie Constance...   \n",
              "\n",
              "       Sex   Age  SibSp  Parch       Ticket     Fare Cabin Embarked  \n",
              "0     male  34.5      0      0       330911   7.8292   NaN        Q  \n",
              "1   female  47.0      1      0       363272   7.0000   NaN        S  \n",
              "2     male  62.0      0      0       240276   9.6875   NaN        Q  \n",
              "3     male  27.0      0      0       315154   8.6625   NaN        S  \n",
              "4   female  22.0      1      1      3101298  12.2875   NaN        S  \n",
              "5     male  14.0      0      0         7538   9.2250   NaN        S  \n",
              "6   female  30.0      0      0       330972   7.6292   NaN        Q  \n",
              "7     male  26.0      1      1       248738  29.0000   NaN        S  \n",
              "8   female  18.0      0      0         2657   7.2292   NaN        C  \n",
              "9     male  21.0      2      0    A/4 48871  24.1500   NaN        S  \n",
              "10    male   NaN      0      0       349220   7.8958   NaN        S  \n",
              "11    male  46.0      0      0          694  26.0000   NaN        S  \n",
              "12  female  23.0      1      0        21228  82.2667   B45        S  \n",
              "13    male  63.0      1      0        24065  26.0000   NaN        S  \n",
              "14  female  47.0      1      0  W.E.P. 5734  61.1750   E31        S  "
            ]
          },
          "execution_count": 7,
          "metadata": {},
          "output_type": "execute_result"
        }
      ],
      "source": [
        "data.head(15)# seeing the first 15 entries"
      ]
    },
    {
      "cell_type": "code",
      "execution_count": null,
      "id": "724f21ef-cca6-4c60-8634-74998e4a1930",
      "metadata": {
        "id": "724f21ef-cca6-4c60-8634-74998e4a1930",
        "outputId": "8c5d64b1-1f7e-4236-f8f6-d0ecb377c36c"
      },
      "outputs": [
        {
          "data": {
            "text/html": [
              "<div>\n",
              "<style scoped>\n",
              "    .dataframe tbody tr th:only-of-type {\n",
              "        vertical-align: middle;\n",
              "    }\n",
              "\n",
              "    .dataframe tbody tr th {\n",
              "        vertical-align: top;\n",
              "    }\n",
              "\n",
              "    .dataframe thead th {\n",
              "        text-align: right;\n",
              "    }\n",
              "</style>\n",
              "<table border=\"1\" class=\"dataframe\">\n",
              "  <thead>\n",
              "    <tr style=\"text-align: right;\">\n",
              "      <th></th>\n",
              "      <th>PassengerId</th>\n",
              "      <th>Pclass</th>\n",
              "      <th>Name</th>\n",
              "      <th>Sex</th>\n",
              "      <th>Age</th>\n",
              "      <th>SibSp</th>\n",
              "      <th>Parch</th>\n",
              "      <th>Ticket</th>\n",
              "      <th>Fare</th>\n",
              "      <th>Cabin</th>\n",
              "      <th>Embarked</th>\n",
              "    </tr>\n",
              "  </thead>\n",
              "  <tbody>\n",
              "    <tr>\n",
              "      <th>408</th>\n",
              "      <td>1300</td>\n",
              "      <td>3</td>\n",
              "      <td>Riordan, Miss. Johanna Hannah\"\"</td>\n",
              "      <td>female</td>\n",
              "      <td>NaN</td>\n",
              "      <td>0</td>\n",
              "      <td>0</td>\n",
              "      <td>334915</td>\n",
              "      <td>7.7208</td>\n",
              "      <td>NaN</td>\n",
              "      <td>Q</td>\n",
              "    </tr>\n",
              "    <tr>\n",
              "      <th>409</th>\n",
              "      <td>1301</td>\n",
              "      <td>3</td>\n",
              "      <td>Peacock, Miss. Treasteall</td>\n",
              "      <td>female</td>\n",
              "      <td>3.0</td>\n",
              "      <td>1</td>\n",
              "      <td>1</td>\n",
              "      <td>SOTON/O.Q. 3101315</td>\n",
              "      <td>13.7750</td>\n",
              "      <td>NaN</td>\n",
              "      <td>S</td>\n",
              "    </tr>\n",
              "    <tr>\n",
              "      <th>410</th>\n",
              "      <td>1302</td>\n",
              "      <td>3</td>\n",
              "      <td>Naughton, Miss. Hannah</td>\n",
              "      <td>female</td>\n",
              "      <td>NaN</td>\n",
              "      <td>0</td>\n",
              "      <td>0</td>\n",
              "      <td>365237</td>\n",
              "      <td>7.7500</td>\n",
              "      <td>NaN</td>\n",
              "      <td>Q</td>\n",
              "    </tr>\n",
              "    <tr>\n",
              "      <th>411</th>\n",
              "      <td>1303</td>\n",
              "      <td>1</td>\n",
              "      <td>Minahan, Mrs. William Edward (Lillian E Thorpe)</td>\n",
              "      <td>female</td>\n",
              "      <td>37.0</td>\n",
              "      <td>1</td>\n",
              "      <td>0</td>\n",
              "      <td>19928</td>\n",
              "      <td>90.0000</td>\n",
              "      <td>C78</td>\n",
              "      <td>Q</td>\n",
              "    </tr>\n",
              "    <tr>\n",
              "      <th>412</th>\n",
              "      <td>1304</td>\n",
              "      <td>3</td>\n",
              "      <td>Henriksson, Miss. Jenny Lovisa</td>\n",
              "      <td>female</td>\n",
              "      <td>28.0</td>\n",
              "      <td>0</td>\n",
              "      <td>0</td>\n",
              "      <td>347086</td>\n",
              "      <td>7.7750</td>\n",
              "      <td>NaN</td>\n",
              "      <td>S</td>\n",
              "    </tr>\n",
              "    <tr>\n",
              "      <th>413</th>\n",
              "      <td>1305</td>\n",
              "      <td>3</td>\n",
              "      <td>Spector, Mr. Woolf</td>\n",
              "      <td>male</td>\n",
              "      <td>NaN</td>\n",
              "      <td>0</td>\n",
              "      <td>0</td>\n",
              "      <td>A.5. 3236</td>\n",
              "      <td>8.0500</td>\n",
              "      <td>NaN</td>\n",
              "      <td>S</td>\n",
              "    </tr>\n",
              "    <tr>\n",
              "      <th>414</th>\n",
              "      <td>1306</td>\n",
              "      <td>1</td>\n",
              "      <td>Oliva y Ocana, Dona. Fermina</td>\n",
              "      <td>female</td>\n",
              "      <td>39.0</td>\n",
              "      <td>0</td>\n",
              "      <td>0</td>\n",
              "      <td>PC 17758</td>\n",
              "      <td>108.9000</td>\n",
              "      <td>C105</td>\n",
              "      <td>C</td>\n",
              "    </tr>\n",
              "    <tr>\n",
              "      <th>415</th>\n",
              "      <td>1307</td>\n",
              "      <td>3</td>\n",
              "      <td>Saether, Mr. Simon Sivertsen</td>\n",
              "      <td>male</td>\n",
              "      <td>38.5</td>\n",
              "      <td>0</td>\n",
              "      <td>0</td>\n",
              "      <td>SOTON/O.Q. 3101262</td>\n",
              "      <td>7.2500</td>\n",
              "      <td>NaN</td>\n",
              "      <td>S</td>\n",
              "    </tr>\n",
              "    <tr>\n",
              "      <th>416</th>\n",
              "      <td>1308</td>\n",
              "      <td>3</td>\n",
              "      <td>Ware, Mr. Frederick</td>\n",
              "      <td>male</td>\n",
              "      <td>NaN</td>\n",
              "      <td>0</td>\n",
              "      <td>0</td>\n",
              "      <td>359309</td>\n",
              "      <td>8.0500</td>\n",
              "      <td>NaN</td>\n",
              "      <td>S</td>\n",
              "    </tr>\n",
              "    <tr>\n",
              "      <th>417</th>\n",
              "      <td>1309</td>\n",
              "      <td>3</td>\n",
              "      <td>Peter, Master. Michael J</td>\n",
              "      <td>male</td>\n",
              "      <td>NaN</td>\n",
              "      <td>1</td>\n",
              "      <td>1</td>\n",
              "      <td>2668</td>\n",
              "      <td>22.3583</td>\n",
              "      <td>NaN</td>\n",
              "      <td>C</td>\n",
              "    </tr>\n",
              "  </tbody>\n",
              "</table>\n",
              "</div>"
            ],
            "text/plain": [
              "     PassengerId  Pclass                                             Name  \\\n",
              "408         1300       3                  Riordan, Miss. Johanna Hannah\"\"   \n",
              "409         1301       3                        Peacock, Miss. Treasteall   \n",
              "410         1302       3                           Naughton, Miss. Hannah   \n",
              "411         1303       1  Minahan, Mrs. William Edward (Lillian E Thorpe)   \n",
              "412         1304       3                   Henriksson, Miss. Jenny Lovisa   \n",
              "413         1305       3                               Spector, Mr. Woolf   \n",
              "414         1306       1                     Oliva y Ocana, Dona. Fermina   \n",
              "415         1307       3                     Saether, Mr. Simon Sivertsen   \n",
              "416         1308       3                              Ware, Mr. Frederick   \n",
              "417         1309       3                         Peter, Master. Michael J   \n",
              "\n",
              "        Sex   Age  SibSp  Parch              Ticket      Fare Cabin Embarked  \n",
              "408  female   NaN      0      0              334915    7.7208   NaN        Q  \n",
              "409  female   3.0      1      1  SOTON/O.Q. 3101315   13.7750   NaN        S  \n",
              "410  female   NaN      0      0              365237    7.7500   NaN        Q  \n",
              "411  female  37.0      1      0               19928   90.0000   C78        Q  \n",
              "412  female  28.0      0      0              347086    7.7750   NaN        S  \n",
              "413    male   NaN      0      0           A.5. 3236    8.0500   NaN        S  \n",
              "414  female  39.0      0      0            PC 17758  108.9000  C105        C  \n",
              "415    male  38.5      0      0  SOTON/O.Q. 3101262    7.2500   NaN        S  \n",
              "416    male   NaN      0      0              359309    8.0500   NaN        S  \n",
              "417    male   NaN      1      1                2668   22.3583   NaN        C  "
            ]
          },
          "execution_count": 8,
          "metadata": {},
          "output_type": "execute_result"
        }
      ],
      "source": [
        "data.tail(10)# seeing the last 10 entries from the given table\n",
        "\n"
      ]
    },
    {
      "cell_type": "code",
      "execution_count": null,
      "id": "6ed8417d-08a9-478f-817d-59c6a0f03f0c",
      "metadata": {
        "id": "6ed8417d-08a9-478f-817d-59c6a0f03f0c",
        "outputId": "eafad6ae-773c-48aa-9206-afffc2a14ee9"
      },
      "outputs": [
        {
          "data": {
            "text/plain": [
              "(418, 11)"
            ]
          },
          "execution_count": 9,
          "metadata": {},
          "output_type": "execute_result"
        }
      ],
      "source": [
        "data.shape# to see the total number od the rows and column"
      ]
    },
    {
      "cell_type": "code",
      "execution_count": null,
      "id": "6510d317-f92f-4e5e-8971-292a67eee517",
      "metadata": {
        "id": "6510d317-f92f-4e5e-8971-292a67eee517",
        "outputId": "037defb2-bbc6-4f55-86d8-a56c0f885346"
      },
      "outputs": [
        {
          "name": "stdout",
          "output_type": "stream",
          "text": [
            "418\n"
          ]
        }
      ],
      "source": [
        "print(data.shape[0])# to find the number of the rows or the total no of observation"
      ]
    },
    {
      "cell_type": "code",
      "execution_count": null,
      "id": "670d952f-2ed1-4463-9343-22626304c019",
      "metadata": {
        "id": "670d952f-2ed1-4463-9343-22626304c019",
        "outputId": "583a019e-ab9b-4284-e56c-5bcc3f2bef4c"
      },
      "outputs": [
        {
          "data": {
            "text/plain": [
              "Index(['PassengerId', 'Pclass', 'Name', 'Sex', 'Age', 'SibSp', 'Parch',\n",
              "       'Ticket', 'Fare', 'Cabin', 'Embarked'],\n",
              "      dtype='object')"
            ]
          },
          "execution_count": 10,
          "metadata": {},
          "output_type": "execute_result"
        }
      ],
      "source": [
        "data.columns# printing the name of all the columns"
      ]
    },
    {
      "cell_type": "code",
      "execution_count": null,
      "id": "c081356e-62a7-472b-a610-30b1f7af25ba",
      "metadata": {
        "id": "c081356e-62a7-472b-a610-30b1f7af25ba",
        "outputId": "1c54e5aa-3e11-48fb-edcc-c40998f4da51"
      },
      "outputs": [
        {
          "name": "stdout",
          "output_type": "stream",
          "text": [
            "11\n"
          ]
        }
      ],
      "source": [
        "print(data.shape[1])# to find the no of columns in the dataset"
      ]
    },
    {
      "cell_type": "code",
      "execution_count": null,
      "id": "74c1d62c-dd74-4469-8e8e-b45181742c53",
      "metadata": {
        "id": "74c1d62c-dd74-4469-8e8e-b45181742c53",
        "outputId": "0922e22a-c4cd-452c-a53c-de740aadab2b"
      },
      "outputs": [
        {
          "name": "stdout",
          "output_type": "stream",
          "text": [
            "0      3\n",
            "1      3\n",
            "2      2\n",
            "3      3\n",
            "4      3\n",
            "      ..\n",
            "413    3\n",
            "414    1\n",
            "415    3\n",
            "416    3\n",
            "417    3\n",
            "Name: Pclass, Length: 418, dtype: int64\n"
          ]
        }
      ],
      "source": [
        "print(data['Pclass'])# to print only the p class column\n"
      ]
    },
    {
      "cell_type": "code",
      "execution_count": null,
      "id": "c0a2ebe8-7cd8-4879-a928-5a5844be596b",
      "metadata": {
        "id": "c0a2ebe8-7cd8-4879-a928-5a5844be596b",
        "outputId": "07fe91fe-18be-469d-c87c-678a528b7aff"
      },
      "outputs": [
        {
          "name": "stdout",
          "output_type": "stream",
          "text": [
            "[3 2 1]\n"
          ]
        }
      ],
      "source": [
        "print(data['Pclass'].unique())# to find the different values in the p class"
      ]
    },
    {
      "cell_type": "code",
      "execution_count": null,
      "id": "cab932cb-a2e6-4e05-832d-4f095adaa9d5",
      "metadata": {
        "id": "cab932cb-a2e6-4e05-832d-4f095adaa9d5",
        "outputId": "faad6eab-d737-44ff-a972-66207ed23b53"
      },
      "outputs": [
        {
          "name": "stdout",
          "output_type": "stream",
          "text": [
            "Pclass\n",
            "3    218\n",
            "1    107\n",
            "2     93\n",
            "Name: count, dtype: int64\n"
          ]
        }
      ],
      "source": [
        "print(data['Pclass'].value_counts())# to find the different values in the p class\n"
      ]
    },
    {
      "cell_type": "code",
      "execution_count": null,
      "id": "e7da85d6-eb77-4964-bd96-a5602735ea8b",
      "metadata": {
        "id": "e7da85d6-eb77-4964-bd96-a5602735ea8b",
        "outputId": "f7c22d28-22bc-42ff-be63-2b1d9c54bfd3"
      },
      "outputs": [
        {
          "name": "stdout",
          "output_type": "stream",
          "text": [
            "3\n"
          ]
        }
      ],
      "source": [
        "print(data['Pclass'].nunique())# to find the no of different p class value like counting of the different value"
      ]
    },
    {
      "cell_type": "code",
      "execution_count": null,
      "id": "f124b5c9-b998-4162-bfeb-ee4f69fbf150",
      "metadata": {
        "id": "f124b5c9-b998-4162-bfeb-ee4f69fbf150",
        "outputId": "facbbc32-8f38-4835-cd67-ec3f9ff9419b"
      },
      "outputs": [
        {
          "name": "stdout",
          "output_type": "stream",
          "text": [
            "       PassengerId      Pclass         Age       SibSp       Parch        Fare\n",
            "count   418.000000  418.000000  332.000000  418.000000  418.000000  417.000000\n",
            "mean   1100.500000    2.265550   30.272590    0.447368    0.392344   35.627188\n",
            "std     120.810458    0.841838   14.181209    0.896760    0.981429   55.907576\n",
            "min     892.000000    1.000000    0.170000    0.000000    0.000000    0.000000\n",
            "25%     996.250000    1.000000   21.000000    0.000000    0.000000    7.895800\n",
            "50%    1100.500000    3.000000   27.000000    0.000000    0.000000   14.454200\n",
            "75%    1204.750000    3.000000   39.000000    1.000000    0.000000   31.500000\n",
            "max    1309.000000    3.000000   76.000000    8.000000    9.000000  512.329200\n"
          ]
        }
      ],
      "source": [
        "print(data.describe())# to describe the Whole Dataset"
      ]
    },
    {
      "cell_type": "code",
      "execution_count": null,
      "id": "4eb1823e-92b2-4101-824d-5805a02fa89b",
      "metadata": {
        "id": "4eb1823e-92b2-4101-824d-5805a02fa89b",
        "outputId": "a10e245a-b04e-47ac-b421-6373b093b0dd"
      },
      "outputs": [
        {
          "name": "stdout",
          "output_type": "stream",
          "text": [
            "count    332.000000\n",
            "mean      30.272590\n",
            "std       14.181209\n",
            "min        0.170000\n",
            "25%       21.000000\n",
            "50%       27.000000\n",
            "75%       39.000000\n",
            "max       76.000000\n",
            "Name: Age, dtype: float64\n"
          ]
        }
      ],
      "source": [
        "print(data['Age'].describe())# to describe the specified colum =>Age"
      ]
    },
    {
      "cell_type": "code",
      "execution_count": null,
      "id": "ef5a1806-5651-492b-888b-3381f456fb59",
      "metadata": {
        "id": "ef5a1806-5651-492b-888b-3381f456fb59",
        "outputId": "03db2e25-e580-44dc-e395-1418978d3bc4"
      },
      "outputs": [
        {
          "name": "stdout",
          "output_type": "stream",
          "text": [
            "30.272590361445783\n"
          ]
        }
      ],
      "source": [
        "print(data['Age'].mean())# to find the mean of the specified column =>Age"
      ]
    },
    {
      "cell_type": "markdown",
      "id": "4245681c-6485-4060-826a-054be76439cf",
      "metadata": {
        "id": "4245681c-6485-4060-826a-054be76439cf"
      },
      "source": [
        "# Exploratory Data Analysis (EDA)"
      ]
    },
    {
      "cell_type": "markdown",
      "id": "d3c0ce2a-8b63-4178-a73c-a94f40299de9",
      "metadata": {
        "id": "d3c0ce2a-8b63-4178-a73c-a94f40299de9"
      },
      "source": [
        "# Day 4 DataScience"
      ]
    },
    {
      "cell_type": "code",
      "execution_count": null,
      "id": "b1a94ec2-fd30-4b66-a915-3ae9be97a919",
      "metadata": {
        "id": "b1a94ec2-fd30-4b66-a915-3ae9be97a919",
        "outputId": "a0b60da8-c308-4c89-f6d2-8f5980d8320c"
      },
      "outputs": [
        {
          "data": {
            "text/html": [
              "<div>\n",
              "<style scoped>\n",
              "    .dataframe tbody tr th:only-of-type {\n",
              "        vertical-align: middle;\n",
              "    }\n",
              "\n",
              "    .dataframe tbody tr th {\n",
              "        vertical-align: top;\n",
              "    }\n",
              "\n",
              "    .dataframe thead th {\n",
              "        text-align: right;\n",
              "    }\n",
              "</style>\n",
              "<table border=\"1\" class=\"dataframe\">\n",
              "  <thead>\n",
              "    <tr style=\"text-align: right;\">\n",
              "      <th></th>\n",
              "      <th>PassengerId</th>\n",
              "      <th>Pclass</th>\n",
              "      <th>Name</th>\n",
              "      <th>Sex</th>\n",
              "      <th>Age</th>\n",
              "      <th>SibSp</th>\n",
              "      <th>Parch</th>\n",
              "      <th>Ticket</th>\n",
              "      <th>Fare</th>\n",
              "      <th>Cabin</th>\n",
              "      <th>Embarked</th>\n",
              "    </tr>\n",
              "  </thead>\n",
              "  <tbody>\n",
              "    <tr>\n",
              "      <th>5</th>\n",
              "      <td>897</td>\n",
              "      <td>3</td>\n",
              "      <td>Svensson, Mr. Johan Cervin</td>\n",
              "      <td>male</td>\n",
              "      <td>14.0</td>\n",
              "      <td>0</td>\n",
              "      <td>0</td>\n",
              "      <td>7538</td>\n",
              "      <td>9.2250</td>\n",
              "      <td>NaN</td>\n",
              "      <td>S</td>\n",
              "    </tr>\n",
              "    <tr>\n",
              "      <th>6</th>\n",
              "      <td>898</td>\n",
              "      <td>3</td>\n",
              "      <td>Connolly, Miss. Kate</td>\n",
              "      <td>female</td>\n",
              "      <td>30.0</td>\n",
              "      <td>0</td>\n",
              "      <td>0</td>\n",
              "      <td>330972</td>\n",
              "      <td>7.6292</td>\n",
              "      <td>NaN</td>\n",
              "      <td>Q</td>\n",
              "    </tr>\n",
              "    <tr>\n",
              "      <th>7</th>\n",
              "      <td>899</td>\n",
              "      <td>2</td>\n",
              "      <td>Caldwell, Mr. Albert Francis</td>\n",
              "      <td>male</td>\n",
              "      <td>26.0</td>\n",
              "      <td>1</td>\n",
              "      <td>1</td>\n",
              "      <td>248738</td>\n",
              "      <td>29.0000</td>\n",
              "      <td>NaN</td>\n",
              "      <td>S</td>\n",
              "    </tr>\n",
              "    <tr>\n",
              "      <th>8</th>\n",
              "      <td>900</td>\n",
              "      <td>3</td>\n",
              "      <td>Abrahim, Mrs. Joseph (Sophie Halaut Easu)</td>\n",
              "      <td>female</td>\n",
              "      <td>18.0</td>\n",
              "      <td>0</td>\n",
              "      <td>0</td>\n",
              "      <td>2657</td>\n",
              "      <td>7.2292</td>\n",
              "      <td>NaN</td>\n",
              "      <td>C</td>\n",
              "    </tr>\n",
              "    <tr>\n",
              "      <th>9</th>\n",
              "      <td>901</td>\n",
              "      <td>3</td>\n",
              "      <td>Davies, Mr. John Samuel</td>\n",
              "      <td>male</td>\n",
              "      <td>21.0</td>\n",
              "      <td>2</td>\n",
              "      <td>0</td>\n",
              "      <td>A/4 48871</td>\n",
              "      <td>24.1500</td>\n",
              "      <td>NaN</td>\n",
              "      <td>S</td>\n",
              "    </tr>\n",
              "    <tr>\n",
              "      <th>10</th>\n",
              "      <td>902</td>\n",
              "      <td>3</td>\n",
              "      <td>Ilieff, Mr. Ylio</td>\n",
              "      <td>male</td>\n",
              "      <td>NaN</td>\n",
              "      <td>0</td>\n",
              "      <td>0</td>\n",
              "      <td>349220</td>\n",
              "      <td>7.8958</td>\n",
              "      <td>NaN</td>\n",
              "      <td>S</td>\n",
              "    </tr>\n",
              "  </tbody>\n",
              "</table>\n",
              "</div>"
            ],
            "text/plain": [
              "    PassengerId  Pclass                                       Name     Sex  \\\n",
              "5           897       3                 Svensson, Mr. Johan Cervin    male   \n",
              "6           898       3                       Connolly, Miss. Kate  female   \n",
              "7           899       2               Caldwell, Mr. Albert Francis    male   \n",
              "8           900       3  Abrahim, Mrs. Joseph (Sophie Halaut Easu)  female   \n",
              "9           901       3                    Davies, Mr. John Samuel    male   \n",
              "10          902       3                           Ilieff, Mr. Ylio    male   \n",
              "\n",
              "     Age  SibSp  Parch     Ticket     Fare Cabin Embarked  \n",
              "5   14.0      0      0       7538   9.2250   NaN        S  \n",
              "6   30.0      0      0     330972   7.6292   NaN        Q  \n",
              "7   26.0      1      1     248738  29.0000   NaN        S  \n",
              "8   18.0      0      0       2657   7.2292   NaN        C  \n",
              "9   21.0      2      0  A/4 48871  24.1500   NaN        S  \n",
              "10   NaN      0      0     349220   7.8958   NaN        S  "
            ]
          },
          "execution_count": 7,
          "metadata": {},
          "output_type": "execute_result"
        }
      ],
      "source": [
        "data.loc[5:10]"
      ]
    },
    {
      "cell_type": "code",
      "execution_count": null,
      "id": "eaa22bf2-ed51-49e6-a143-55573c9520cb",
      "metadata": {
        "id": "eaa22bf2-ed51-49e6-a143-55573c9520cb",
        "outputId": "321a8973-52fb-48ac-f0ff-ba8428d178fa"
      },
      "outputs": [
        {
          "data": {
            "text/html": [
              "<div>\n",
              "<style scoped>\n",
              "    .dataframe tbody tr th:only-of-type {\n",
              "        vertical-align: middle;\n",
              "    }\n",
              "\n",
              "    .dataframe tbody tr th {\n",
              "        vertical-align: top;\n",
              "    }\n",
              "\n",
              "    .dataframe thead th {\n",
              "        text-align: right;\n",
              "    }\n",
              "</style>\n",
              "<table border=\"1\" class=\"dataframe\">\n",
              "  <thead>\n",
              "    <tr style=\"text-align: right;\">\n",
              "      <th></th>\n",
              "      <th>PassengerId</th>\n",
              "      <th>Pclass</th>\n",
              "      <th>Name</th>\n",
              "      <th>Sex</th>\n",
              "      <th>Age</th>\n",
              "      <th>SibSp</th>\n",
              "      <th>Parch</th>\n",
              "      <th>Ticket</th>\n",
              "      <th>Fare</th>\n",
              "      <th>Cabin</th>\n",
              "      <th>Embarked</th>\n",
              "    </tr>\n",
              "  </thead>\n",
              "  <tbody>\n",
              "    <tr>\n",
              "      <th>139</th>\n",
              "      <td>1031</td>\n",
              "      <td>3</td>\n",
              "      <td>Goodwin, Mr. Charles Frederick</td>\n",
              "      <td>male</td>\n",
              "      <td>40.0</td>\n",
              "      <td>1</td>\n",
              "      <td>6</td>\n",
              "      <td>CA 2144</td>\n",
              "      <td>46.9000</td>\n",
              "      <td>NaN</td>\n",
              "      <td>S</td>\n",
              "    </tr>\n",
              "    <tr>\n",
              "      <th>174</th>\n",
              "      <td>1066</td>\n",
              "      <td>3</td>\n",
              "      <td>Asplund, Mr. Carl Oscar Vilhelm Gustafsson</td>\n",
              "      <td>male</td>\n",
              "      <td>40.0</td>\n",
              "      <td>1</td>\n",
              "      <td>5</td>\n",
              "      <td>347077</td>\n",
              "      <td>31.3875</td>\n",
              "      <td>NaN</td>\n",
              "      <td>S</td>\n",
              "    </tr>\n",
              "    <tr>\n",
              "      <th>185</th>\n",
              "      <td>1077</td>\n",
              "      <td>2</td>\n",
              "      <td>Maybery, Mr. Frank Hubert</td>\n",
              "      <td>male</td>\n",
              "      <td>40.0</td>\n",
              "      <td>0</td>\n",
              "      <td>0</td>\n",
              "      <td>239059</td>\n",
              "      <td>16.0000</td>\n",
              "      <td>NaN</td>\n",
              "      <td>S</td>\n",
              "    </tr>\n",
              "    <tr>\n",
              "      <th>189</th>\n",
              "      <td>1081</td>\n",
              "      <td>2</td>\n",
              "      <td>Veal, Mr. James</td>\n",
              "      <td>male</td>\n",
              "      <td>40.0</td>\n",
              "      <td>0</td>\n",
              "      <td>0</td>\n",
              "      <td>28221</td>\n",
              "      <td>13.0000</td>\n",
              "      <td>NaN</td>\n",
              "      <td>S</td>\n",
              "    </tr>\n",
              "    <tr>\n",
              "      <th>277</th>\n",
              "      <td>1169</td>\n",
              "      <td>2</td>\n",
              "      <td>Faunthorpe, Mr. Harry</td>\n",
              "      <td>male</td>\n",
              "      <td>40.0</td>\n",
              "      <td>1</td>\n",
              "      <td>0</td>\n",
              "      <td>2926</td>\n",
              "      <td>26.0000</td>\n",
              "      <td>NaN</td>\n",
              "      <td>S</td>\n",
              "    </tr>\n",
              "  </tbody>\n",
              "</table>\n",
              "</div>"
            ],
            "text/plain": [
              "     PassengerId  Pclass                                        Name   Sex  \\\n",
              "139         1031       3              Goodwin, Mr. Charles Frederick  male   \n",
              "174         1066       3  Asplund, Mr. Carl Oscar Vilhelm Gustafsson  male   \n",
              "185         1077       2                   Maybery, Mr. Frank Hubert  male   \n",
              "189         1081       2                             Veal, Mr. James  male   \n",
              "277         1169       2                       Faunthorpe, Mr. Harry  male   \n",
              "\n",
              "      Age  SibSp  Parch   Ticket     Fare Cabin Embarked  \n",
              "139  40.0      1      6  CA 2144  46.9000   NaN        S  \n",
              "174  40.0      1      5   347077  31.3875   NaN        S  \n",
              "185  40.0      0      0   239059  16.0000   NaN        S  \n",
              "189  40.0      0      0    28221  13.0000   NaN        S  \n",
              "277  40.0      1      0     2926  26.0000   NaN        S  "
            ]
          },
          "execution_count": 9,
          "metadata": {},
          "output_type": "execute_result"
        }
      ],
      "source": [
        "# Dispaly those row or the data whose age is 40\n",
        "# row ko data index bata access hunxa\n",
        "# condition diyako xa vanye loc iloc use nagarne\n",
        "data[data.Age==40]"
      ]
    },
    {
      "cell_type": "code",
      "execution_count": null,
      "id": "9cadd890-b6ba-4ea9-b96f-37636a9477a3",
      "metadata": {
        "id": "9cadd890-b6ba-4ea9-b96f-37636a9477a3",
        "outputId": "9c1d9914-b272-4f04-b444-39c706423f83"
      },
      "outputs": [
        {
          "data": {
            "text/html": [
              "<div>\n",
              "<style scoped>\n",
              "    .dataframe tbody tr th:only-of-type {\n",
              "        vertical-align: middle;\n",
              "    }\n",
              "\n",
              "    .dataframe tbody tr th {\n",
              "        vertical-align: top;\n",
              "    }\n",
              "\n",
              "    .dataframe thead th {\n",
              "        text-align: right;\n",
              "    }\n",
              "</style>\n",
              "<table border=\"1\" class=\"dataframe\">\n",
              "  <thead>\n",
              "    <tr style=\"text-align: right;\">\n",
              "      <th></th>\n",
              "      <th>PassengerId</th>\n",
              "      <th>Pclass</th>\n",
              "      <th>Name</th>\n",
              "      <th>Sex</th>\n",
              "      <th>Age</th>\n",
              "      <th>SibSp</th>\n",
              "      <th>Parch</th>\n",
              "      <th>Ticket</th>\n",
              "      <th>Fare</th>\n",
              "      <th>Cabin</th>\n",
              "      <th>Embarked</th>\n",
              "    </tr>\n",
              "  </thead>\n",
              "  <tbody>\n",
              "    <tr>\n",
              "      <th>139</th>\n",
              "      <td>1031</td>\n",
              "      <td>3</td>\n",
              "      <td>Goodwin, Mr. Charles Frederick</td>\n",
              "      <td>male</td>\n",
              "      <td>40.0</td>\n",
              "      <td>1</td>\n",
              "      <td>6</td>\n",
              "      <td>CA 2144</td>\n",
              "      <td>46.9000</td>\n",
              "      <td>NaN</td>\n",
              "      <td>S</td>\n",
              "    </tr>\n",
              "    <tr>\n",
              "      <th>174</th>\n",
              "      <td>1066</td>\n",
              "      <td>3</td>\n",
              "      <td>Asplund, Mr. Carl Oscar Vilhelm Gustafsson</td>\n",
              "      <td>male</td>\n",
              "      <td>40.0</td>\n",
              "      <td>1</td>\n",
              "      <td>5</td>\n",
              "      <td>347077</td>\n",
              "      <td>31.3875</td>\n",
              "      <td>NaN</td>\n",
              "      <td>S</td>\n",
              "    </tr>\n",
              "    <tr>\n",
              "      <th>185</th>\n",
              "      <td>1077</td>\n",
              "      <td>2</td>\n",
              "      <td>Maybery, Mr. Frank Hubert</td>\n",
              "      <td>male</td>\n",
              "      <td>40.0</td>\n",
              "      <td>0</td>\n",
              "      <td>0</td>\n",
              "      <td>239059</td>\n",
              "      <td>16.0000</td>\n",
              "      <td>NaN</td>\n",
              "      <td>S</td>\n",
              "    </tr>\n",
              "    <tr>\n",
              "      <th>189</th>\n",
              "      <td>1081</td>\n",
              "      <td>2</td>\n",
              "      <td>Veal, Mr. James</td>\n",
              "      <td>male</td>\n",
              "      <td>40.0</td>\n",
              "      <td>0</td>\n",
              "      <td>0</td>\n",
              "      <td>28221</td>\n",
              "      <td>13.0000</td>\n",
              "      <td>NaN</td>\n",
              "      <td>S</td>\n",
              "    </tr>\n",
              "    <tr>\n",
              "      <th>277</th>\n",
              "      <td>1169</td>\n",
              "      <td>2</td>\n",
              "      <td>Faunthorpe, Mr. Harry</td>\n",
              "      <td>male</td>\n",
              "      <td>40.0</td>\n",
              "      <td>1</td>\n",
              "      <td>0</td>\n",
              "      <td>2926</td>\n",
              "      <td>26.0000</td>\n",
              "      <td>NaN</td>\n",
              "      <td>S</td>\n",
              "    </tr>\n",
              "  </tbody>\n",
              "</table>\n",
              "</div>"
            ],
            "text/plain": [
              "     PassengerId  Pclass                                        Name   Sex  \\\n",
              "139         1031       3              Goodwin, Mr. Charles Frederick  male   \n",
              "174         1066       3  Asplund, Mr. Carl Oscar Vilhelm Gustafsson  male   \n",
              "185         1077       2                   Maybery, Mr. Frank Hubert  male   \n",
              "189         1081       2                             Veal, Mr. James  male   \n",
              "277         1169       2                       Faunthorpe, Mr. Harry  male   \n",
              "\n",
              "      Age  SibSp  Parch   Ticket     Fare Cabin Embarked  \n",
              "139  40.0      1      6  CA 2144  46.9000   NaN        S  \n",
              "174  40.0      1      5   347077  31.3875   NaN        S  \n",
              "185  40.0      0      0   239059  16.0000   NaN        S  \n",
              "189  40.0      0      0    28221  13.0000   NaN        S  \n",
              "277  40.0      1      0     2926  26.0000   NaN        S  "
            ]
          },
          "execution_count": 11,
          "metadata": {},
          "output_type": "execute_result"
        }
      ],
      "source": [
        "# another approcach to find the above condition\n",
        "data.query('Age==40')# using the query technique"
      ]
    },
    {
      "cell_type": "code",
      "execution_count": null,
      "id": "f2fe1203-22e8-4cae-86ae-7033ba060fe1",
      "metadata": {
        "id": "f2fe1203-22e8-4cae-86ae-7033ba060fe1",
        "outputId": "0c66aeeb-ecef-490a-9453-7bb5ca4e72c8"
      },
      "outputs": [
        {
          "data": {
            "text/html": [
              "<div>\n",
              "<style scoped>\n",
              "    .dataframe tbody tr th:only-of-type {\n",
              "        vertical-align: middle;\n",
              "    }\n",
              "\n",
              "    .dataframe tbody tr th {\n",
              "        vertical-align: top;\n",
              "    }\n",
              "\n",
              "    .dataframe thead th {\n",
              "        text-align: right;\n",
              "    }\n",
              "</style>\n",
              "<table border=\"1\" class=\"dataframe\">\n",
              "  <thead>\n",
              "    <tr style=\"text-align: right;\">\n",
              "      <th></th>\n",
              "      <th>Age</th>\n",
              "      <th>Gender</th>\n",
              "      <th>Education Level</th>\n",
              "      <th>Job Title</th>\n",
              "      <th>Years of Experience</th>\n",
              "      <th>Salary</th>\n",
              "    </tr>\n",
              "  </thead>\n",
              "  <tbody>\n",
              "    <tr>\n",
              "      <th>0</th>\n",
              "      <td>32.0</td>\n",
              "      <td>Male</td>\n",
              "      <td>Bachelor's</td>\n",
              "      <td>Software Engineer</td>\n",
              "      <td>5.0</td>\n",
              "      <td>90000.0</td>\n",
              "    </tr>\n",
              "    <tr>\n",
              "      <th>1</th>\n",
              "      <td>28.0</td>\n",
              "      <td>Female</td>\n",
              "      <td>Master's</td>\n",
              "      <td>Data Analyst</td>\n",
              "      <td>3.0</td>\n",
              "      <td>65000.0</td>\n",
              "    </tr>\n",
              "    <tr>\n",
              "      <th>2</th>\n",
              "      <td>45.0</td>\n",
              "      <td>Male</td>\n",
              "      <td>PhD</td>\n",
              "      <td>Senior Manager</td>\n",
              "      <td>15.0</td>\n",
              "      <td>150000.0</td>\n",
              "    </tr>\n",
              "    <tr>\n",
              "      <th>3</th>\n",
              "      <td>36.0</td>\n",
              "      <td>Female</td>\n",
              "      <td>Bachelor's</td>\n",
              "      <td>Sales Associate</td>\n",
              "      <td>7.0</td>\n",
              "      <td>60000.0</td>\n",
              "    </tr>\n",
              "    <tr>\n",
              "      <th>4</th>\n",
              "      <td>52.0</td>\n",
              "      <td>Male</td>\n",
              "      <td>Master's</td>\n",
              "      <td>Director</td>\n",
              "      <td>20.0</td>\n",
              "      <td>200000.0</td>\n",
              "    </tr>\n",
              "  </tbody>\n",
              "</table>\n",
              "</div>"
            ],
            "text/plain": [
              "    Age  Gender Education Level          Job Title  Years of Experience  \\\n",
              "0  32.0    Male      Bachelor's  Software Engineer                  5.0   \n",
              "1  28.0  Female        Master's       Data Analyst                  3.0   \n",
              "2  45.0    Male             PhD     Senior Manager                 15.0   \n",
              "3  36.0  Female      Bachelor's    Sales Associate                  7.0   \n",
              "4  52.0    Male        Master's           Director                 20.0   \n",
              "\n",
              "     Salary  \n",
              "0   90000.0  \n",
              "1   65000.0  \n",
              "2  150000.0  \n",
              "3   60000.0  \n",
              "4  200000.0  "
            ]
          },
          "execution_count": 12,
          "metadata": {},
          "output_type": "execute_result"
        }
      ],
      "source": [
        "dat=pd.read_csv('salary_Data.csv')\n",
        "dat.head()"
      ]
    },
    {
      "cell_type": "code",
      "execution_count": null,
      "id": "a521c308-dd10-4504-afcb-8d1df1d109c7",
      "metadata": {
        "id": "a521c308-dd10-4504-afcb-8d1df1d109c7",
        "outputId": "8ec68aed-c22d-4d29-b965-b53f835314ac"
      },
      "outputs": [
        {
          "name": "stdout",
          "output_type": "stream",
          "text": [
            "<class 'pandas.core.frame.DataFrame'>\n",
            "RangeIndex: 6704 entries, 0 to 6703\n",
            "Data columns (total 6 columns):\n",
            " #   Column               Non-Null Count  Dtype  \n",
            "---  ------               --------------  -----  \n",
            " 0   Age                  6702 non-null   float64\n",
            " 1   Gender               6702 non-null   object \n",
            " 2   Education Level      6701 non-null   object \n",
            " 3   Job Title            6702 non-null   object \n",
            " 4   Years of Experience  6701 non-null   float64\n",
            " 5   Salary               6699 non-null   float64\n",
            "dtypes: float64(3), object(3)\n",
            "memory usage: 314.4+ KB\n"
          ]
        }
      ],
      "source": [
        "dat.info()"
      ]
    },
    {
      "cell_type": "code",
      "execution_count": null,
      "id": "d2a64f80-5d05-449e-9dd4-aeeafcb19f7e",
      "metadata": {
        "id": "d2a64f80-5d05-449e-9dd4-aeeafcb19f7e",
        "outputId": "94205155-7be2-4440-f377-a14b75a9aecd"
      },
      "outputs": [
        {
          "data": {
            "text/plain": [
              "PassengerId    418\n",
              "Pclass           3\n",
              "Name           418\n",
              "Sex              2\n",
              "Age             79\n",
              "SibSp            7\n",
              "Parch            8\n",
              "Ticket         363\n",
              "Fare           169\n",
              "Cabin           76\n",
              "Embarked         3\n",
              "dtype: int64"
            ]
          },
          "execution_count": 15,
          "metadata": {},
          "output_type": "execute_result"
        }
      ],
      "source": [
        "data.nunique()"
      ]
    },
    {
      "cell_type": "code",
      "execution_count": null,
      "id": "d8503515-f4de-4d04-8c02-c463a3f5c2dc",
      "metadata": {
        "id": "d8503515-f4de-4d04-8c02-c463a3f5c2dc",
        "outputId": "6301e3d2-965a-4b11-8c2d-3e94ba3cf661"
      },
      "outputs": [
        {
          "data": {
            "text/plain": [
              "array([\"Bachelor's\", \"Master's\", 'PhD', nan, \"Bachelor's Degree\",\n",
              "       \"Master's Degree\", 'High School', 'phD'], dtype=object)"
            ]
          },
          "execution_count": 20,
          "metadata": {},
          "output_type": "execute_result"
        }
      ],
      "source": [
        "dat['Education Level'].unique()"
      ]
    },
    {
      "cell_type": "markdown",
      "id": "9a6c71fb-4824-40c7-95a2-fce6822f7514",
      "metadata": {
        "id": "9a6c71fb-4824-40c7-95a2-fce6822f7514"
      },
      "source": [
        "Read- cleaning\n",
        "# issues\n",
        "1.missing Values\n",
        "2.NOn-standard/inconsistency                     (nan) value pani\n",
        "Nan is the missing value so in plotting there is obstacle in plotting the visualization\n",
        "\n",
        "\n"
      ]
    },
    {
      "cell_type": "markdown",
      "id": "bb530842-8629-4481-8d9d-b0e789a6ce81",
      "metadata": {
        "id": "bb530842-8629-4481-8d9d-b0e789a6ce81"
      },
      "source": [
        "Barplot\n",
        "Histogram/kdeplot\n",
        "Scatter plot\n",
        "Boxplot\n"
      ]
    },
    {
      "cell_type": "markdown",
      "id": "84e4e06f-b8e5-4be3-9e04-1b228a0063e3",
      "metadata": {
        "id": "84e4e06f-b8e5-4be3-9e04-1b228a0063e3"
      },
      "source": [
        "Matplotlib\n",
        "Seaborn"
      ]
    },
    {
      "cell_type": "code",
      "execution_count": null,
      "id": "910ddb0a-e4a5-473f-b1a5-4e6e7eb787cc",
      "metadata": {
        "id": "910ddb0a-e4a5-473f-b1a5-4e6e7eb787cc",
        "outputId": "287c6aa8-aca2-4589-f62b-23e27ba89502"
      },
      "outputs": [
        {
          "data": {
            "text/html": [
              "<div>\n",
              "<style scoped>\n",
              "    .dataframe tbody tr th:only-of-type {\n",
              "        vertical-align: middle;\n",
              "    }\n",
              "\n",
              "    .dataframe tbody tr th {\n",
              "        vertical-align: top;\n",
              "    }\n",
              "\n",
              "    .dataframe thead th {\n",
              "        text-align: right;\n",
              "    }\n",
              "</style>\n",
              "<table border=\"1\" class=\"dataframe\">\n",
              "  <thead>\n",
              "    <tr style=\"text-align: right;\">\n",
              "      <th></th>\n",
              "      <th>Age</th>\n",
              "      <th>Gender</th>\n",
              "      <th>Education Level</th>\n",
              "      <th>Job Title</th>\n",
              "      <th>Years of Experience</th>\n",
              "      <th>Salary</th>\n",
              "    </tr>\n",
              "  </thead>\n",
              "  <tbody>\n",
              "    <tr>\n",
              "      <th>0</th>\n",
              "      <td>False</td>\n",
              "      <td>False</td>\n",
              "      <td>False</td>\n",
              "      <td>False</td>\n",
              "      <td>False</td>\n",
              "      <td>False</td>\n",
              "    </tr>\n",
              "    <tr>\n",
              "      <th>1</th>\n",
              "      <td>False</td>\n",
              "      <td>False</td>\n",
              "      <td>False</td>\n",
              "      <td>False</td>\n",
              "      <td>False</td>\n",
              "      <td>False</td>\n",
              "    </tr>\n",
              "    <tr>\n",
              "      <th>2</th>\n",
              "      <td>False</td>\n",
              "      <td>False</td>\n",
              "      <td>False</td>\n",
              "      <td>False</td>\n",
              "      <td>False</td>\n",
              "      <td>False</td>\n",
              "    </tr>\n",
              "    <tr>\n",
              "      <th>3</th>\n",
              "      <td>False</td>\n",
              "      <td>False</td>\n",
              "      <td>False</td>\n",
              "      <td>False</td>\n",
              "      <td>False</td>\n",
              "      <td>False</td>\n",
              "    </tr>\n",
              "    <tr>\n",
              "      <th>4</th>\n",
              "      <td>False</td>\n",
              "      <td>False</td>\n",
              "      <td>False</td>\n",
              "      <td>False</td>\n",
              "      <td>False</td>\n",
              "      <td>False</td>\n",
              "    </tr>\n",
              "    <tr>\n",
              "      <th>...</th>\n",
              "      <td>...</td>\n",
              "      <td>...</td>\n",
              "      <td>...</td>\n",
              "      <td>...</td>\n",
              "      <td>...</td>\n",
              "      <td>...</td>\n",
              "    </tr>\n",
              "    <tr>\n",
              "      <th>6699</th>\n",
              "      <td>False</td>\n",
              "      <td>False</td>\n",
              "      <td>False</td>\n",
              "      <td>False</td>\n",
              "      <td>False</td>\n",
              "      <td>False</td>\n",
              "    </tr>\n",
              "    <tr>\n",
              "      <th>6700</th>\n",
              "      <td>False</td>\n",
              "      <td>False</td>\n",
              "      <td>False</td>\n",
              "      <td>False</td>\n",
              "      <td>False</td>\n",
              "      <td>False</td>\n",
              "    </tr>\n",
              "    <tr>\n",
              "      <th>6701</th>\n",
              "      <td>False</td>\n",
              "      <td>False</td>\n",
              "      <td>False</td>\n",
              "      <td>False</td>\n",
              "      <td>False</td>\n",
              "      <td>False</td>\n",
              "    </tr>\n",
              "    <tr>\n",
              "      <th>6702</th>\n",
              "      <td>False</td>\n",
              "      <td>False</td>\n",
              "      <td>False</td>\n",
              "      <td>False</td>\n",
              "      <td>False</td>\n",
              "      <td>False</td>\n",
              "    </tr>\n",
              "    <tr>\n",
              "      <th>6703</th>\n",
              "      <td>False</td>\n",
              "      <td>False</td>\n",
              "      <td>False</td>\n",
              "      <td>False</td>\n",
              "      <td>False</td>\n",
              "      <td>False</td>\n",
              "    </tr>\n",
              "  </tbody>\n",
              "</table>\n",
              "<p>6704 rows × 6 columns</p>\n",
              "</div>"
            ],
            "text/plain": [
              "        Age  Gender  Education Level  Job Title  Years of Experience  Salary\n",
              "0     False   False            False      False                False   False\n",
              "1     False   False            False      False                False   False\n",
              "2     False   False            False      False                False   False\n",
              "3     False   False            False      False                False   False\n",
              "4     False   False            False      False                False   False\n",
              "...     ...     ...              ...        ...                  ...     ...\n",
              "6699  False   False            False      False                False   False\n",
              "6700  False   False            False      False                False   False\n",
              "6701  False   False            False      False                False   False\n",
              "6702  False   False            False      False                False   False\n",
              "6703  False   False            False      False                False   False\n",
              "\n",
              "[6704 rows x 6 columns]"
            ]
          },
          "execution_count": 24,
          "metadata": {},
          "output_type": "execute_result"
        }
      ],
      "source": [
        "# for the missing values\n",
        "dat.isnull()  # help in finding the null value in the boolean form"
      ]
    },
    {
      "cell_type": "code",
      "execution_count": null,
      "id": "b8d7ebb7-f928-4229-a9b3-2813f7e43316",
      "metadata": {
        "id": "b8d7ebb7-f928-4229-a9b3-2813f7e43316"
      },
      "outputs": [],
      "source": []
    },
    {
      "cell_type": "code",
      "execution_count": null,
      "id": "38a56838-b796-4cd3-8ca1-d1499598baa1",
      "metadata": {
        "id": "38a56838-b796-4cd3-8ca1-d1499598baa1",
        "outputId": "455cbb36-c0fc-4d68-cb3b-b4e5bc470761"
      },
      "outputs": [
        {
          "data": {
            "text/plain": [
              "Age                    2\n",
              "Gender                 2\n",
              "Education Level        3\n",
              "Job Title              2\n",
              "Years of Experience    3\n",
              "Salary                 5\n",
              "dtype: int64"
            ]
          },
          "execution_count": 23,
          "metadata": {},
          "output_type": "execute_result"
        }
      ],
      "source": [
        "dat.isnull().sum()"
      ]
    },
    {
      "cell_type": "code",
      "execution_count": null,
      "id": "55fafdf9-4baa-4cf2-a546-04d1a819999b",
      "metadata": {
        "id": "55fafdf9-4baa-4cf2-a546-04d1a819999b",
        "outputId": "c4e359e8-4852-4942-ac7c-2f0273f9a6fd"
      },
      "outputs": [
        {
          "data": {
            "text/html": [
              "<div>\n",
              "<style scoped>\n",
              "    .dataframe tbody tr th:only-of-type {\n",
              "        vertical-align: middle;\n",
              "    }\n",
              "\n",
              "    .dataframe tbody tr th {\n",
              "        vertical-align: top;\n",
              "    }\n",
              "\n",
              "    .dataframe thead th {\n",
              "        text-align: right;\n",
              "    }\n",
              "</style>\n",
              "<table border=\"1\" class=\"dataframe\">\n",
              "  <thead>\n",
              "    <tr style=\"text-align: right;\">\n",
              "      <th></th>\n",
              "      <th>Age</th>\n",
              "      <th>Gender</th>\n",
              "      <th>Education Level</th>\n",
              "      <th>Job Title</th>\n",
              "      <th>Years of Experience</th>\n",
              "      <th>Salary</th>\n",
              "    </tr>\n",
              "  </thead>\n",
              "  <tbody>\n",
              "    <tr>\n",
              "      <th>172</th>\n",
              "      <td>NaN</td>\n",
              "      <td>NaN</td>\n",
              "      <td>NaN</td>\n",
              "      <td>NaN</td>\n",
              "      <td>NaN</td>\n",
              "      <td>NaN</td>\n",
              "    </tr>\n",
              "    <tr>\n",
              "      <th>260</th>\n",
              "      <td>NaN</td>\n",
              "      <td>NaN</td>\n",
              "      <td>NaN</td>\n",
              "      <td>NaN</td>\n",
              "      <td>NaN</td>\n",
              "      <td>NaN</td>\n",
              "    </tr>\n",
              "    <tr>\n",
              "      <th>2011</th>\n",
              "      <td>27.0</td>\n",
              "      <td>Male</td>\n",
              "      <td>NaN</td>\n",
              "      <td>Developer</td>\n",
              "      <td>7.0</td>\n",
              "      <td>100000.0</td>\n",
              "    </tr>\n",
              "    <tr>\n",
              "      <th>3136</th>\n",
              "      <td>31.0</td>\n",
              "      <td>Male</td>\n",
              "      <td>Master's Degree</td>\n",
              "      <td>Full Stack Engineer</td>\n",
              "      <td>8.0</td>\n",
              "      <td>NaN</td>\n",
              "    </tr>\n",
              "    <tr>\n",
              "      <th>5247</th>\n",
              "      <td>26.0</td>\n",
              "      <td>Female</td>\n",
              "      <td>Bachelor's Degree</td>\n",
              "      <td>Social M</td>\n",
              "      <td>NaN</td>\n",
              "      <td>NaN</td>\n",
              "    </tr>\n",
              "    <tr>\n",
              "      <th>6455</th>\n",
              "      <td>36.0</td>\n",
              "      <td>Male</td>\n",
              "      <td>Bachelor's Degree</td>\n",
              "      <td>Sales Director</td>\n",
              "      <td>6.0</td>\n",
              "      <td>NaN</td>\n",
              "    </tr>\n",
              "  </tbody>\n",
              "</table>\n",
              "</div>"
            ],
            "text/plain": [
              "       Age  Gender    Education Level            Job Title  \\\n",
              "172    NaN     NaN                NaN                  NaN   \n",
              "260    NaN     NaN                NaN                  NaN   \n",
              "2011  27.0    Male                NaN            Developer   \n",
              "3136  31.0    Male    Master's Degree  Full Stack Engineer   \n",
              "5247  26.0  Female  Bachelor's Degree             Social M   \n",
              "6455  36.0    Male  Bachelor's Degree       Sales Director   \n",
              "\n",
              "      Years of Experience    Salary  \n",
              "172                   NaN       NaN  \n",
              "260                   NaN       NaN  \n",
              "2011                  7.0  100000.0  \n",
              "3136                  8.0       NaN  \n",
              "5247                  NaN       NaN  \n",
              "6455                  6.0       NaN  "
            ]
          },
          "execution_count": 25,
          "metadata": {},
          "output_type": "execute_result"
        }
      ],
      "source": [
        "dat[dat.isnull().any(axis=1)]# any=> teo row display garxa  jasko kunai pani value missing xa"
      ]
    },
    {
      "cell_type": "code",
      "execution_count": null,
      "id": "d8338dd3-f3d8-4dea-ad83-8dad0f355282",
      "metadata": {
        "id": "d8338dd3-f3d8-4dea-ad83-8dad0f355282",
        "outputId": "3acc92d3-c6b0-43cf-c2ac-2922e09ff2e8"
      },
      "outputs": [
        {
          "data": {
            "text/html": [
              "<div>\n",
              "<style scoped>\n",
              "    .dataframe tbody tr th:only-of-type {\n",
              "        vertical-align: middle;\n",
              "    }\n",
              "\n",
              "    .dataframe tbody tr th {\n",
              "        vertical-align: top;\n",
              "    }\n",
              "\n",
              "    .dataframe thead th {\n",
              "        text-align: right;\n",
              "    }\n",
              "</style>\n",
              "<table border=\"1\" class=\"dataframe\">\n",
              "  <thead>\n",
              "    <tr style=\"text-align: right;\">\n",
              "      <th></th>\n",
              "      <th>Age</th>\n",
              "      <th>Gender</th>\n",
              "      <th>Education Level</th>\n",
              "      <th>Job Title</th>\n",
              "      <th>Years of Experience</th>\n",
              "      <th>Salary</th>\n",
              "    </tr>\n",
              "  </thead>\n",
              "  <tbody>\n",
              "    <tr>\n",
              "      <th>172</th>\n",
              "      <td>NaN</td>\n",
              "      <td>NaN</td>\n",
              "      <td>NaN</td>\n",
              "      <td>NaN</td>\n",
              "      <td>NaN</td>\n",
              "      <td>NaN</td>\n",
              "    </tr>\n",
              "    <tr>\n",
              "      <th>260</th>\n",
              "      <td>NaN</td>\n",
              "      <td>NaN</td>\n",
              "      <td>NaN</td>\n",
              "      <td>NaN</td>\n",
              "      <td>NaN</td>\n",
              "      <td>NaN</td>\n",
              "    </tr>\n",
              "  </tbody>\n",
              "</table>\n",
              "</div>"
            ],
            "text/plain": [
              "     Age Gender Education Level Job Title  Years of Experience  Salary\n",
              "172  NaN    NaN             NaN       NaN                  NaN     NaN\n",
              "260  NaN    NaN             NaN       NaN                  NaN     NaN"
            ]
          },
          "execution_count": 26,
          "metadata": {},
          "output_type": "execute_result"
        }
      ],
      "source": [
        "#all=> teo row matrw display garxa jasko sabbai value missing xa\n",
        "dat[dat.isnull().all(axis=1)]"
      ]
    },
    {
      "cell_type": "markdown",
      "id": "7068f014-49a1-4318-b090-e58383c114c8",
      "metadata": {
        "id": "7068f014-49a1-4318-b090-e58383c114c8"
      },
      "source": [
        "# axis=1=> axis =0 reprsent the row and axis =1 represt column\n",
        "sabbai column haru ma herne adi sabbi ma value missing xa vanye matrw display garne(axis=1 ko meaning)"
      ]
    },
    {
      "cell_type": "markdown",
      "id": "8c2c676d-2767-4e0b-88b1-fe5f1182aa49",
      "metadata": {
        "id": "8c2c676d-2767-4e0b-88b1-fe5f1182aa49"
      },
      "source": [
        "# handeling the missing values\n",
        "Fill=> if there is the presence of the null value we can also fill at that palce(may be fill by using the mean() value)\n",
        "(meadian(), mode(), forwardfill(), backwardfill(),nearestvalue\n",
        "forwardfill => teo vanda aghadi ko value ko value lai noii fill garne\n",
        "backwardfill => teo vanda pachadi ko value ko value lai noii fill garne\n",
        "nearestvalue=> tesko nearesrt row ko value lai heryarw fill garne\n",
        "\n",
        "Drop=> if any column must of the values are missing , in our analysis there is no significant of that column so\n",
        "we remove the column\n",
        "if any of the row have missing some value at that case also we remove that column   at that case drop is used"
      ]
    },
    {
      "cell_type": "code",
      "execution_count": null,
      "id": "9f8c7a4d-df20-41ce-b958-4c024aae8086",
      "metadata": {
        "id": "9f8c7a4d-df20-41ce-b958-4c024aae8086",
        "outputId": "fdb37b00-3cfd-4766-c868-ed9e106afa14"
      },
      "outputs": [
        {
          "data": {
            "text/html": [
              "<div>\n",
              "<style scoped>\n",
              "    .dataframe tbody tr th:only-of-type {\n",
              "        vertical-align: middle;\n",
              "    }\n",
              "\n",
              "    .dataframe tbody tr th {\n",
              "        vertical-align: top;\n",
              "    }\n",
              "\n",
              "    .dataframe thead th {\n",
              "        text-align: right;\n",
              "    }\n",
              "</style>\n",
              "<table border=\"1\" class=\"dataframe\">\n",
              "  <thead>\n",
              "    <tr style=\"text-align: right;\">\n",
              "      <th></th>\n",
              "      <th>Age</th>\n",
              "      <th>Years of Experience</th>\n",
              "      <th>Salary</th>\n",
              "    </tr>\n",
              "  </thead>\n",
              "  <tbody>\n",
              "    <tr>\n",
              "      <th>count</th>\n",
              "      <td>6702.000000</td>\n",
              "      <td>6701.000000</td>\n",
              "      <td>6699.000000</td>\n",
              "    </tr>\n",
              "    <tr>\n",
              "      <th>mean</th>\n",
              "      <td>33.620859</td>\n",
              "      <td>8.094687</td>\n",
              "      <td>115326.964771</td>\n",
              "    </tr>\n",
              "    <tr>\n",
              "      <th>std</th>\n",
              "      <td>7.614633</td>\n",
              "      <td>6.059003</td>\n",
              "      <td>52786.183911</td>\n",
              "    </tr>\n",
              "    <tr>\n",
              "      <th>min</th>\n",
              "      <td>21.000000</td>\n",
              "      <td>0.000000</td>\n",
              "      <td>350.000000</td>\n",
              "    </tr>\n",
              "    <tr>\n",
              "      <th>25%</th>\n",
              "      <td>28.000000</td>\n",
              "      <td>3.000000</td>\n",
              "      <td>70000.000000</td>\n",
              "    </tr>\n",
              "    <tr>\n",
              "      <th>50%</th>\n",
              "      <td>32.000000</td>\n",
              "      <td>7.000000</td>\n",
              "      <td>115000.000000</td>\n",
              "    </tr>\n",
              "    <tr>\n",
              "      <th>75%</th>\n",
              "      <td>38.000000</td>\n",
              "      <td>12.000000</td>\n",
              "      <td>160000.000000</td>\n",
              "    </tr>\n",
              "    <tr>\n",
              "      <th>max</th>\n",
              "      <td>62.000000</td>\n",
              "      <td>34.000000</td>\n",
              "      <td>250000.000000</td>\n",
              "    </tr>\n",
              "  </tbody>\n",
              "</table>\n",
              "</div>"
            ],
            "text/plain": [
              "               Age  Years of Experience         Salary\n",
              "count  6702.000000          6701.000000    6699.000000\n",
              "mean     33.620859             8.094687  115326.964771\n",
              "std       7.614633             6.059003   52786.183911\n",
              "min      21.000000             0.000000     350.000000\n",
              "25%      28.000000             3.000000   70000.000000\n",
              "50%      32.000000             7.000000  115000.000000\n",
              "75%      38.000000            12.000000  160000.000000\n",
              "max      62.000000            34.000000  250000.000000"
            ]
          },
          "execution_count": 27,
          "metadata": {},
          "output_type": "execute_result"
        }
      ],
      "source": [
        "dat.describe()"
      ]
    },
    {
      "cell_type": "code",
      "execution_count": null,
      "id": "d68243b1-f25f-4972-9751-f689cc4a7c5d",
      "metadata": {
        "id": "d68243b1-f25f-4972-9751-f689cc4a7c5d",
        "outputId": "3ddab23f-8996-4d8e-d0d9-f92f1533415d"
      },
      "outputs": [
        {
          "name": "stdout",
          "output_type": "stream",
          "text": [
            "<class 'pandas.core.frame.DataFrame'>\n",
            "RangeIndex: 6704 entries, 0 to 6703\n",
            "Data columns (total 6 columns):\n",
            " #   Column               Non-Null Count  Dtype  \n",
            "---  ------               --------------  -----  \n",
            " 0   Age                  6702 non-null   float64\n",
            " 1   Gender               6702 non-null   object \n",
            " 2   Education Level      6701 non-null   object \n",
            " 3   Job Title            6702 non-null   object \n",
            " 4   Years of Experience  6701 non-null   float64\n",
            " 5   Salary               6699 non-null   float64\n",
            "dtypes: float64(3), object(3)\n",
            "memory usage: 314.4+ KB\n"
          ]
        }
      ],
      "source": [
        "dat.info()"
      ]
    },
    {
      "cell_type": "code",
      "execution_count": null,
      "id": "838a0dae-70d4-4828-a4bb-487570b678b0",
      "metadata": {
        "id": "838a0dae-70d4-4828-a4bb-487570b678b0",
        "outputId": "9e57b38d-da4b-42e1-8b70-51a5282ccc87"
      },
      "outputs": [
        {
          "data": {
            "text/html": [
              "<div>\n",
              "<style scoped>\n",
              "    .dataframe tbody tr th:only-of-type {\n",
              "        vertical-align: middle;\n",
              "    }\n",
              "\n",
              "    .dataframe tbody tr th {\n",
              "        vertical-align: top;\n",
              "    }\n",
              "\n",
              "    .dataframe thead th {\n",
              "        text-align: right;\n",
              "    }\n",
              "</style>\n",
              "<table border=\"1\" class=\"dataframe\">\n",
              "  <thead>\n",
              "    <tr style=\"text-align: right;\">\n",
              "      <th></th>\n",
              "      <th>Age</th>\n",
              "      <th>Gender</th>\n",
              "      <th>Education Level</th>\n",
              "      <th>Job Title</th>\n",
              "      <th>Years of Experience</th>\n",
              "      <th>Salary</th>\n",
              "    </tr>\n",
              "  </thead>\n",
              "  <tbody>\n",
              "    <tr>\n",
              "      <th>0</th>\n",
              "      <td>32.0</td>\n",
              "      <td>Male</td>\n",
              "      <td>Bachelor's</td>\n",
              "      <td>Software Engineer</td>\n",
              "      <td>5.0</td>\n",
              "      <td>90000.0</td>\n",
              "    </tr>\n",
              "    <tr>\n",
              "      <th>1</th>\n",
              "      <td>28.0</td>\n",
              "      <td>Female</td>\n",
              "      <td>Master's</td>\n",
              "      <td>Data Analyst</td>\n",
              "      <td>3.0</td>\n",
              "      <td>65000.0</td>\n",
              "    </tr>\n",
              "    <tr>\n",
              "      <th>2</th>\n",
              "      <td>45.0</td>\n",
              "      <td>Male</td>\n",
              "      <td>PhD</td>\n",
              "      <td>Senior Manager</td>\n",
              "      <td>15.0</td>\n",
              "      <td>150000.0</td>\n",
              "    </tr>\n",
              "    <tr>\n",
              "      <th>3</th>\n",
              "      <td>36.0</td>\n",
              "      <td>Female</td>\n",
              "      <td>Bachelor's</td>\n",
              "      <td>Sales Associate</td>\n",
              "      <td>7.0</td>\n",
              "      <td>60000.0</td>\n",
              "    </tr>\n",
              "    <tr>\n",
              "      <th>4</th>\n",
              "      <td>52.0</td>\n",
              "      <td>Male</td>\n",
              "      <td>Master's</td>\n",
              "      <td>Director</td>\n",
              "      <td>20.0</td>\n",
              "      <td>200000.0</td>\n",
              "    </tr>\n",
              "    <tr>\n",
              "      <th>...</th>\n",
              "      <td>...</td>\n",
              "      <td>...</td>\n",
              "      <td>...</td>\n",
              "      <td>...</td>\n",
              "      <td>...</td>\n",
              "      <td>...</td>\n",
              "    </tr>\n",
              "    <tr>\n",
              "      <th>6699</th>\n",
              "      <td>49.0</td>\n",
              "      <td>Female</td>\n",
              "      <td>PhD</td>\n",
              "      <td>Director of Marketing</td>\n",
              "      <td>20.0</td>\n",
              "      <td>200000.0</td>\n",
              "    </tr>\n",
              "    <tr>\n",
              "      <th>6700</th>\n",
              "      <td>32.0</td>\n",
              "      <td>Male</td>\n",
              "      <td>High School</td>\n",
              "      <td>Sales Associate</td>\n",
              "      <td>3.0</td>\n",
              "      <td>50000.0</td>\n",
              "    </tr>\n",
              "    <tr>\n",
              "      <th>6701</th>\n",
              "      <td>30.0</td>\n",
              "      <td>Female</td>\n",
              "      <td>Bachelor's Degree</td>\n",
              "      <td>Financial Manager</td>\n",
              "      <td>4.0</td>\n",
              "      <td>55000.0</td>\n",
              "    </tr>\n",
              "    <tr>\n",
              "      <th>6702</th>\n",
              "      <td>46.0</td>\n",
              "      <td>Male</td>\n",
              "      <td>Master's Degree</td>\n",
              "      <td>Marketing Manager</td>\n",
              "      <td>14.0</td>\n",
              "      <td>140000.0</td>\n",
              "    </tr>\n",
              "    <tr>\n",
              "      <th>6703</th>\n",
              "      <td>26.0</td>\n",
              "      <td>Female</td>\n",
              "      <td>High School</td>\n",
              "      <td>Sales Executive</td>\n",
              "      <td>1.0</td>\n",
              "      <td>35000.0</td>\n",
              "    </tr>\n",
              "  </tbody>\n",
              "</table>\n",
              "<p>6698 rows × 6 columns</p>\n",
              "</div>"
            ],
            "text/plain": [
              "       Age  Gender    Education Level              Job Title  \\\n",
              "0     32.0    Male         Bachelor's      Software Engineer   \n",
              "1     28.0  Female           Master's           Data Analyst   \n",
              "2     45.0    Male                PhD         Senior Manager   \n",
              "3     36.0  Female         Bachelor's        Sales Associate   \n",
              "4     52.0    Male           Master's               Director   \n",
              "...    ...     ...                ...                    ...   \n",
              "6699  49.0  Female                PhD  Director of Marketing   \n",
              "6700  32.0    Male        High School        Sales Associate   \n",
              "6701  30.0  Female  Bachelor's Degree      Financial Manager   \n",
              "6702  46.0    Male    Master's Degree      Marketing Manager   \n",
              "6703  26.0  Female        High School        Sales Executive   \n",
              "\n",
              "      Years of Experience    Salary  \n",
              "0                     5.0   90000.0  \n",
              "1                     3.0   65000.0  \n",
              "2                    15.0  150000.0  \n",
              "3                     7.0   60000.0  \n",
              "4                    20.0  200000.0  \n",
              "...                   ...       ...  \n",
              "6699                 20.0  200000.0  \n",
              "6700                  3.0   50000.0  \n",
              "6701                  4.0   55000.0  \n",
              "6702                 14.0  140000.0  \n",
              "6703                  1.0   35000.0  \n",
              "\n",
              "[6698 rows x 6 columns]"
            ]
          },
          "execution_count": 29,
          "metadata": {},
          "output_type": "execute_result"
        }
      ],
      "source": [
        "dat.dropna()# yo dataset ma jata nira missing vetxa teo row lai delete gardinxa"
      ]
    },
    {
      "cell_type": "code",
      "execution_count": null,
      "id": "97282fc4-1fd8-4323-a777-f224360ba941",
      "metadata": {
        "id": "97282fc4-1fd8-4323-a777-f224360ba941",
        "outputId": "320e3d3f-f9c5-4b7d-fc5e-086bd855afdb"
      },
      "outputs": [
        {
          "data": {
            "text/plain": [
              "(6704, 6)"
            ]
          },
          "execution_count": 31,
          "metadata": {},
          "output_type": "execute_result"
        }
      ],
      "source": [
        "dat.shape"
      ]
    },
    {
      "cell_type": "code",
      "execution_count": null,
      "id": "b1168741-a519-4c8a-b7e3-6a49bfab74cd",
      "metadata": {
        "id": "b1168741-a519-4c8a-b7e3-6a49bfab74cd",
        "outputId": "624fdeeb-24eb-4e77-d5f5-b77321949e26"
      },
      "outputs": [
        {
          "data": {
            "text/plain": [
              "Age                    2\n",
              "Gender                 2\n",
              "Education Level        3\n",
              "Job Title              2\n",
              "Years of Experience    3\n",
              "Salary                 5\n",
              "dtype: int64"
            ]
          },
          "execution_count": 32,
          "metadata": {},
          "output_type": "execute_result"
        }
      ],
      "source": [
        "dat.isnull().sum()"
      ]
    },
    {
      "cell_type": "code",
      "execution_count": null,
      "id": "1a005e15-ef95-40b0-b26f-8874e4608217",
      "metadata": {
        "id": "1a005e15-ef95-40b0-b26f-8874e4608217"
      },
      "outputs": [],
      "source": [
        "dat=dat.dropna() # drop garne"
      ]
    },
    {
      "cell_type": "markdown",
      "id": "6487aba9-81bf-4264-89ee-6187eed98085",
      "metadata": {
        "id": "6487aba9-81bf-4264-89ee-6187eed98085"
      },
      "source": [
        "# another approach for the dropping the missing value\n",
        "dat.dropna(inplace=True) # jun orginal data xa tesma change gardina\n",
        "# inplace vanyako chai orginal data mai change garne vanna khojyako ho True"
      ]
    },
    {
      "cell_type": "code",
      "execution_count": null,
      "id": "1014261b-6efe-48b6-a9d9-95a5f0679382",
      "metadata": {
        "id": "1014261b-6efe-48b6-a9d9-95a5f0679382"
      },
      "outputs": [],
      "source": [
        "df=data.dropna()# to store the orginal data"
      ]
    },
    {
      "cell_type": "code",
      "execution_count": null,
      "id": "fac4ea24-70a8-456d-882b-485d32d7c57c",
      "metadata": {
        "id": "fac4ea24-70a8-456d-882b-485d32d7c57c",
        "outputId": "be9fcb4f-640e-4294-cca9-a42fbc9968b2"
      },
      "outputs": [
        {
          "data": {
            "text/plain": [
              "(6698, 6)"
            ]
          },
          "execution_count": 37,
          "metadata": {},
          "output_type": "execute_result"
        }
      ],
      "source": [
        "dat.shape# to see after droping the value is drop is successfull or not"
      ]
    },
    {
      "cell_type": "markdown",
      "id": "7fb676a5-c6fe-4640-a571-8d5bf2db400e",
      "metadata": {
        "id": "7fb676a5-c6fe-4640-a571-8d5bf2db400e"
      },
      "source": [
        "# to change the data at the particular cell\n",
        "for eg : title senior manager xa teslai correction garno paryo vanye teo sakinxa"
      ]
    },
    {
      "cell_type": "code",
      "execution_count": null,
      "id": "9a7cbe91-0dbc-4b7e-a90a-c2b884914f5f",
      "metadata": {
        "id": "9a7cbe91-0dbc-4b7e-a90a-c2b884914f5f"
      },
      "outputs": [],
      "source": [
        "dat.at[2,'Job Title']='SeniorM'# first ma row ani column mention garne [row, column]"
      ]
    },
    {
      "cell_type": "code",
      "execution_count": null,
      "id": "2ef970b4-1535-4847-8663-405f8dcc9dca",
      "metadata": {
        "id": "2ef970b4-1535-4847-8663-405f8dcc9dca",
        "outputId": "0539fe77-cc71-40e7-b9fa-040b6d5140f3"
      },
      "outputs": [
        {
          "data": {
            "text/html": [
              "<div>\n",
              "<style scoped>\n",
              "    .dataframe tbody tr th:only-of-type {\n",
              "        vertical-align: middle;\n",
              "    }\n",
              "\n",
              "    .dataframe tbody tr th {\n",
              "        vertical-align: top;\n",
              "    }\n",
              "\n",
              "    .dataframe thead th {\n",
              "        text-align: right;\n",
              "    }\n",
              "</style>\n",
              "<table border=\"1\" class=\"dataframe\">\n",
              "  <thead>\n",
              "    <tr style=\"text-align: right;\">\n",
              "      <th></th>\n",
              "      <th>Age</th>\n",
              "      <th>Gender</th>\n",
              "      <th>Education Level</th>\n",
              "      <th>Job Title</th>\n",
              "      <th>Years of Experience</th>\n",
              "      <th>Salary</th>\n",
              "    </tr>\n",
              "  </thead>\n",
              "  <tbody>\n",
              "    <tr>\n",
              "      <th>0</th>\n",
              "      <td>32.0</td>\n",
              "      <td>Male</td>\n",
              "      <td>Bachelor's</td>\n",
              "      <td>Software Engineer</td>\n",
              "      <td>5.0</td>\n",
              "      <td>90000.0</td>\n",
              "    </tr>\n",
              "    <tr>\n",
              "      <th>1</th>\n",
              "      <td>28.0</td>\n",
              "      <td>Female</td>\n",
              "      <td>Master's</td>\n",
              "      <td>Data Analyst</td>\n",
              "      <td>3.0</td>\n",
              "      <td>65000.0</td>\n",
              "    </tr>\n",
              "    <tr>\n",
              "      <th>2</th>\n",
              "      <td>45.0</td>\n",
              "      <td>Male</td>\n",
              "      <td>PhD</td>\n",
              "      <td>SeniorM</td>\n",
              "      <td>15.0</td>\n",
              "      <td>150000.0</td>\n",
              "    </tr>\n",
              "    <tr>\n",
              "      <th>3</th>\n",
              "      <td>36.0</td>\n",
              "      <td>Female</td>\n",
              "      <td>Bachelor's</td>\n",
              "      <td>Sales Associate</td>\n",
              "      <td>7.0</td>\n",
              "      <td>60000.0</td>\n",
              "    </tr>\n",
              "    <tr>\n",
              "      <th>4</th>\n",
              "      <td>52.0</td>\n",
              "      <td>Male</td>\n",
              "      <td>Master's</td>\n",
              "      <td>Director</td>\n",
              "      <td>20.0</td>\n",
              "      <td>200000.0</td>\n",
              "    </tr>\n",
              "    <tr>\n",
              "      <th>...</th>\n",
              "      <td>...</td>\n",
              "      <td>...</td>\n",
              "      <td>...</td>\n",
              "      <td>...</td>\n",
              "      <td>...</td>\n",
              "      <td>...</td>\n",
              "    </tr>\n",
              "    <tr>\n",
              "      <th>6699</th>\n",
              "      <td>49.0</td>\n",
              "      <td>Female</td>\n",
              "      <td>PhD</td>\n",
              "      <td>Director of Marketing</td>\n",
              "      <td>20.0</td>\n",
              "      <td>200000.0</td>\n",
              "    </tr>\n",
              "    <tr>\n",
              "      <th>6700</th>\n",
              "      <td>32.0</td>\n",
              "      <td>Male</td>\n",
              "      <td>High School</td>\n",
              "      <td>Sales Associate</td>\n",
              "      <td>3.0</td>\n",
              "      <td>50000.0</td>\n",
              "    </tr>\n",
              "    <tr>\n",
              "      <th>6701</th>\n",
              "      <td>30.0</td>\n",
              "      <td>Female</td>\n",
              "      <td>Bachelor's Degree</td>\n",
              "      <td>Financial Manager</td>\n",
              "      <td>4.0</td>\n",
              "      <td>55000.0</td>\n",
              "    </tr>\n",
              "    <tr>\n",
              "      <th>6702</th>\n",
              "      <td>46.0</td>\n",
              "      <td>Male</td>\n",
              "      <td>Master's Degree</td>\n",
              "      <td>Marketing Manager</td>\n",
              "      <td>14.0</td>\n",
              "      <td>140000.0</td>\n",
              "    </tr>\n",
              "    <tr>\n",
              "      <th>6703</th>\n",
              "      <td>26.0</td>\n",
              "      <td>Female</td>\n",
              "      <td>High School</td>\n",
              "      <td>Sales Executive</td>\n",
              "      <td>1.0</td>\n",
              "      <td>35000.0</td>\n",
              "    </tr>\n",
              "  </tbody>\n",
              "</table>\n",
              "<p>6698 rows × 6 columns</p>\n",
              "</div>"
            ],
            "text/plain": [
              "       Age  Gender    Education Level              Job Title  \\\n",
              "0     32.0    Male         Bachelor's      Software Engineer   \n",
              "1     28.0  Female           Master's           Data Analyst   \n",
              "2     45.0    Male                PhD                SeniorM   \n",
              "3     36.0  Female         Bachelor's        Sales Associate   \n",
              "4     52.0    Male           Master's               Director   \n",
              "...    ...     ...                ...                    ...   \n",
              "6699  49.0  Female                PhD  Director of Marketing   \n",
              "6700  32.0    Male        High School        Sales Associate   \n",
              "6701  30.0  Female  Bachelor's Degree      Financial Manager   \n",
              "6702  46.0    Male    Master's Degree      Marketing Manager   \n",
              "6703  26.0  Female        High School        Sales Executive   \n",
              "\n",
              "      Years of Experience    Salary  \n",
              "0                     5.0   90000.0  \n",
              "1                     3.0   65000.0  \n",
              "2                    15.0  150000.0  \n",
              "3                     7.0   60000.0  \n",
              "4                    20.0  200000.0  \n",
              "...                   ...       ...  \n",
              "6699                 20.0  200000.0  \n",
              "6700                  3.0   50000.0  \n",
              "6701                  4.0   55000.0  \n",
              "6702                 14.0  140000.0  \n",
              "6703                  1.0   35000.0  \n",
              "\n",
              "[6698 rows x 6 columns]"
            ]
          },
          "execution_count": 39,
          "metadata": {},
          "output_type": "execute_result"
        }
      ],
      "source": [
        "dat"
      ]
    },
    {
      "cell_type": "markdown",
      "id": "91afe8bd-e1cb-4374-8fd5-28255e265830",
      "metadata": {
        "id": "91afe8bd-e1cb-4374-8fd5-28255e265830"
      },
      "source": [
        "# plotting\n",
        "-matplotlib\n",
        "-seaborn"
      ]
    },
    {
      "cell_type": "code",
      "execution_count": null,
      "id": "36bc8684-1e47-4ae6-b6a9-b0f357447a0c",
      "metadata": {
        "id": "36bc8684-1e47-4ae6-b6a9-b0f357447a0c",
        "outputId": "df7c0eb9-e405-47d4-8a3e-57f8ea712ad9"
      },
      "outputs": [
        {
          "name": "stdout",
          "output_type": "stream",
          "text": [
            "Defaulting to user installation because normal site-packages is not writeable\n",
            "Requirement already satisfied: matplotlib in c:\\users\\acer\\appdata\\roaming\\python\\python313\\site-packages (3.10.0)\n",
            "Requirement already satisfied: contourpy>=1.0.1 in c:\\users\\acer\\appdata\\roaming\\python\\python313\\site-packages (from matplotlib) (1.3.1)\n",
            "Requirement already satisfied: cycler>=0.10 in c:\\users\\acer\\appdata\\roaming\\python\\python313\\site-packages (from matplotlib) (0.12.1)\n",
            "Requirement already satisfied: fonttools>=4.22.0 in c:\\users\\acer\\appdata\\roaming\\python\\python313\\site-packages (from matplotlib) (4.55.3)\n",
            "Requirement already satisfied: kiwisolver>=1.3.1 in c:\\users\\acer\\appdata\\roaming\\python\\python313\\site-packages (from matplotlib) (1.4.8)\n",
            "Requirement already satisfied: numpy>=1.23 in c:\\users\\acer\\appdata\\roaming\\python\\python313\\site-packages (from matplotlib) (2.2.1)\n",
            "Requirement already satisfied: packaging>=20.0 in c:\\users\\acer\\appdata\\roaming\\python\\python313\\site-packages (from matplotlib) (24.2)\n",
            "Requirement already satisfied: pillow>=8 in c:\\users\\acer\\appdata\\roaming\\python\\python313\\site-packages (from matplotlib) (11.1.0)\n",
            "Requirement already satisfied: pyparsing>=2.3.1 in c:\\users\\acer\\appdata\\roaming\\python\\python313\\site-packages (from matplotlib) (3.2.1)\n",
            "Requirement already satisfied: python-dateutil>=2.7 in c:\\users\\acer\\appdata\\roaming\\python\\python313\\site-packages (from matplotlib) (2.9.0.post0)\n",
            "Requirement already satisfied: six>=1.5 in c:\\users\\acer\\appdata\\roaming\\python\\python313\\site-packages (from python-dateutil>=2.7->matplotlib) (1.17.0)\n",
            "Note: you may need to restart the kernel to use updated packages.\n"
          ]
        }
      ],
      "source": [
        "pip install matplotlib"
      ]
    },
    {
      "cell_type": "code",
      "execution_count": null,
      "id": "38672473-4774-4a5c-abcc-ec7467de84d1",
      "metadata": {
        "id": "38672473-4774-4a5c-abcc-ec7467de84d1",
        "outputId": "04b02bf5-9941-4135-e732-a981b162837f"
      },
      "outputs": [
        {
          "name": "stdout",
          "output_type": "stream",
          "text": [
            "Defaulting to user installation because normal site-packages is not writeable\n",
            "Requirement already satisfied: seaborn in c:\\users\\acer\\appdata\\roaming\\python\\python313\\site-packages (0.13.2)\n",
            "Requirement already satisfied: numpy!=1.24.0,>=1.20 in c:\\users\\acer\\appdata\\roaming\\python\\python313\\site-packages (from seaborn) (2.2.1)\n",
            "Requirement already satisfied: pandas>=1.2 in c:\\users\\acer\\appdata\\roaming\\python\\python313\\site-packages (from seaborn) (2.2.3)\n",
            "Requirement already satisfied: matplotlib!=3.6.1,>=3.4 in c:\\users\\acer\\appdata\\roaming\\python\\python313\\site-packages (from seaborn) (3.10.0)\n",
            "Requirement already satisfied: contourpy>=1.0.1 in c:\\users\\acer\\appdata\\roaming\\python\\python313\\site-packages (from matplotlib!=3.6.1,>=3.4->seaborn) (1.3.1)\n",
            "Requirement already satisfied: cycler>=0.10 in c:\\users\\acer\\appdata\\roaming\\python\\python313\\site-packages (from matplotlib!=3.6.1,>=3.4->seaborn) (0.12.1)\n",
            "Requirement already satisfied: fonttools>=4.22.0 in c:\\users\\acer\\appdata\\roaming\\python\\python313\\site-packages (from matplotlib!=3.6.1,>=3.4->seaborn) (4.55.3)\n",
            "Requirement already satisfied: kiwisolver>=1.3.1 in c:\\users\\acer\\appdata\\roaming\\python\\python313\\site-packages (from matplotlib!=3.6.1,>=3.4->seaborn) (1.4.8)\n",
            "Requirement already satisfied: packaging>=20.0 in c:\\users\\acer\\appdata\\roaming\\python\\python313\\site-packages (from matplotlib!=3.6.1,>=3.4->seaborn) (24.2)\n",
            "Requirement already satisfied: pillow>=8 in c:\\users\\acer\\appdata\\roaming\\python\\python313\\site-packages (from matplotlib!=3.6.1,>=3.4->seaborn) (11.1.0)\n",
            "Requirement already satisfied: pyparsing>=2.3.1 in c:\\users\\acer\\appdata\\roaming\\python\\python313\\site-packages (from matplotlib!=3.6.1,>=3.4->seaborn) (3.2.1)\n",
            "Requirement already satisfied: python-dateutil>=2.7 in c:\\users\\acer\\appdata\\roaming\\python\\python313\\site-packages (from matplotlib!=3.6.1,>=3.4->seaborn) (2.9.0.post0)\n",
            "Requirement already satisfied: pytz>=2020.1 in c:\\users\\acer\\appdata\\roaming\\python\\python313\\site-packages (from pandas>=1.2->seaborn) (2025.2)\n",
            "Requirement already satisfied: tzdata>=2022.7 in c:\\users\\acer\\appdata\\roaming\\python\\python313\\site-packages (from pandas>=1.2->seaborn) (2025.2)\n",
            "Requirement already satisfied: six>=1.5 in c:\\users\\acer\\appdata\\roaming\\python\\python313\\site-packages (from python-dateutil>=2.7->matplotlib!=3.6.1,>=3.4->seaborn) (1.17.0)\n",
            "Note: you may need to restart the kernel to use updated packages.\n"
          ]
        }
      ],
      "source": [
        "pip install seaborn"
      ]
    },
    {
      "cell_type": "code",
      "execution_count": null,
      "id": "5fc5b618-634c-4f71-b170-eb3a727c062d",
      "metadata": {
        "id": "5fc5b618-634c-4f71-b170-eb3a727c062d"
      },
      "outputs": [],
      "source": [
        "import matplotlib.pyplot as plt"
      ]
    },
    {
      "cell_type": "markdown",
      "id": "7163a18d-4034-4d69-b678-ee96c4822dfa",
      "metadata": {
        "id": "7163a18d-4034-4d69-b678-ee96c4822dfa"
      },
      "source": [
        "#Starting from the histogram =>single numeric variable\n",
        "=>for example: Age ko lagi herna sakinxa histogram\n",
        "=>syntax: plt.hist(column_name)\n",
        "=> used to see the distribution of the data\n"
      ]
    },
    {
      "cell_type": "code",
      "execution_count": null,
      "id": "c9a636e0-4913-47a5-820c-74ad1d94cb9c",
      "metadata": {
        "id": "c9a636e0-4913-47a5-820c-74ad1d94cb9c",
        "outputId": "6aa9fd35-9094-4464-d56d-4fe6598c56f0"
      },
      "outputs": [
        {
          "data": {
            "image/png": "[encoded data removed]",
            "text/plain": [
              "<Figure size 640x480 with 1 Axes>"
            ]
          },
          "metadata": {},
          "output_type": "display_data"
        }
      ],
      "source": [
        "plt.hist(dat.Age)\n",
        "plt.show()"
      ]
    },
    {
      "cell_type": "code",
      "execution_count": null,
      "id": "ad408ac0-3be8-4127-be9f-685d628e5dd1",
      "metadata": {
        "id": "ad408ac0-3be8-4127-be9f-685d628e5dd1",
        "outputId": "d55cfa3f-32d2-4c56-f81d-937e6b49996d"
      },
      "outputs": [
        {
          "data": {
            "image/png": "[encoded data removed]",
            "text/plain": [
              "<Figure size 640x480 with 1 Axes>"
            ]
          },
          "metadata": {},
          "output_type": "display_data"
        }
      ],
      "source": [
        "plt.hist(dat.Age)\n",
        "plt.title('Histogram of age')\n",
        "plt.xlabel('Age')\n",
        "plt.ylabel('count')\n",
        "plt.show()"
      ]
    },
    {
      "cell_type": "code",
      "execution_count": null,
      "id": "b8cf3d26-f220-41cc-a4f2-3d7436c6b716",
      "metadata": {
        "id": "b8cf3d26-f220-41cc-a4f2-3d7436c6b716"
      },
      "outputs": [],
      "source": [
        "# histrom ma class interval aafai banaunxa teslai chai Bins vaninxa\n",
        "# Bins\n",
        "-20-25\n",
        "-25-30\n"
      ]
    },
    {
      "cell_type": "code",
      "execution_count": null,
      "id": "cb6c0f2a-7956-4bbe-89ed-38610fc056cf",
      "metadata": {
        "id": "cb6c0f2a-7956-4bbe-89ed-38610fc056cf",
        "outputId": "35c30b6d-4b20-4b8e-e4ea-27f2399c2ee2"
      },
      "outputs": [
        {
          "data": {
            "image/png": "[encoded data removed]",
            "text/plain": [
              "<Figure size 640x480 with 1 Axes>"
            ]
          },
          "metadata": {},
          "output_type": "display_data"
        }
      ],
      "source": [
        "plt.hist(dat.Age,bins=5)\n",
        "plt.title('Histogram of age')\n",
        "plt.xlabel('Age')\n",
        "plt.ylabel('count')\n",
        "plt.show()"
      ]
    },
    {
      "cell_type": "code",
      "execution_count": null,
      "id": "b9b37faa-e894-47c6-8a1d-cf416bef1412",
      "metadata": {
        "collapsed": true,
        "jupyter": {
          "outputs_hidden": true
        },
        "scrolled": true,
        "id": "b9b37faa-e894-47c6-8a1d-cf416bef1412",
        "outputId": "0dfe3d8e-b86e-4bb6-b478-e7bf3a468f5a"
      },
      "outputs": [
        {
          "name": "stdout",
          "output_type": "stream",
          "text": [
            "Help on function hist in module matplotlib.pyplot:\n",
            "\n",
            "hist(\n",
            "    x: 'ArrayLike | Sequence[ArrayLike]',\n",
            "    bins: 'int | Sequence[float] | str | None' = None,\n",
            "    *,\n",
            "    range: 'tuple[float, float] | None' = None,\n",
            "    density: 'bool' = False,\n",
            "    weights: 'ArrayLike | None' = None,\n",
            "    cumulative: 'bool | float' = False,\n",
            "    bottom: 'ArrayLike | float | None' = None,\n",
            "    histtype: \"Literal['bar', 'barstacked', 'step', 'stepfilled']\" = 'bar',\n",
            "    align: \"Literal['left', 'mid', 'right']\" = 'mid',\n",
            "    orientation: \"Literal['vertical', 'horizontal']\" = 'vertical',\n",
            "    rwidth: 'float | None' = None,\n",
            "    log: 'bool' = False,\n",
            "    color: 'ColorType | Sequence[ColorType] | None' = None,\n",
            "    label: 'str | Sequence[str] | None' = None,\n",
            "    stacked: 'bool' = False,\n",
            "    data=None,\n",
            "    **kwargs\n",
            ") -> 'tuple[np.ndarray | list[np.ndarray], np.ndarray, BarContainer | Polygon | list[BarContainer | Polygon]]'\n",
            "    Compute and plot a histogram.\n",
            "\n",
            "    This method uses `numpy.histogram` to bin the data in *x* and count the\n",
            "    number of values in each bin, then draws the distribution either as a\n",
            "    `.BarContainer` or `.Polygon`. The *bins*, *range*, *density*, and\n",
            "    *weights* parameters are forwarded to `numpy.histogram`.\n",
            "\n",
            "    If the data has already been binned and counted, use `~.bar` or\n",
            "    `~.stairs` to plot the distribution::\n",
            "\n",
            "        counts, bins = np.histogram(x)\n",
            "        plt.stairs(counts, bins)\n",
            "\n",
            "    Alternatively, plot pre-computed bins and counts using ``hist()`` by\n",
            "    treating each bin as a single point with a weight equal to its count::\n",
            "\n",
            "        plt.hist(bins[:-1], bins, weights=counts)\n",
            "\n",
            "    The data input *x* can be a singular array, a list of datasets of\n",
            "    potentially different lengths ([*x0*, *x1*, ...]), or a 2D ndarray in\n",
            "    which each column is a dataset. Note that the ndarray form is\n",
            "    transposed relative to the list form. If the input is an array, then\n",
            "    the return value is a tuple (*n*, *bins*, *patches*); if the input is a\n",
            "    sequence of arrays, then the return value is a tuple\n",
            "    ([*n0*, *n1*, ...], *bins*, [*patches0*, *patches1*, ...]).\n",
            "\n",
            "    Masked arrays are not supported.\n",
            "\n",
            "    Parameters\n",
            "    ----------\n",
            "    x : (n,) array or sequence of (n,) arrays\n",
            "        Input values, this takes either a single array or a sequence of\n",
            "        arrays which are not required to be of the same length.\n",
            "\n",
            "    bins : int or sequence or str, default: :rc:`hist.bins`\n",
            "        If *bins* is an integer, it defines the number of equal-width bins\n",
            "        in the range.\n",
            "\n",
            "        If *bins* is a sequence, it defines the bin edges, including the\n",
            "        left edge of the first bin and the right edge of the last bin;\n",
            "        in this case, bins may be unequally spaced.  All but the last\n",
            "        (righthand-most) bin is half-open.  In other words, if *bins* is::\n",
            "\n",
            "            [1, 2, 3, 4]\n",
            "\n",
            "        then the first bin is ``[1, 2)`` (including 1, but excluding 2) and\n",
            "        the second ``[2, 3)``.  The last bin, however, is ``[3, 4]``, which\n",
            "        *includes* 4.\n",
            "\n",
            "        If *bins* is a string, it is one of the binning strategies\n",
            "        supported by `numpy.histogram_bin_edges`: 'auto', 'fd', 'doane',\n",
            "        'scott', 'stone', 'rice', 'sturges', or 'sqrt'.\n",
            "\n",
            "    range : tuple or None, default: None\n",
            "        The lower and upper range of the bins. Lower and upper outliers\n",
            "        are ignored. If not provided, *range* is ``(x.min(), x.max())``.\n",
            "        Range has no effect if *bins* is a sequence.\n",
            "\n",
            "        If *bins* is a sequence or *range* is specified, autoscaling\n",
            "        is based on the specified bin range instead of the\n",
            "        range of x.\n",
            "\n",
            "    density : bool, default: False\n",
            "        If ``True``, draw and return a probability density: each bin\n",
            "        will display the bin's raw count divided by the total number of\n",
            "        counts *and the bin width*\n",
            "        (``density = counts / (sum(counts) * np.diff(bins))``),\n",
            "        so that the area under the histogram integrates to 1\n",
            "        (``np.sum(density * np.diff(bins)) == 1``).\n",
            "\n",
            "        If *stacked* is also ``True``, the sum of the histograms is\n",
            "        normalized to 1.\n",
            "\n",
            "    weights : (n,) array-like or None, default: None\n",
            "        An array of weights, of the same shape as *x*.  Each value in\n",
            "        *x* only contributes its associated weight towards the bin count\n",
            "        (instead of 1).  If *density* is ``True``, the weights are\n",
            "        normalized, so that the integral of the density over the range\n",
            "        remains 1.\n",
            "\n",
            "    cumulative : bool or -1, default: False\n",
            "        If ``True``, then a histogram is computed where each bin gives the\n",
            "        counts in that bin plus all bins for smaller values. The last bin\n",
            "        gives the total number of datapoints.\n",
            "\n",
            "        If *density* is also ``True`` then the histogram is normalized such\n",
            "        that the last bin equals 1.\n",
            "\n",
            "        If *cumulative* is a number less than 0 (e.g., -1), the direction\n",
            "        of accumulation is reversed.  In this case, if *density* is also\n",
            "        ``True``, then the histogram is normalized such that the first bin\n",
            "        equals 1.\n",
            "\n",
            "    bottom : array-like, scalar, or None, default: None\n",
            "        Location of the bottom of each bin, i.e. bins are drawn from\n",
            "        ``bottom`` to ``bottom + hist(x, bins)`` If a scalar, the bottom\n",
            "        of each bin is shifted by the same amount. If an array, each bin\n",
            "        is shifted independently and the length of bottom must match the\n",
            "        number of bins. If None, defaults to 0.\n",
            "\n",
            "    histtype : {'bar', 'barstacked', 'step', 'stepfilled'}, default: 'bar'\n",
            "        The type of histogram to draw.\n",
            "\n",
            "        - 'bar' is a traditional bar-type histogram.  If multiple data\n",
            "          are given the bars are arranged side by side.\n",
            "        - 'barstacked' is a bar-type histogram where multiple\n",
            "          data are stacked on top of each other.\n",
            "        - 'step' generates a lineplot that is by default unfilled.\n",
            "        - 'stepfilled' generates a lineplot that is by default filled.\n",
            "\n",
            "    align : {'left', 'mid', 'right'}, default: 'mid'\n",
            "        The horizontal alignment of the histogram bars.\n",
            "\n",
            "        - 'left': bars are centered on the left bin edges.\n",
            "        - 'mid': bars are centered between the bin edges.\n",
            "        - 'right': bars are centered on the right bin edges.\n",
            "\n",
            "    orientation : {'vertical', 'horizontal'}, default: 'vertical'\n",
            "        If 'horizontal', `~.Axes.barh` will be used for bar-type histograms\n",
            "        and the *bottom* kwarg will be the left edges.\n",
            "\n",
            "    rwidth : float or None, default: None\n",
            "        The relative width of the bars as a fraction of the bin width.  If\n",
            "        ``None``, automatically compute the width.\n",
            "\n",
            "        Ignored if *histtype* is 'step' or 'stepfilled'.\n",
            "\n",
            "    log : bool, default: False\n",
            "        If ``True``, the histogram axis will be set to a log scale.\n",
            "\n",
            "    color : :mpltype:`color` or list of :mpltype:`color` or None, default: None\n",
            "        Color or sequence of colors, one per dataset.  Default (``None``)\n",
            "        uses the standard line color sequence.\n",
            "\n",
            "    label : str or list of str, optional\n",
            "        String, or sequence of strings to match multiple datasets.  Bar\n",
            "        charts yield multiple patches per dataset, but only the first gets\n",
            "        the label, so that `~.Axes.legend` will work as expected.\n",
            "\n",
            "    stacked : bool, default: False\n",
            "        If ``True``, multiple data are stacked on top of each other If\n",
            "        ``False`` multiple data are arranged side by side if histtype is\n",
            "        'bar' or on top of each other if histtype is 'step'\n",
            "\n",
            "    Returns\n",
            "    -------\n",
            "    n : array or list of arrays\n",
            "        The values of the histogram bins. See *density* and *weights* for a\n",
            "        description of the possible semantics.  If input *x* is an array,\n",
            "        then this is an array of length *nbins*. If input is a sequence of\n",
            "        arrays ``[data1, data2, ...]``, then this is a list of arrays with\n",
            "        the values of the histograms for each of the arrays in the same\n",
            "        order.  The dtype of the array *n* (or of its element arrays) will\n",
            "        always be float even if no weighting or normalization is used.\n",
            "\n",
            "    bins : array\n",
            "        The edges of the bins. Length nbins + 1 (nbins left edges and right\n",
            "        edge of last bin).  Always a single array even when multiple data\n",
            "        sets are passed in.\n",
            "\n",
            "    patches : `.BarContainer` or list of a single `.Polygon` or list of such objects\n",
            "        Container of individual artists used to create the histogram\n",
            "        or list of such containers if there are multiple input datasets.\n",
            "\n",
            "    Other Parameters\n",
            "    ----------------\n",
            "    data : indexable object, optional\n",
            "        If given, the following parameters also accept a string ``s``, which is\n",
            "        interpreted as ``data[s]`` if ``s`` is a key in ``data``:\n",
            "\n",
            "        *x*, *weights*\n",
            "\n",
            "    **kwargs\n",
            "        `~matplotlib.patches.Patch` properties. The following properties\n",
            "        additionally accept a sequence of values corresponding to the\n",
            "        datasets in *x*:\n",
            "        *edgecolor*, *facecolor*, *linewidth*, *linestyle*, *hatch*.\n",
            "\n",
            "        .. versionadded:: 3.10\n",
            "           Allowing sequences of values in above listed Patch properties.\n",
            "\n",
            "    See Also\n",
            "    --------\n",
            "    hist2d : 2D histogram with rectangular bins\n",
            "    hexbin : 2D histogram with hexagonal bins\n",
            "    stairs : Plot a pre-computed histogram\n",
            "    bar : Plot a pre-computed histogram\n",
            "\n",
            "    Notes\n",
            "    -----\n",
            "\n",
            "    .. note::\n",
            "\n",
            "        This is the :ref:`pyplot wrapper <pyplot_interface>` for `.axes.Axes.hist`.\n",
            "\n",
            "    For large numbers of bins (>1000), plotting can be significantly\n",
            "    accelerated by using `~.Axes.stairs` to plot a pre-computed histogram\n",
            "    (``plt.stairs(*np.histogram(data))``), or by setting *histtype* to\n",
            "    'step' or 'stepfilled' rather than 'bar' or 'barstacked'.\n",
            "\n"
          ]
        }
      ],
      "source": [
        "help(plt.hist)"
      ]
    },
    {
      "cell_type": "code",
      "execution_count": null,
      "id": "148be3af-108b-4254-a82b-fc3f6afc33a3",
      "metadata": {
        "id": "148be3af-108b-4254-a82b-fc3f6afc33a3"
      },
      "outputs": [],
      "source": []
    }
  ],
  "metadata": {
    "kernelspec": {
      "display_name": "Python 3 (ipykernel)",
      "language": "python",
      "name": "python3"
    },
    "language_info": {
      "codemirror_mode": {
        "name": "ipython",
        "version": 3
      },
      "file_extension": ".py",
      "mimetype": "text/x-python",
      "name": "python",
      "nbconvert_exporter": "python",
      "pygments_lexer": "ipython3",
      "version": "3.13.1"
    },
    "colab": {
      "provenance": [],
      "include_colab_link": true
    }
  },
  "nbformat": 4,
  "nbformat_minor": 5
}