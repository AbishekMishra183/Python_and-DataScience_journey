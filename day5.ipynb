{
  "cells": [
    {
      "cell_type": "markdown",
      "metadata": {
        "id": "view-in-github",
        "colab_type": "text"
      },
      "source": [
        "<a href=\"https://colab.research.google.com/github/AbishekMishra183/data-science-ml-journey/blob/main/day5.ipynb\" target=\"_parent\"><img src=\"https://colab.research.google.com/assets/colab-badge.svg\" alt=\"Open In Colab\"/></a>"
      ]
    },
    {
      "cell_type": "code",
      "execution_count": null,
      "id": "98aa34e6-95b4-4f36-9307-c5efa8438e63",
      "metadata": {
        "id": "98aa34e6-95b4-4f36-9307-c5efa8438e63",
        "outputId": "ea9fb273-ac1d-4d50-a1cd-1c000660f508"
      },
      "outputs": [
        {
          "name": "stdout",
          "output_type": "stream",
          "text": [
            "ram\n",
            "hari\n",
            "shyam\n",
            "gita\n"
          ]
        }
      ],
      "source": [
        "name=['ram','hari','shyam','gita']\n",
        "i=0# initializer\n",
        "while i<len(name):#condition\n",
        "    print(name[i])\n",
        "    i=i+1#incremental"
      ]
    },
    {
      "cell_type": "code",
      "execution_count": null,
      "id": "b6d894a2-ea63-4538-9ade-6a27e234844e",
      "metadata": {
        "id": "b6d894a2-ea63-4538-9ade-6a27e234844e",
        "outputId": "6e74559b-5d58-4075-9658-4fbb5a2ec4a2"
      },
      "outputs": [
        {
          "name": "stdout",
          "output_type": "stream",
          "text": [
            "10\n"
          ]
        }
      ],
      "source": [
        "numbers = [1, 2, 3, 4]\n",
        "sum = 0\n",
        "i = 0\n",
        "\n",
        "while i < len(numbers):\n",
        "    sum += numbers[i]\n",
        "    i += 1\n",
        "print(sum)  # Running total after each step\n"
      ]
    },
    {
      "cell_type": "code",
      "execution_count": null,
      "id": "44fe9367-4627-4314-9693-898dd0379bf2",
      "metadata": {
        "id": "44fe9367-4627-4314-9693-898dd0379bf2"
      },
      "outputs": [],
      "source": [
        "# for\n",
        "#=>dinite interation\n",
        "#=>if you know how many times you are iterating\n",
        "\n",
        "# while loop\n",
        "#=>infinite iteration\n",
        "#=>if you didnot know how many time you are iterationg\n"
      ]
    },
    {
      "cell_type": "raw",
      "id": "a1f311e8-c5f8-44fe-897a-cec73470ea56",
      "metadata": {
        "id": "a1f311e8-c5f8-44fe-897a-cec73470ea56"
      },
      "source": [
        "#generate infinite starting form 1\n",
        "i=1\n",
        "while True:\n",
        "    print(i)\n",
        "    i+=1"
      ]
    },
    {
      "cell_type": "code",
      "execution_count": null,
      "id": "67aeaec4-017a-49ed-8e35-573990190b7e",
      "metadata": {
        "id": "67aeaec4-017a-49ed-8e35-573990190b7e",
        "outputId": "b7d7d22b-d65b-4483-9eac-186f1e3f6b4e"
      },
      "outputs": [
        {
          "name": "stdin",
          "output_type": "stream",
          "text": [
            "Enter your age:  12\n"
          ]
        },
        {
          "name": "stdout",
          "output_type": "stream",
          "text": [
            "You are under 18. Try again.\n"
          ]
        },
        {
          "name": "stdin",
          "output_type": "stream",
          "text": [
            "Enter your age:  13\n"
          ]
        },
        {
          "name": "stdout",
          "output_type": "stream",
          "text": [
            "You are under 18. Try again.\n"
          ]
        },
        {
          "name": "stdin",
          "output_type": "stream",
          "text": [
            "Enter your age:  19\n"
          ]
        },
        {
          "name": "stdout",
          "output_type": "stream",
          "text": [
            "Congratulations! You are eligible.\n"
          ]
        }
      ],
      "source": [
        "age = int(input(\"Enter your age: \"))\n",
        "\n",
        "while age < 18:\n",
        "    print(\"You are under 18. Try again.\")\n",
        "    age = int(input(\"Enter your age: \"))\n",
        "\n",
        "print(\"Congratulations! You are eligible.\")\n",
        "\n",
        ""
      ]
    },
    {
      "cell_type": "code",
      "execution_count": null,
      "id": "fb6fe1e8-8449-4de2-9ef5-988d9cf02fa1",
      "metadata": {
        "id": "fb6fe1e8-8449-4de2-9ef5-988d9cf02fa1",
        "outputId": "4f8ae9c5-3235-45fb-ae32-2268869b6e64"
      },
      "outputs": [
        {
          "name": "stdout",
          "output_type": "stream",
          "text": [
            "2\n"
          ]
        }
      ],
      "source": [
        "#function\n",
        "x=1\n",
        "y=1\n",
        "sum=x+y\n",
        "print(sum)"
      ]
    },
    {
      "cell_type": "code",
      "execution_count": null,
      "id": "6465431f-e85a-4e71-a23a-ec2526e52bad",
      "metadata": {
        "id": "6465431f-e85a-4e71-a23a-ec2526e52bad"
      },
      "outputs": [],
      "source": [
        "def add():# function declaration\n",
        "  x=1\n",
        "  y=1\n",
        "  sum=x+y\n",
        "  print(sum)"
      ]
    },
    {
      "cell_type": "code",
      "execution_count": null,
      "id": "d45a5a45-e38b-4421-af9d-c35516341b52",
      "metadata": {
        "id": "d45a5a45-e38b-4421-af9d-c35516341b52",
        "outputId": "e64fb129-410c-4970-e206-d32a73e9f22b"
      },
      "outputs": [
        {
          "name": "stdout",
          "output_type": "stream",
          "text": [
            "2\n"
          ]
        }
      ],
      "source": [
        "add()#  calling the function"
      ]
    },
    {
      "cell_type": "code",
      "execution_count": null,
      "id": "f28d7ed2-c7fb-48c9-9104-259ee3d44ba2",
      "metadata": {
        "id": "f28d7ed2-c7fb-48c9-9104-259ee3d44ba2"
      },
      "outputs": [],
      "source": [
        "def add(x,y):# function declaration where x and y are called arguments\n",
        "\n",
        "  sum=x+y\n",
        "  print(sum)"
      ]
    },
    {
      "cell_type": "code",
      "execution_count": null,
      "id": "c1478519-8b7c-4402-9b6e-bdd24c15cce2",
      "metadata": {
        "id": "c1478519-8b7c-4402-9b6e-bdd24c15cce2",
        "outputId": "d1a5ad39-2b77-4e2f-b445-45a9a91926e4"
      },
      "outputs": [
        {
          "name": "stdout",
          "output_type": "stream",
          "text": [
            "2\n"
          ]
        }
      ],
      "source": [
        "add(2,6)# here 2 and 6 are parameeter"
      ]
    },
    {
      "cell_type": "code",
      "execution_count": null,
      "id": "3564ef57-5c60-4c29-b0e4-1eec09834f2f",
      "metadata": {
        "id": "3564ef57-5c60-4c29-b0e4-1eec09834f2f",
        "outputId": "59fe0b2f-1826-46e1-c6b5-cb921364e531"
      },
      "outputs": [
        {
          "ename": "TypeError",
          "evalue": "add() got multiple values for argument 'x'",
          "output_type": "error",
          "traceback": [
            "\u001b[31m---------------------------------------------------------------------------\u001b[39m",
            "\u001b[31mTypeError\u001b[39m                                 Traceback (most recent call last)",
            "\u001b[36mCell\u001b[39m\u001b[36m \u001b[39m\u001b[32mIn[8]\u001b[39m\u001b[32m, line 1\u001b[39m\n\u001b[32m----> \u001b[39m\u001b[32m1\u001b[39m \u001b[43madd\u001b[49m\u001b[43m(\u001b[49m\u001b[32;43m2\u001b[39;49m\u001b[43m,\u001b[49m\u001b[43mx\u001b[49m\u001b[43m=\u001b[49m\u001b[32;43m4\u001b[39;49m\u001b[43m)\u001b[49m\n",
            "\u001b[31mTypeError\u001b[39m: add() got multiple values for argument 'x'"
          ]
        }
      ],
      "source": [
        "add(2,x=4)# both value are teeated as x so this error occurs"
      ]
    },
    {
      "cell_type": "code",
      "execution_count": null,
      "id": "5fb63ded-1bd8-41c7-a4dc-1fadd49927e4",
      "metadata": {
        "id": "5fb63ded-1bd8-41c7-a4dc-1fadd49927e4",
        "outputId": "33a8fb1f-f231-4ebe-ecd0-0f74668aac3d"
      },
      "outputs": [
        {
          "ename": "SyntaxError",
          "evalue": "positional argument follows keyword argument (2957643209.py, line 1)",
          "output_type": "error",
          "traceback": [
            "  \u001b[36mCell\u001b[39m\u001b[36m \u001b[39m\u001b[32mIn[9]\u001b[39m\u001b[32m, line 1\u001b[39m\n\u001b[31m    \u001b[39m\u001b[31madd(x=2,4)\u001b[39m\n             ^\n\u001b[31mSyntaxError\u001b[39m\u001b[31m:\u001b[39m positional argument follows keyword argument\n"
          ]
        }
      ],
      "source": [
        "add(x=2,4)# x=>2 is the keyword argument so if we once write the keyword argument then in every case we have to use keyword argument"
      ]
    },
    {
      "cell_type": "code",
      "execution_count": null,
      "id": "00acd2a1-f2a1-4bfe-ba64-167fd362d586",
      "metadata": {
        "id": "00acd2a1-f2a1-4bfe-ba64-167fd362d586",
        "outputId": "4fffe9e9-dc85-4950-aa47-1ed617f24989"
      },
      "outputs": [
        {
          "name": "stdout",
          "output_type": "stream",
          "text": [
            "2\n"
          ]
        }
      ],
      "source": [
        "add(2,y=4)# we can write the keyword argument at the last not in the first\n",
        "\n"
      ]
    },
    {
      "cell_type": "code",
      "execution_count": null,
      "id": "072cfd38-25a4-48bb-b82b-473dea83dc52",
      "metadata": {
        "id": "072cfd38-25a4-48bb-b82b-473dea83dc52"
      },
      "outputs": [],
      "source": [
        "def add(x,y):# function declaration where x and y are called arguments\n",
        " sum=x+y\n",
        " return sum"
      ]
    },
    {
      "cell_type": "code",
      "execution_count": null,
      "id": "a633cddb-3bd6-447e-aa43-c12c4efa8691",
      "metadata": {
        "id": "a633cddb-3bd6-447e-aa43-c12c4efa8691"
      },
      "outputs": [],
      "source": [
        "s= add(2,5)"
      ]
    },
    {
      "cell_type": "code",
      "execution_count": null,
      "id": "5834618b-0fbe-4a2f-a8ec-41e1a3bdd2d7",
      "metadata": {
        "id": "5834618b-0fbe-4a2f-a8ec-41e1a3bdd2d7"
      },
      "outputs": [],
      "source": [
        "def add(x,y):# function declaration where x and y are called arguments\n",
        " sum=x+y\n",
        " return sum"
      ]
    },
    {
      "cell_type": "code",
      "execution_count": null,
      "id": "7a2b5964-4978-405e-aa27-5ee63f6ea1ce",
      "metadata": {
        "id": "7a2b5964-4978-405e-aa27-5ee63f6ea1ce",
        "outputId": "f5f7f287-08cd-42b4-9ad5-cd3073a5138e"
      },
      "outputs": [
        {
          "name": "stdout",
          "output_type": "stream",
          "text": [
            "5\n",
            "8\n"
          ]
        }
      ],
      "source": [
        "def add(x, y=0):\n",
        "    return x + y\n",
        "\n",
        "s = add(5)        # Only x is given, y defaults to 0\n",
        "print(s)          # Output: 5\n",
        "\n",
        "t = add(5, 3)     # Both x and y are given\n",
        "print(t)          # Output: 8\n"
      ]
    },
    {
      "cell_type": "code",
      "execution_count": null,
      "id": "0db8a6da-8bbe-487f-af05-053af683820a",
      "metadata": {
        "id": "0db8a6da-8bbe-487f-af05-053af683820a",
        "outputId": "50851097-1601-4e61-a808-a917484f3c5e"
      },
      "outputs": [
        {
          "name": "stdout",
          "output_type": "stream",
          "text": [
            "5\n"
          ]
        }
      ],
      "source": [
        "s = add(5)        # Only x is given, y defaults to 0\n",
        "print(s)"
      ]
    },
    {
      "cell_type": "code",
      "execution_count": null,
      "id": "71c61c95-ddaf-4462-a40d-cbf4014e9324",
      "metadata": {
        "id": "71c61c95-ddaf-4462-a40d-cbf4014e9324",
        "outputId": "68e14f60-fa35-48c5-b1b1-c421597d3dff"
      },
      "outputs": [
        {
          "name": "stdout",
          "output_type": "stream",
          "text": [
            "8\n"
          ]
        }
      ],
      "source": [
        "t = add(5, 3)     # Both x and y are given\n",
        "print(t)"
      ]
    },
    {
      "cell_type": "code",
      "execution_count": null,
      "id": "6b751c40-960f-4542-9557-6c50f4e8b809",
      "metadata": {
        "id": "6b751c40-960f-4542-9557-6c50f4e8b809"
      },
      "outputs": [],
      "source": [
        "def calculator(x,y):\n",
        "    add=x+y\n",
        "    sub=x-y\n",
        "    mul=x*y\n",
        "    div=x/y\n",
        "    return add# only first retuen will retuenn the value\n",
        "    return sub\n",
        "    return mul\n",
        "    return div"
      ]
    },
    {
      "cell_type": "code",
      "execution_count": null,
      "id": "d11bf2b4-d9a4-4051-9b2c-40068a3e0d54",
      "metadata": {
        "id": "d11bf2b4-d9a4-4051-9b2c-40068a3e0d54",
        "outputId": "e4a8ce9a-f81e-49c2-9e59-9ae13ec1730d"
      },
      "outputs": [
        {
          "name": "stdout",
          "output_type": "stream",
          "text": [
            "6\n"
          ]
        }
      ],
      "source": [
        "result= calculator(4,2)\n",
        "print (result)"
      ]
    },
    {
      "cell_type": "code",
      "execution_count": null,
      "id": "c749e86f-4417-408a-ab9c-f6ec46d22d0f",
      "metadata": {
        "id": "c749e86f-4417-408a-ab9c-f6ec46d22d0f",
        "outputId": "e7df9881-bbf5-4579-b960-bcb4a47b51e8"
      },
      "outputs": [
        {
          "name": "stdout",
          "output_type": "stream",
          "text": [
            "6\n"
          ]
        }
      ],
      "source": [
        "result= calculator(4,2)\n",
        "print (result)\n"
      ]
    },
    {
      "cell_type": "code",
      "execution_count": null,
      "id": "0acb799e-2ff8-4025-9cc7-cbf85f5b6053",
      "metadata": {
        "id": "0acb799e-2ff8-4025-9cc7-cbf85f5b6053"
      },
      "outputs": [],
      "source": [
        "def calculator(x,y):# muntiple return in the function and we get the tuple output\n",
        "    add=x+y\n",
        "    sub=x-y\n",
        "    mul=x*y\n",
        "    div=x/y\n",
        "    return add, sub, mul ,div# only first retuen will retuenn the value\n",
        ""
      ]
    },
    {
      "cell_type": "code",
      "execution_count": null,
      "id": "8b3e0bf6-28b8-45a6-8f8c-880c11824157",
      "metadata": {
        "id": "8b3e0bf6-28b8-45a6-8f8c-880c11824157",
        "outputId": "98ebad42-961b-4447-b84b-f168706dfb82"
      },
      "outputs": [
        {
          "name": "stdout",
          "output_type": "stream",
          "text": [
            "(6, 2, 8, 2.0)\n"
          ]
        }
      ],
      "source": [
        "result= calculator(4,2)\n",
        "print (result)"
      ]
    },
    {
      "cell_type": "code",
      "execution_count": null,
      "id": "38142e71-588c-4f0a-b146-1dde6a31ddee",
      "metadata": {
        "id": "38142e71-588c-4f0a-b146-1dde6a31ddee"
      },
      "outputs": [],
      "source": [
        "def addition(*args):# * is used to define any number of the arguments\n",
        "    print(args,type(args))"
      ]
    },
    {
      "cell_type": "code",
      "execution_count": null,
      "id": "7e3a044e-7830-4641-b236-c76dd4d6a05f",
      "metadata": {
        "id": "7e3a044e-7830-4641-b236-c76dd4d6a05f",
        "outputId": "2ca7a323-c2da-418e-d413-2a1bf757647b"
      },
      "outputs": [
        {
          "name": "stdout",
          "output_type": "stream",
          "text": [
            "(1, 2, 3) <class 'tuple'>\n"
          ]
        }
      ],
      "source": [
        "addition(1,2,3)"
      ]
    },
    {
      "cell_type": "code",
      "execution_count": null,
      "id": "7b854f5f-436c-4d64-acce-257bf29dbee9",
      "metadata": {
        "id": "7b854f5f-436c-4d64-acce-257bf29dbee9"
      },
      "outputs": [],
      "source": [
        "def addition(*args):\n",
        "    total = 0  # Initialize total to 0\n",
        "    for num in args:  # Loop through each argument\n",
        "        total += num  # Add each argument to total\n",
        "    return total\n",
        "\n",
        "\n"
      ]
    },
    {
      "cell_type": "code",
      "execution_count": null,
      "id": "adb728bd-c011-43d5-a7c6-314e3312e211",
      "metadata": {
        "id": "adb728bd-c011-43d5-a7c6-314e3312e211",
        "outputId": "440ec809-d79e-464d-df1c-9e1736d6c937"
      },
      "outputs": [
        {
          "data": {
            "text/plain": [
              "6"
            ]
          },
          "execution_count": 23,
          "metadata": {},
          "output_type": "execute_result"
        }
      ],
      "source": [
        "addition(1, 2, 3)#with giving 3 parameters"
      ]
    },
    {
      "cell_type": "code",
      "execution_count": null,
      "id": "ccb73791-3cad-4da0-b0a9-d30d3a321826",
      "metadata": {
        "id": "ccb73791-3cad-4da0-b0a9-d30d3a321826",
        "outputId": "c2942829-73c4-4fe5-8194-7fe7d81a7639"
      },
      "outputs": [
        {
          "data": {
            "text/plain": [
              "15"
            ]
          },
          "execution_count": 24,
          "metadata": {},
          "output_type": "execute_result"
        }
      ],
      "source": [
        "addition(5, 10) # with giving 2 parameter"
      ]
    },
    {
      "cell_type": "code",
      "execution_count": null,
      "id": "6d6d10ee-c202-4352-9776-319a602a8373",
      "metadata": {
        "id": "6d6d10ee-c202-4352-9776-319a602a8373",
        "outputId": "839be386-917b-4e6f-ee45-09a6531b4121"
      },
      "outputs": [
        {
          "data": {
            "text/plain": [
              "0"
            ]
          },
          "execution_count": 25,
          "metadata": {},
          "output_type": "execute_result"
        }
      ],
      "source": [
        "addition()  # without giving parameter"
      ]
    },
    {
      "cell_type": "code",
      "execution_count": null,
      "id": "9f3a59f3-21c1-477d-bc22-76039023f641",
      "metadata": {
        "id": "9f3a59f3-21c1-477d-bc22-76039023f641",
        "outputId": "76fe68f3-afd1-4eee-e1a4-08aa0ea74ca2"
      },
      "outputs": [
        {
          "data": {
            "text/plain": [
              "55"
            ]
          },
          "execution_count": 27,
          "metadata": {},
          "output_type": "execute_result"
        }
      ],
      "source": [
        "addition(1,2,3,4,5,6,7,8,9,10)"
      ]
    },
    {
      "cell_type": "code",
      "execution_count": null,
      "id": "7606b017-1996-4b31-8c4d-9286b1bf70a3",
      "metadata": {
        "id": "7606b017-1996-4b31-8c4d-9286b1bf70a3",
        "outputId": "f683cd5e-2abc-44b4-d573-f927b6229033"
      },
      "outputs": [
        {
          "ename": "TypeError",
          "evalue": "addition() got an unexpected keyword argument 'x'",
          "output_type": "error",
          "traceback": [
            "\u001b[31m---------------------------------------------------------------------------\u001b[39m",
            "\u001b[31mTypeError\u001b[39m                                 Traceback (most recent call last)",
            "\u001b[36mCell\u001b[39m\u001b[36m \u001b[39m\u001b[32mIn[29]\u001b[39m\u001b[32m, line 1\u001b[39m\n\u001b[32m----> \u001b[39m\u001b[32m1\u001b[39m \u001b[43maddition\u001b[49m\u001b[43m(\u001b[49m\u001b[43mx\u001b[49m\u001b[43m=\u001b[49m\u001b[32;43m2\u001b[39;49m\u001b[43m,\u001b[49m\u001b[43my\u001b[49m\u001b[43m=\u001b[49m\u001b[32;43m3\u001b[39;49m\u001b[43m)\u001b[49m\n",
            "\u001b[31mTypeError\u001b[39m: addition() got an unexpected keyword argument 'x'"
          ]
        }
      ],
      "source": [
        "addition(x=2,y=3)"
      ]
    },
    {
      "cell_type": "code",
      "execution_count": null,
      "id": "d77ff4e2-1af7-494c-93b9-d632d84ac71b",
      "metadata": {
        "id": "d77ff4e2-1af7-494c-93b9-d632d84ac71b"
      },
      "outputs": [],
      "source": [
        "def additon(**kwargs):\n",
        "    print(kargs,type(kwargs))"
      ]
    },
    {
      "cell_type": "code",
      "execution_count": null,
      "id": "9491c7de-22a1-4c92-a740-917ebaea8ab0",
      "metadata": {
        "id": "9491c7de-22a1-4c92-a740-917ebaea8ab0",
        "outputId": "6a963848-5121-4612-f0d1-1db0164f26d8"
      },
      "outputs": [
        {
          "ename": "TypeError",
          "evalue": "addition() got an unexpected keyword argument 'x'",
          "output_type": "error",
          "traceback": [
            "\u001b[31m---------------------------------------------------------------------------\u001b[39m",
            "\u001b[31mTypeError\u001b[39m                                 Traceback (most recent call last)",
            "\u001b[36mCell\u001b[39m\u001b[36m \u001b[39m\u001b[32mIn[35]\u001b[39m\u001b[32m, line 1\u001b[39m\n\u001b[32m----> \u001b[39m\u001b[32m1\u001b[39m \u001b[43maddition\u001b[49m\u001b[43m(\u001b[49m\u001b[43mx\u001b[49m\u001b[43m=\u001b[49m\u001b[32;43m1\u001b[39;49m\u001b[43m,\u001b[49m\u001b[43my\u001b[49m\u001b[43m=\u001b[49m\u001b[32;43m2\u001b[39;49m\u001b[43m)\u001b[49m\n",
            "\u001b[31mTypeError\u001b[39m: addition() got an unexpected keyword argument 'x'"
          ]
        }
      ],
      "source": [
        "addition(x=1,y=2)"
      ]
    },
    {
      "cell_type": "code",
      "execution_count": null,
      "id": "b4c38c4f-a890-4d15-8878-c7c58b6a9fc2",
      "metadata": {
        "id": "b4c38c4f-a890-4d15-8878-c7c58b6a9fc2"
      },
      "outputs": [],
      "source": [
        "def additon(**kwargs):\n",
        "    sum=0\n",
        "    for i in kwargs.value():\n",
        "        sum=sum+i\n",
        "        return sum\n",
        "\n",
        ""
      ]
    },
    {
      "cell_type": "code",
      "execution_count": null,
      "id": "79f58ae4-07dc-4a8f-a9a3-7bf98770ea38",
      "metadata": {
        "id": "79f58ae4-07dc-4a8f-a9a3-7bf98770ea38",
        "outputId": "a717bfda-d85c-4a24-e9c8-375f456d9ab5"
      },
      "outputs": [
        {
          "data": {
            "text/plain": [
              "3"
            ]
          },
          "execution_count": 38,
          "metadata": {},
          "output_type": "execute_result"
        }
      ],
      "source": [
        "addition(1,2)"
      ]
    },
    {
      "cell_type": "code",
      "execution_count": null,
      "id": "f5f5054a-a4fe-43bd-af07-68d1c1f0c7a4",
      "metadata": {
        "id": "f5f5054a-a4fe-43bd-af07-68d1c1f0c7a4"
      },
      "outputs": [],
      "source": [
        "def addition(*args,**kwargs):\n",
        "    sum=0\n",
        "    for i in args:\n",
        "        sum+=1\n",
        "    for i in kwargs.values():\n",
        "        sum+=1\n",
        "        return sum"
      ]
    },
    {
      "cell_type": "code",
      "execution_count": null,
      "id": "255a0c79-096f-4c0d-ac79-4911916824c5",
      "metadata": {
        "id": "255a0c79-096f-4c0d-ac79-4911916824c5",
        "outputId": "22ad019a-7587-4cad-bb0e-b91db89062f2"
      },
      "outputs": [
        {
          "data": {
            "text/plain": [
              "4"
            ]
          },
          "execution_count": 40,
          "metadata": {},
          "output_type": "execute_result"
        }
      ],
      "source": [
        "addition(3,4,5,x=1,y=2,a=5,z=4)"
      ]
    },
    {
      "cell_type": "code",
      "execution_count": null,
      "id": "52a7e8d3-6c0b-4711-bfc7-ea16f960ca32",
      "metadata": {
        "id": "52a7e8d3-6c0b-4711-bfc7-ea16f960ca32",
        "outputId": "7dc330e5-8156-4b12-a609-8e1731bf27ca"
      },
      "outputs": [
        {
          "name": "stdout",
          "output_type": "stream",
          "text": [
            "8\n"
          ]
        }
      ],
      "source": [
        "def hello():\n",
        "    xyz=8#function level=>local scope\n",
        "    print(xyz)\n",
        "hello()"
      ]
    },
    {
      "cell_type": "code",
      "execution_count": null,
      "id": "b5aaa7e5-d18a-497f-8367-7cc95d03bcf7",
      "metadata": {
        "id": "b5aaa7e5-d18a-497f-8367-7cc95d03bcf7",
        "outputId": "10f568e0-2907-4920-ee7a-6c8d20d3a5ee"
      },
      "outputs": [
        {
          "ename": "NameError",
          "evalue": "name 'xyz' is not defined",
          "output_type": "error",
          "traceback": [
            "\u001b[31m---------------------------------------------------------------------------\u001b[39m",
            "\u001b[31mNameError\u001b[39m                                 Traceback (most recent call last)",
            "\u001b[36mCell\u001b[39m\u001b[36m \u001b[39m\u001b[32mIn[42]\u001b[39m\u001b[32m, line 1\u001b[39m\n\u001b[32m----> \u001b[39m\u001b[32m1\u001b[39m \u001b[38;5;28mprint\u001b[39m(\u001b[43mxyz\u001b[49m)\n",
            "\u001b[31mNameError\u001b[39m: name 'xyz' is not defined"
          ]
        }
      ],
      "source": [
        "print(xyz)"
      ]
    },
    {
      "cell_type": "code",
      "execution_count": null,
      "id": "2e8bf227-28dc-4aea-9299-b5676807a112",
      "metadata": {
        "id": "2e8bf227-28dc-4aea-9299-b5676807a112",
        "outputId": "0dc5c60f-96b4-4078-824e-b5cc2997a3a8"
      },
      "outputs": [
        {
          "name": "stdout",
          "output_type": "stream",
          "text": [
            "shyam\n"
          ]
        }
      ],
      "source": [
        "name='shyam'# module level or global level scope\n",
        "print(name)"
      ]
    },
    {
      "cell_type": "code",
      "execution_count": null,
      "id": "92065e38-d347-4bf8-8265-065e099f6b4b",
      "metadata": {
        "id": "92065e38-d347-4bf8-8265-065e099f6b4b",
        "outputId": "b3845cac-3017-475a-d6d8-a89b255ea80b"
      },
      "outputs": [
        {
          "name": "stdout",
          "output_type": "stream",
          "text": [
            "shyam\n"
          ]
        }
      ],
      "source": [
        "def hi():\n",
        "    print(name)#first search in the local space then only move towards the global scope\n",
        "hi()"
      ]
    },
    {
      "cell_type": "code",
      "execution_count": null,
      "id": "50a56b64-c965-4b4a-b9c5-7745fb987339",
      "metadata": {
        "id": "50a56b64-c965-4b4a-b9c5-7745fb987339",
        "outputId": "f6df23b5-6fca-4424-f718-a27529a86882"
      },
      "outputs": [
        {
          "data": {
            "text/plain": [
              "3"
            ]
          },
          "execution_count": 46,
          "metadata": {},
          "output_type": "execute_result"
        }
      ],
      "source": [
        "max([1,2,3])"
      ]
    },
    {
      "cell_type": "code",
      "execution_count": null,
      "id": "587e148c-5e3e-4c86-8016-af05b4ef14d2",
      "metadata": {
        "id": "587e148c-5e3e-4c86-8016-af05b4ef14d2",
        "outputId": "4760af6f-0048-4be7-847f-347f5e34be1b"
      },
      "outputs": [
        {
          "data": {
            "text/plain": [
              "1"
            ]
          },
          "execution_count": 47,
          "metadata": {},
          "output_type": "execute_result"
        }
      ],
      "source": [
        "min([1,2,3])"
      ]
    },
    {
      "cell_type": "code",
      "execution_count": null,
      "id": "4372a335-0bf2-406c-82c8-d15a6d356c03",
      "metadata": {
        "id": "4372a335-0bf2-406c-82c8-d15a6d356c03",
        "outputId": "21049091-1971-48f0-9204-13c29a0a7bad"
      },
      "outputs": [
        {
          "data": {
            "text/plain": [
              "3"
            ]
          },
          "execution_count": 49,
          "metadata": {},
          "output_type": "execute_result"
        }
      ],
      "source": [
        "len([1,2,3])"
      ]
    },
    {
      "cell_type": "code",
      "execution_count": null,
      "id": "95b98e9f-4a14-4639-bbe9-b99955c8e6a0",
      "metadata": {
        "id": "95b98e9f-4a14-4639-bbe9-b99955c8e6a0",
        "outputId": "ea209341-e1b2-42f1-fb32-87c30bec04d7"
      },
      "outputs": [
        {
          "ename": "NameError",
          "evalue": "name 'age' is not defined",
          "output_type": "error",
          "traceback": [
            "\u001b[31m---------------------------------------------------------------------------\u001b[39m",
            "\u001b[31mNameError\u001b[39m                                 Traceback (most recent call last)",
            "\u001b[36mCell\u001b[39m\u001b[36m \u001b[39m\u001b[32mIn[51]\u001b[39m\u001b[32m, line 3\u001b[39m\n\u001b[32m      1\u001b[39m \u001b[38;5;28;01mdef\u001b[39;00m\u001b[38;5;250m \u001b[39m\u001b[34mhi\u001b[39m():\n\u001b[32m      2\u001b[39m     \u001b[38;5;28mprint\u001b[39m(age)\u001b[38;5;66;03m# first in the local scope then only in the global also after local it move towards the bulit \u001b[39;00m\n\u001b[32m----> \u001b[39m\u001b[32m3\u001b[39m \u001b[43mhi\u001b[49m\u001b[43m(\u001b[49m\u001b[43m)\u001b[49m\n",
            "\u001b[36mCell\u001b[39m\u001b[36m \u001b[39m\u001b[32mIn[51]\u001b[39m\u001b[32m, line 2\u001b[39m, in \u001b[36mhi\u001b[39m\u001b[34m()\u001b[39m\n\u001b[32m      1\u001b[39m \u001b[38;5;28;01mdef\u001b[39;00m\u001b[38;5;250m \u001b[39m\u001b[34mhi\u001b[39m():\n\u001b[32m----> \u001b[39m\u001b[32m2\u001b[39m     \u001b[38;5;28mprint\u001b[39m(\u001b[43mage\u001b[49m)\n",
            "\u001b[31mNameError\u001b[39m: name 'age' is not defined"
          ]
        }
      ],
      "source": [
        "def hi():\n",
        "    print(age)# first in the local scope then only in the global also after local it move towards the bulit\n",
        "hi()"
      ]
    },
    {
      "cell_type": "code",
      "execution_count": null,
      "id": "faa509a9-19ea-48b5-b47a-fad4a980c70d",
      "metadata": {
        "id": "faa509a9-19ea-48b5-b47a-fad4a980c70d"
      },
      "outputs": [],
      "source": [
        "#built in scope==anywhwere in the python file=>print , min , max, sorted\n",
        "#global scope== created variable within python file\n",
        "#local scope==inside function"
      ]
    },
    {
      "cell_type": "code",
      "execution_count": null,
      "id": "f763107d-c276-44ba-af67-87e94cd7f605",
      "metadata": {
        "id": "f763107d-c276-44ba-af67-87e94cd7f605"
      },
      "outputs": [],
      "source": []
    }
  ],
  "metadata": {
    "kernelspec": {
      "display_name": "Python 3 (ipykernel)",
      "language": "python",
      "name": "python3"
    },
    "language_info": {
      "codemirror_mode": {
        "name": "ipython",
        "version": 3
      },
      "file_extension": ".py",
      "mimetype": "text/x-python",
      "name": "python",
      "nbconvert_exporter": "python",
      "pygments_lexer": "ipython3",
      "version": "3.13.1"
    },
    "colab": {
      "provenance": [],
      "include_colab_link": true
    }
  },
  "nbformat": 4,
  "nbformat_minor": 5
}