{
  "cells": [
    {
      "cell_type": "markdown",
      "metadata": {
        "id": "view-in-github",
        "colab_type": "text"
      },
      "source": [
        "<a href=\"https://colab.research.google.com/github/AbishekMishra183/data-science-ml-journey/blob/main/day1.ipynb\" target=\"_parent\"><img src=\"https://colab.research.google.com/assets/colab-badge.svg\" alt=\"Open In Colab\"/></a>"
      ]
    },
    {
      "cell_type": "code",
      "execution_count": null,
      "id": "a5265787-0411-43f2-a13a-27aa8b826c6a",
      "metadata": {
        "id": "a5265787-0411-43f2-a13a-27aa8b826c6a",
        "outputId": "e6d0f994-1084-4782-e4db-eeaf9da30abd"
      },
      "outputs": [
        {
          "name": "stdout",
          "output_type": "stream",
          "text": [
            "2\n"
          ]
        }
      ],
      "source": [
        "x=1 # store value=> integer value / datatype/ datastructure\n",
        "y=2.5 # float\n",
        "sum =x+y\n",
        "print(sum)"
      ]
    },
    {
      "cell_type": "code",
      "execution_count": null,
      "id": "0d071a20-821e-4662-b008-d7bb4a73057a",
      "metadata": {
        "scrolled": true,
        "id": "0d071a20-821e-4662-b008-d7bb4a73057a",
        "outputId": "103be704-a0f2-4985-cecb-136140b9d0f0"
      },
      "outputs": [
        {
          "ename": "IndentationError",
          "evalue": "unexpected indent (3434323618.py, line 4)",
          "output_type": "error",
          "traceback": [
            "  \u001b[36mCell\u001b[39m\u001b[36m \u001b[39m\u001b[32mIn[3]\u001b[39m\u001b[32m, line 4\u001b[39m\n\u001b[31m    \u001b[39m\u001b[31msum =x+y\u001b[39m\n    ^\n\u001b[31mIndentationError\u001b[39m\u001b[31m:\u001b[39m unexpected indent\n"
          ]
        }
      ],
      "source": [
        "x=1 # store value=> integer value / datatype/ datastructure\n",
        "y=2.5 # float\n",
        "\n",
        "   sum =x+y# this line will show the indentention error due to space in the in the beiginning of the sum\n",
        "print(sum)"
      ]
    },
    {
      "cell_type": "code",
      "execution_count": null,
      "id": "f0915c8e-714f-4078-a1b8-9b4e820e1462",
      "metadata": {
        "id": "f0915c8e-714f-4078-a1b8-9b4e820e1462",
        "outputId": "5479b59d-6bfb-447e-eb7d-d1b702ec5851"
      },
      "outputs": [
        {
          "name": "stdout",
          "output_type": "stream",
          "text": [
            "<class 'int'>\n",
            "3.5\n",
            "140728094688168\n"
          ]
        }
      ],
      "source": [
        "x=1 # store value=> integer value / datatype/ datastructure\n",
        "y=2.5 # float\n",
        "name=\"ram\"# string\n",
        "sum =x+y\n",
        "print(type(x))# this is used to type check of the variable\n",
        "\n",
        "print(sum)\n",
        "print (id(x))# this is used to know the location of the variable"
      ]
    },
    {
      "cell_type": "code",
      "execution_count": null,
      "id": "a1e8adb7-e091-49da-a834-89251deb7eb6",
      "metadata": {
        "id": "a1e8adb7-e091-49da-a834-89251deb7eb6",
        "outputId": "cb9f8e93-0b80-4a89-f215-cd7cce9f9db0"
      },
      "outputs": [
        {
          "name": "stdout",
          "output_type": "stream",
          "text": [
            " my name is abishek.\n",
            "i live in the ktm\n"
          ]
        }
      ],
      "source": [
        "name=\"\"\" my name is abishek.\n",
        "i live in the ktm\"\"\"\n",
        "print(name)\n",
        "# this is the multiline foramting of the string ( three quataion)"
      ]
    },
    {
      "cell_type": "code",
      "execution_count": null,
      "id": "66d53a54-7ec9-4faa-b873-c0769311f97b",
      "metadata": {
        "id": "66d53a54-7ec9-4faa-b873-c0769311f97b",
        "outputId": "48a9f267-86ab-4936-d7dc-82412779d432"
      },
      "outputs": [
        {
          "name": "stdout",
          "output_type": "stream",
          "text": [
            "True\n"
          ]
        }
      ],
      "source": [
        "x= True\n",
        "print(x)"
      ]
    },
    {
      "cell_type": "code",
      "execution_count": null,
      "id": "85ff90ac-44bc-4803-9cd1-8b4b0835b305",
      "metadata": {
        "id": "85ff90ac-44bc-4803-9cd1-8b4b0835b305",
        "outputId": "997a8537-a0da-409e-cc8a-8f3b07391423"
      },
      "outputs": [
        {
          "name": "stdout",
          "output_type": "stream",
          "text": [
            "None <class 'NoneType'>\n"
          ]
        }
      ],
      "source": [
        "# for the null data type\n",
        "x=None\n",
        "print(x, type(x))"
      ]
    },
    {
      "cell_type": "code",
      "execution_count": null,
      "id": "b54cb3d1-48bb-47ca-b2b8-498c548667eb",
      "metadata": {
        "id": "b54cb3d1-48bb-47ca-b2b8-498c548667eb",
        "outputId": "97a7e25e-29f2-472a-8f2c-feb6e133375a"
      },
      "outputs": [
        {
          "name": "stdout",
          "output_type": "stream",
          "text": [
            "[1, 2, 3, 4] <class 'list'>\n"
          ]
        }
      ],
      "source": [
        "#list in the python\n",
        "x=[1,2,3,4]# list declaration\n",
        "print(x,type(x))"
      ]
    },
    {
      "cell_type": "code",
      "execution_count": null,
      "id": "574e3336-8bc7-4281-aa11-efedb7b07c0c",
      "metadata": {
        "id": "574e3336-8bc7-4281-aa11-efedb7b07c0c",
        "outputId": "2ee23ef0-3666-49f2-a4a7-9cb73f614592"
      },
      "outputs": [
        {
          "name": "stdout",
          "output_type": "stream",
          "text": [
            "(1, 2, 3, 4) <class 'tuple'>\n"
          ]
        }
      ],
      "source": [
        "# tuple datatype\n",
        "x=(1,2,3,4)\n",
        "print(x, type(x))"
      ]
    },
    {
      "cell_type": "code",
      "execution_count": null,
      "id": "16aef48c-8e3c-4380-812e-e3c9f2b5b037",
      "metadata": {
        "id": "16aef48c-8e3c-4380-812e-e3c9f2b5b037",
        "outputId": "119c8ec6-f73b-4a2e-857a-501449ed9d50"
      },
      "outputs": [
        {
          "name": "stdout",
          "output_type": "stream",
          "text": [
            "{1, 2, 3, 4} <class 'set'>\n"
          ]
        }
      ],
      "source": [
        "# set datatype\n",
        "x={1,2,3,4}\n",
        "print(x, type(x))"
      ]
    },
    {
      "cell_type": "code",
      "execution_count": null,
      "id": "080074ec-efb3-4ecd-980c-4ec730866204",
      "metadata": {
        "id": "080074ec-efb3-4ecd-980c-4ec730866204",
        "outputId": "4deed834-b974-43ac-880a-b85e916b67e3"
      },
      "outputs": [
        {
          "name": "stdout",
          "output_type": "stream",
          "text": [
            "{'name': 'ram', 'age': 22, 'address': 'ktm'} <class 'dict'>\n"
          ]
        }
      ],
      "source": [
        "# dictionary\n",
        "x={\n",
        "    'name':'ram',# here x is a key value and note the colon is vey important in this case\n",
        "    'age':22,\n",
        "    'address':'ktm'\n",
        "}\n",
        "print(x,type(x))"
      ]
    },
    {
      "cell_type": "code",
      "execution_count": null,
      "id": "a6114ff9-f702-4a17-809c-1278c350ad37",
      "metadata": {
        "id": "a6114ff9-f702-4a17-809c-1278c350ad37",
        "outputId": "f2a82a72-137a-4b44-a4b7-87648a588fa8"
      },
      "outputs": [
        {
          "name": "stdin",
          "output_type": "stream",
          "text": [
            "enter the value ox x 2\n",
            "enter the value of y 3\n"
          ]
        },
        {
          "name": "stdout",
          "output_type": "stream",
          "text": [
            "The sum of 2 and 3 is 5\n"
          ]
        }
      ],
      "source": [
        "# to take the value from the user\n",
        "x= int(input(\"enter the value ox x\"))\n",
        "y= int(input(\"enter the value of y\"))\n",
        "sum =x+y\n",
        "print(f\"The sum of {x} and {y} is {sum}\")"
      ]
    },
    {
      "cell_type": "code",
      "execution_count": null,
      "id": "4aa3916c-81d6-45cb-97ae-4f50d74b73ea",
      "metadata": {
        "id": "4aa3916c-81d6-45cb-97ae-4f50d74b73ea",
        "outputId": "187ef086-b56b-462f-848c-a8a37173fda0"
      },
      "outputs": [
        {
          "data": {
            "text/plain": [
              "25"
            ]
          },
          "execution_count": 22,
          "metadata": {},
          "output_type": "execute_result"
        }
      ],
      "source": [
        "2+3# for the addition\n",
        "2-3# for the subtraction\n",
        "2*3# for multiplication\n",
        "5/2# for division output  of the float\n",
        "5//2# division output in the integer\n",
        "5**2 # for the exponent\n",
        "\n"
      ]
    },
    {
      "cell_type": "code",
      "execution_count": null,
      "id": "c70cc9b8-af70-43be-837b-5500f56e0c6a",
      "metadata": {
        "id": "c70cc9b8-af70-43be-837b-5500f56e0c6a",
        "outputId": "5137899f-2b1f-44b5-bb7c-4590c9229dce"
      },
      "outputs": [
        {
          "data": {
            "text/plain": [
              "7"
            ]
          },
          "execution_count": 23,
          "metadata": {},
          "output_type": "execute_result"
        }
      ],
      "source": [
        "name=\"Abishek\"\n",
        "len(name)"
      ]
    },
    {
      "cell_type": "code",
      "execution_count": null,
      "id": "f8601d8a-68c3-4741-b995-7144a55342f1",
      "metadata": {
        "id": "f8601d8a-68c3-4741-b995-7144a55342f1",
        "outputId": "84e47d08-4ec8-482c-a7d8-48e31e336634"
      },
      "outputs": [
        {
          "data": {
            "text/plain": [
              "False"
            ]
          },
          "execution_count": 24,
          "metadata": {},
          "output_type": "execute_result"
        }
      ],
      "source": [
        "len(\"apple\")==len(\"banana\")"
      ]
    },
    {
      "cell_type": "code",
      "execution_count": null,
      "id": "b13ce75d-6f6b-4ee9-8a63-f189a9def06a",
      "metadata": {
        "id": "b13ce75d-6f6b-4ee9-8a63-f189a9def06a",
        "outputId": "26f2906a-4677-4d1e-8cec-b718fc71621b"
      },
      "outputs": [
        {
          "data": {
            "text/plain": [
              "False"
            ]
          },
          "execution_count": 26,
          "metadata": {},
          "output_type": "execute_result"
        }
      ],
      "source": [
        "False or True and False\n",
        "# false or false\n",
        "#false"
      ]
    },
    {
      "cell_type": "code",
      "execution_count": null,
      "id": "9a3bff1a-a8da-4dbe-b4fd-37eeff78e2b5",
      "metadata": {
        "id": "9a3bff1a-a8da-4dbe-b4fd-37eeff78e2b5"
      },
      "outputs": [],
      "source": [
        "#precedence\n",
        "#small brackett\n",
        "# and\n",
        "# or"
      ]
    },
    {
      "cell_type": "code",
      "execution_count": null,
      "id": "fac7d338-c5a8-4769-8fe3-81de80bf89c6",
      "metadata": {
        "id": "fac7d338-c5a8-4769-8fe3-81de80bf89c6",
        "outputId": "88193f3e-8151-44c0-9ba5-76f51ca58835"
      },
      "outputs": [
        {
          "name": "stdout",
          "output_type": "stream",
          "text": [
            "140728094688200\n",
            "140728094688232\n"
          ]
        },
        {
          "data": {
            "text/plain": [
              "False"
            ]
          },
          "execution_count": 28,
          "metadata": {},
          "output_type": "execute_result"
        }
      ],
      "source": [
        "x=2\n",
        "y=3\n",
        "print(id(x))\n",
        "print(id(y))\n",
        "x is y# this is used to check if they have same memory address or not"
      ]
    },
    {
      "cell_type": "code",
      "execution_count": null,
      "id": "3ce68fe5-2c2e-4e38-b57b-cde77056842f",
      "metadata": {
        "id": "3ce68fe5-2c2e-4e38-b57b-cde77056842f",
        "outputId": "d628f942-3f57-4b9a-f278-e4e862418ec1"
      },
      "outputs": [
        {
          "data": {
            "text/plain": [
              "True"
            ]
          },
          "execution_count": 29,
          "metadata": {},
          "output_type": "execute_result"
        }
      ],
      "source": [
        "# membership operator => to check if the value exist( in that list , string, set or tuple )\n",
        "1 in [1,2,3,4,5]"
      ]
    },
    {
      "cell_type": "code",
      "execution_count": null,
      "id": "43205839-da30-48b1-8027-09a2cd1dabff",
      "metadata": {
        "id": "43205839-da30-48b1-8027-09a2cd1dabff",
        "outputId": "fac887ae-946f-43a0-8dbc-f0fd56ee7c08"
      },
      "outputs": [
        {
          "data": {
            "text/plain": [
              "True"
            ]
          },
          "execution_count": 30,
          "metadata": {},
          "output_type": "execute_result"
        }
      ],
      "source": [
        "'a' in 'ramesh'"
      ]
    },
    {
      "cell_type": "code",
      "execution_count": null,
      "id": "fb519547-36e4-4489-9c37-f49640406776",
      "metadata": {
        "id": "fb519547-36e4-4489-9c37-f49640406776",
        "outputId": "d3808e13-054f-43bf-d404-c382a50b92ee"
      },
      "outputs": [
        {
          "data": {
            "text/plain": [
              "False"
            ]
          },
          "execution_count": 31,
          "metadata": {},
          "output_type": "execute_result"
        }
      ],
      "source": [
        "'a' in ['A','B']"
      ]
    },
    {
      "cell_type": "code",
      "execution_count": null,
      "id": "850bdc51-7b6c-46fb-83cb-3040e2e9f7f7",
      "metadata": {
        "id": "850bdc51-7b6c-46fb-83cb-3040e2e9f7f7",
        "outputId": "2a06a63b-3656-40f0-a7de-b4042990787a"
      },
      "outputs": [
        {
          "data": {
            "text/plain": [
              "False"
            ]
          },
          "execution_count": 32,
          "metadata": {},
          "output_type": "execute_result"
        }
      ],
      "source": [
        "(1.1)+(2.2)==3.3 # due to less precision for this we have to import decimal"
      ]
    },
    {
      "cell_type": "code",
      "execution_count": null,
      "id": "fccf9ea5-11ce-41c7-98ad-53a552d1d8bb",
      "metadata": {
        "id": "fccf9ea5-11ce-41c7-98ad-53a552d1d8bb",
        "outputId": "59f6e977-dc38-410f-efb7-2d8b33eff015"
      },
      "outputs": [
        {
          "data": {
            "text/plain": [
              "True"
            ]
          },
          "execution_count": 34,
          "metadata": {},
          "output_type": "execute_result"
        }
      ],
      "source": [
        "from decimal import Decimal\n",
        "Decimal('1.1')+Decimal('2.2')==Decimal('3.3') # after inserting the decimal we get the correct precision\n"
      ]
    },
    {
      "cell_type": "code",
      "execution_count": null,
      "id": "1bfd654e-4581-4d1c-8608-5ce92cecb8ea",
      "metadata": {
        "id": "1bfd654e-4581-4d1c-8608-5ce92cecb8ea",
        "outputId": "43daf1a2-460b-495f-b411-877c4e924c9a"
      },
      "outputs": [
        {
          "data": {
            "text/plain": [
              "True"
            ]
          },
          "execution_count": 35,
          "metadata": {},
          "output_type": "execute_result"
        }
      ],
      "source": [
        "from decimal import Decimal as D# also can be used like this (alias)\n",
        "D('1.1')+D('2.2')==D('3.3') # after inserting the decimal we get the correct precision\n"
      ]
    },
    {
      "cell_type": "code",
      "execution_count": null,
      "id": "9fdfabcf-3a0f-4f42-927d-e8785d3e437e",
      "metadata": {
        "id": "9fdfabcf-3a0f-4f42-927d-e8785d3e437e",
        "outputId": "1ebe7b8a-fcd5-4d32-a783-65ab28d72b1e"
      },
      "outputs": [
        {
          "name": "stdout",
          "output_type": "stream",
          "text": [
            "3.141592653589793\n"
          ]
        }
      ],
      "source": [
        "from math import pi# all the modules are used in this library of the math\n",
        "print(pi)"
      ]
    },
    {
      "cell_type": "code",
      "execution_count": null,
      "id": "9505b3ba-ec4f-438e-a8b2-f90bb630776b",
      "metadata": {
        "id": "9505b3ba-ec4f-438e-a8b2-f90bb630776b",
        "outputId": "1bcfd9dc-65a5-4a43-b72c-62e60046a813"
      },
      "outputs": [
        {
          "name": "stdout",
          "output_type": "stream",
          "text": [
            "-1.0\n",
            "22026.465794806718\n"
          ]
        }
      ],
      "source": [
        "import math\n",
        "print (math.cos(math.pi))# cos pi=-1\n",
        "print (math.exp(10))"
      ]
    },
    {
      "cell_type": "code",
      "execution_count": null,
      "id": "e8f87075-c191-46d3-86cf-a4894ff74b95",
      "metadata": {
        "id": "e8f87075-c191-46d3-86cf-a4894ff74b95",
        "outputId": "b569277f-03e6-4a5e-e021-37bc108b56ca"
      },
      "outputs": [
        {
          "name": "stdout",
          "output_type": "stream",
          "text": [
            "Help on built-in module math:\n",
            "\n",
            "NAME\n",
            "    math\n",
            "\n",
            "DESCRIPTION\n",
            "    This module provides access to the mathematical functions\n",
            "    defined by the C standard.\n",
            "\n",
            "FUNCTIONS\n",
            "    acos(x, /)\n",
            "        Return the arc cosine (measured in radians) of x.\n",
            "\n",
            "        The result is between 0 and pi.\n",
            "\n",
            "    acosh(x, /)\n",
            "        Return the inverse hyperbolic cosine of x.\n",
            "\n",
            "    asin(x, /)\n",
            "        Return the arc sine (measured in radians) of x.\n",
            "\n",
            "        The result is between -pi/2 and pi/2.\n",
            "\n",
            "    asinh(x, /)\n",
            "        Return the inverse hyperbolic sine of x.\n",
            "\n",
            "    atan(x, /)\n",
            "        Return the arc tangent (measured in radians) of x.\n",
            "\n",
            "        The result is between -pi/2 and pi/2.\n",
            "\n",
            "    atan2(y, x, /)\n",
            "        Return the arc tangent (measured in radians) of y/x.\n",
            "\n",
            "        Unlike atan(y/x), the signs of both x and y are considered.\n",
            "\n",
            "    atanh(x, /)\n",
            "        Return the inverse hyperbolic tangent of x.\n",
            "\n",
            "    cbrt(x, /)\n",
            "        Return the cube root of x.\n",
            "\n",
            "    ceil(x, /)\n",
            "        Return the ceiling of x as an Integral.\n",
            "\n",
            "        This is the smallest integer >= x.\n",
            "\n",
            "    comb(n, k, /)\n",
            "        Number of ways to choose k items from n items without repetition and without order.\n",
            "\n",
            "        Evaluates to n! / (k! * (n - k)!) when k <= n and evaluates\n",
            "        to zero when k > n.\n",
            "\n",
            "        Also called the binomial coefficient because it is equivalent\n",
            "        to the coefficient of k-th term in polynomial expansion of the\n",
            "        expression (1 + x)**n.\n",
            "\n",
            "        Raises TypeError if either of the arguments are not integers.\n",
            "        Raises ValueError if either of the arguments are negative.\n",
            "\n",
            "    copysign(x, y, /)\n",
            "        Return a float with the magnitude (absolute value) of x but the sign of y.\n",
            "\n",
            "        On platforms that support signed zeros, copysign(1.0, -0.0)\n",
            "        returns -1.0.\n",
            "\n",
            "    cos(x, /)\n",
            "        Return the cosine of x (measured in radians).\n",
            "\n",
            "    cosh(x, /)\n",
            "        Return the hyperbolic cosine of x.\n",
            "\n",
            "    degrees(x, /)\n",
            "        Convert angle x from radians to degrees.\n",
            "\n",
            "    dist(p, q, /)\n",
            "        Return the Euclidean distance between two points p and q.\n",
            "\n",
            "        The points should be specified as sequences (or iterables) of\n",
            "        coordinates.  Both inputs must have the same dimension.\n",
            "\n",
            "        Roughly equivalent to:\n",
            "            sqrt(sum((px - qx) ** 2.0 for px, qx in zip(p, q)))\n",
            "\n",
            "    erf(x, /)\n",
            "        Error function at x.\n",
            "\n",
            "    erfc(x, /)\n",
            "        Complementary error function at x.\n",
            "\n",
            "    exp(x, /)\n",
            "        Return e raised to the power of x.\n",
            "\n",
            "    exp2(x, /)\n",
            "        Return 2 raised to the power of x.\n",
            "\n",
            "    expm1(x, /)\n",
            "        Return exp(x)-1.\n",
            "\n",
            "        This function avoids the loss of precision involved in the direct evaluation of exp(x)-1 for small x.\n",
            "\n",
            "    fabs(x, /)\n",
            "        Return the absolute value of the float x.\n",
            "\n",
            "    factorial(n, /)\n",
            "        Find n!.\n",
            "\n",
            "        Raise a ValueError if x is negative or non-integral.\n",
            "\n",
            "    floor(x, /)\n",
            "        Return the floor of x as an Integral.\n",
            "\n",
            "        This is the largest integer <= x.\n",
            "\n",
            "    fma(x, y, z, /)\n",
            "        Fused multiply-add operation.\n",
            "\n",
            "        Compute (x * y) + z with a single round.\n",
            "\n",
            "    fmod(x, y, /)\n",
            "        Return fmod(x, y), according to platform C.\n",
            "\n",
            "        x % y may differ.\n",
            "\n",
            "    frexp(x, /)\n",
            "        Return the mantissa and exponent of x, as pair (m, e).\n",
            "\n",
            "        m is a float and e is an int, such that x = m * 2.**e.\n",
            "        If x is 0, m and e are both 0.  Else 0.5 <= abs(m) < 1.0.\n",
            "\n",
            "    fsum(seq, /)\n",
            "        Return an accurate floating-point sum of values in the iterable seq.\n",
            "\n",
            "        Assumes IEEE-754 floating-point arithmetic.\n",
            "\n",
            "    gamma(x, /)\n",
            "        Gamma function at x.\n",
            "\n",
            "    gcd(*integers)\n",
            "        Greatest Common Divisor.\n",
            "\n",
            "    hypot(...)\n",
            "        hypot(*coordinates) -> value\n",
            "\n",
            "        Multidimensional Euclidean distance from the origin to a point.\n",
            "\n",
            "        Roughly equivalent to:\n",
            "            sqrt(sum(x**2 for x in coordinates))\n",
            "\n",
            "        For a two dimensional point (x, y), gives the hypotenuse\n",
            "        using the Pythagorean theorem:  sqrt(x*x + y*y).\n",
            "\n",
            "        For example, the hypotenuse of a 3/4/5 right triangle is:\n",
            "\n",
            "            >>> hypot(3.0, 4.0)\n",
            "            5.0\n",
            "\n",
            "    isclose(a, b, *, rel_tol=1e-09, abs_tol=0.0)\n",
            "        Determine whether two floating-point numbers are close in value.\n",
            "\n",
            "          rel_tol\n",
            "            maximum difference for being considered \"close\", relative to the\n",
            "            magnitude of the input values\n",
            "          abs_tol\n",
            "            maximum difference for being considered \"close\", regardless of the\n",
            "            magnitude of the input values\n",
            "\n",
            "        Return True if a is close in value to b, and False otherwise.\n",
            "\n",
            "        For the values to be considered close, the difference between them\n",
            "        must be smaller than at least one of the tolerances.\n",
            "\n",
            "        -inf, inf and NaN behave similarly to the IEEE 754 Standard.  That\n",
            "        is, NaN is not close to anything, even itself.  inf and -inf are\n",
            "        only close to themselves.\n",
            "\n",
            "    isfinite(x, /)\n",
            "        Return True if x is neither an infinity nor a NaN, and False otherwise.\n",
            "\n",
            "    isinf(x, /)\n",
            "        Return True if x is a positive or negative infinity, and False otherwise.\n",
            "\n",
            "    isnan(x, /)\n",
            "        Return True if x is a NaN (not a number), and False otherwise.\n",
            "\n",
            "    isqrt(n, /)\n",
            "        Return the integer part of the square root of the input.\n",
            "\n",
            "    lcm(*integers)\n",
            "        Least Common Multiple.\n",
            "\n",
            "    ldexp(x, i, /)\n",
            "        Return x * (2**i).\n",
            "\n",
            "        This is essentially the inverse of frexp().\n",
            "\n",
            "    lgamma(x, /)\n",
            "        Natural logarithm of absolute value of Gamma function at x.\n",
            "\n",
            "    log(...)\n",
            "        log(x, [base=math.e])\n",
            "        Return the logarithm of x to the given base.\n",
            "\n",
            "        If the base is not specified, returns the natural logarithm (base e) of x.\n",
            "\n",
            "    log10(x, /)\n",
            "        Return the base 10 logarithm of x.\n",
            "\n",
            "    log1p(x, /)\n",
            "        Return the natural logarithm of 1+x (base e).\n",
            "\n",
            "        The result is computed in a way which is accurate for x near zero.\n",
            "\n",
            "    log2(x, /)\n",
            "        Return the base 2 logarithm of x.\n",
            "\n",
            "    modf(x, /)\n",
            "        Return the fractional and integer parts of x.\n",
            "\n",
            "        Both results carry the sign of x and are floats.\n",
            "\n",
            "    nextafter(x, y, /, *, steps=None)\n",
            "        Return the floating-point value the given number of steps after x towards y.\n",
            "\n",
            "        If steps is not specified or is None, it defaults to 1.\n",
            "\n",
            "        Raises a TypeError, if x or y is not a double, or if steps is not an integer.\n",
            "        Raises ValueError if steps is negative.\n",
            "\n",
            "    perm(n, k=None, /)\n",
            "        Number of ways to choose k items from n items without repetition and with order.\n",
            "\n",
            "        Evaluates to n! / (n - k)! when k <= n and evaluates\n",
            "        to zero when k > n.\n",
            "\n",
            "        If k is not specified or is None, then k defaults to n\n",
            "        and the function returns n!.\n",
            "\n",
            "        Raises TypeError if either of the arguments are not integers.\n",
            "        Raises ValueError if either of the arguments are negative.\n",
            "\n",
            "    pow(x, y, /)\n",
            "        Return x**y (x to the power of y).\n",
            "\n",
            "    prod(iterable, /, *, start=1)\n",
            "        Calculate the product of all the elements in the input iterable.\n",
            "\n",
            "        The default start value for the product is 1.\n",
            "\n",
            "        When the iterable is empty, return the start value.  This function is\n",
            "        intended specifically for use with numeric values and may reject\n",
            "        non-numeric types.\n",
            "\n",
            "    radians(x, /)\n",
            "        Convert angle x from degrees to radians.\n",
            "\n",
            "    remainder(x, y, /)\n",
            "        Difference between x and the closest integer multiple of y.\n",
            "\n",
            "        Return x - n*y where n*y is the closest integer multiple of y.\n",
            "        In the case where x is exactly halfway between two multiples of\n",
            "        y, the nearest even value of n is used. The result is always exact.\n",
            "\n",
            "    sin(x, /)\n",
            "        Return the sine of x (measured in radians).\n",
            "\n",
            "    sinh(x, /)\n",
            "        Return the hyperbolic sine of x.\n",
            "\n",
            "    sqrt(x, /)\n",
            "        Return the square root of x.\n",
            "\n",
            "    sumprod(p, q, /)\n",
            "        Return the sum of products of values from two iterables p and q.\n",
            "\n",
            "        Roughly equivalent to:\n",
            "\n",
            "            sum(itertools.starmap(operator.mul, zip(p, q, strict=True)))\n",
            "\n",
            "        For float and mixed int/float inputs, the intermediate products\n",
            "        and sums are computed with extended precision.\n",
            "\n",
            "    tan(x, /)\n",
            "        Return the tangent of x (measured in radians).\n",
            "\n",
            "    tanh(x, /)\n",
            "        Return the hyperbolic tangent of x.\n",
            "\n",
            "    trunc(x, /)\n",
            "        Truncates the Real x to the nearest Integral toward 0.\n",
            "\n",
            "        Uses the __trunc__ magic method.\n",
            "\n",
            "    ulp(x, /)\n",
            "        Return the value of the least significant bit of the float x.\n",
            "\n",
            "DATA\n",
            "    e = 2.718281828459045\n",
            "    inf = inf\n",
            "    nan = nan\n",
            "    pi = 3.141592653589793\n",
            "    tau = 6.283185307179586\n",
            "\n",
            "FILE\n",
            "    (built-in)\n",
            "\n",
            "\n"
          ]
        }
      ],
      "source": [
        "help(math) # to find the math library"
      ]
    },
    {
      "cell_type": "code",
      "execution_count": null,
      "id": "89843d75-f3ff-4658-aec3-ddc779494766",
      "metadata": {
        "id": "89843d75-f3ff-4658-aec3-ddc779494766",
        "outputId": "6fbeb573-2148-4a49-f724-7708dc69687d"
      },
      "outputs": [
        {
          "name": "stdout",
          "output_type": "stream",
          "text": [
            "this is the string <class 'str'>\n"
          ]
        }
      ],
      "source": [
        "s=\"this is the string\"# to print the type of the string\n",
        "print(s,type(s))"
      ]
    },
    {
      "cell_type": "code",
      "execution_count": null,
      "id": "d38da2ad-2d74-41d9-8d5c-5df364fae941",
      "metadata": {
        "id": "d38da2ad-2d74-41d9-8d5c-5df364fae941",
        "outputId": "7942088f-e986-4e9a-ba0e-3034cea781f3"
      },
      "outputs": [
        {
          "name": "stdout",
          "output_type": "stream",
          "text": [
            "t\n"
          ]
        }
      ],
      "source": [
        "s=\"this is the string\"# this is used for the indexing\n",
        "print(s[0])"
      ]
    },
    {
      "cell_type": "code",
      "execution_count": null,
      "id": "a04f49cd-bf86-46fd-8892-6249bedd7d51",
      "metadata": {
        "id": "a04f49cd-bf86-46fd-8892-6249bedd7d51",
        "outputId": "f9cacf07-fae8-43e0-e561-5dbb937d3336"
      },
      "outputs": [
        {
          "name": "stdout",
          "output_type": "stream",
          "text": [
            "i\n"
          ]
        }
      ],
      "source": [
        "s=\"this is the string\" # indexing\n",
        "print(s[5])"
      ]
    },
    {
      "cell_type": "code",
      "execution_count": null,
      "id": "3ef92e25-0557-4d8d-8f49-8b835be9db2d",
      "metadata": {
        "id": "3ef92e25-0557-4d8d-8f49-8b835be9db2d",
        "outputId": "c3cea778-24f5-45aa-f2f6-643e50a72c31"
      },
      "outputs": [
        {
          "data": {
            "text/plain": [
              "'this'"
            ]
          },
          "execution_count": 43,
          "metadata": {},
          "output_type": "execute_result"
        }
      ],
      "source": [
        "s=\"this is the string\"\n",
        "s[0:4] # slicing => this  is used for finding the actual string where we need here 0 is the start and 4 represents the ending character\n"
      ]
    },
    {
      "cell_type": "code",
      "execution_count": null,
      "id": "d2fd32ff-c66b-44dc-8b80-0c85338172b1",
      "metadata": {
        "id": "d2fd32ff-c66b-44dc-8b80-0c85338172b1",
        "outputId": "4801220d-a25c-4575-ed51-7b9b45731b84"
      },
      "outputs": [
        {
          "name": "stdout",
          "output_type": "stream",
          "text": [
            "t h\n"
          ]
        }
      ],
      "source": [
        "s=\"this is the string\"\n",
        "print(s[0], s[1])"
      ]
    },
    {
      "cell_type": "code",
      "execution_count": null,
      "id": "94922f1a-d274-43da-b3d1-bc194c3242e7",
      "metadata": {
        "id": "94922f1a-d274-43da-b3d1-bc194c3242e7",
        "outputId": "c7020eae-1474-4613-cc66-f45243b9e2b8"
      },
      "outputs": [
        {
          "name": "stdout",
          "output_type": "stream",
          "text": [
            "n\n"
          ]
        }
      ],
      "source": [
        "s=\"this is the string\"\n",
        "#  we can also  count the value from the last word using the negative indexing\n",
        "print(s[-2])"
      ]
    },
    {
      "cell_type": "code",
      "execution_count": null,
      "id": "e67ccc82-ee62-4745-bc78-4bbd24eeb509",
      "metadata": {
        "id": "e67ccc82-ee62-4745-bc78-4bbd24eeb509"
      },
      "outputs": [],
      "source": []
    }
  ],
  "metadata": {
    "kernelspec": {
      "display_name": "Python 3 (ipykernel)",
      "language": "python",
      "name": "python3"
    },
    "language_info": {
      "codemirror_mode": {
        "name": "ipython",
        "version": 3
      },
      "file_extension": ".py",
      "mimetype": "text/x-python",
      "name": "python",
      "nbconvert_exporter": "python",
      "pygments_lexer": "ipython3",
      "version": "3.13.1"
    },
    "colab": {
      "provenance": [],
      "include_colab_link": true
    }
  },
  "nbformat": 4,
  "nbformat_minor": 5
}