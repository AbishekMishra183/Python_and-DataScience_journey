{
  "cells": [
    {
      "cell_type": "markdown",
      "metadata": {
        "id": "view-in-github",
        "colab_type": "text"
      },
      "source": [
        "<a href=\"https://colab.research.google.com/github/AbishekMishra183/data-science-ml-journey/blob/main/day4.ipynb\" target=\"_parent\"><img src=\"https://colab.research.google.com/assets/colab-badge.svg\" alt=\"Open In Colab\"/></a>"
      ]
    },
    {
      "cell_type": "code",
      "execution_count": null,
      "id": "bc334b54-5a3d-4405-a9a8-60a79ccc0cea",
      "metadata": {
        "id": "bc334b54-5a3d-4405-a9a8-60a79ccc0cea",
        "outputId": "540c784f-8009-4d50-a0b0-8c4762db1e8f"
      },
      "outputs": [
        {
          "name": "stdout",
          "output_type": "stream",
          "text": [
            "apple\n",
            "banana\n",
            "cherry\n"
          ]
        }
      ],
      "source": [
        "# for loop practice\n",
        "fruits = [\"apple\", \"banana\", \"cherry\"]\n",
        "for fruit in fruits:\n",
        "    print(fruit)"
      ]
    },
    {
      "cell_type": "code",
      "execution_count": null,
      "id": "c20bbc61-c4c3-4a77-b042-3515f18ed363",
      "metadata": {
        "id": "c20bbc61-c4c3-4a77-b042-3515f18ed363",
        "outputId": "5565bc1a-d0f1-4831-ee0c-a77ca05520b8"
      },
      "outputs": [
        {
          "name": "stdout",
          "output_type": "stream",
          "text": [
            "Count is 0\n",
            "Count is 1\n",
            "Count is 2\n"
          ]
        }
      ],
      "source": [
        "count = 0\n",
        "while count < 3:\n",
        "    print(\"Count is\", count)\n",
        "    count += 1"
      ]
    },
    {
      "cell_type": "code",
      "execution_count": null,
      "id": "20f9bf3e-6828-49f4-8879-183b16289324",
      "metadata": {
        "id": "20f9bf3e-6828-49f4-8879-183b16289324",
        "outputId": "fc403735-997b-4403-ceac-3c9286c11735"
      },
      "outputs": [
        {
          "name": "stdout",
          "output_type": "stream",
          "text": [
            "1\n",
            "2\n",
            "3\n"
          ]
        }
      ],
      "source": [
        "my_tuple = (1, 2, 3)\n",
        "for num in my_tuple:\n",
        "    print(num)\n"
      ]
    },
    {
      "cell_type": "code",
      "execution_count": null,
      "id": "d870e7ee-8c31-4ad0-b36f-5fbcd2970bb7",
      "metadata": {
        "id": "d870e7ee-8c31-4ad0-b36f-5fbcd2970bb7",
        "outputId": "35bdf87d-5e74-4d3f-aed0-0128bdc18cd5"
      },
      "outputs": [
        {
          "name": "stdout",
          "output_type": "stream",
          "text": [
            "P\n",
            "y\n",
            "t\n",
            "h\n",
            "o\n",
            "n\n"
          ]
        }
      ],
      "source": [
        "word = \"Python\"\n",
        "for letter in word:\n",
        "    print(letter)\n"
      ]
    },
    {
      "cell_type": "code",
      "execution_count": null,
      "id": "e1f1baf7-42f1-4d69-8dd8-1348a99583a9",
      "metadata": {
        "id": "e1f1baf7-42f1-4d69-8dd8-1348a99583a9",
        "outputId": "45cb20f6-de5a-4aee-b5a2-47f366db3f8c"
      },
      "outputs": [
        {
          "name": "stdout",
          "output_type": "stream",
          "text": [
            "name : Abishek\n",
            "age : 25\n"
          ]
        }
      ],
      "source": [
        "person = {\"name\": \"Abishek\", \"age\": 25}\n",
        "for key, value in person.items():\n",
        "    print(key, \":\", value)"
      ]
    },
    {
      "cell_type": "code",
      "execution_count": null,
      "id": "5a05e35c-977d-4dda-be10-c7923426e2a1",
      "metadata": {
        "id": "5a05e35c-977d-4dda-be10-c7923426e2a1",
        "outputId": "adf653f9-4884-4dee-b358-5ffd669c2b46"
      },
      "outputs": [
        {
          "name": "stdout",
          "output_type": "stream",
          "text": [
            "1\n",
            "2\n",
            "3\n",
            "4\n",
            "Loop finished normally (no break)\n"
          ]
        }
      ],
      "source": [
        "numbers = [1, 2, 3, 4]\n",
        "\n",
        "for num in numbers:\n",
        "    print(num)\n",
        "    if num == 5:\n",
        "        break\n",
        "else:\n",
        "    print(\"Loop finished normally (no break)\")"
      ]
    },
    {
      "cell_type": "code",
      "execution_count": null,
      "id": "c31bf964-ebc3-4531-beca-c5935e8c812f",
      "metadata": {
        "id": "c31bf964-ebc3-4531-beca-c5935e8c812f",
        "outputId": "696a9c97-56d9-477f-d637-1d049fba58ff"
      },
      "outputs": [
        {
          "name": "stdout",
          "output_type": "stream",
          "text": [
            "Match found: i=1, j=1\n",
            "i=1, j=2 - No match\n",
            "i=1, j=3 - No match\n",
            "i=2, j=1 - No match\n",
            "Match found: i=2, j=2\n",
            "i=2, j=3 - No match\n",
            "i=3, j=1 - No match\n",
            "i=3, j=2 - No match\n",
            "Match found: i=3, j=3\n"
          ]
        }
      ],
      "source": [
        "for i in range(1, 4):\n",
        "    for j in range(1, 4):\n",
        "        if i == j:\n",
        "            print(f\"Match found: i={i}, j={j}\")\n",
        "        else:\n",
        "            print(f\"i={i}, j={j} - No match\")\n"
      ]
    },
    {
      "cell_type": "code",
      "execution_count": null,
      "id": "d08af289-2552-4e98-83e0-db51e89daaae",
      "metadata": {
        "id": "d08af289-2552-4e98-83e0-db51e89daaae",
        "outputId": "81c005fd-b16a-46df-b98b-dad1392187fb"
      },
      "outputs": [
        {
          "name": "stdout",
          "output_type": "stream",
          "text": [
            "0\n",
            "1\n",
            "2\n"
          ]
        }
      ],
      "source": [
        "for i in range(3):\n",
        "    if i == 1:\n",
        "        pass  # placeholder for future code\n",
        "    print(i)\n"
      ]
    },
    {
      "cell_type": "code",
      "execution_count": null,
      "id": "172376ce-f67e-4787-84d3-fac85a3b494d",
      "metadata": {
        "id": "172376ce-f67e-4787-84d3-fac85a3b494d",
        "outputId": "35817fe3-1349-4bdc-f1b8-98ffa2057258"
      },
      "outputs": [
        {
          "name": "stdout",
          "output_type": "stream",
          "text": [
            "0\n",
            "1\n",
            "3\n",
            "4\n"
          ]
        }
      ],
      "source": [
        "for i in range(5):\n",
        "    if i == 2:\n",
        "        continue\n",
        "    print(i)\n"
      ]
    },
    {
      "cell_type": "code",
      "execution_count": null,
      "id": "35ffd788-0334-4eb7-af39-181bf4a3a1ec",
      "metadata": {
        "id": "35ffd788-0334-4eb7-af39-181bf4a3a1ec",
        "outputId": "bffca89d-bcfa-496a-d44d-bd87803607b8"
      },
      "outputs": [
        {
          "name": "stdout",
          "output_type": "stream",
          "text": [
            "0\n",
            "1\n",
            "2\n"
          ]
        }
      ],
      "source": [
        "for i in range(5):\n",
        "    if i == 3:\n",
        "        break\n",
        "    print(i)\n"
      ]
    },
    {
      "cell_type": "code",
      "execution_count": null,
      "id": "5ac25817-5239-47b0-bb13-939f9c226e1c",
      "metadata": {
        "id": "5ac25817-5239-47b0-bb13-939f9c226e1c",
        "outputId": "710f6e24-8317-43f8-80eb-6c6b13d6eb16"
      },
      "outputs": [
        {
          "name": "stdout",
          "output_type": "stream",
          "text": [
            "Harish\n",
            "Chandra\n"
          ]
        }
      ],
      "source": [
        "names = [\"Abi\", \"Harish\", \"Chandra\", \"STOP\", \"Bibek\", \"Kiran\"]\n",
        "\n",
        "for name in names:\n",
        "    if name == \"STOP\":\n",
        "        break\n",
        "    if len(name) <= 5:\n",
        "        continue\n",
        "    print(name)"
      ]
    },
    {
      "cell_type": "code",
      "execution_count": null,
      "id": "29577d75-aef8-439a-8590-37b04a2114e1",
      "metadata": {
        "id": "29577d75-aef8-439a-8590-37b04a2114e1",
        "outputId": "a7e6e159-c42f-4007-d4dd-a5cf110cc5c8"
      },
      "outputs": [
        {
          "name": "stdout",
          "output_type": "stream",
          "text": [
            "10\n",
            "9\n",
            "8\n",
            "7\n",
            "6\n",
            "5\n",
            "4\n",
            "3\n",
            "2\n",
            "1\n"
          ]
        }
      ],
      "source": [
        "for i in range(10, 0, -1):\n",
        "    print(i)"
      ]
    },
    {
      "cell_type": "code",
      "execution_count": null,
      "id": "fbc99257-abf2-473f-9e82-9542b01523ea",
      "metadata": {
        "id": "fbc99257-abf2-473f-9e82-9542b01523ea",
        "outputId": "e61c500b-e2e5-4579-a292-0eb77f7825c4"
      },
      "outputs": [
        {
          "name": "stdin",
          "output_type": "stream",
          "text": [
            "Type 'exit' to stop:  exit\n"
          ]
        }
      ],
      "source": [
        "user_input = \"\"\n",
        "while user_input != \"exit\":\n",
        "    user_input = input(\"Type 'exit' to stop: \")"
      ]
    },
    {
      "cell_type": "code",
      "execution_count": null,
      "id": "0f0aba8d-e642-45e8-a105-334d2f226821",
      "metadata": {
        "id": "0f0aba8d-e642-45e8-a105-334d2f226821",
        "outputId": "66a0922d-c6ff-48e5-92f2-eb5ba36a3610"
      },
      "outputs": [
        {
          "name": "stdout",
          "output_type": "stream",
          "text": [
            "Total: 30\n"
          ]
        }
      ],
      "source": [
        "nums = (5, 10, 15)\n",
        "total = 0\n",
        "for n in nums:\n",
        "    total += n\n",
        "print(\"Total:\", total)"
      ]
    },
    {
      "cell_type": "code",
      "execution_count": null,
      "id": "28be00a8-76aa-4496-9b4c-b6c6c622f489",
      "metadata": {
        "id": "28be00a8-76aa-4496-9b4c-b6c6c622f489",
        "outputId": "6ebf8fc8-e442-4642-85b9-e061ce41bb78"
      },
      "outputs": [
        {
          "name": "stdout",
          "output_type": "stream",
          "text": [
            "Vowel count: 5\n"
          ]
        }
      ],
      "source": [
        "word = \"datascience\"\n",
        "vowels = \"aeiou\"\n",
        "count = 0\n",
        "for char in word:\n",
        "    if char in vowels:\n",
        "        count += 1\n",
        "print(\"Vowel count:\", count)"
      ]
    },
    {
      "cell_type": "code",
      "execution_count": null,
      "id": "6e4bcf49-e2fe-4719-9315-5e05818e5940",
      "metadata": {
        "id": "6e4bcf49-e2fe-4719-9315-5e05818e5940",
        "outputId": "8d922f73-3bc8-4698-9105-a48a25c7871c"
      },
      "outputs": [
        {
          "name": "stdout",
          "output_type": "stream",
          "text": [
            "age : 25\n",
            "height : 5.9\n"
          ]
        }
      ],
      "source": [
        "data = {\"name\": \"Abishek\", \"age\": 25, \"height\": 5.9}\n",
        "for key, value in data.items():\n",
        "    if isinstance(value, (int, float)):\n",
        "        print(key, \":\", value)\n"
      ]
    },
    {
      "cell_type": "code",
      "execution_count": null,
      "id": "ca55bd7a-6c43-44ac-8460-29d3e03201a6",
      "metadata": {
        "id": "ca55bd7a-6c43-44ac-8460-29d3e03201a6",
        "outputId": "93d1a07e-cac2-41a8-e9be-3e8c86601cd2"
      },
      "outputs": [
        {
          "name": "stdout",
          "output_type": "stream",
          "text": [
            "Not found.\n"
          ]
        }
      ],
      "source": [
        "nums = [3, 6, 9, 12]\n",
        "target = 5\n",
        "\n",
        "for n in nums:\n",
        "    if n == target:\n",
        "        print(\"Found!\")\n",
        "        break\n",
        "else:\n",
        "    print(\"Not found.\")"
      ]
    },
    {
      "cell_type": "code",
      "execution_count": null,
      "id": "b2227f57-c962-4c0d-94d6-36268b217b7c",
      "metadata": {
        "id": "b2227f57-c962-4c0d-94d6-36268b217b7c",
        "outputId": "230f79a2-7c62-4c6f-e998-993d0ba19b1b"
      },
      "outputs": [
        {
          "name": "stdout",
          "output_type": "stream",
          "text": [
            "1 x 1 = 1\n",
            "1 x 2 = 2\n",
            "1 x 3 = 3\n",
            "2 x 1 = 2\n",
            "2 x 2 = 4\n",
            "2 x 3 = 6\n",
            "3 x 1 = 3\n",
            "3 x 2 = 6\n",
            "3 x 3 = 9\n"
          ]
        }
      ],
      "source": [
        "for i in range(1, 4):\n",
        "    for j in range(1, 4):\n",
        "        print(f\"{i} x {j} = {i * j}\")"
      ]
    },
    {
      "cell_type": "code",
      "execution_count": null,
      "id": "35cc3808-42d4-4ea7-8eef-a830bea0948a",
      "metadata": {
        "id": "35cc3808-42d4-4ea7-8eef-a830bea0948a",
        "outputId": "98a87440-b4c7-4284-ff06-6e8562dac303"
      },
      "outputs": [
        {
          "name": "stdout",
          "output_type": "stream",
          "text": [
            "red apple\n",
            "red banana\n",
            "blue apple\n",
            "blue banana\n"
          ]
        }
      ],
      "source": [
        "colors = [\"red\", \"blue\"]\n",
        "fruits = [\"apple\", \"banana\"]\n",
        "\n",
        "for color in colors:\n",
        "    for fruit in fruits:\n",
        "        print(f\"{color} {fruit}\")\n"
      ]
    },
    {
      "cell_type": "code",
      "execution_count": null,
      "id": "d11a5e54-a64f-4b9d-8535-5d44ae8b61de",
      "metadata": {
        "id": "d11a5e54-a64f-4b9d-8535-5d44ae8b61de"
      },
      "outputs": [],
      "source": [
        "class MyClass:\n",
        "    pass  # To be defined later\n"
      ]
    },
    {
      "cell_type": "code",
      "execution_count": null,
      "id": "8d519530-dc4b-4960-9f09-5e27697c44ce",
      "metadata": {
        "id": "8d519530-dc4b-4960-9f09-5e27697c44ce",
        "outputId": "f78c2a43-d035-44fb-f62a-42419e68beb0"
      },
      "outputs": [
        {
          "name": "stdout",
          "output_type": "stream",
          "text": [
            "0\n",
            "2\n",
            "4\n",
            "6\n",
            "8\n"
          ]
        }
      ],
      "source": [
        "for i in range(10):\n",
        "    if i % 2 != 0:\n",
        "        continue\n",
        "    print(i)\n"
      ]
    },
    {
      "cell_type": "code",
      "execution_count": null,
      "id": "9e431769-e3ff-406f-8dc6-3b4c9cbf60c7",
      "metadata": {
        "id": "9e431769-e3ff-406f-8dc6-3b4c9cbf60c7",
        "outputId": "74a29cc8-a064-49b6-aca6-0e973316673c"
      },
      "outputs": [
        {
          "name": "stdout",
          "output_type": "stream",
          "text": [
            "Sending email to: user1@gmail.com\n",
            "Sending email to: user2@yahoo.com\n"
          ]
        }
      ],
      "source": [
        "emails = [\"user1@gmail.com\", \"spam@example.com\", \"user2@yahoo.com\"]\n",
        "\n",
        "for email in emails:\n",
        "    if \"spam\" in email:\n",
        "        continue  # Skip spam emails\n",
        "    print(\"Sending email to:\", email)"
      ]
    },
    {
      "cell_type": "code",
      "execution_count": null,
      "id": "82d1d330-dfd6-4a37-974f-81d2747bc422",
      "metadata": {
        "id": "82d1d330-dfd6-4a37-974f-81d2747bc422",
        "outputId": "f1a316ad-58bf-4365-dd35-8ee5c96c3c47"
      },
      "outputs": [
        {
          "name": "stdout",
          "output_type": "stream",
          "text": [
            "'abc123' is valid.\n",
            "'123' is too short.\n",
            "'longenough' is valid.\n"
          ]
        }
      ],
      "source": [
        "passwords = [\"abc123\", \"123\", \"longenough\", \"STOP\"]\n",
        "\n",
        "for pwd in passwords:\n",
        "    if pwd == \"STOP\":\n",
        "        break\n",
        "    if len(pwd) < 6:\n",
        "        print(f\"'{pwd}' is too short.\")\n",
        "    else:\n",
        "        print(f\"'{pwd}' is valid.\")\n"
      ]
    },
    {
      "cell_type": "code",
      "execution_count": null,
      "id": "1b028607-57f5-48c2-af2b-c68e7ac09eb1",
      "metadata": {
        "id": "1b028607-57f5-48c2-af2b-c68e7ac09eb1"
      },
      "outputs": [],
      "source": []
    },
    {
      "cell_type": "markdown",
      "source": [
        "# 🧠 Day 4 – Python Loops & Flow Control (Quick Revision)\n",
        "\n",
        "---\n",
        "\n",
        "## 🔁 1. Loops\n",
        "\n",
        "**For loop** – iterate over sequences like lists, tuples, strings.  \n",
        "**While loop** – repeat code while a condition is true.\n",
        "\n",
        "---\n",
        "\n",
        "## 🔄 2. Looping Over Structures\n",
        "\n",
        "- Tuple\n",
        "- String\n",
        "- Dictionary\n",
        "\n",
        "---\n",
        "\n",
        "## ✨ 3. Special Loop: `for...else`\n",
        "\n",
        "Executes the `else` part only if the loop completes normally (no `break`).\n",
        "\n",
        "---\n",
        "\n",
        "## 🔂 4. Nested Loops + `if-else`\n",
        "\n",
        "Loops inside loops with decision logic.\n",
        "\n",
        "---\n",
        "\n",
        "## ⚡ 5. Special Statements\n",
        "\n",
        "- `pass`: placeholder (does nothing)\n",
        "- `continue`: skip current iteration\n",
        "- `break`: exit loop\n"
      ],
      "metadata": {
        "id": "2y1bKyRLkgKs"
      },
      "id": "2y1bKyRLkgKs"
    },
    {
      "cell_type": "code",
      "source": [
        "# 🔁 1. Loops\n",
        "for i in range(3):\n",
        "    print(\"For loop:\", i)\n",
        "\n",
        "count = 0\n",
        "while count < 3:\n",
        "    print(\"While loop:\", count)\n",
        "    count += 1\n",
        "\n",
        "# 🔄 2. Looping Over Structures\n",
        "for num in (1, 2, 3):\n",
        "    print(\"Tuple:\", num)\n",
        "\n",
        "for char in \"Data\":\n",
        "    print(\"String:\", char)\n",
        "\n",
        "my_dict = {\"name\": \"Abi\", \"age\": 22}\n",
        "for key, value in my_dict.items():\n",
        "    print(\"Dict:\", key, \"=\", value)\n",
        "\n",
        "# ✨ 3. For...Else\n",
        "for i in [1, 2, 3]:\n",
        "    if i == 4:\n",
        "        break\n",
        "else:\n",
        "    print(\"Number not found (for-else executed)\")\n",
        "\n",
        "# 🔂 4. Nested Loop + If-Else\n",
        "for i in range(2):\n",
        "    for j in range(2):\n",
        "        if i == j:\n",
        "            print(f\"i={i}, j={j} → Same\")\n",
        "        else:\n",
        "            print(f\"i={i}, j={j} → Different\")\n",
        "\n",
        "# ⚡ 5. Special Statements\n",
        "for i in range(5):\n",
        "    if i == 1:\n",
        "        pass  # Does nothing\n",
        "    if i == 2:\n",
        "        continue  # Skips printing 2\n",
        "    if i == 4:\n",
        "        break  # Exits loop at 4\n",
        "    print(\"Value:\", i)\n"
      ],
      "metadata": {
        "colab": {
          "base_uri": "https://localhost:8080/",
          "height": 0
        },
        "id": "V6yAWT1Ckpn2",
        "outputId": "db8d3a39-b186-4cc1-ce2e-6e91a8125cd6"
      },
      "id": "V6yAWT1Ckpn2",
      "execution_count": 1,
      "outputs": [
        {
          "output_type": "stream",
          "name": "stdout",
          "text": [
            "For loop: 0\n",
            "For loop: 1\n",
            "For loop: 2\n",
            "While loop: 0\n",
            "While loop: 1\n",
            "While loop: 2\n",
            "Tuple: 1\n",
            "Tuple: 2\n",
            "Tuple: 3\n",
            "String: D\n",
            "String: a\n",
            "String: t\n",
            "String: a\n",
            "Dict: name = Abi\n",
            "Dict: age = 22\n",
            "Number not found (for-else executed)\n",
            "i=0, j=0 → Same\n",
            "i=0, j=1 → Different\n",
            "i=1, j=0 → Different\n",
            "i=1, j=1 → Same\n",
            "Value: 0\n",
            "Value: 1\n",
            "Value: 3\n"
          ]
        }
      ]
    },
    {
      "cell_type": "code",
      "source": [],
      "metadata": {
        "id": "FdrZX6PVk3OR"
      },
      "id": "FdrZX6PVk3OR",
      "execution_count": null,
      "outputs": []
    }
  ],
  "metadata": {
    "kernelspec": {
      "display_name": "Python 3 (ipykernel)",
      "language": "python",
      "name": "python3"
    },
    "language_info": {
      "codemirror_mode": {
        "name": "ipython",
        "version": 3
      },
      "file_extension": ".py",
      "mimetype": "text/x-python",
      "name": "python",
      "nbconvert_exporter": "python",
      "pygments_lexer": "ipython3",
      "version": "3.13.1"
    },
    "colab": {
      "provenance": [],
      "include_colab_link": true
    }
  },
  "nbformat": 4,
  "nbformat_minor": 5
}