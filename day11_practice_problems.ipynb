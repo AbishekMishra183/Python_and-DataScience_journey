{
  "cells": [
    {
      "cell_type": "markdown",
      "metadata": {
        "id": "view-in-github",
        "colab_type": "text"
      },
      "source": [
        "<a href=\"https://colab.research.google.com/github/AbishekMishra183/data-science-ml-journey/blob/main/day11_practice_problems.ipynb\" target=\"_parent\"><img src=\"https://colab.research.google.com/assets/colab-badge.svg\" alt=\"Open In Colab\"/></a>"
      ]
    },
    {
      "cell_type": "code",
      "execution_count": null,
      "id": "afc0e0f4-f881-4af3-b690-104eb57435b9",
      "metadata": {
        "id": "afc0e0f4-f881-4af3-b690-104eb57435b9"
      },
      "outputs": [],
      "source": [
        "# simple library management system\n",
        "class Book:\n",
        "    def __init__(self, title, author):\n",
        "        self.title = title\n",
        "        self.author = author\n",
        "        self.is_borrowed = False\n",
        "\n",
        "    def borrow(self):\n",
        "        if not self.is_borrowed:\n",
        "            self.is_borrowed = True\n",
        "            return f\"You have borrowed '{self.title}'\"\n",
        "        return f\"'{self.title}' is already borrowed.\"\n",
        "\n",
        "    def return_book(self):\n",
        "        self.is_borrowed = False\n",
        "        return f\"'{self.title}' has been returned.\"\n",
        "\n",
        "\n",
        "class Library:\n",
        "    def __init__(self):\n",
        "        self.books = []\n",
        "\n",
        "    def add_book(self, book):\n",
        "        self.books.append(book)\n",
        "\n",
        "    def show_available_books(self):\n",
        "        return [book.title for book in self.books if not book.is_borrowed]\n",
        "\n",
        "\n"
      ]
    },
    {
      "cell_type": "code",
      "execution_count": null,
      "id": "3dddae0d-2190-4c2b-b0b6-6b2fab53efa8",
      "metadata": {
        "id": "3dddae0d-2190-4c2b-b0b6-6b2fab53efa8"
      },
      "outputs": [],
      "source": [
        "# Example\n",
        "lib = Library()\n",
        "book1 = Book(\"Python 101\", \"Mike\")\n",
        "book2 = Book(\"OOP in Python\", \"Anna\")\n",
        "lib.add_book(book1)\n",
        "lib.add_book(book2)\n",
        "\n",
        "\n"
      ]
    },
    {
      "cell_type": "code",
      "execution_count": null,
      "id": "9cbe016a-40e6-4d95-abe0-ef05e98c4bc0",
      "metadata": {
        "id": "9cbe016a-40e6-4d95-abe0-ef05e98c4bc0",
        "outputId": "13ecadb9-80f5-4c7c-c7cf-3ad31d811021"
      },
      "outputs": [
        {
          "name": "stdout",
          "output_type": "stream",
          "text": [
            "You have borrowed 'Python 101'\n",
            "['OOP in Python']\n",
            "'Python 101' has been returned.\n"
          ]
        }
      ],
      "source": [
        "print(book1.borrow())\n",
        "print(lib.show_available_books())\n",
        "print(book1.return_book())"
      ]
    },
    {
      "cell_type": "code",
      "execution_count": null,
      "id": "e426eab2-90eb-4af1-bc2c-9dd8eb95e81b",
      "metadata": {
        "id": "e426eab2-90eb-4af1-bc2c-9dd8eb95e81b"
      },
      "outputs": [],
      "source": [
        "# employee Management system\n",
        "\n",
        "class Employee:\n",
        "    def __init__(self, name, salary):\n",
        "        self.name = name\n",
        "        self._salary = salary  # Protected attribute\n",
        "\n",
        "    def get_salary(self):\n",
        "        return self._salary\n",
        "\n",
        "    def __str__(self):\n",
        "        return f\"{self.name} earns ${self._salary}\"\n",
        "\n",
        "\n",
        "class Manager(Employee):\n",
        "    def __init__(self, name, salary, department):\n",
        "        super().__init__(name, salary)\n",
        "        self.department = department\n",
        "\n",
        "    def __str__(self):\n",
        "        return f\"{self.name} manages {self.department} and earns ${self._salary}\"\n",
        "\n",
        "\n",
        "\n"
      ]
    },
    {
      "cell_type": "code",
      "execution_count": null,
      "id": "98b69f0c-e923-4cba-a538-6e6429447570",
      "metadata": {
        "id": "98b69f0c-e923-4cba-a538-6e6429447570",
        "outputId": "03f0cc58-538b-495d-f6d2-6e1a00f6a25e"
      },
      "outputs": [
        {
          "name": "stdout",
          "output_type": "stream",
          "text": [
            "John earns $50000\n",
            "Alice manages HR and earns $80000\n"
          ]
        }
      ],
      "source": [
        "# Example\n",
        "emp = Employee(\"John\", 50000)\n",
        "mgr = Manager(\"Alice\", 80000, \"HR\")\n",
        "print(emp)\n",
        "print(mgr)"
      ]
    },
    {
      "cell_type": "code",
      "execution_count": null,
      "id": "212416d1-3d02-4f4b-9642-278f82e10774",
      "metadata": {
        "id": "212416d1-3d02-4f4b-9642-278f82e10774"
      },
      "outputs": [],
      "source": [
        "# online shooping cart system\n",
        "class Item:\n",
        "    def __init__(self, name, price):\n",
        "        self.name = name\n",
        "        self.price = price\n",
        "\n",
        "\n",
        "class Cart:\n",
        "    def __init__(self):\n",
        "        self.items = []\n",
        "\n",
        "    def add_item(self, item, qty):\n",
        "        self.items.append((item, qty))\n",
        "\n",
        "    def get_total(self):\n",
        "        return sum(item.price * qty for item, qty in self.items)\n",
        "\n",
        "    def show_cart(self):\n",
        "        for item, qty in self.items:\n",
        "            print(f\"{item.name} x{qty} = ${item.price * qty}\")\n",
        "        print(f\"Total: ${self.get_total()}\")\n",
        "\n",
        "\n"
      ]
    },
    {
      "cell_type": "code",
      "execution_count": null,
      "id": "98fb2b36-222d-4d08-84fd-0e5936f27265",
      "metadata": {
        "id": "98fb2b36-222d-4d08-84fd-0e5936f27265",
        "outputId": "1e664710-3c15-404c-fd5b-dd83bf58a383"
      },
      "outputs": [
        {
          "name": "stdout",
          "output_type": "stream",
          "text": [
            "Laptop x1 = $1000\n",
            "Mouse x2 = $50\n",
            "Total: $1050\n"
          ]
        }
      ],
      "source": [
        "# Example\n",
        "cart = Cart()\n",
        "item1 = Item(\"Laptop\", 1000)\n",
        "item2 = Item(\"Mouse\", 25)\n",
        "cart.add_item(item1, 1)\n",
        "cart.add_item(item2, 2)\n",
        "cart.show_cart()\n"
      ]
    },
    {
      "cell_type": "code",
      "execution_count": null,
      "id": "f04b824e-99c3-4eb0-88b2-cd0e7731b608",
      "metadata": {
        "id": "f04b824e-99c3-4eb0-88b2-cd0e7731b608",
        "outputId": "7900200c-fdda-45a0-91a7-45463277ba0b"
      },
      "outputs": [
        {
          "name": "stdout",
          "output_type": "stream",
          "text": [
            "Regular Ride Fare: $50\n",
            "Premium Ride Fare: $100\n"
          ]
        }
      ],
      "source": [
        "#Ride Booking System\n",
        "class Ride:\n",
        "    def __init__(self, driver, distance):\n",
        "        self.driver = driver\n",
        "        self.distance = distance\n",
        "\n",
        "    def calculate_fare(self):\n",
        "        return self.distance * 10  # base fare\n",
        "\n",
        "\n",
        "class PremiumRide(Ride):\n",
        "    def calculate_fare(self):\n",
        "        return self.distance * 20  # higher fare\n",
        "\n",
        "\n",
        "# Example\n",
        "ride1 = Ride(\"John\", 5)\n",
        "ride2 = PremiumRide(\"Alice\", 5)\n",
        "\n",
        "print(f\"Regular Ride Fare: ${ride1.calculate_fare()}\")\n",
        "print(f\"Premium Ride Fare: ${ride2.calculate_fare()}\")\n"
      ]
    },
    {
      "cell_type": "code",
      "execution_count": null,
      "id": "82834de8-21c4-4ab6-a84c-14e1154aae98",
      "metadata": {
        "id": "82834de8-21c4-4ab6-a84c-14e1154aae98",
        "outputId": "90c6de3c-5b9e-44fc-ba09-aa9bdf4a8622"
      },
      "outputs": [
        {
          "name": "stdout",
          "output_type": "stream",
          "text": [
            "Hello Abhi, your balance is $500\n",
            "Deposited $200. New balance: $700\n",
            "Insufficient funds or invalid amount.\n",
            "Withdrew $100. Remaining balance: $600\n"
          ]
        }
      ],
      "source": [
        "# ATM simulator\n",
        "\n",
        "class ATM:\n",
        "    def __init__(self, user_name, balance=0):\n",
        "        self.user_name = user_name\n",
        "        self.__balance = balance  # private attribute\n",
        "\n",
        "    def check_balance(self):\n",
        "        return f\"Hello {self.user_name}, your balance is ${self.__balance}\"\n",
        "\n",
        "    def deposit(self, amount):\n",
        "        if amount > 0:\n",
        "            self.__balance += amount\n",
        "            return f\"Deposited ${amount}. New balance: ${self.__balance}\"\n",
        "        return \"Invalid deposit amount.\"\n",
        "\n",
        "    def withdraw(self, amount):\n",
        "        if 0 < amount <= self.__balance:\n",
        "            self.__balance -= amount\n",
        "            return f\"Withdrew ${amount}. Remaining balance: ${self.__balance}\"\n",
        "        return \"Insufficient funds or invalid amount.\"\n",
        "\n",
        "\n",
        "# Example\n",
        "atm = ATM(\"Abhi\", 500)\n",
        "print(atm.check_balance())\n",
        "print(atm.deposit(200))\n",
        "print(atm.withdraw(1000))  # should fail\n",
        "print(atm.withdraw(100))   # should succeed\n"
      ]
    },
    {
      "cell_type": "code",
      "execution_count": null,
      "id": "0791521d-545f-4101-8730-0e85e53c8448",
      "metadata": {
        "id": "0791521d-545f-4101-8730-0e85e53c8448"
      },
      "outputs": [],
      "source": [
        "#Student report card generator\n",
        "\n",
        "class Subject:\n",
        "    def __init__(self, name, marks):\n",
        "        self.name = name\n",
        "        self.marks = marks\n",
        "\n",
        "\n",
        "class Student:\n",
        "    def __init__(self, name):\n",
        "        self.name = name\n",
        "        self.subjects = []\n",
        "\n",
        "    def add_subject(self, subject):\n",
        "        self.subjects.append(subject)\n",
        "\n",
        "    def calculate_average(self):\n",
        "        if not self.subjects:\n",
        "            return 0\n",
        "        return sum(sub.marks for sub in self.subjects) / len(self.subjects)\n",
        "\n",
        "    def show_report(self):\n",
        "        print(f\"Report Card for {self.name}\")\n",
        "        for sub in self.subjects:\n",
        "            print(f\"{sub.name}: {sub.marks}\")\n",
        "        print(f\"Average: {self.calculate_average():.2f}\")\n",
        "\n",
        "\n",
        "\n"
      ]
    },
    {
      "cell_type": "code",
      "execution_count": null,
      "id": "718347d9-8f61-4c6d-8db4-00444ad2048b",
      "metadata": {
        "id": "718347d9-8f61-4c6d-8db4-00444ad2048b",
        "outputId": "140e3da6-843a-4060-9798-a933a26f43ad"
      },
      "outputs": [
        {
          "name": "stdout",
          "output_type": "stream",
          "text": [
            "Report Card for Abhi\n",
            "Math: 85\n",
            "Science: 90\n",
            "English: 78\n",
            "Average: 84.33\n"
          ]
        }
      ],
      "source": [
        "# Example\n",
        "s1 = Student(\"Abhi\")\n",
        "s1.add_subject(Subject(\"Math\", 85))\n",
        "s1.add_subject(Subject(\"Science\", 90))\n",
        "s1.add_subject(Subject(\"English\", 78))\n",
        "s1.show_report()"
      ]
    },
    {
      "cell_type": "code",
      "execution_count": null,
      "id": "12c89b9d-2488-4d24-9692-eebf39fcefd5",
      "metadata": {
        "id": "12c89b9d-2488-4d24-9692-eebf39fcefd5"
      },
      "outputs": [],
      "source": [
        "# To do list system\n",
        "\n",
        "\n",
        "class Task:\n",
        "    def __init__(self, title):\n",
        "        self.title = title\n",
        "        self.completed = False\n",
        "\n",
        "    def mark_done(self):\n",
        "        self.completed = True\n",
        "\n",
        "    def __str__(self):\n",
        "        return f\"[{'✔' if self.completed else ' '}] {self.title}\"\n",
        "\n",
        "\n",
        "class ToDoList:\n",
        "    def __init__(self):\n",
        "        self.tasks = []\n",
        "\n",
        "    def add_task(self, task_title):\n",
        "        self.tasks.append(Task(task_title))\n",
        "\n",
        "    def show_tasks(self):\n",
        "        for idx, task in enumerate(self.tasks, 1):\n",
        "            print(f\"{idx}. {task}\")\n",
        "\n",
        "    def complete_task(self, task_number):\n",
        "        if 0 < task_number <= len(self.tasks):\n",
        "            self.tasks[task_number - 1].mark_done()\n",
        "        else:\n",
        "            print(\"Invalid task number.\")\n",
        "\n",
        "\n",
        "\n"
      ]
    },
    {
      "cell_type": "code",
      "execution_count": null,
      "id": "27ee049e-a564-422c-a394-0873906e2611",
      "metadata": {
        "id": "27ee049e-a564-422c-a394-0873906e2611",
        "outputId": "7f43a4ea-b4a7-4b46-b2f6-16be3588be1d"
      },
      "outputs": [
        {
          "name": "stdout",
          "output_type": "stream",
          "text": [
            "1. [ ] Learn Python OOP\n",
            "2. [ ] Write LinkedIn post\n",
            "1. [✔] Learn Python OOP\n",
            "2. [ ] Write LinkedIn post\n"
          ]
        }
      ],
      "source": [
        "# Example\n",
        "todo = ToDoList()\n",
        "todo.add_task(\"Learn Python OOP\")\n",
        "todo.add_task(\"Write LinkedIn post\")\n",
        "todo.show_tasks()\n",
        "todo.complete_task(1)\n",
        "todo.show_tasks()"
      ]
    },
    {
      "cell_type": "code",
      "execution_count": null,
      "id": "ccc60b0c-22c2-44ba-a06b-782c9742cd9c",
      "metadata": {
        "id": "ccc60b0c-22c2-44ba-a06b-782c9742cd9c"
      },
      "outputs": [],
      "source": []
    },
    {
      "cell_type": "markdown",
      "source": [
        "\n",
        "# 🧠 Python OOP Real-World Projects - Revision Notes\n",
        "\n",
        "---\n",
        "\n",
        "## 📘 1. Library Management System\n",
        "**Concepts Used:** Classes, Objects, Encapsulation  \n",
        "- `Book` class handles borrowing and returning  \n",
        "- `Library` class manages a collection of books  \n",
        "- `borrow()` checks and updates availability  \n",
        "- `return_book()` resets book status  \n",
        "\n",
        "🔑 **Key Point:** Manages real-world book states using object attributes.\n",
        "\n",
        "---\n",
        "\n",
        "## 👨‍💼 2. Employee Management System\n",
        "**Concepts Used:** Inheritance, Encapsulation, Polymorphism  \n",
        "- `Employee` holds name and salary  \n",
        "- `Manager` inherits from `Employee` and adds department  \n",
        "- Demonstrates `__str__()` method overriding  \n",
        "\n",
        "🔑 **Key Point:** Real-world hierarchy modeling using inheritance.\n",
        "\n",
        "---\n",
        "\n",
        "## 🛒 3. Online Shopping Cart\n",
        "**Concepts Used:** Encapsulation, Aggregation  \n",
        "- `Item` stores product data  \n",
        "- `Cart` holds items + quantity  \n",
        "- `get_total()` calculates the cart value  \n",
        "\n",
        "🔑 **Key Point:** Aggregation of `Item` objects inside the `Cart` class.\n",
        "\n",
        "---\n",
        "\n",
        "## 🚗 4. Ride Booking System\n",
        "**Concepts Used:** Inheritance, Method Overriding (Polymorphism)  \n",
        "- `Ride` calculates base fare  \n",
        "- `PremiumRide` overrides fare logic  \n",
        "\n",
        "🔑 **Key Point:** Demonstrates dynamic method dispatch with polymorphism.\n",
        "\n",
        "---\n",
        "\n",
        "## 🏧 5. ATM Machine Simulator\n",
        "**Concepts Used:** Encapsulation, Validation  \n",
        "- `ATM` class uses private balance (`__balance`)  \n",
        "- Includes `deposit()`, `withdraw()`, `check_balance()`  \n",
        "- Input and balance validation  \n",
        "\n",
        "🔑 **Key Point:** Focuses on security via private variables and validations.\n",
        "\n",
        "---\n",
        "\n",
        "## 🎓 6. Student Report Card Generator\n",
        "**Concepts Used:** Aggregation, Encapsulation  \n",
        "- `Subject` class stores marks  \n",
        "- `Student` aggregates multiple subjects  \n",
        "- `calculate_average()` computes grade average  \n",
        "\n",
        "🔑 **Key Point:** Models multi-subject performance for each student.\n",
        "\n",
        "---\n",
        "\n",
        "## ✅ 7. To-Do List Manager\n",
        "**Concepts Used:** Composition, CRUD operations  \n",
        "- `Task` manages individual items  \n",
        "- `ToDoList` adds, completes, and shows tasks  \n",
        "\n",
        "🔑 **Key Point:** Practical example of managing internal data with OOP logic.\n",
        "\n",
        "---\n",
        "\n",
        "\n"
      ],
      "metadata": {
        "id": "0UvePNqyeqsN"
      },
      "id": "0UvePNqyeqsN"
    },
    {
      "cell_type": "code",
      "source": [],
      "metadata": {
        "id": "T5IZHwkGewhH"
      },
      "id": "T5IZHwkGewhH",
      "execution_count": null,
      "outputs": []
    }
  ],
  "metadata": {
    "kernelspec": {
      "display_name": "Python 3 (ipykernel)",
      "language": "python",
      "name": "python3"
    },
    "language_info": {
      "codemirror_mode": {
        "name": "ipython",
        "version": 3
      },
      "file_extension": ".py",
      "mimetype": "text/x-python",
      "name": "python",
      "nbconvert_exporter": "python",
      "pygments_lexer": "ipython3",
      "version": "3.13.1"
    },
    "colab": {
      "provenance": [],
      "include_colab_link": true
    }
  },
  "nbformat": 4,
  "nbformat_minor": 5
}