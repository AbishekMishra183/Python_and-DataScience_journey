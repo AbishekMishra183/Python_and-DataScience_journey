{
  "cells": [
    {
      "cell_type": "markdown",
      "metadata": {
        "id": "view-in-github",
        "colab_type": "text"
      },
      "source": [
        "<a href=\"https://colab.research.google.com/github/AbishekMishra183/data-science-ml-journey/blob/main/DataScience_day1.ipynb\" target=\"_parent\"><img src=\"https://colab.research.google.com/assets/colab-badge.svg\" alt=\"Open In Colab\"/></a>"
      ]
    },
    {
      "cell_type": "markdown",
      "id": "17bb47d7-0968-407a-8cf1-682368c637bf",
      "metadata": {
        "id": "17bb47d7-0968-407a-8cf1-682368c637bf"
      },
      "source": [
        "#Attributes\n",
        ". shape\n",
        ".size\n",
        ".ndim\n",
        ".dtype"
      ]
    },
    {
      "cell_type": "code",
      "execution_count": null,
      "id": "3b864887-87dd-4af2-932c-c6f3492c9036",
      "metadata": {
        "id": "3b864887-87dd-4af2-932c-c6f3492c9036",
        "outputId": "8e4d1d27-5b16-40aa-b220-e7c67b4edb69",
        "colab": {
          "base_uri": "https://localhost:8080/"
        }
      },
      "outputs": [
        {
          "output_type": "stream",
          "name": "stdout",
          "text": [
            "[ 5  7  8  2  9 15]\n"
          ]
        }
      ],
      "source": [
        "import numpy as np\n",
        "x=np.array([5,7,8,2,9,15])\n",
        "print(x)"
      ]
    },
    {
      "cell_type": "code",
      "execution_count": null,
      "id": "959eaef9-a83e-427a-a11e-0f3738e7f1da",
      "metadata": {
        "id": "959eaef9-a83e-427a-a11e-0f3738e7f1da",
        "outputId": "3f6b856e-b0cd-48b0-fcaf-485a994ecc7c",
        "colab": {
          "base_uri": "https://localhost:8080/"
        }
      },
      "outputs": [
        {
          "output_type": "stream",
          "name": "stdout",
          "text": [
            "(6,)\n"
          ]
        }
      ],
      "source": [
        "# shape=>  no of row and column dinxa\n",
        "print(x.shape)"
      ]
    },
    {
      "cell_type": "code",
      "execution_count": null,
      "id": "c8fe14e9-c386-422f-87d2-99f1c84d5b2a",
      "metadata": {
        "id": "c8fe14e9-c386-422f-87d2-99f1c84d5b2a",
        "outputId": "5e87482d-2813-4922-b775-6ce9da986e06",
        "colab": {
          "base_uri": "https://localhost:8080/"
        }
      },
      "outputs": [
        {
          "output_type": "stream",
          "name": "stdout",
          "text": [
            "[[5 4 3]\n",
            " [9 7 6]]\n"
          ]
        }
      ],
      "source": [
        "mat=np.array([[5,4,3],[9,7,6]])\n",
        "print(mat)"
      ]
    },
    {
      "cell_type": "code",
      "execution_count": null,
      "id": "81dd575f-b0da-449d-990c-c8346f502f06",
      "metadata": {
        "id": "81dd575f-b0da-449d-990c-c8346f502f06",
        "outputId": "d825697e-3eee-425b-a71c-cdc2d974a54b",
        "colab": {
          "base_uri": "https://localhost:8080/"
        }
      },
      "outputs": [
        {
          "output_type": "stream",
          "name": "stdout",
          "text": [
            "(2, 3)\n"
          ]
        }
      ],
      "source": [
        "print(mat.shape)# this is 2 d so the value of the row and colum is given"
      ]
    },
    {
      "cell_type": "code",
      "execution_count": null,
      "id": "42ef08d2-3b16-47a6-8349-03f1fe89fdc5",
      "metadata": {
        "id": "42ef08d2-3b16-47a6-8349-03f1fe89fdc5",
        "outputId": "398eb576-3146-4d08-f4d8-9d9ee7e3bfd5",
        "colab": {
          "base_uri": "https://localhost:8080/"
        }
      },
      "outputs": [
        {
          "output_type": "stream",
          "name": "stdout",
          "text": [
            "(6,)\n"
          ]
        }
      ],
      "source": [
        "# size=> gives the total size of the array from the given list\n",
        "print(x.shape)"
      ]
    },
    {
      "cell_type": "code",
      "execution_count": null,
      "id": "faa63f06-0e35-4f25-a21f-263a4cec50b4",
      "metadata": {
        "id": "faa63f06-0e35-4f25-a21f-263a4cec50b4",
        "outputId": "f7d89c4f-ba71-4ad6-e211-086a47d3a29a",
        "colab": {
          "base_uri": "https://localhost:8080/"
        }
      },
      "outputs": [
        {
          "output_type": "stream",
          "name": "stdout",
          "text": [
            "6\n"
          ]
        }
      ],
      "source": [
        "# 2 d => total size of the array of the 2_d matrix\n",
        "mat=np.array([[5,4,3],[9,7,6]])\n",
        "print(mat.size)"
      ]
    },
    {
      "cell_type": "code",
      "execution_count": null,
      "id": "7291b65a-a188-4246-b0f5-eb8fe3211921",
      "metadata": {
        "id": "7291b65a-a188-4246-b0f5-eb8fe3211921",
        "outputId": "edd417ba-7bd9-46da-9474-4db5b8a31ae0",
        "colab": {
          "base_uri": "https://localhost:8080/"
        }
      },
      "outputs": [
        {
          "output_type": "stream",
          "name": "stdout",
          "text": [
            "1\n"
          ]
        }
      ],
      "source": [
        "print(x.ndim)# we have created only 1 d array so output =>1"
      ]
    },
    {
      "cell_type": "code",
      "execution_count": null,
      "id": "70dfaa70-d8f6-4d26-806d-fbb6a9ed7be6",
      "metadata": {
        "id": "70dfaa70-d8f6-4d26-806d-fbb6a9ed7be6",
        "outputId": "3851000c-d02b-4197-b6c1-0d3807caa782",
        "colab": {
          "base_uri": "https://localhost:8080/"
        }
      },
      "outputs": [
        {
          "output_type": "stream",
          "name": "stdout",
          "text": [
            "2\n"
          ]
        }
      ],
      "source": [
        "print(mat.ndim)# this is 2 d array so output =>2"
      ]
    },
    {
      "cell_type": "code",
      "execution_count": null,
      "id": "06aba83a-0053-4b3c-bf41-baadd9e96538",
      "metadata": {
        "id": "06aba83a-0053-4b3c-bf41-baadd9e96538",
        "outputId": "4ddbf179-f052-412a-957c-156acf03b542",
        "colab": {
          "base_uri": "https://localhost:8080/"
        }
      },
      "outputs": [
        {
          "output_type": "stream",
          "name": "stdout",
          "text": [
            "int64\n"
          ]
        }
      ],
      "source": [
        "print(x.dtype)"
      ]
    },
    {
      "cell_type": "code",
      "execution_count": null,
      "id": "5bf2782d-69a5-4a24-bed7-8d705d582c73",
      "metadata": {
        "id": "5bf2782d-69a5-4a24-bed7-8d705d582c73"
      },
      "outputs": [],
      "source": [
        "#int64\n",
        "# assume to store 5  it uses the binary 64 bit to store that binary value of the 5\n"
      ]
    },
    {
      "cell_type": "code",
      "execution_count": null,
      "id": "43a72e12-9397-4bd6-9f71-ba604ec2c9bf",
      "metadata": {
        "id": "43a72e12-9397-4bd6-9f71-ba604ec2c9bf",
        "outputId": "b20acc00-ae01-45f3-fd61-60a967ed87b6",
        "colab": {
          "base_uri": "https://localhost:8080/"
        }
      },
      "outputs": [
        {
          "output_type": "stream",
          "name": "stdout",
          "text": [
            "12\n"
          ]
        }
      ],
      "source": [
        "matrix=np.array([[5,4,3],[9,7,6],[2,3,3],[2,54,5]])\n",
        "print(matrix.size)"
      ]
    },
    {
      "cell_type": "markdown",
      "id": "04923127-4308-4d93-9962-bbae85eb5836",
      "metadata": {
        "id": "04923127-4308-4d93-9962-bbae85eb5836"
      },
      "source": [
        "##Sclicing/Indexing"
      ]
    },
    {
      "cell_type": "code",
      "execution_count": null,
      "id": "8cc178e6-cee9-4ba4-a72a-fba201696757",
      "metadata": {
        "id": "8cc178e6-cee9-4ba4-a72a-fba201696757",
        "outputId": "5333b333-9571-449f-96d6-2757867ded4b",
        "colab": {
          "base_uri": "https://localhost:8080/"
        }
      },
      "outputs": [
        {
          "output_type": "stream",
          "name": "stdout",
          "text": [
            "[1 2 3 5]\n"
          ]
        }
      ],
      "source": [
        "# indexing=> to access the particular element of an array  have both the positive and the negative indexing\n",
        "x=np.array([1,2,3,5])\n",
        "print(x)"
      ]
    },
    {
      "cell_type": "code",
      "execution_count": null,
      "id": "6887ee80-1c21-4718-b1b2-61a0ab0f01cc",
      "metadata": {
        "id": "6887ee80-1c21-4718-b1b2-61a0ab0f01cc",
        "outputId": "859df32c-0438-4c57-a376-d1b04d0b6d59",
        "colab": {
          "base_uri": "https://localhost:8080/"
        }
      },
      "outputs": [
        {
          "output_type": "stream",
          "name": "stdout",
          "text": [
            "2\n"
          ]
        }
      ],
      "source": [
        "print(x[1])"
      ]
    },
    {
      "cell_type": "code",
      "execution_count": null,
      "id": "ccd22554-98a8-4890-90b1-dcbf2f54e467",
      "metadata": {
        "id": "ccd22554-98a8-4890-90b1-dcbf2f54e467",
        "outputId": "9d2118ba-703e-4eb8-f840-dae520bd680a",
        "colab": {
          "base_uri": "https://localhost:8080/"
        }
      },
      "outputs": [
        {
          "output_type": "stream",
          "name": "stdout",
          "text": [
            "5\n"
          ]
        }
      ],
      "source": [
        "print(x[-1])# this is negative indexing"
      ]
    },
    {
      "cell_type": "code",
      "execution_count": null,
      "id": "8798ab1b-2135-4cdc-8bb9-d50f2551fcb6",
      "metadata": {
        "id": "8798ab1b-2135-4cdc-8bb9-d50f2551fcb6",
        "outputId": "bdd53ddf-e3eb-4b8c-b403-4d3076019b1d",
        "colab": {
          "base_uri": "https://localhost:8080/"
        }
      },
      "outputs": [
        {
          "output_type": "stream",
          "name": "stdout",
          "text": [
            "[1 2]\n"
          ]
        }
      ],
      "source": [
        "# slicing\n",
        "x=np.array([1,2,3,5,6,7,8,])# syntax:x[startindex:stopindex] here stop index is exclusive  so that last element is not included\n",
        "print(x[0:2])"
      ]
    },
    {
      "cell_type": "code",
      "execution_count": null,
      "id": "c9b2c698-ddd4-448b-beb7-137ea0f3e75a",
      "metadata": {
        "id": "c9b2c698-ddd4-448b-beb7-137ea0f3e75a",
        "outputId": "4d9ca56f-b5d2-4f38-acab-e67ed300441b",
        "colab": {
          "base_uri": "https://localhost:8080/"
        }
      },
      "outputs": [
        {
          "output_type": "stream",
          "name": "stdout",
          "text": [
            "[2 3 5 6]\n"
          ]
        }
      ],
      "source": [
        "print(x[1:5])"
      ]
    },
    {
      "cell_type": "code",
      "execution_count": null,
      "id": "e5dbdb7f-d348-4713-85ce-9573ac0c3444",
      "metadata": {
        "id": "e5dbdb7f-d348-4713-85ce-9573ac0c3444",
        "outputId": "07567c01-52a2-4f57-97a7-45c36c363eb2",
        "colab": {
          "base_uri": "https://localhost:8080/"
        }
      },
      "outputs": [
        {
          "output_type": "stream",
          "name": "stdout",
          "text": [
            "[2 3 5 6 7 8]\n"
          ]
        }
      ],
      "source": [
        "print(x[1:])# by default stop index is the last of the list"
      ]
    },
    {
      "cell_type": "code",
      "execution_count": null,
      "id": "fc9096d8-de3d-4213-8e7f-d62e5634a921",
      "metadata": {
        "id": "fc9096d8-de3d-4213-8e7f-d62e5634a921",
        "outputId": "6f99603c-1668-4845-91fb-a15dc79acd89",
        "colab": {
          "base_uri": "https://localhost:8080/"
        }
      },
      "outputs": [
        {
          "output_type": "stream",
          "name": "stdout",
          "text": [
            "[1 2 3]\n"
          ]
        }
      ],
      "source": [
        "print(x[0:3])"
      ]
    },
    {
      "cell_type": "code",
      "execution_count": null,
      "id": "21dac1d4-6214-4a22-8fcf-cea5b98ba697",
      "metadata": {
        "id": "21dac1d4-6214-4a22-8fcf-cea5b98ba697"
      },
      "outputs": [],
      "source": [
        "# syntax: x[startindex:stopindex:step]# by default step is 1"
      ]
    },
    {
      "cell_type": "code",
      "execution_count": null,
      "id": "c206d78a-cf1c-45e3-9a4d-3179ff9ca220",
      "metadata": {
        "id": "c206d78a-cf1c-45e3-9a4d-3179ff9ca220",
        "outputId": "26250510-989b-4108-e6c2-e8f567b42295",
        "colab": {
          "base_uri": "https://localhost:8080/"
        }
      },
      "outputs": [
        {
          "output_type": "stream",
          "name": "stdout",
          "text": [
            "[1 3 6]\n"
          ]
        }
      ],
      "source": [
        "x=np.array([1,2,3,5,6,7,8,])\n",
        "print(x[:5:2])# by default start from 1"
      ]
    },
    {
      "cell_type": "code",
      "execution_count": null,
      "id": "004a9c67-b5d6-4ad5-a089-8c71a0c20472",
      "metadata": {
        "id": "004a9c67-b5d6-4ad5-a089-8c71a0c20472",
        "outputId": "9f9ec3c7-f9ca-4c42-f234-67a0738970ca",
        "colab": {
          "base_uri": "https://localhost:8080/"
        }
      },
      "outputs": [
        {
          "output_type": "execute_result",
          "data": {
            "text/plain": [
              "array([1, 2, 3, 5, 6, 7, 8])"
            ]
          },
          "metadata": {},
          "execution_count": 21
        }
      ],
      "source": [
        "x[::]# all the array is return by default"
      ]
    },
    {
      "cell_type": "code",
      "execution_count": null,
      "id": "0e8c1f37-466c-41cd-bb12-6432c5674bf7",
      "metadata": {
        "id": "0e8c1f37-466c-41cd-bb12-6432c5674bf7",
        "outputId": "b0bf49c2-7d21-4329-c470-4e9e8007d8ef",
        "colab": {
          "base_uri": "https://localhost:8080/"
        }
      },
      "outputs": [
        {
          "output_type": "stream",
          "name": "stdout",
          "text": [
            "[8 7 6 5 3 2 1]\n"
          ]
        }
      ],
      "source": [
        "print(x[::-1])# here -1 keep track the list from the backward"
      ]
    },
    {
      "cell_type": "code",
      "execution_count": null,
      "id": "b2a5e560-acc7-4685-bbb2-93c25106cf1a",
      "metadata": {
        "id": "b2a5e560-acc7-4685-bbb2-93c25106cf1a",
        "outputId": "8fb862cd-72dd-4436-e371-a28be636d5c6",
        "colab": {
          "base_uri": "https://localhost:8080/"
        }
      },
      "outputs": [
        {
          "output_type": "execute_result",
          "data": {
            "text/plain": [
              "array([2, 3, 5, 6, 7])"
            ]
          },
          "metadata": {},
          "execution_count": 23
        }
      ],
      "source": [
        "x[1:-1]# start is 1 and the stop is -1 which is 15 so not included"
      ]
    },
    {
      "cell_type": "code",
      "execution_count": null,
      "id": "550ec890-5927-456a-b2f6-b79f6ca37b65",
      "metadata": {
        "id": "550ec890-5927-456a-b2f6-b79f6ca37b65",
        "outputId": "e74d4e7d-7263-47e1-953c-e7788a225947",
        "colab": {
          "base_uri": "https://localhost:8080/"
        }
      },
      "outputs": [
        {
          "output_type": "execute_result",
          "data": {
            "text/plain": [
              "array([7, 6, 5, 3])"
            ]
          },
          "metadata": {},
          "execution_count": 24
        }
      ],
      "source": [
        "x[-2:1:-1]"
      ]
    },
    {
      "cell_type": "code",
      "execution_count": null,
      "id": "29ac2626-36bf-4767-b007-f29b049720be",
      "metadata": {
        "id": "29ac2626-36bf-4767-b007-f29b049720be",
        "outputId": "7baf803e-65c9-4f78-954f-e18b913baacb",
        "colab": {
          "base_uri": "https://localhost:8080/"
        }
      },
      "outputs": [
        {
          "output_type": "execute_result",
          "data": {
            "text/plain": [
              "array([], dtype=int64)"
            ]
          },
          "metadata": {},
          "execution_count": 25
        }
      ],
      "source": [
        "x[-2:1]# why??"
      ]
    },
    {
      "cell_type": "code",
      "execution_count": null,
      "id": "aef2784b-7cb6-4045-9fb1-109e32044a9f",
      "metadata": {
        "id": "aef2784b-7cb6-4045-9fb1-109e32044a9f",
        "outputId": "11d874f4-035b-4732-98f9-09c1d0b2cb2d",
        "colab": {
          "base_uri": "https://localhost:8080/"
        }
      },
      "outputs": [
        {
          "output_type": "stream",
          "name": "stdout",
          "text": [
            "[1 2 3 5 6 7 8]\n"
          ]
        }
      ],
      "source": [
        "# modification in the list\n",
        "print(x)"
      ]
    },
    {
      "cell_type": "code",
      "execution_count": null,
      "id": "80bcaf5e-961c-4241-8089-016699e9ea7e",
      "metadata": {
        "id": "80bcaf5e-961c-4241-8089-016699e9ea7e",
        "outputId": "a1241cab-f362-4c44-8ee3-9cc78b5d1c38",
        "colab": {
          "base_uri": "https://localhost:8080/"
        }
      },
      "outputs": [
        {
          "output_type": "stream",
          "name": "stdout",
          "text": [
            "[ 1  2  3 12  6  7  8]\n"
          ]
        }
      ],
      "source": [
        "x[3]=12# modifying the index 3 as 12\n",
        "print(x)"
      ]
    },
    {
      "cell_type": "code",
      "execution_count": null,
      "id": "fc597a6f-77f4-4e43-aad1-d53293f502c2",
      "metadata": {
        "id": "fc597a6f-77f4-4e43-aad1-d53293f502c2",
        "outputId": "af849181-059a-4f9e-d9f0-3070823f917c",
        "colab": {
          "base_uri": "https://localhost:8080/"
        }
      },
      "outputs": [
        {
          "output_type": "stream",
          "name": "stdout",
          "text": [
            "[1 2 3]\n"
          ]
        }
      ],
      "source": [
        "#copy\n",
        "y=x[0:3]\n",
        "print(y)"
      ]
    },
    {
      "cell_type": "code",
      "execution_count": null,
      "id": "00e4a9d6-ecb0-4087-8551-1afc71e7f193",
      "metadata": {
        "id": "00e4a9d6-ecb0-4087-8551-1afc71e7f193",
        "outputId": "391ca152-07d4-4d7c-ad8c-d9b2a7db589d",
        "colab": {
          "base_uri": "https://localhost:8080/"
        }
      },
      "outputs": [
        {
          "output_type": "stream",
          "name": "stdout",
          "text": [
            "[15  2  3]\n"
          ]
        }
      ],
      "source": [
        "y[0]=15# modifying the index\n",
        "print(y)"
      ]
    },
    {
      "cell_type": "code",
      "execution_count": null,
      "id": "8e11a595-ab16-48e3-9b24-e804cdd9e50c",
      "metadata": {
        "id": "8e11a595-ab16-48e3-9b24-e804cdd9e50c",
        "outputId": "5eed1243-63e2-455c-fe95-8dcb2fb106a1",
        "colab": {
          "base_uri": "https://localhost:8080/"
        }
      },
      "outputs": [
        {
          "output_type": "stream",
          "name": "stdout",
          "text": [
            "[15  2  3 12  6  7  8]\n"
          ]
        }
      ],
      "source": [
        "print(x)"
      ]
    },
    {
      "cell_type": "code",
      "execution_count": null,
      "id": "1cf91fe9-4f1c-432f-b543-a266f7b158a1",
      "metadata": {
        "id": "1cf91fe9-4f1c-432f-b543-a266f7b158a1"
      },
      "outputs": [],
      "source": [
        "#copy\n",
        "#view\n",
        "# if we want the independent so we need to do we use.copy"
      ]
    },
    {
      "cell_type": "code",
      "execution_count": null,
      "id": "b79e6287-1f4b-4cb9-b749-36008f3b8605",
      "metadata": {
        "id": "b79e6287-1f4b-4cb9-b749-36008f3b8605",
        "outputId": "583cd648-42ed-4de9-fb09-fa5c8d448441",
        "colab": {
          "base_uri": "https://localhost:8080/"
        }
      },
      "outputs": [
        {
          "output_type": "stream",
          "name": "stdout",
          "text": [
            "[5 7 8]\n"
          ]
        }
      ],
      "source": [
        "x=np.array([5,7,8,2,9,15])\n",
        "y=x[0:3].copy()# if we copy it will create a new array sot that change is not reflected in the orginal array\n",
        "print(y)"
      ]
    },
    {
      "cell_type": "code",
      "execution_count": null,
      "id": "b6bd99f6-07e6-4006-a3d3-3b79bc644164",
      "metadata": {
        "id": "b6bd99f6-07e6-4006-a3d3-3b79bc644164",
        "outputId": "05bd2992-cfaf-492b-9d53-cee3e877c898",
        "colab": {
          "base_uri": "https://localhost:8080/"
        }
      },
      "outputs": [
        {
          "output_type": "stream",
          "name": "stdout",
          "text": [
            "[15  7  8]\n"
          ]
        }
      ],
      "source": [
        "y[0]=15# without use of the copy orginal array is reflected as change\n",
        "print(y)"
      ]
    },
    {
      "cell_type": "code",
      "execution_count": null,
      "id": "a62b28b3-51be-41e2-b2e3-c4397d11a2b8",
      "metadata": {
        "id": "a62b28b3-51be-41e2-b2e3-c4397d11a2b8",
        "outputId": "4a65fb51-c2d1-4dcc-d101-78da2da0a7eb",
        "colab": {
          "base_uri": "https://localhost:8080/"
        }
      },
      "outputs": [
        {
          "output_type": "stream",
          "name": "stdout",
          "text": [
            "[ 5  7  8  2  9 15]\n"
          ]
        }
      ],
      "source": [
        "print(x)"
      ]
    },
    {
      "cell_type": "code",
      "execution_count": null,
      "id": "b2489f60-f85c-4c46-b29c-8ddfe28daa0e",
      "metadata": {
        "id": "b2489f60-f85c-4c46-b29c-8ddfe28daa0e"
      },
      "outputs": [],
      "source": []
    },
    {
      "cell_type": "code",
      "execution_count": null,
      "id": "cfca5969-33a5-4051-ad0f-44d03d8a3b5a",
      "metadata": {
        "id": "cfca5969-33a5-4051-ad0f-44d03d8a3b5a"
      },
      "outputs": [],
      "source": []
    },
    {
      "cell_type": "code",
      "execution_count": null,
      "id": "e2e71917-fae8-4f7f-b1a0-25e7469e5974",
      "metadata": {
        "id": "e2e71917-fae8-4f7f-b1a0-25e7469e5974"
      },
      "outputs": [],
      "source": []
    },
    {
      "cell_type": "code",
      "execution_count": null,
      "id": "e54826c1-94a5-425d-9fec-d8fc0e948527",
      "metadata": {
        "id": "e54826c1-94a5-425d-9fec-d8fc0e948527"
      },
      "outputs": [],
      "source": []
    },
    {
      "cell_type": "code",
      "execution_count": null,
      "id": "7bf91f06-353d-442b-932d-d9cba1987c7f",
      "metadata": {
        "id": "7bf91f06-353d-442b-932d-d9cba1987c7f"
      },
      "outputs": [],
      "source": []
    },
    {
      "cell_type": "code",
      "execution_count": null,
      "id": "29ffcf0b-3322-4852-9644-8b16432931c7",
      "metadata": {
        "id": "29ffcf0b-3322-4852-9644-8b16432931c7"
      },
      "outputs": [],
      "source": []
    },
    {
      "cell_type": "code",
      "execution_count": null,
      "id": "f73a3f66-0cf2-499f-a7b2-4e2db5ebf553",
      "metadata": {
        "id": "f73a3f66-0cf2-499f-a7b2-4e2db5ebf553"
      },
      "outputs": [],
      "source": []
    },
    {
      "cell_type": "code",
      "execution_count": null,
      "id": "9a81bb34-a4c5-4191-98a8-fbda77ac2982",
      "metadata": {
        "id": "9a81bb34-a4c5-4191-98a8-fbda77ac2982",
        "outputId": "fe79e863-0a7e-4285-a6b0-9c4151e32c40",
        "colab": {
          "base_uri": "https://localhost:8080/",
          "height": 211
        }
      },
      "outputs": [
        {
          "output_type": "error",
          "ename": "TypeError",
          "evalue": "sum() missing 1 required positional argument: 'a'",
          "traceback": [
            "\u001b[0;31m---------------------------------------------------------------------------\u001b[0m",
            "\u001b[0;31mTypeError\u001b[0m                                 Traceback (most recent call last)",
            "\u001b[0;32m<ipython-input-35-17ed8130bbaf>\u001b[0m in \u001b[0;36m<cell line: 0>\u001b[0;34m()\u001b[0m\n\u001b[1;32m      1\u001b[0m \u001b[0;31m# Functions:\u001b[0m\u001b[0;34m\u001b[0m\u001b[0;34m\u001b[0m\u001b[0m\n\u001b[0;32m----> 2\u001b[0;31m \u001b[0mnp\u001b[0m\u001b[0;34m.\u001b[0m\u001b[0msum\u001b[0m\u001b[0;34m(\u001b[0m\u001b[0;34m)\u001b[0m\u001b[0;34m\u001b[0m\u001b[0;34m\u001b[0m\u001b[0m\n\u001b[0m\u001b[1;32m      3\u001b[0m \u001b[0mnp\u001b[0m\u001b[0;34m.\u001b[0m\u001b[0mprod\u001b[0m\u001b[0;34m(\u001b[0m\u001b[0;34m)\u001b[0m\u001b[0;34m\u001b[0m\u001b[0;34m\u001b[0m\u001b[0m\n\u001b[1;32m      4\u001b[0m \u001b[0mnp\u001b[0m\u001b[0;34m.\u001b[0m\u001b[0mmin\u001b[0m\u001b[0;34m(\u001b[0m\u001b[0;34m)\u001b[0m\u001b[0;34m\u001b[0m\u001b[0;34m\u001b[0m\u001b[0m\n\u001b[1;32m      5\u001b[0m \u001b[0mnp\u001b[0m\u001b[0;34m.\u001b[0m\u001b[0mmax\u001b[0m\u001b[0;34m(\u001b[0m\u001b[0;34m)\u001b[0m\u001b[0;34m\u001b[0m\u001b[0;34m\u001b[0m\u001b[0m\n",
            "\u001b[0;31mTypeError\u001b[0m: sum() missing 1 required positional argument: 'a'"
          ]
        }
      ],
      "source": [
        "# Functions:\n",
        "np.sum()\n",
        "np.prod()\n",
        "np.min()\n",
        "np.max()\n",
        "np.mean()\n",
        "np.std()\n",
        "np.median()\n",
        "np.sort()\n",
        "np.unique()\n"
      ]
    },
    {
      "cell_type": "code",
      "execution_count": null,
      "id": "30a50652-135f-4d5f-b3c0-45615d1c7551",
      "metadata": {
        "id": "30a50652-135f-4d5f-b3c0-45615d1c7551"
      },
      "outputs": [],
      "source": [
        "x=np.array([5,7,8,2,9,15])"
      ]
    },
    {
      "cell_type": "code",
      "execution_count": null,
      "id": "fe5395c0-7392-4a11-b6ae-ab272ab1ec15",
      "metadata": {
        "id": "fe5395c0-7392-4a11-b6ae-ab272ab1ec15"
      },
      "outputs": [],
      "source": [
        "sum=np.sum(x)\n",
        "print(sum)"
      ]
    },
    {
      "cell_type": "code",
      "execution_count": null,
      "id": "d1b9936e-ddb3-46f0-8c76-f880f10207e5",
      "metadata": {
        "id": "d1b9936e-ddb3-46f0-8c76-f880f10207e5"
      },
      "outputs": [],
      "source": [
        "prod=np.prod(x)\n",
        "min=np.min(x)\n",
        "max=np.max(x)\n",
        "mean=np.mean(x)\n",
        "std=np.std(x)\n",
        "median=np.median(x)\n",
        "sort=np.sort(x)\n",
        "unique=np.unique(x)\n",
        "print(f\"{mean:.2f}\")# two deciaml places ko lagi\n",
        "print(prod)\n",
        "print(min)\n",
        "print(max)\n",
        "print(std)\n",
        "print(median)\n",
        "print(sort)# by default  ascending order\n",
        "print(unique)"
      ]
    },
    {
      "cell_type": "code",
      "execution_count": null,
      "id": "433789f4-e75f-4717-8ec0-713ffbb7b2a7",
      "metadata": {
        "id": "433789f4-e75f-4717-8ec0-713ffbb7b2a7"
      },
      "outputs": [],
      "source": [
        "\n",
        "# here in the case of this first sorting in ascending then reverse order is print => descending\n",
        "\n",
        "#  Sort in descending order\n",
        "sorted_desc = np.sort(x)[::-1]\n",
        "print( sorted_desc)\n",
        "\n",
        "#  Reverse the original array (does not sort, just flips)\n",
        "reversed_arr = x[::-1]\n",
        "print( reversed_arr)\n"
      ]
    },
    {
      "cell_type": "code",
      "execution_count": null,
      "id": "cde81539-a504-4515-aefb-8f01654dfaf1",
      "metadata": {
        "id": "cde81539-a504-4515-aefb-8f01654dfaf1"
      },
      "outputs": [],
      "source": [
        "help(np.sort)"
      ]
    },
    {
      "cell_type": "markdown",
      "id": "737b5e3b-f716-41d9-b38d-1d30e87a447b",
      "metadata": {
        "id": "737b5e3b-f716-41d9-b38d-1d30e87a447b"
      },
      "source": [
        "# Array Arithmetic\n",
        "np.add()\n",
        "np.multiply()\n",
        "np.divide()\n",
        "np.floor_divide()\n",
        "np.mod()\n",
        "np.power()\n",
        "np.sqrt()"
      ]
    },
    {
      "cell_type": "code",
      "execution_count": null,
      "id": "e51c5e67-81fc-4e83-8b58-3971e7a9196c",
      "metadata": {
        "id": "e51c5e67-81fc-4e83-8b58-3971e7a9196c",
        "outputId": "7c191fe7-b988-4a7e-f2a9-426829053f9a"
      },
      "outputs": [
        {
          "name": "stdout",
          "output_type": "stream",
          "text": [
            "[7 5 9 5]\n"
          ]
        }
      ],
      "source": [
        "x=np.array([5,4,6,1])\n",
        "y=np.array([2,1,3,4])\n",
        "z=np.add(x,y)\n",
        "print(z)"
      ]
    },
    {
      "cell_type": "code",
      "execution_count": null,
      "id": "dd8652ca-cd6b-47bc-bc89-e1ca70f152cd",
      "metadata": {
        "id": "dd8652ca-cd6b-47bc-bc89-e1ca70f152cd",
        "outputId": "c1c710b3-a726-415e-b06b-7224531e3b1d"
      },
      "outputs": [
        {
          "name": "stdout",
          "output_type": "stream",
          "text": [
            "[7 5 9 5]\n"
          ]
        }
      ],
      "source": [
        "z=x+y\n",
        "print(z)"
      ]
    },
    {
      "cell_type": "code",
      "execution_count": null,
      "id": "6178c037-985e-47bd-ae5c-0f3e00bd6bfe",
      "metadata": {
        "id": "6178c037-985e-47bd-ae5c-0f3e00bd6bfe",
        "outputId": "7b8b44f3-645a-4b3b-8976-cceed530a295"
      },
      "outputs": [
        {
          "name": "stdout",
          "output_type": "stream",
          "text": [
            "[10  4 18  4]\n"
          ]
        }
      ],
      "source": [
        "z=np.multiply(x,y)\n",
        "print(z)"
      ]
    },
    {
      "cell_type": "code",
      "execution_count": null,
      "id": "1749a39d-2359-4301-9e04-764561e69a85",
      "metadata": {
        "id": "1749a39d-2359-4301-9e04-764561e69a85",
        "outputId": "b536291e-b8e1-44e6-9c5e-ded31fd97c52"
      },
      "outputs": [
        {
          "name": "stdout",
          "output_type": "stream",
          "text": [
            "[2.5  4.   2.   0.25]\n"
          ]
        }
      ],
      "source": [
        "z=x/y\n",
        "print(z)"
      ]
    },
    {
      "cell_type": "code",
      "execution_count": null,
      "id": "64ae9557-6d08-46b2-96d1-e9987828e0a2",
      "metadata": {
        "id": "64ae9557-6d08-46b2-96d1-e9987828e0a2",
        "outputId": "d196201c-3911-494b-e33e-2c63d42bb5b2"
      },
      "outputs": [
        {
          "name": "stdout",
          "output_type": "stream",
          "text": [
            "[2 4 2 0]\n"
          ]
        }
      ],
      "source": [
        "z=np.floor_divide(x,y)\n",
        "print(z)"
      ]
    },
    {
      "cell_type": "code",
      "execution_count": null,
      "id": "ba05cc2c-b706-4ec4-8df6-fa184e3cd55d",
      "metadata": {
        "id": "ba05cc2c-b706-4ec4-8df6-fa184e3cd55d",
        "outputId": "c7456fe1-98b0-4b4a-d637-c14febd037d0"
      },
      "outputs": [
        {
          "name": "stdout",
          "output_type": "stream",
          "text": [
            "[1 0 0 1]\n"
          ]
        }
      ],
      "source": [
        "z=np.mod(x,y)\n",
        "print(z)"
      ]
    },
    {
      "cell_type": "code",
      "execution_count": null,
      "id": "50806b7d-b48e-4c11-98c5-f2102cdaf1c1",
      "metadata": {
        "id": "50806b7d-b48e-4c11-98c5-f2102cdaf1c1",
        "outputId": "2e26a10a-d724-4957-ea4c-247e10e7e4e7"
      },
      "outputs": [
        {
          "name": "stdout",
          "output_type": "stream",
          "text": [
            "[ 25   4 216   1]\n"
          ]
        }
      ],
      "source": [
        "z=np.power(x,y)\n",
        "print(z)"
      ]
    },
    {
      "cell_type": "code",
      "execution_count": null,
      "id": "5e599194-028e-4c73-9452-db0df4f325f9",
      "metadata": {
        "id": "5e599194-028e-4c73-9452-db0df4f325f9",
        "outputId": "c7f394ec-8b29-4b91-d9bc-1445e96c6802"
      },
      "outputs": [
        {
          "name": "stdout",
          "output_type": "stream",
          "text": [
            "[2.23606798 2.         2.44948974 1.        ]\n"
          ]
        }
      ],
      "source": [
        "z=np.sqrt(x)\n",
        "print(z)"
      ]
    },
    {
      "cell_type": "code",
      "execution_count": null,
      "id": "a29380ca-88cf-45b4-bc40-0507aa4bca74",
      "metadata": {
        "id": "a29380ca-88cf-45b4-bc40-0507aa4bca74",
        "outputId": "62e203d6-e573-4415-94fc-f5c8a253321b"
      },
      "outputs": [
        {
          "name": "stdout",
          "output_type": "stream",
          "text": [
            "[7 6 8 3]\n"
          ]
        }
      ],
      "source": [
        "z=np.add(x,2)\n",
        "print(z)"
      ]
    },
    {
      "cell_type": "markdown",
      "id": "3580074b-e166-4b89-a92c-f676fda00f38",
      "metadata": {
        "id": "3580074b-e166-4b89-a92c-f676fda00f38"
      },
      "source": [
        "# Assignement to do\n",
        "\n",
        "Broadcasting\n",
        "np.zeros()\n",
        "np.ones()\n",
        "np.full()\n",
        "np.arange()\n",
        "np.linspace()\n",
        "np.random.random()\n",
        "np.random.randint()\n",
        "np.random.uniform()\n"
      ]
    },
    {
      "cell_type": "code",
      "execution_count": null,
      "id": "40385527-23d2-4438-a5d5-bff1c1b4d4f4",
      "metadata": {
        "id": "40385527-23d2-4438-a5d5-bff1c1b4d4f4"
      },
      "outputs": [],
      "source": []
    }
  ],
  "metadata": {
    "kernelspec": {
      "display_name": "Python 3 (ipykernel)",
      "language": "python",
      "name": "python3"
    },
    "language_info": {
      "codemirror_mode": {
        "name": "ipython",
        "version": 3
      },
      "file_extension": ".py",
      "mimetype": "text/x-python",
      "name": "python",
      "nbconvert_exporter": "python",
      "pygments_lexer": "ipython3",
      "version": "3.13.1"
    },
    "colab": {
      "provenance": [],
      "include_colab_link": true
    }
  },
  "nbformat": 4,
  "nbformat_minor": 5
}