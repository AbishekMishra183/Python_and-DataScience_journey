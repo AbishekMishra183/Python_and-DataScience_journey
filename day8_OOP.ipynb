{
  "cells": [
    {
      "cell_type": "markdown",
      "metadata": {
        "id": "view-in-github",
        "colab_type": "text"
      },
      "source": [
        "<a href=\"https://colab.research.google.com/github/AbishekMishra183/data-science-ml-journey/blob/main/day8_OOP.ipynb\" target=\"_parent\"><img src=\"https://colab.research.google.com/assets/colab-badge.svg\" alt=\"Open In Colab\"/></a>"
      ]
    },
    {
      "cell_type": "code",
      "execution_count": null,
      "id": "ee12dba8-2b53-49a2-9a40-10e2e1071298",
      "metadata": {
        "id": "ee12dba8-2b53-49a2-9a40-10e2e1071298"
      },
      "outputs": [],
      "source": [
        "#OOP => object oriented programming\n",
        "#class=>person=>blue print=>template=>structure\n",
        "#object=>Ram=>actually exist=>instance of class\n",
        "#"
      ]
    },
    {
      "cell_type": "code",
      "execution_count": null,
      "id": "7679b5bf-862e-4ee1-bea9-6cbfbe7bd5e0",
      "metadata": {
        "id": "7679b5bf-862e-4ee1-bea9-6cbfbe7bd5e0"
      },
      "outputs": [],
      "source": [
        "class person:\n",
        "    #attributies/ properties\n",
        "    name='ram'\n",
        "    age=33\n",
        "    addree='ktm'\n",
        "    gender='male'\n",
        "    phone=83768263\n",
        "#action/ behaviour/method/characteristics\n",
        "    depf eat():\n",
        "      print(\"Eating...... \")\n",
        "\n",
        "    def sleep():\n",
        "        print(\"sleeping.......\")\n",
        "    def walk():\n",
        "        print(\"walking...\")\n",
        "\n",
        ""
      ]
    },
    {
      "cell_type": "code",
      "execution_count": null,
      "id": "4129e807-9bf5-4db3-be2a-8daf04b4a367",
      "metadata": {
        "id": "4129e807-9bf5-4db3-be2a-8daf04b4a367",
        "outputId": "9068fe74-0192-4079-d17d-c1b205bda7b2"
      },
      "outputs": [
        {
          "name": "stdout",
          "output_type": "stream",
          "text": [
            "<__main__.person object at 0x000001433F8946E0>\n"
          ]
        }
      ],
      "source": [
        "p1=person()\n",
        "print(p1)"
      ]
    },
    {
      "cell_type": "code",
      "execution_count": null,
      "id": "3223313c-743a-41da-ba77-1466f72a6f68",
      "metadata": {
        "id": "3223313c-743a-41da-ba77-1466f72a6f68",
        "outputId": "0990e063-194d-4e3c-af7c-8c241039108a"
      },
      "outputs": [
        {
          "name": "stdout",
          "output_type": "stream",
          "text": [
            "<__main__.person object at 0x000001433F6CA5D0>\n"
          ]
        }
      ],
      "source": [
        "p2=person()\n",
        "print(p2)"
      ]
    },
    {
      "cell_type": "code",
      "execution_count": null,
      "id": "96e4c286-a467-4a6a-bef8-a02bb3a02809",
      "metadata": {
        "id": "96e4c286-a467-4a6a-bef8-a02bb3a02809",
        "outputId": "f3bdd9b0-559e-45ba-c64f-6f701f84660a"
      },
      "outputs": [
        {
          "data": {
            "text/plain": [
              "'ram'"
            ]
          },
          "execution_count": 5,
          "metadata": {},
          "output_type": "execute_result"
        }
      ],
      "source": [
        "p1.name"
      ]
    },
    {
      "cell_type": "code",
      "execution_count": null,
      "id": "6660a9a7-d562-4109-9e50-5c76b1c4d6f3",
      "metadata": {
        "id": "6660a9a7-d562-4109-9e50-5c76b1c4d6f3",
        "outputId": "a66fe7a3-31b4-42e0-f0f9-702f18cee10c"
      },
      "outputs": [
        {
          "data": {
            "text/plain": [
              "33"
            ]
          },
          "execution_count": 6,
          "metadata": {},
          "output_type": "execute_result"
        }
      ],
      "source": [
        "p1.age"
      ]
    },
    {
      "cell_type": "code",
      "execution_count": null,
      "id": "c8d20268-0a8b-4d4d-a2e1-e17b9060b4a4",
      "metadata": {
        "id": "c8d20268-0a8b-4d4d-a2e1-e17b9060b4a4"
      },
      "outputs": [],
      "source": [
        "class person:\n",
        "\n",
        "    def __init__(self,name,age,address):# use always 2 underscore while defining the init\n",
        "      print(name,age,address)\n",
        "\n",
        "\n",
        "#action/ behaviour/method/characteristics\n",
        "    def eat(self):\n",
        "      print(\"Eating...... \")\n",
        "\n",
        "    def sleep(self):\n",
        "        print(\"sleeping.......\")\n",
        "    def walk(self):\n",
        "        print(\"walking...\")\n",
        ""
      ]
    },
    {
      "cell_type": "code",
      "execution_count": null,
      "id": "9862bf0a-baec-4723-915b-0fba7177b38c",
      "metadata": {
        "id": "9862bf0a-baec-4723-915b-0fba7177b38c",
        "outputId": "ef254296-3778-4cc6-da1c-7e6a1e37fd09"
      },
      "outputs": [
        {
          "name": "stdout",
          "output_type": "stream",
          "text": [
            "ram 22 ktm\n"
          ]
        }
      ],
      "source": [
        "p1=person(name=\"ram\",age=22,address=\"ktm\")"
      ]
    },
    {
      "cell_type": "code",
      "execution_count": null,
      "id": "95e20a03-fd1e-4076-8fcf-4752a43b0ab2",
      "metadata": {
        "id": "95e20a03-fd1e-4076-8fcf-4752a43b0ab2"
      },
      "outputs": [],
      "source": [
        "class Person:\n",
        "\n",
        "    def __init__(self,name,age,address):# use always 2 underscore while defining the init\n",
        "\n",
        "        self.name=name\n",
        "        self.age=age\n",
        "        self.address=address\n",
        "\n",
        "#action/ behaviour/method/characteristics\n",
        "    def eat(self):\n",
        "      print(\"Eating...... \")\n",
        "\n",
        "    def sleep(self):\n",
        "        print(\"sleeping.......\")\n",
        "    def walk(self):\n",
        "        print(\"walking...\")\n",
        ""
      ]
    },
    {
      "cell_type": "code",
      "execution_count": null,
      "id": "258a0ef1-0cc7-4486-999d-1d5cd29a6112",
      "metadata": {
        "id": "258a0ef1-0cc7-4486-999d-1d5cd29a6112"
      },
      "outputs": [],
      "source": [
        "p1=person(name=\"ram\",age=22,address=\"ktm\")"
      ]
    },
    {
      "cell_type": "code",
      "execution_count": null,
      "id": "4c665ba3-1f5a-4389-b866-f53fa08dbca3",
      "metadata": {
        "id": "4c665ba3-1f5a-4389-b866-f53fa08dbca3",
        "outputId": "e2bccd1a-658a-4886-8ff0-5a3441671fa5"
      },
      "outputs": [
        {
          "data": {
            "text/plain": [
              "'ram'"
            ]
          },
          "execution_count": 19,
          "metadata": {},
          "output_type": "execute_result"
        }
      ],
      "source": [
        "p1.name"
      ]
    },
    {
      "cell_type": "code",
      "execution_count": null,
      "id": "916623d7-0b24-4bb4-b7f2-1b5e0386e001",
      "metadata": {
        "id": "916623d7-0b24-4bb4-b7f2-1b5e0386e001",
        "outputId": "4ab8386c-c52d-4954-d419-a85517547f20"
      },
      "outputs": [
        {
          "data": {
            "text/plain": [
              "'shyam'"
            ]
          },
          "execution_count": 21,
          "metadata": {},
          "output_type": "execute_result"
        }
      ],
      "source": [
        "p2=person(name=\"shyam\",age=22,address=\"ktm\")\n",
        "p2.name"
      ]
    },
    {
      "cell_type": "code",
      "execution_count": null,
      "id": "e7275808-92eb-45f5-8925-3658d37185fc",
      "metadata": {
        "id": "e7275808-92eb-45f5-8925-3658d37185fc"
      },
      "outputs": [],
      "source": [
        "#name ,age,address, college,roll_no,faculty\n",
        "\n",
        "class Student:\n",
        "\n",
        "    def __init__(self,name,age,address,college,faculty,roll_no):# use always 2 underscore while defining the init\n",
        "\n",
        "        self.name=name\n",
        "        self.age=age\n",
        "        self.address=address\n",
        "        self.college=college\n",
        "        self.faculty=faculty\n",
        "        self.roll_no=roll_no\n",
        "\n",
        "#action/ behaviour/method/characteristics\n",
        "    def read(self):\n",
        "      print(\"reading...... \")\n",
        "\n",
        "    def write(self):\n",
        "        print(\"writting......\")\n",
        "    def play(self):\n",
        "        print(\"playing...\")"
      ]
    },
    {
      "cell_type": "code",
      "execution_count": null,
      "id": "d9495f3a-3942-4ca8-8edc-a0885ce4471f",
      "metadata": {
        "id": "d9495f3a-3942-4ca8-8edc-a0885ce4471f"
      },
      "outputs": [],
      "source": [
        "s1=Student(name=\"Abishek\",age=22,address=\"ktm\",college=\"cosmos\",faculty=\"science and tech\",roll_no=220344)"
      ]
    },
    {
      "cell_type": "code",
      "execution_count": null,
      "id": "890da27b-7365-4997-a061-cc5ac4b31d8e",
      "metadata": {
        "id": "890da27b-7365-4997-a061-cc5ac4b31d8e",
        "outputId": "79396736-66ce-42dd-ac76-0b5dc81427ea"
      },
      "outputs": [
        {
          "data": {
            "text/plain": [
              "'ram'"
            ]
          },
          "execution_count": 24,
          "metadata": {},
          "output_type": "execute_result"
        }
      ],
      "source": [
        "s1.name"
      ]
    },
    {
      "cell_type": "code",
      "execution_count": null,
      "id": "ad6a16cc-b1eb-4deb-9e6e-361410710441",
      "metadata": {
        "id": "ad6a16cc-b1eb-4deb-9e6e-361410710441"
      },
      "outputs": [],
      "source": [
        "s2=Student(name=\"hari\",age=22,address=\"ktm\",college=\"cosmos\",faculty=\"science and tech\",roll_no=220344)"
      ]
    },
    {
      "cell_type": "code",
      "execution_count": null,
      "id": "440b94fb-2d22-4eeb-be12-4f7b3a437b58",
      "metadata": {
        "id": "440b94fb-2d22-4eeb-be12-4f7b3a437b58",
        "outputId": "3eedb623-9c49-4483-c1bb-1b1c541a4ec8"
      },
      "outputs": [
        {
          "data": {
            "text/plain": [
              "'hari'"
            ]
          },
          "execution_count": 31,
          "metadata": {},
          "output_type": "execute_result"
        }
      ],
      "source": [
        "s2.name"
      ]
    },
    {
      "cell_type": "code",
      "execution_count": null,
      "id": "b8e9208c-59d4-4126-9d9d-36d45712dc2d",
      "metadata": {
        "id": "b8e9208c-59d4-4126-9d9d-36d45712dc2d",
        "outputId": "1a51bfe0-ef24-449f-e36c-f31f79ac2068"
      },
      "outputs": [
        {
          "name": "stdout",
          "output_type": "stream",
          "text": [
            "writting......\n"
          ]
        }
      ],
      "source": [
        "s1.write()"
      ]
    },
    {
      "cell_type": "code",
      "execution_count": null,
      "id": "54be4403-c7d3-4917-a21b-1a9707d831fe",
      "metadata": {
        "id": "54be4403-c7d3-4917-a21b-1a9707d831fe",
        "outputId": "a271a50d-fb86-46a4-85fa-a84dacb65021"
      },
      "outputs": [
        {
          "name": "stdout",
          "output_type": "stream",
          "text": [
            "reading...... \n"
          ]
        }
      ],
      "source": [
        "s1.read()"
      ]
    },
    {
      "cell_type": "code",
      "execution_count": null,
      "id": "c3582c16-34c5-429c-a9e7-9be0ea145282",
      "metadata": {
        "id": "c3582c16-34c5-429c-a9e7-9be0ea145282"
      },
      "outputs": [],
      "source": [
        "#name ,age,address, college,roll_no,faculty\n",
        "\n",
        "class Student:\n",
        "\n",
        "    def __init__(self,name,age,address,college,faculty,roll_no):# use always 2 underscore while defining the init\n",
        "\n",
        "        self.name=name\n",
        "        self.age=age\n",
        "        self.address=address\n",
        "        self.college=college\n",
        "        self.faculty=faculty\n",
        "        self.roll_no=roll_no\n",
        "        self.subject=[]\n",
        "\n",
        "#action/ behaviour/method/characteristics\n",
        "    def read(self):\n",
        "      print(\"reading...... \")\n",
        "\n",
        "    def write(self):\n",
        "        print(\"writting......\")\n",
        "    def play(self):\n",
        "        print(\"playing...\")\n",
        "    def add_subjects(self,subject_name):# adding subjects\n",
        "        self.subject.append(subject_name)"
      ]
    },
    {
      "cell_type": "code",
      "execution_count": null,
      "id": "aa06785d-8e6f-4abd-8729-3cb25207edf7",
      "metadata": {
        "id": "aa06785d-8e6f-4abd-8729-3cb25207edf7"
      },
      "outputs": [],
      "source": [
        "s2=Student(name=\"abi\",age=22,address=\"ktm\",college=\"cosmos\",faculty=\"science and tech\",roll_no=220344)"
      ]
    },
    {
      "cell_type": "code",
      "execution_count": null,
      "id": "70a30895-3a5c-444c-9165-d8d07fbd08b7",
      "metadata": {
        "id": "70a30895-3a5c-444c-9165-d8d07fbd08b7",
        "outputId": "cbfae4f0-2398-4b1b-dc8f-0d518c8146c5"
      },
      "outputs": [
        {
          "data": {
            "text/plain": [
              "['python', 'python']"
            ]
          },
          "execution_count": 41,
          "metadata": {},
          "output_type": "execute_result"
        }
      ],
      "source": [
        "s2.subject"
      ]
    },
    {
      "cell_type": "code",
      "execution_count": null,
      "id": "343b3bc9-e4e2-4a34-8181-9c4713ed8ae7",
      "metadata": {
        "id": "343b3bc9-e4e2-4a34-8181-9c4713ed8ae7"
      },
      "outputs": [],
      "source": [
        "s2.add_subjects(\"djanjo\")"
      ]
    },
    {
      "cell_type": "code",
      "execution_count": null,
      "id": "0e09d552-dd90-4ed6-b37c-072ba5fb79c4",
      "metadata": {
        "id": "0e09d552-dd90-4ed6-b37c-072ba5fb79c4",
        "outputId": "781d1fc9-18f5-4b9d-9beb-36f6a741b191"
      },
      "outputs": [
        {
          "data": {
            "text/plain": [
              "['python', 'python', 'djanjo']"
            ]
          },
          "execution_count": 43,
          "metadata": {},
          "output_type": "execute_result"
        }
      ],
      "source": [
        "s2.subject"
      ]
    },
    {
      "cell_type": "code",
      "execution_count": null,
      "id": "69c03900-4d1c-49de-968f-7c5dddc29463",
      "metadata": {
        "id": "69c03900-4d1c-49de-968f-7c5dddc29463"
      },
      "outputs": [],
      "source": [
        "# donot enter the muntiple values in the same list\n",
        "class Student:\n",
        "\n",
        "    def __init__(self,name,age,address,college,faculty,roll_no):# use always 2 underscore while defining the init\n",
        "\n",
        "        self.name=name\n",
        "        self.age=age\n",
        "        self.address=address\n",
        "        self.college=college\n",
        "        self.faculty=faculty\n",
        "        self.roll_no=roll_no\n",
        "        self.subject=[]\n",
        "\n",
        "#action/ behaviour/method/characteristics\n",
        "    def read(self):\n",
        "      print(\"reading...... \")\n",
        "\n",
        "    def write(self):\n",
        "        print(\"writting......\")\n",
        "    def play(self):\n",
        "        print(\"playing...\")\n",
        "    def add_subjects(self,subject_name):# adding subjects\n",
        "        if subject_name not in self.subject:\n",
        "          self.subject.append(subject_name)\n",
        "\n",
        "\n",
        "\n",
        "\n",
        ""
      ]
    },
    {
      "cell_type": "code",
      "execution_count": null,
      "id": "1a4c1223-448f-4eb4-b034-3b599c3690e0",
      "metadata": {
        "id": "1a4c1223-448f-4eb4-b034-3b599c3690e0"
      },
      "outputs": [],
      "source": [
        "s2=Student(name=\"hari\",age=22,address=\"ktm\",college=\"cosmos\",faculty=\"science and tech\",roll_no=220344)"
      ]
    },
    {
      "cell_type": "code",
      "execution_count": null,
      "id": "a185c1c9-979e-4e3d-85f1-07b3dfbcb732",
      "metadata": {
        "id": "a185c1c9-979e-4e3d-85f1-07b3dfbcb732"
      },
      "outputs": [],
      "source": [
        "s2.add_subjects(\"python\")"
      ]
    },
    {
      "cell_type": "code",
      "execution_count": null,
      "id": "697068eb-5c0d-42e5-88dd-f298c6f8c54a",
      "metadata": {
        "id": "697068eb-5c0d-42e5-88dd-f298c6f8c54a"
      },
      "outputs": [],
      "source": [
        "s2.add_subjects(\"python\")"
      ]
    },
    {
      "cell_type": "code",
      "execution_count": null,
      "id": "e871ae01-7d68-4b28-8fd7-0a9e1ab6ea3b",
      "metadata": {
        "id": "e871ae01-7d68-4b28-8fd7-0a9e1ab6ea3b",
        "outputId": "4b742a4f-1148-4be5-a14e-7afbf41adc20"
      },
      "outputs": [
        {
          "data": {
            "text/plain": [
              "['python']"
            ]
          },
          "execution_count": 51,
          "metadata": {},
          "output_type": "execute_result"
        }
      ],
      "source": [
        "s2.subject"
      ]
    },
    {
      "cell_type": "code",
      "execution_count": null,
      "id": "559c24c1-e22a-4519-8415-d4a6d381dc59",
      "metadata": {
        "id": "559c24c1-e22a-4519-8415-d4a6d381dc59"
      },
      "outputs": [],
      "source": [
        "#rectangle\n",
        "#area\n",
        "#perimeter\n",
        "class Rectangle:\n",
        "\n",
        "    def __init__(self,length,breadth):# use always 2 underscore while defining the init\n",
        "\n",
        "        self.length=breadth\n",
        "        self.breadth=breadth\n",
        "\n",
        "#action/ behaviour/method/characteristics\n",
        "    def area(self):\n",
        "        return self.length*self.breadth\n",
        "    def perimeter(self):\n",
        "            return 2*(self.length+self.breadth)\n",
        "\n",
        ""
      ]
    },
    {
      "cell_type": "code",
      "execution_count": null,
      "id": "6f17c0b2-7160-43cd-bb69-5e4b589b31cd",
      "metadata": {
        "id": "6f17c0b2-7160-43cd-bb69-5e4b589b31cd",
        "outputId": "20c0c919-2812-4fb3-ac6d-becd45dace4e"
      },
      "outputs": [
        {
          "name": "stdout",
          "output_type": "stream",
          "text": [
            "64\n",
            "32\n"
          ]
        }
      ],
      "source": [
        "r1=Rectangle(4,8)\n",
        "print(r1.area())\n",
        "print(r1.perimeter())"
      ]
    },
    {
      "cell_type": "code",
      "execution_count": null,
      "id": "4f16f44e-7498-4b47-aa56-c81161f5e8d2",
      "metadata": {
        "id": "4f16f44e-7498-4b47-aa56-c81161f5e8d2",
        "outputId": "993cc7c5-ddff-4118-8ee8-7be88a26444a"
      },
      "outputs": [
        {
          "name": "stdout",
          "output_type": "stream",
          "text": [
            "<bound method Rectangle.area of <__main__.Rectangle object at 0x000001433F6CB9D0>>\n",
            "<bound method Rectangle.perimeter of <__main__.Rectangle object at 0x000001433F6CB9D0>>\n"
          ]
        }
      ],
      "source": [
        "print(r1.area)\n",
        "print(r1.perimeter)"
      ]
    },
    {
      "cell_type": "code",
      "execution_count": null,
      "id": "9e073994-c52f-4add-bb33-950f7cc24e20",
      "metadata": {
        "id": "9e073994-c52f-4add-bb33-950f7cc24e20"
      },
      "outputs": [],
      "source": [
        "class Person:\n",
        "    def __init__(self, name ,age, address):\n",
        "        self.name = name\n",
        "        self.age = age\n",
        "        self.address = address\n",
        "\n",
        "    def eat(self):\n",
        "        print(f'{self.name} is eating')\n",
        "\n",
        "    def sleep(self):\n",
        "        print(f'{self.name} is sleeping')\n",
        "\n",
        "    def walk(self):\n",
        "        print(f'{self.name} is walking')\n",
        "\n",
        "    def info(self):\n",
        "        print(f\"Name: {self.name}\")\n",
        "        print(f\"Age: {self.age}\")\n",
        "        print(f\"Address: {self.address}\")\n",
        "\n",
        "class Student:\n",
        "    def __init__(self, name, age, address, college, faculty, roll_no):\n",
        "        self.name = name\n",
        "        self.age = age\n",
        "        self.address = address\n",
        "        self.college = college\n",
        "        self.faculty = faculty\n",
        "        self.roll_no = roll_no\n",
        "        self.subjects = []\n",
        "\n",
        "    def learn(self):\n",
        "        print(f\"Student is learning: {self.subjects}\")\n",
        "\n",
        "    def add_subject(self, name):\n",
        "        if name not in self.subjects:\n",
        "            self.subjects.append(name)\n",
        "\n",
        "    def eat(self): # self is object\n",
        "        print(f'{self.name} is eating')\n",
        "\n",
        "    def sleep(self):\n",
        "        print(f'{self.name} is sleeping')\n",
        "\n",
        "    def walk(self):\n",
        "        print(f'{self.name} is walking')\n",
        "\n",
        "    def info(self):\n",
        "        print(f\"Name: {self.name}\")\n",
        "        print(f\"Age: {self.age}\")\n",
        "        print(f\"Address: {self.address}\")\n",
        "        print(f\"College: {self.college}\")\n",
        "        print(f\"Faculty: {self.faculty}\")\n",
        "        print(f\"Roll no: {self.roll_no}\")\n",
        "        print(f\"Subjects: {self.subjects}\")"
      ]
    },
    {
      "cell_type": "code",
      "execution_count": null,
      "id": "b0f7c1f7-412c-42f0-afc3-552023b7ac4f",
      "metadata": {
        "id": "b0f7c1f7-412c-42f0-afc3-552023b7ac4f"
      },
      "outputs": [],
      "source": [
        "#inheritance\n"
      ]
    },
    {
      "cell_type": "code",
      "execution_count": null,
      "id": "81839d6b-a6f7-454e-80a2-16c883e52130",
      "metadata": {
        "id": "81839d6b-a6f7-454e-80a2-16c883e52130"
      },
      "outputs": [],
      "source": [
        "class parent:\n",
        "    def hello(self):\n",
        "        print(\"hello!world\")\n",
        "class child(parent):# this is the single inheritance\n",
        "    pass"
      ]
    },
    {
      "cell_type": "code",
      "execution_count": null,
      "id": "0b14a322-caa7-4fae-a625-a1ae6d62c7b3",
      "metadata": {
        "id": "0b14a322-caa7-4fae-a625-a1ae6d62c7b3"
      },
      "outputs": [],
      "source": [
        "c=child()"
      ]
    },
    {
      "cell_type": "code",
      "execution_count": null,
      "id": "aafb4bc8-a970-475f-a44a-642e88761b3b",
      "metadata": {
        "id": "aafb4bc8-a970-475f-a44a-642e88761b3b",
        "outputId": "288e9ff4-c678-4e4a-8135-f2b3fb1b0e01"
      },
      "outputs": [
        {
          "name": "stdout",
          "output_type": "stream",
          "text": [
            "hello!world\n"
          ]
        }
      ],
      "source": [
        "c.hello()"
      ]
    },
    {
      "cell_type": "code",
      "execution_count": null,
      "id": "a9cbec4e-22d3-4041-8b3a-bb52fa0c855d",
      "metadata": {
        "id": "a9cbec4e-22d3-4041-8b3a-bb52fa0c855d"
      },
      "outputs": [],
      "source": [
        "class Person:\n",
        "    def __init__(self, name ,age, address):\n",
        "        self.name = name\n",
        "        self.age = age\n",
        "        self.address = address\n",
        "\n",
        "    def eat(self):\n",
        "        print(f'{self.name} is eating')\n",
        "\n",
        "    def sleep(self):\n",
        "        print(f'{self.name} is sleeping')\n",
        "\n",
        "    def walk(self):\n",
        "        print(f'{self.name} is walking')\n",
        "\n",
        "    def info(self):\n",
        "        print(f\"Name: {self.name}\")\n",
        "        print(f\"Age: {self.age}\")\n",
        "        print(f\"Address: {self.address}\")\n",
        "\n",
        "class Student(Person):\n",
        "    def __init__(self, name, age, address, college, faculty, roll_no):\n",
        "        self.name = name\n",
        "        self.age = age\n",
        "        self.address = address\n",
        "        self.college = college\n",
        "        self.faculty = faculty\n",
        "        self.roll_no = roll_no\n",
        "        self.subjects = []\n",
        "\n",
        "    def learn(self):\n",
        "        print(f\"Student is learning: {self.subjects}\")\n",
        "\n",
        "    def add_subject(self, name):\n",
        "        if name not in self.subjects:\n",
        "            self.subjects.append(name)\n",
        "\n",
        "\n",
        "\n",
        "    def info(self):\n",
        "        print(f\"Name: {self.name}\")\n",
        "        print(f\"Age: {self.age}\")\n",
        "        print(f\"Address: {self.address}\")\n",
        "        print(f\"College: {self.college}\")\n",
        "        print(f\"Faculty: {self.faculty}\")\n",
        "        print(f\"Roll no: {self.roll_no}\")\n",
        "        print(f\"Subjects: {self.subjects}\")"
      ]
    },
    {
      "cell_type": "code",
      "execution_count": null,
      "id": "3d0e7178-0d48-410e-b343-01e106093ed3",
      "metadata": {
        "id": "3d0e7178-0d48-410e-b343-01e106093ed3"
      },
      "outputs": [],
      "source": [
        "s2=Student(name=\"hari\",age=22,address=\"ktm\",college=\"cosmos\",faculty=\"science and tech\",roll_no=220344)"
      ]
    },
    {
      "cell_type": "code",
      "execution_count": null,
      "id": "e8ba1735-1603-4338-8562-d862db86801e",
      "metadata": {
        "id": "e8ba1735-1603-4338-8562-d862db86801e",
        "outputId": "dbc7d3e7-c0ee-4ab9-e1bb-4ecbfd1d6669"
      },
      "outputs": [
        {
          "name": "stdout",
          "output_type": "stream",
          "text": [
            "hari is walking\n"
          ]
        }
      ],
      "source": [
        "s2.walk()"
      ]
    },
    {
      "cell_type": "code",
      "execution_count": null,
      "id": "63d20f26-66ba-4f51-948d-7f856859006f",
      "metadata": {
        "id": "63d20f26-66ba-4f51-948d-7f856859006f"
      },
      "outputs": [],
      "source": [
        "class Person:\n",
        "    def __init__(self, name ,age, address):\n",
        "        self.name = name\n",
        "        self.age = age\n",
        "        self.address = address\n",
        "\n",
        "    def eat(self):\n",
        "        print(f'{self.name} is eating')\n",
        "\n",
        "    def sleep(self):\n",
        "        print(f'{self.name} is sleeping')\n",
        "\n",
        "    def walk(self):\n",
        "        print(f'{self.name} is walking')\n",
        "\n",
        "    def info(self):\n",
        "        print(f\"Name: {self.name}\")\n",
        "        print(f\"Age: {self.age}\")\n",
        "        print(f\"Address: {self.address}\")\n",
        "\n",
        "class Student(Person):#single inheritance\n",
        "    def __init__(self, name, age, address, college, faculty, roll_no):\n",
        "        super().__init__(name,age,address)#calling person init\n",
        "\n",
        "        self.college = college\n",
        "        self.faculty = faculty\n",
        "        self.roll_no = roll_no\n",
        "        self.subjects = []\n",
        "\n",
        "    def learn(self):\n",
        "        print(f\"Student is learning: {self.subjects}\")\n",
        "\n",
        "    def add_subject(self, name):\n",
        "        if name not in self.subjects:\n",
        "            self.subjects.append(name)\n",
        "\n",
        "\n",
        "\n",
        "    def info(self):\n",
        "        super().info()#calling person info method\n",
        "        print(f\"College: {self.college}\")\n",
        "        print(f\"Faculty: {self.faculty}\")\n",
        "        print(f\"Roll no: {self.roll_no}\")\n",
        "        print(f\"Subjects: {self.subjects}\")"
      ]
    },
    {
      "cell_type": "code",
      "execution_count": null,
      "id": "98c80b07-1387-4dce-a116-a3e85bea1145",
      "metadata": {
        "id": "98c80b07-1387-4dce-a116-a3e85bea1145"
      },
      "outputs": [],
      "source": [
        "s2=Student(name=\"hari\",age=22,address=\"ktm\",college=\"cosmos\",faculty=\"science and tech\",roll_no=220344)"
      ]
    },
    {
      "cell_type": "code",
      "execution_count": null,
      "id": "0bdca16a-3de0-417d-ae45-f6f7eaee4d70",
      "metadata": {
        "id": "0bdca16a-3de0-417d-ae45-f6f7eaee4d70",
        "outputId": "da26587c-6be0-42f1-cbee-27905f4cf242"
      },
      "outputs": [
        {
          "data": {
            "text/plain": [
              "'hari'"
            ]
          },
          "execution_count": 76,
          "metadata": {},
          "output_type": "execute_result"
        }
      ],
      "source": [
        "s2.name"
      ]
    },
    {
      "cell_type": "code",
      "execution_count": null,
      "id": "33971ede-ddd0-42ad-946d-41342d4b3df6",
      "metadata": {
        "id": "33971ede-ddd0-42ad-946d-41342d4b3df6",
        "outputId": "8d260ba1-06cb-4b00-acdd-40923927fe20"
      },
      "outputs": [
        {
          "name": "stdout",
          "output_type": "stream",
          "text": [
            "Name: hari\n",
            "Age: 22\n",
            "Address: ktm\n",
            "College: cosmos\n",
            "Faculty: science and tech\n",
            "Roll no: 220344\n",
            "Subjects: []\n"
          ]
        }
      ],
      "source": [
        "s2.info()"
      ]
    },
    {
      "cell_type": "code",
      "execution_count": null,
      "id": "41eb771f-3079-4a14-acf2-b97ba06b1ecd",
      "metadata": {
        "id": "41eb771f-3079-4a14-acf2-b97ba06b1ecd"
      },
      "outputs": [],
      "source": [
        "class Father:\n",
        "    pass\n",
        "class Mother:\n",
        "    pass\n",
        "class child(Father,Mother):#muntiple inheritance\n",
        "    pass\n",
        "\n",
        "\n",
        "\n",
        ""
      ]
    },
    {
      "cell_type": "code",
      "execution_count": null,
      "id": "4c5ec004-d3af-4efa-8d0f-613199dca02f",
      "metadata": {
        "id": "4c5ec004-d3af-4efa-8d0f-613199dca02f",
        "outputId": "8831dacc-bea0-4bef-a61b-a05b60e3570f"
      },
      "outputs": [
        {
          "name": "stdout",
          "output_type": "stream",
          "text": [
            "Inside Person class\n",
            "Name: Jessa Age: 28\n",
            "Inside Company class\n",
            "Name: Google location: Atlanta\n",
            "Inside Employee class\n",
            "Salary: 12000 Skill: Machine Learning\n"
          ]
        }
      ],
      "source": [
        "# parent class\n",
        "# Parent class 1\n",
        "class Person:\n",
        "    def person_info(self, name, age):\n",
        "        print('Inside Person class')\n",
        "        print('Name:', name, 'Age:', age)\n",
        "\n",
        "# Parent class 2\n",
        "class Company:\n",
        "    def company_info(self, company_name, location):\n",
        "        print('Inside Company class')\n",
        "        print('Name:', company_name, 'location:', location)\n",
        "\n",
        "# Child class\n",
        "class Employee(Person, Company):\n",
        "    def employee_info(self, salary, skill):\n",
        "        print('Inside Employee class')\n",
        "        print('Salary:', salary, 'Skill:', skill)\n",
        "\n",
        "# Create object of Employee\n",
        "emp = Employee()\n",
        "\n",
        "# access data\n",
        "emp.person_info('Jessa', 28)\n",
        "emp.company_info('Google', 'Atlanta')\n",
        "emp.employee_info(12000, 'Machine Learning')"
      ]
    },
    {
      "cell_type": "code",
      "execution_count": null,
      "id": "2fa8c4f3-a6f1-4085-a4a8-b38489440844",
      "metadata": {
        "id": "2fa8c4f3-a6f1-4085-a4a8-b38489440844"
      },
      "outputs": [],
      "source": []
    }
  ],
  "metadata": {
    "kernelspec": {
      "display_name": "Python 3 (ipykernel)",
      "language": "python",
      "name": "python3"
    },
    "language_info": {
      "codemirror_mode": {
        "name": "ipython",
        "version": 3
      },
      "file_extension": ".py",
      "mimetype": "text/x-python",
      "name": "python",
      "nbconvert_exporter": "python",
      "pygments_lexer": "ipython3",
      "version": "3.13.1"
    },
    "colab": {
      "provenance": [],
      "include_colab_link": true
    }
  },
  "nbformat": 4,
  "nbformat_minor": 5
}