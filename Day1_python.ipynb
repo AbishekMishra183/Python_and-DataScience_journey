{
  "nbformat": 4,
  "nbformat_minor": 0,
  "metadata": {
    "colab": {
      "provenance": []
    },
    "kernelspec": {
      "name": "python3",
      "display_name": "Python 3"
    },
    "language_info": {
      "name": "python"
    }
  },
  "cells": [
    {
      "cell_type": "markdown",
      "source": [
        "# 🐍 What Exactly is Python?\n",
        "\n",
        "**Python** is a high-level, interpreted programming language known for its simplicity, readability, and versatility. It’s widely used in:\n",
        "- Web development\n",
        "- Data science & machine learning\n",
        "- Automation\n",
        "- Scripting\n",
        "- Game and app development\n",
        "\n",
        "---\n",
        "\n",
        "## 🌱 Python's Roots and Ecosystem\n",
        "\n",
        "- Created by **Guido van Rossum** in the late 1980s.\n",
        "- Emphasizes **code readability** and **clean syntax**.\n",
        "- Massive ecosystem of libraries:  \n",
        "  🧮 **NumPy, Pandas** (Data)  \n",
        "  🧠 **Scikit-learn, TensorFlow, PyTorch** (ML/AI)  \n",
        "  🌐 **Flask, Django** (Web)  \n",
        "  📊 **Matplotlib, Seaborn** (Visualization)\n",
        "\n",
        "---\n",
        "\n",
        "## ⚙️ Installing Python & Setting Up IDEs\n",
        "\n",
        "You can write Python in many environments. Here's how to get started:\n",
        "\n",
        "### ✅ **Online (No installation needed):**\n",
        "- **Google Colab**: https://colab.research.google.com\n",
        "- Great for data science, auto GPU, and sharing notebooks\n",
        "\n",
        "### 💻 **Offline IDEs:**\n",
        "- **Jupyter Notebook** (via Anaconda)\n",
        "- **VS Code**\n",
        "- **PyCharm**\n",
        "\n",
        "---\n",
        "\n",
        "## 🧱 Python Frameworks & Syntax\n",
        "\n",
        "### Web Frameworks:\n",
        "- **Flask**: Lightweight web framework\n",
        "- **Django**: Full-featured web framework\n",
        "\n",
        "\n",
        "\n"
      ],
      "metadata": {
        "id": "EKUYQIJYF0tM"
      }
    },
    {
      "cell_type": "markdown",
      "source": [
        "\n",
        "#Here's a summarized Markdown table you can use in Google Colab (inside a Text cell) to review all the basic Markdown formatting at a glance.**\n",
        "\n",
        "| Symbol          | Purpose                         | Example                      | Output                          |\n",
        "|-----------------|----------------------------------|------------------------------|----------------------------------|\n",
        "| `#`             | Heading 1                        | `# Title`                    | Title                           |\n",
        "| `##`            | Heading 2                        | `## Subtitle`                | Subtitle                        |\n",
        "| `###`           | Heading 3                        | `### Smaller Heading`        | Smaller Heading                 |\n",
        "| `---`           | Horizontal line (divider)        | `---`                        | ―――――――――――――――                |\n",
        "| `*italic*`      | Italic text                      | `*text*` or `_text_`         | *text*                          |\n",
        "| `**bold**`      | Bold text                        | `**text**`                   | **text**                        |\n",
        "| `*`             | Bullet points                    | `* Item 1`                   | • Item 1                        |\n",
        "| `1.`            | Numbered list                    | `1. Item`                    | 1. Item                         |\n",
        "| `` `code` ``    | Inline code                      | `` `print(\"Hi\")` ``          | `print(\"Hi\")`                   |\n",
        "| Triple backticks| Code block                       | ```python\\nprint(\"Hi\")\\n``` | Block with syntax highlighting  |\n",
        "\n",
        "\n"
      ],
      "metadata": {
        "id": "Efkhb-snJQq6"
      }
    },
    {
      "cell_type": "markdown",
      "source": [
        "###Note: If you want to run the currrent cell in the collab then press **Shift+Enter**"
      ],
      "metadata": {
        "id": "_gBj5ALtMav6"
      }
    },
    {
      "cell_type": "markdown",
      "source": [
        "# Data Science & Machine Learning Quick Reference\n",
        "\n",
        "## 1. **Data Science (DS)**\n",
        "- **Definition**: Encompasses collecting, processing, analyzing, and interpreting large datasets to derive insights.\n",
        "- **Subset**:\n",
        "  - Data Wrangling: Cleaning and organizing raw data.\n",
        "  - EDA: Visualizing and summarizing data to identify patterns.\n",
        "  - Data Visualization: Using libraries like `matplotlib`, `seaborn`.\n",
        "\n",
        "## 2. **Machine Learning (ML)**\n",
        "- **Definition**: A subset of AI where algorithms learn from data to make predictions without explicit programming.\n",
        "- **Subset**:\n",
        "  - Supervised Learning (SL): Learning from labeled data (e.g., Linear Regression, Classification).\n",
        "  - Unsupervised Learning (UL): Learning from unlabeled data (e.g., Clustering, PCA).\n",
        "  - Reinforcement Learning (RL): Learning via trial and error (e.g., Q-learning).\n",
        "  - Deep Learning (DL): A subset focused on neural networks for large datasets (e.g., CNN, RNN).\n",
        "\n",
        "## 3. **Supervised Learning (SL)**\n",
        "- **Definition**: Learning from labeled data to make predictions (e.g., Regression, Classification).\n",
        "- **Related to**: Requires data preprocessing and visualization to understand the input-output relationship.\n",
        "\n",
        "## 4. **Unsupervised Learning (UL)**\n",
        "- **Definition**: Learning from unlabeled data to find hidden patterns (e.g., Clustering, Dimensionality Reduction).\n",
        "- **Related to**: Data visualization and exploration are key for uncovering patterns.\n",
        "\n",
        "## 5. **Deep Learning (DL)**\n",
        "- **Definition**: Advanced ML using neural networks with multiple layers to process complex data (e.g., Image Recognition, NLP).\n",
        "- **Related to**: A more advanced form of ML requiring large datasets and computational resources.\n",
        "\n",
        "## 6. **Feature Engineering**\n",
        "- **Definition**: The process of transforming raw data into useful features for ML models.\n",
        "- **Subset**:\n",
        "  - Scaling: Normalizing data (e.g., Min-Max scaling).\n",
        "  - Encoding: Converting categorical data into numerical form (e.g., One-Hot Encoding).\n",
        "  - Handling Missing Data: Imputation techniques.\n",
        "\n",
        "## 7. **Model Evaluation**\n",
        "- **Definition**: Assessing the performance of a ML model using metrics.\n",
        "- **Metrics**:\n",
        "  - Accuracy, Precision, Recall, F1-Score.\n",
        "  - Cross-validation: Splitting data into multiple parts for robust evaluation.\n",
        "\n",
        "## 8. **Natural Language Processing (NLP)**\n",
        "- **Definition**: A branch of AI and ML focused on enabling machines to understand human language.\n",
        "- **Techniques**:\n",
        "  - Tokenization, Text Classification, Named Entity Recognition (NER).\n",
        "\n",
        "## 9. **Big Data**\n",
        "- **Definition**: Large or complex datasets that cannot be processed by traditional methods.\n",
        "- **Tools**:\n",
        "  - Apache Hadoop, Apache Spark for distributed processing.\n",
        "\n",
        "\n",
        "\n",
        "---\n",
        "\n",
        "### **Relationships**:\n",
        "- **Data Science** forms the foundation of **Machine Learning** by providing the data handling and analysis required to train models.\n",
        "- **Supervised Learning** and **Unsupervised Learning** are key types of ML algorithms based on whether data is labeled or not.\n",
        "- **Deep Learning** is an advanced form of ML using neural networks to solve complex problems.\n",
        "- **Feature Engineering** ensures the right input features are used for model training.\n",
        "- **Model Evaluation** checks the performance of models to ensure they generalize well.\n",
        "- **NLP** applies ML to understand and process human language, often requiring complex data preparation.\n",
        "- **Big Data** tools are used for handling massive datasets in DS/ML tasks.\n",
        "- **AI Ethics** ensures models are built and deployed fairly and responsibly.\n"
      ],
      "metadata": {
        "id": "WgAloXpmRUJu"
      }
    },
    {
      "cell_type": "markdown",
      "source": [
        "# Python Basics :\n",
        "\n",
        "\n",
        "1.   Data Types & Variables (String, Integer, Float, Complex, Boolean, None)\n",
        "2. Input and Output Functions\n",
        "3. Working with the format() method, f-strings, & escape sequences\n",
        "4. Basic Arithmetic & Operators\n",
        "5. Type casting, type checking, & validation\n",
        "\n",
        "\n",
        "\n"
      ],
      "metadata": {
        "id": "pL4ZcuFoSBsM"
      }
    },
    {
      "cell_type": "code",
      "source": [
        "print (\"hello world\")   # this is my first program"
      ],
      "metadata": {
        "colab": {
          "base_uri": "https://localhost:8080/"
        },
        "id": "TniSGRtFSTuq",
        "outputId": "47e1d688-0877-49b4-88e4-90d0688cf330"
      },
      "execution_count": 2,
      "outputs": [
        {
          "output_type": "stream",
          "name": "stdout",
          "text": [
            "hello world\n"
          ]
        }
      ]
    },
    {
      "cell_type": "code",
      "source": [
        "name=\"abishek\"  #printing the string value\n",
        "print(name)"
      ],
      "metadata": {
        "colab": {
          "base_uri": "https://localhost:8080/"
        },
        "id": "NhrrDz_WUo-m",
        "outputId": "731eb258-86bc-470e-dfa4-5ce41a1478ef"
      },
      "execution_count": 5,
      "outputs": [
        {
          "output_type": "stream",
          "name": "stdout",
          "text": [
            "abishek\n"
          ]
        }
      ]
    },
    {
      "cell_type": "code",
      "source": [
        "number=5  # printing the integer\n",
        "print(number)"
      ],
      "metadata": {
        "colab": {
          "base_uri": "https://localhost:8080/"
        },
        "id": "fgHdf1TUVZfB",
        "outputId": "7f8a266f-9b68-4ff5-8d3d-e1426639f8c1"
      },
      "execution_count": 6,
      "outputs": [
        {
          "output_type": "stream",
          "name": "stdout",
          "text": [
            "5\n"
          ]
        }
      ]
    },
    {
      "cell_type": "code",
      "source": [
        "pi = 3.14 #printing the float\n",
        "print(pi)"
      ],
      "metadata": {
        "colab": {
          "base_uri": "https://localhost:8080/"
        },
        "id": "zD0GpKEwVsy1",
        "outputId": "c7c1038d-cddb-488d-9426-86d43697de16"
      },
      "execution_count": 7,
      "outputs": [
        {
          "output_type": "stream",
          "name": "stdout",
          "text": [
            "3.14\n"
          ]
        }
      ]
    },
    {
      "cell_type": "code",
      "source": [
        "Want_coding=True  #Boolean\n",
        "print(Want_coding)"
      ],
      "metadata": {
        "colab": {
          "base_uri": "https://localhost:8080/"
        },
        "id": "OPE4voQyV1TG",
        "outputId": "8572126c-574a-4685-bf46-f5f92e6d2497"
      },
      "execution_count": 8,
      "outputs": [
        {
          "output_type": "stream",
          "name": "stdout",
          "text": [
            "True\n"
          ]
        }
      ]
    },
    {
      "cell_type": "code",
      "source": [
        "name = input(\"Enter your name: \")\n",
        "print(f\"Hello, {name}!\") # here print(f\") f\"\" is an f-string used for formatting."
      ],
      "metadata": {
        "colab": {
          "base_uri": "https://localhost:8080/"
        },
        "id": "nWUy4XDMWY8V",
        "outputId": "07e9de05-ce70-4ed8-a821-6c61e28d4ba9"
      },
      "execution_count": 10,
      "outputs": [
        {
          "output_type": "stream",
          "name": "stdout",
          "text": [
            "Enter your name: Abishek Mishra\n",
            "Hello, Abishek Mishra!\n"
          ]
        }
      ]
    },
    {
      "cell_type": "markdown",
      "source": [
        "# Python Basics: Data Types, Variables, and Operations\n",
        "\n",
        "## 1. **Data Types & Variables**\n",
        "- **String**: A sequence of characters enclosed in quotes (`'Hello'`, `\"World\"`).\n",
        "  - **Operations**: Concatenation (`+`), repetition (`*`), slicing, and indexing.\n",
        "  - **Example**:\n",
        "    ```python\n",
        "    name = \"John\"\n",
        "    print(name)\n",
        "    ```\n",
        "\n",
        "- **Integer**: Whole numbers (positive or negative) without a decimal point (`10`, `-5`).\n",
        "  - **Operations**: Arithmetic operations (`+`, `-`, `*`, `/`, `//`, `%`).\n",
        "  - **Example**:\n",
        "    ```python\n",
        "    age = 30\n",
        "    print(age)\n",
        "    ```\n",
        "\n",
        "- **Float**: Numbers with a decimal point (`3.14`, `-2.71`).\n",
        "  - **Operations**: Arithmetic operations, similar to integers.\n",
        "  - **Example**:\n",
        "    ```python\n",
        "    pi = 3.14\n",
        "    print(pi)\n",
        "    ```\n",
        "\n",
        "- **Complex**: Numbers with real and imaginary parts (`3 + 4j`).\n",
        "  - **Example**:\n",
        "    ```python\n",
        "    num = 3 + 4j\n",
        "    print(num)\n",
        "    ```\n",
        "\n",
        "- **Boolean**: A data type with two possible values: `True` or `False`.\n",
        "  - **Example**:\n",
        "    ```python\n",
        "    is_active = True\n",
        "    print(is_active)\n",
        "    ```\n",
        "\n",
        "- **None**: Represents the absence of a value, similar to `null` in other languages.\n",
        "  - **Example**:\n",
        "    ```python\n",
        "    result = None\n",
        "    print(result)\n",
        "    ```\n",
        "\n",
        "---\n",
        "\n",
        "## 2. **Input and Output Functions**\n",
        "- **`input()`**: Used to get input from the user (always returns a string).\n",
        "  - **Example**:\n",
        "    ```python\n",
        "    name = input(\"Enter your name: \")\n",
        "    print(f\"Hello, {name}!\")\n",
        "    ```\n",
        "\n",
        "- **`print()`**: Used to output data to the console.\n",
        "  - **Example**:\n",
        "    ```python\n",
        "    print(\"Welcome to Python!\")\n",
        "    ```\n",
        "\n",
        "- **Formatted Output**: Use `format()` method or f-strings to format the output.\n",
        "\n",
        "  - **Using `format()`**:\n",
        "    ```python\n",
        "    name = \"John\"\n",
        "    age = 30\n",
        "    print(\"My name is {} and I am {} years old.\".format(name, age))\n",
        "    ```\n",
        "\n",
        "  - **Using f-strings** (Python 3.6+):\n",
        "    ```python\n",
        "    name = \"John\"\n",
        "    age = 30\n",
        "    print(f\"My name is {name} and I am {age} years old.\")\n",
        "    ```\n",
        "\n",
        "---\n",
        "\n",
        "## 3. **Escape Sequences**\n",
        "- **Escape sequences** allow you to insert special characters into strings.\n",
        "  - `\\n`: New line.\n",
        "  - `\\t`: Tab.\n",
        "  - `\\\\`: Backslash.\n",
        "  - `\\'`: Single quote.\n",
        "  - `\\\"`: Double quote.\n",
        "  - **Example**:\n",
        "    ```python\n",
        "    print(\"Hello\\nWorld!\")\n",
        "    print(\"Tab\\tSpace\")\n",
        "    print(\"She said, \\\"Hello!\\\"\")\n",
        "    ```\n",
        "\n",
        "---\n",
        "\n",
        "## 4. **Basic Arithmetic & Operators**\n",
        "- **Arithmetic Operators**:\n",
        "  - `+` Addition, `-` Subtraction, `*` Multiplication, `/` Division, `//` Integer Division, `%` Modulus, `**` Exponentiation.\n",
        "  - **Example**:\n",
        "    ```python\n",
        "    x = 10\n",
        "    y = 5\n",
        "    print(x + y)   # Addition\n",
        "    print(x - y)   # Subtraction\n",
        "    print(x * y)   # Multiplication\n",
        "    print(x / y)   # Division\n",
        "    print(x // y)  # Integer Division\n",
        "    print(x % y)   # Modulus\n",
        "    print(x ** y)  # Exponentiation\n",
        "    ```\n",
        "\n",
        "---\n",
        "\n",
        "## 5. **Type Casting**\n",
        "- **Casting**: Converting one data type to another.\n",
        "  - **int()**: Converts to integer.\n",
        "  - **float()**: Converts to float.\n",
        "  - **str()**: Converts to string.\n",
        "  - **Example**:\n",
        "    ```python\n",
        "    # From int to float\n",
        "    x = 10\n",
        "    y = float(x)\n",
        "    print(y)\n",
        "\n",
        "    # From float to integer (will truncate the decimal part)\n",
        "    z = 3.14\n",
        "    w = int(z)\n",
        "    print(w)\n",
        "\n",
        "    # From integer to string\n",
        "    a = 100\n",
        "    b = str(a)\n",
        "    print(b)\n",
        "    ```\n",
        "\n",
        "---\n",
        "\n",
        "## 6. **Type Checking**\n",
        "- **`type()`**: Used to check the data type of a variable.\n",
        "  - **Example**:\n",
        "    ```python\n",
        "    x = 5\n",
        "    print(type(x))  # <class 'int'>\n",
        "    \n",
        "    y = \"Hello\"\n",
        "    print(type(y))  # <class 'str'>\n",
        "    ```\n",
        "\n",
        "- **`isinstance()`**: Checks if a variable is an instance of a specific class or data type.\n",
        "  - **Example**:\n",
        "    ```python\n",
        "    x = 10\n",
        "    print(isinstance(x, int))  # True\n",
        "    ```\n",
        "\n",
        "---\n",
        "\n",
        "## 7. **Validation**  \n",
        "- **Input Validation**: Ensuring the input meets certain criteria.\n",
        "  - Example: Check if the user input is a number.\n",
        "    ```python\n",
        "    user_input = input(\"Enter a number: \")\n",
        "    if user_input.isdigit():  # Checks if the input is numeric\n",
        "        print(f\"You entered a valid number: {user_input}\")\n",
        "    else:\n",
        "        print(\"Invalid input. Please enter a number.\")\n",
        "    ```\n",
        "\n",
        "---\n",
        "\n",
        "### Summary of Concepts:\n",
        "- **Variables** hold data of various **data types** (e.g., integers, strings, booleans, etc.).\n",
        "- **Input/Output functions** like `input()` and `print()` handle user interaction.\n",
        "- **Escape sequences** allow the insertion of special characters into strings.\n",
        "- **Basic arithmetic operators** handle mathematical operations in Python.\n",
        "- **Type casting** allows conversion between different data types, while **type checking** (`type()` and `isinstance()`) helps identify variable types.\n",
        "- **Validation** ensures that the input data is of the correct type and format.\n",
        "\n",
        "---\n",
        "\n",
        "This should give you a quick summary of these essential topics to paste into your Google Colab notebook. Let me know if you need more details or examples on any of these topics!\n"
      ],
      "metadata": {
        "id": "-YWxNEBzXF-x"
      }
    },
    {
      "cell_type": "code",
      "source": [
        "num = 3 + 4j #complex number\n",
        "print(num)"
      ],
      "metadata": {
        "colab": {
          "base_uri": "https://localhost:8080/"
        },
        "id": "gbjCVa51XL_X",
        "outputId": "2b244757-57aa-40eb-9814-fb6fa4064e28"
      },
      "execution_count": 11,
      "outputs": [
        {
          "output_type": "stream",
          "name": "stdout",
          "text": [
            "(3+4j)\n"
          ]
        }
      ]
    },
    {
      "cell_type": "code",
      "source": [],
      "metadata": {
        "id": "CbcLl5MpYbhG"
      },
      "execution_count": null,
      "outputs": []
    }
  ]
}