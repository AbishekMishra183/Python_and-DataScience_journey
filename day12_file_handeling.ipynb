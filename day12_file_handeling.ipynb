{
  "cells": [
    {
      "cell_type": "markdown",
      "metadata": {
        "id": "view-in-github",
        "colab_type": "text"
      },
      "source": [
        "<a href=\"https://colab.research.google.com/github/AbishekMishra183/data-science-ml-journey/blob/main/day12_file_handeling.ipynb\" target=\"_parent\"><img src=\"https://colab.research.google.com/assets/colab-badge.svg\" alt=\"Open In Colab\"/></a>"
      ]
    },
    {
      "cell_type": "code",
      "execution_count": null,
      "id": "ade1a1be-92b7-499c-aa6a-0c8b4f588910",
      "metadata": {
        "id": "ade1a1be-92b7-499c-aa6a-0c8b4f588910"
      },
      "outputs": [],
      "source": [
        "\n",
        "f= open(\"hello.txt\",\"w\")# to open the file in the write mode to write some thing in the file\n",
        "f.write(\"Hello World!\")# we have wrote the hello worlld to that file\n",
        "f.close()# this is used to close the file"
      ]
    },
    {
      "cell_type": "code",
      "execution_count": null,
      "id": "c428aec0-3696-4229-a936-f90a2391f101",
      "metadata": {
        "id": "c428aec0-3696-4229-a936-f90a2391f101",
        "outputId": "2abc05f4-4420-4af0-877b-e7b4f78a339a"
      },
      "outputs": [
        {
          "name": "stdout",
          "output_type": "stream",
          "text": [
            "{\"name\": \"ram\", \"age\": 22, \"address\": \"ktm\", \"skills\": [\"python\", \"djanjo\", \"ml\"], \"is_programmer\": true, \"phone\": null}\n"
          ]
        },
        {
          "data": {
            "text/plain": [
              "<function TextIOWrapper.close()>"
            ]
          },
          "execution_count": 67,
          "metadata": {},
          "output_type": "execute_result"
        }
      ],
      "source": [
        "f= open(\"hello.txt\",\"r\")\n",
        "print(f.read())\n",
        "f.close"
      ]
    },
    {
      "cell_type": "code",
      "execution_count": null,
      "id": "a0565902-1500-40ed-b014-def71cc33483",
      "metadata": {
        "id": "a0565902-1500-40ed-b014-def71cc33483",
        "outputId": "7de62c91-8ef7-4c8a-f171-28c6bc821e5c"
      },
      "outputs": [
        {
          "ename": "ZeroDivisionError",
          "evalue": "division by zero",
          "output_type": "error",
          "traceback": [
            "\u001b[31m---------------------------------------------------------------------------\u001b[39m",
            "\u001b[31mZeroDivisionError\u001b[39m                         Traceback (most recent call last)",
            "\u001b[36mCell\u001b[39m\u001b[36m \u001b[39m\u001b[32mIn[3]\u001b[39m\u001b[32m, line 1\u001b[39m\n\u001b[32m----> \u001b[39m\u001b[32m1\u001b[39m \u001b[32;43m1\u001b[39;49m\u001b[43m/\u001b[49m\u001b[32;43m0\u001b[39;49m\n",
            "\u001b[31mZeroDivisionError\u001b[39m: division by zero"
          ]
        }
      ],
      "source": [
        "1/0"
      ]
    },
    {
      "cell_type": "code",
      "execution_count": null,
      "id": "70d1b5bd-c0ca-4a7d-b607-0aacb5b468a8",
      "metadata": {
        "id": "70d1b5bd-c0ca-4a7d-b607-0aacb5b468a8",
        "outputId": "ae1d2446-8072-4f8e-aa3c-2b720e588504"
      },
      "outputs": [
        {
          "name": "stdout",
          "output_type": "stream",
          "text": [
            "hi\n"
          ]
        },
        {
          "ename": "ZeroDivisionError",
          "evalue": "division by zero",
          "output_type": "error",
          "traceback": [
            "\u001b[31m---------------------------------------------------------------------------\u001b[39m",
            "\u001b[31mZeroDivisionError\u001b[39m                         Traceback (most recent call last)",
            "\u001b[36mCell\u001b[39m\u001b[36m \u001b[39m\u001b[32mIn[5]\u001b[39m\u001b[32m, line 2\u001b[39m\n\u001b[32m      1\u001b[39m \u001b[38;5;28mprint\u001b[39m(\u001b[33m\"\u001b[39m\u001b[33mhi\u001b[39m\u001b[33m\"\u001b[39m)\n\u001b[32m----> \u001b[39m\u001b[32m2\u001b[39m \u001b[32;43m1\u001b[39;49m\u001b[43m/\u001b[49m\u001b[32;43m0\u001b[39;49m\n\u001b[32m      3\u001b[39m \u001b[38;5;28mprint\u001b[39m(\u001b[33m\"\u001b[39m\u001b[33mhello\u001b[39m\u001b[33m\"\u001b[39m)\n",
            "\u001b[31mZeroDivisionError\u001b[39m: division by zero"
          ]
        }
      ],
      "source": [
        "print(\"hi\")\n",
        "1/0\n",
        "print(\"hello\")"
      ]
    },
    {
      "cell_type": "code",
      "execution_count": null,
      "id": "cf9fc027-70e0-4c0e-885f-6b90546e562d",
      "metadata": {
        "id": "cf9fc027-70e0-4c0e-885f-6b90546e562d",
        "outputId": "e34a3332-a73b-40c4-d29d-e68751fb1270"
      },
      "outputs": [
        {
          "name": "stdout",
          "output_type": "stream",
          "text": [
            "Hello World!\n"
          ]
        },
        {
          "ename": "ZeroDivisionError",
          "evalue": "division by zero",
          "output_type": "error",
          "traceback": [
            "\u001b[31m---------------------------------------------------------------------------\u001b[39m",
            "\u001b[31mZeroDivisionError\u001b[39m                         Traceback (most recent call last)",
            "\u001b[36mCell\u001b[39m\u001b[36m \u001b[39m\u001b[32mIn[6]\u001b[39m\u001b[32m, line 3\u001b[39m\n\u001b[32m      1\u001b[39m f= \u001b[38;5;28mopen\u001b[39m(\u001b[33m\"\u001b[39m\u001b[33mhello.txt\u001b[39m\u001b[33m\"\u001b[39m,\u001b[33m\"\u001b[39m\u001b[33mr\u001b[39m\u001b[33m\"\u001b[39m)\n\u001b[32m      2\u001b[39m \u001b[38;5;28mprint\u001b[39m(f.read())\n\u001b[32m----> \u001b[39m\u001b[32m3\u001b[39m \u001b[32;43m1\u001b[39;49m\u001b[43m/\u001b[49m\u001b[32;43m0\u001b[39;49m\n\u001b[32m      4\u001b[39m f.close\n",
            "\u001b[31mZeroDivisionError\u001b[39m: division by zero"
          ]
        }
      ],
      "source": [
        "f= open(\"hello.txt\",\"r\")\n",
        "print(f.read())\n",
        "1/0\n",
        "f.close"
      ]
    },
    {
      "cell_type": "code",
      "execution_count": null,
      "id": "c8379425-61f0-4282-b8f5-a290c9d2274e",
      "metadata": {
        "id": "c8379425-61f0-4282-b8f5-a290c9d2274e",
        "outputId": "b85cc764-eed4-4f29-f73a-22a9cfed4c96"
      },
      "outputs": [
        {
          "ename": "TypeError",
          "evalue": "'bool' object is not callable",
          "output_type": "error",
          "traceback": [
            "\u001b[31m---------------------------------------------------------------------------\u001b[39m",
            "\u001b[31mTypeError\u001b[39m                                 Traceback (most recent call last)",
            "\u001b[36mCell\u001b[39m\u001b[36m \u001b[39m\u001b[32mIn[7]\u001b[39m\u001b[32m, line 1\u001b[39m\n\u001b[32m----> \u001b[39m\u001b[32m1\u001b[39m \u001b[43mf\u001b[49m\u001b[43m.\u001b[49m\u001b[43mclosed\u001b[49m\u001b[43m(\u001b[49m\u001b[43m)\u001b[49m\n",
            "\u001b[31mTypeError\u001b[39m: 'bool' object is not callable"
          ]
        }
      ],
      "source": [
        "f.closed()"
      ]
    },
    {
      "cell_type": "code",
      "execution_count": null,
      "id": "af79a116-9320-46db-b910-4da699a6842c",
      "metadata": {
        "id": "af79a116-9320-46db-b910-4da699a6842c"
      },
      "outputs": [],
      "source": [
        "# error /Exception handeling\n",
        "def division(a,b):\n",
        "    div=a/b\n",
        "    return div"
      ]
    },
    {
      "cell_type": "code",
      "execution_count": null,
      "id": "7b9e7fa5-56bf-427b-b1b5-a4350a1da4e9",
      "metadata": {
        "id": "7b9e7fa5-56bf-427b-b1b5-a4350a1da4e9",
        "outputId": "f0b2dd4f-00e5-40bf-d598-1e79c72b77f9"
      },
      "outputs": [
        {
          "data": {
            "text/plain": [
              "0.5"
            ]
          },
          "execution_count": 10,
          "metadata": {},
          "output_type": "execute_result"
        }
      ],
      "source": [
        "division(2,4)"
      ]
    },
    {
      "cell_type": "code",
      "execution_count": null,
      "id": "fedd4758-0641-4a8c-ab29-9730c171c146",
      "metadata": {
        "id": "fedd4758-0641-4a8c-ab29-9730c171c146",
        "outputId": "445232f5-dd67-43c7-84d9-8f1a897a2aeb"
      },
      "outputs": [
        {
          "ename": "ZeroDivisionError",
          "evalue": "division by zero",
          "output_type": "error",
          "traceback": [
            "\u001b[31m---------------------------------------------------------------------------\u001b[39m",
            "\u001b[31mZeroDivisionError\u001b[39m                         Traceback (most recent call last)",
            "\u001b[36mCell\u001b[39m\u001b[36m \u001b[39m\u001b[32mIn[11]\u001b[39m\u001b[32m, line 1\u001b[39m\n\u001b[32m----> \u001b[39m\u001b[32m1\u001b[39m \u001b[43mdivision\u001b[49m\u001b[43m(\u001b[49m\u001b[32;43m4\u001b[39;49m\u001b[43m,\u001b[49m\u001b[32;43m0\u001b[39;49m\u001b[43m)\u001b[49m\n",
            "\u001b[36mCell\u001b[39m\u001b[36m \u001b[39m\u001b[32mIn[9]\u001b[39m\u001b[32m, line 3\u001b[39m, in \u001b[36mdivision\u001b[39m\u001b[34m(a, b)\u001b[39m\n\u001b[32m      2\u001b[39m \u001b[38;5;28;01mdef\u001b[39;00m\u001b[38;5;250m \u001b[39m\u001b[34mdivision\u001b[39m(a,b):\n\u001b[32m----> \u001b[39m\u001b[32m3\u001b[39m     div=\u001b[43ma\u001b[49m\u001b[43m/\u001b[49m\u001b[43mb\u001b[49m\n\u001b[32m      4\u001b[39m     \u001b[38;5;28;01mreturn\u001b[39;00m div\n",
            "\u001b[31mZeroDivisionError\u001b[39m: division by zero"
          ]
        }
      ],
      "source": [
        "division(4,0)"
      ]
    },
    {
      "cell_type": "code",
      "execution_count": null,
      "id": "7dd80ebc-ce74-41ef-90d8-23d96ca17806",
      "metadata": {
        "id": "7dd80ebc-ce74-41ef-90d8-23d96ca17806"
      },
      "outputs": [],
      "source": [
        "# so to overcome this we use the exception handeling (try and catch to gracefully handle the error)\n",
        "def division(a,b):\n",
        "    try:\n",
        "        div=a/b\n",
        "        return div\n",
        "    except ZeroDivisionError:\n",
        "         print(\"cannot divide by 0\")\n"
      ]
    },
    {
      "cell_type": "code",
      "execution_count": null,
      "id": "0de695fb-cfda-44d2-9735-e911640e5798",
      "metadata": {
        "id": "0de695fb-cfda-44d2-9735-e911640e5798",
        "outputId": "a53ee1b2-02e8-4093-cb45-6ff1e8dbf868"
      },
      "outputs": [
        {
          "data": {
            "text/plain": [
              "0.5"
            ]
          },
          "execution_count": 15,
          "metadata": {},
          "output_type": "execute_result"
        }
      ],
      "source": [
        "division(2,4)"
      ]
    },
    {
      "cell_type": "code",
      "execution_count": null,
      "id": "dbc9741d-81ef-4f26-bc7e-e90d2188a318",
      "metadata": {
        "id": "dbc9741d-81ef-4f26-bc7e-e90d2188a318",
        "outputId": "6b1eae4c-4d2f-469c-9b85-f89099d2fcec"
      },
      "outputs": [
        {
          "name": "stdout",
          "output_type": "stream",
          "text": [
            "cannot divide by 0\n"
          ]
        }
      ],
      "source": [
        "division(1,0)"
      ]
    },
    {
      "cell_type": "code",
      "execution_count": null,
      "id": "e79bf592-65ab-4d32-9873-49042680dd44",
      "metadata": {
        "id": "e79bf592-65ab-4d32-9873-49042680dd44"
      },
      "outputs": [],
      "source": [
        "def division(a,b):\n",
        "    try:\n",
        "        div=a/b\n",
        "        return div\n",
        "    except ZeroDivisionError:\n",
        "         print(\"cannot divide by 0\")\n",
        "    except TypeError:\n",
        "        print(\"invalid Datatype\")"
      ]
    },
    {
      "cell_type": "code",
      "execution_count": null,
      "id": "66e8f8eb-102b-45d4-817c-2bff9bf75683",
      "metadata": {
        "id": "66e8f8eb-102b-45d4-817c-2bff9bf75683",
        "outputId": "dbd42824-b1e7-43b4-a213-e11222ff0589"
      },
      "outputs": [
        {
          "name": "stdout",
          "output_type": "stream",
          "text": [
            "invalid Datatype\n"
          ]
        }
      ],
      "source": [
        "division(4,'a')"
      ]
    },
    {
      "cell_type": "code",
      "execution_count": null,
      "id": "68b2fa9f-18e7-4b68-a5b9-76364814f948",
      "metadata": {
        "id": "68b2fa9f-18e7-4b68-a5b9-76364814f948"
      },
      "outputs": [],
      "source": [
        "def division(a,b):\n",
        "    try:\n",
        "        div=a/b\n",
        "        return div\n",
        "    except ZeroDivisionError:\n",
        "         print(\"cannot divide by 0\")\n",
        "    except TypeError:\n",
        "        print(\"invalid Datatype\")\n",
        "    except Exception as e:      # this is used when we dont know which type of exception is actually is being seen in the program\n",
        "        print(e)"
      ]
    },
    {
      "cell_type": "code",
      "execution_count": null,
      "id": "ee33572f-1a8d-4526-8e23-bbdcc0b77e9e",
      "metadata": {
        "id": "ee33572f-1a8d-4526-8e23-bbdcc0b77e9e"
      },
      "outputs": [],
      "source": [
        "def division(a,b):\n",
        "    try:\n",
        "        div=a/b\n",
        "        return div\n",
        "\n",
        "    except Exception as e:      # this is used when we dont know which type of exception is actually is being seen in the program\n",
        "        print(e)"
      ]
    },
    {
      "cell_type": "code",
      "execution_count": null,
      "id": "2e22b6df-25ad-4dd7-9d43-300b9d0705bd",
      "metadata": {
        "id": "2e22b6df-25ad-4dd7-9d43-300b9d0705bd",
        "outputId": "b743e094-edd3-455c-b29c-8a36835c1e1d"
      },
      "outputs": [
        {
          "name": "stdout",
          "output_type": "stream",
          "text": [
            "division by zero\n"
          ]
        }
      ],
      "source": [
        "division(2,0)"
      ]
    },
    {
      "cell_type": "code",
      "execution_count": null,
      "id": "cf049e33-9b77-4b78-998e-b18977c5c45e",
      "metadata": {
        "id": "cf049e33-9b77-4b78-998e-b18977c5c45e",
        "outputId": "22944fd4-7643-474a-c3fe-dde466b1c2c0"
      },
      "outputs": [
        {
          "name": "stdout",
          "output_type": "stream",
          "text": [
            "unsupported operand type(s) for /: 'str' and 'int'\n"
          ]
        }
      ],
      "source": [
        "division('a',3)"
      ]
    },
    {
      "cell_type": "code",
      "execution_count": null,
      "id": "cb5e1a4b-4edd-4afe-aed8-543c55ecd5a2",
      "metadata": {
        "id": "cb5e1a4b-4edd-4afe-aed8-543c55ecd5a2"
      },
      "outputs": [],
      "source": [
        "def division(a,b):\n",
        "    try:\n",
        "        div=a/b\n",
        "\n",
        "    except ZeroDivisionError:\n",
        "         print(\"cannot divide by 0\")\n",
        "    except TypeError:\n",
        "        print(\"invalid Datatype\")\n",
        "    except Exception as e:      # this is used when we dont know which type of exception is actually is being seen in the program\n",
        "        print(e)\n",
        "    else:\n",
        "        print(\"I will rin if there is no exception\")\n",
        "        return div"
      ]
    },
    {
      "cell_type": "code",
      "execution_count": null,
      "id": "62d151fc-ccee-4eb6-b5e5-88f4f8800d4e",
      "metadata": {
        "id": "62d151fc-ccee-4eb6-b5e5-88f4f8800d4e",
        "outputId": "d3f91549-d352-4a59-dc64-69c12ca555c7"
      },
      "outputs": [
        {
          "name": "stdout",
          "output_type": "stream",
          "text": [
            "I will rin if there is no exception\n"
          ]
        },
        {
          "data": {
            "text/plain": [
              "0.5"
            ]
          },
          "execution_count": 31,
          "metadata": {},
          "output_type": "execute_result"
        }
      ],
      "source": [
        "division(2,4)"
      ]
    },
    {
      "cell_type": "code",
      "execution_count": null,
      "id": "01599db1-d64a-4cd7-a0db-a09d3560984a",
      "metadata": {
        "id": "01599db1-d64a-4cd7-a0db-a09d3560984a",
        "outputId": "d5a03afa-d686-4c50-e6ef-932e44848606"
      },
      "outputs": [
        {
          "name": "stdout",
          "output_type": "stream",
          "text": [
            "invalid Datatype\n"
          ]
        }
      ],
      "source": [
        "division('a',3)\n"
      ]
    },
    {
      "cell_type": "code",
      "execution_count": null,
      "id": "65551535-6374-477f-82f3-6165bfb3e3a4",
      "metadata": {
        "id": "65551535-6374-477f-82f3-6165bfb3e3a4"
      },
      "outputs": [],
      "source": [
        "def division(a,b):\n",
        "    try:\n",
        "        div=a/b\n",
        "\n",
        "    except ZeroDivisionError:\n",
        "         print(\"cannot divide by 0\")\n",
        "    except TypeError:\n",
        "        print(\"invalid Datatype\")\n",
        "    except Exception as e:      # this is used when we dont know which type of exception is actually is being seen in the program\n",
        "        print(e)\n",
        "    else:\n",
        "        print(\"I will rin if there is no exception\")\n",
        "        return div\n",
        "    finally:\n",
        "        print(\"i will run no matter what happens in the code\")\n",
        "\n",
        "\n",
        "\n",
        ""
      ]
    },
    {
      "cell_type": "code",
      "execution_count": null,
      "id": "2b939163-f855-48b1-b4fc-0f4e584c27c5",
      "metadata": {
        "id": "2b939163-f855-48b1-b4fc-0f4e584c27c5",
        "outputId": "45d4357b-bbee-48cd-be9c-09ef43e7059c"
      },
      "outputs": [
        {
          "name": "stdout",
          "output_type": "stream",
          "text": [
            "I will rin if there is no exception\n",
            "i will run no matter what happens in the code\n"
          ]
        },
        {
          "data": {
            "text/plain": [
              "0.5"
            ]
          },
          "execution_count": 33,
          "metadata": {},
          "output_type": "execute_result"
        }
      ],
      "source": [
        "division(2,4)"
      ]
    },
    {
      "cell_type": "code",
      "execution_count": null,
      "id": "f6874a9b-00a6-4971-8427-6e8dfe4de3e6",
      "metadata": {
        "id": "f6874a9b-00a6-4971-8427-6e8dfe4de3e6",
        "outputId": "60f4317b-d600-40e1-dcd7-23d8e1859440"
      },
      "outputs": [
        {
          "name": "stdout",
          "output_type": "stream",
          "text": [
            "cannot divide by 0\n",
            "i will run no matter what happens in the code\n"
          ]
        }
      ],
      "source": [
        "division(2,0)"
      ]
    },
    {
      "cell_type": "code",
      "execution_count": null,
      "id": "e51a4c21-095e-4e93-9edc-22673191bba5",
      "metadata": {
        "id": "e51a4c21-095e-4e93-9edc-22673191bba5",
        "outputId": "60b60c93-da7b-4b22-b5df-71848489cf74"
      },
      "outputs": [
        {
          "name": "stdout",
          "output_type": "stream",
          "text": [
            "Hello World!\n",
            "division by zero\n"
          ]
        }
      ],
      "source": [
        "f= open(\"hello.txt\",\"r\")\n",
        "print(f.read())\n",
        "try:\n",
        "    1/0\n",
        "except Exception as e:      # this is used when we dont know which type of exception is actually is being seen in the program\n",
        "        print(e)\n",
        "\n",
        "f.close()"
      ]
    },
    {
      "cell_type": "code",
      "execution_count": null,
      "id": "a54ffef0-ad10-419c-96cf-0df0c57f4be9",
      "metadata": {
        "id": "a54ffef0-ad10-419c-96cf-0df0c57f4be9",
        "outputId": "78a966ae-bee4-4b72-b6d2-51600238e12f"
      },
      "outputs": [
        {
          "name": "stdout",
          "output_type": "stream",
          "text": [
            "Hello World!\n",
            "cannot divide by 0\n"
          ]
        }
      ],
      "source": [
        "f= open(\"hello.txt\",\"r\")\n",
        "print(f.read())\n",
        "try:\n",
        "    1/0\n",
        "except ZeroDivisionError:\n",
        "         print(\"cannot divide by 0\")\n",
        "f.close()"
      ]
    },
    {
      "cell_type": "code",
      "execution_count": null,
      "id": "08711f61-7b95-4607-8874-00c680757d3d",
      "metadata": {
        "id": "08711f61-7b95-4607-8874-00c680757d3d",
        "outputId": "cd310cce-4bcf-4f84-b03a-94a832a7c904"
      },
      "outputs": [
        {
          "name": "stdout",
          "output_type": "stream",
          "text": [
            "Hello World!\n"
          ]
        }
      ],
      "source": [
        "with open(\"hello.txt\",\"r\")as f:\n",
        "    print(f.read())\n",
        ""
      ]
    },
    {
      "cell_type": "code",
      "execution_count": null,
      "id": "c3883438-b90c-4449-ac97-a9d8d4a2aa5c",
      "metadata": {
        "id": "c3883438-b90c-4449-ac97-a9d8d4a2aa5c",
        "outputId": "ea80e3bd-3c33-4d94-b149-4db2b77e6034"
      },
      "outputs": [
        {
          "data": {
            "text/plain": [
              "True"
            ]
          },
          "execution_count": 41,
          "metadata": {},
          "output_type": "execute_result"
        }
      ],
      "source": [
        "f.closed"
      ]
    },
    {
      "cell_type": "code",
      "execution_count": null,
      "id": "a7878814-86ac-4b55-a0b3-3a18cd34db1d",
      "metadata": {
        "id": "a7878814-86ac-4b55-a0b3-3a18cd34db1d",
        "outputId": "1205fa1d-03bd-492c-8a26-344045212440"
      },
      "outputs": [
        {
          "name": "stdout",
          "output_type": "stream",
          "text": [
            "False\n",
            "Hello World!\n",
            "False\n",
            "True\n"
          ]
        }
      ],
      "source": [
        "with open(\"hello.txt\",\"r\")as f:\n",
        "    print(f.closed)\n",
        "    print(f.read())\n",
        "    print(f.closed)\n",
        "print(f.closed)"
      ]
    },
    {
      "cell_type": "code",
      "execution_count": null,
      "id": "a5681262-7ed0-4be5-9460-97608bea92f2",
      "metadata": {
        "id": "a5681262-7ed0-4be5-9460-97608bea92f2",
        "outputId": "53616d65-14ea-4088-f18d-8f68497bc91c"
      },
      "outputs": [
        {
          "name": "stdout",
          "output_type": "stream",
          "text": [
            "False\n",
            "Hello World!\n"
          ]
        },
        {
          "ename": "ZeroDivisionError",
          "evalue": "division by zero",
          "output_type": "error",
          "traceback": [
            "\u001b[31m---------------------------------------------------------------------------\u001b[39m",
            "\u001b[31mZeroDivisionError\u001b[39m                         Traceback (most recent call last)",
            "\u001b[36mCell\u001b[39m\u001b[36m \u001b[39m\u001b[32mIn[45]\u001b[39m\u001b[32m, line 4\u001b[39m\n\u001b[32m      2\u001b[39m \u001b[38;5;28mprint\u001b[39m(f.closed)\n\u001b[32m      3\u001b[39m \u001b[38;5;28mprint\u001b[39m(f.read())\n\u001b[32m----> \u001b[39m\u001b[32m4\u001b[39m \u001b[32;43m1\u001b[39;49m\u001b[43m/\u001b[49m\u001b[32;43m0\u001b[39;49m\n",
            "\u001b[31mZeroDivisionError\u001b[39m: division by zero"
          ]
        }
      ],
      "source": [
        "with open(\"hello.txt\",\"r\")as f:\n",
        "    print(f.closed)\n",
        "    print(f.read())\n",
        "    1/0\n",
        ""
      ]
    },
    {
      "cell_type": "code",
      "execution_count": null,
      "id": "8c10aab9-6b12-4b04-b759-30c72c67731c",
      "metadata": {
        "id": "8c10aab9-6b12-4b04-b759-30c72c67731c",
        "outputId": "5d822b96-a59c-4455-a6c6-c12709a1153a"
      },
      "outputs": [
        {
          "data": {
            "text/plain": [
              "True"
            ]
          },
          "execution_count": 46,
          "metadata": {},
          "output_type": "execute_result"
        }
      ],
      "source": [
        "f.closed"
      ]
    },
    {
      "cell_type": "code",
      "execution_count": null,
      "id": "2533abca-1e3f-478b-99ae-1986538ddc7d",
      "metadata": {
        "id": "2533abca-1e3f-478b-99ae-1986538ddc7d",
        "outputId": "9e2eed43-c7dc-4810-efc4-a7c685659301"
      },
      "outputs": [
        {
          "name": "stdout",
          "output_type": "stream",
          "text": [
            "Hello World!\n"
          ]
        }
      ],
      "source": [
        "with open(\"hello.txt\",\"r\")as f:\n",
        "    print(f.read())\n",
        ""
      ]
    },
    {
      "cell_type": "code",
      "execution_count": null,
      "id": "d6978c89-d59d-4f4c-a413-c2fc0559e21d",
      "metadata": {
        "id": "d6978c89-d59d-4f4c-a413-c2fc0559e21d",
        "outputId": "04cb4d6c-9069-4526-92be-7aed76bf4006"
      },
      "outputs": [
        {
          "name": "stdout",
          "output_type": "stream",
          "text": [
            "Hello World!\n"
          ]
        }
      ],
      "source": [
        "with open(\"hello.txt\",\"rt\")as f:# read in the text mode\n",
        "    print(f.read())\n",
        ""
      ]
    },
    {
      "cell_type": "code",
      "execution_count": null,
      "id": "5000c4ae-0b4e-4b4d-b3a6-225e8453d8e0",
      "metadata": {
        "id": "5000c4ae-0b4e-4b4d-b3a6-225e8453d8e0",
        "outputId": "f973f7c5-6ade-45f1-b1df-e4f9cbed0493"
      },
      "outputs": [
        {
          "name": "stdout",
          "output_type": "stream",
          "text": [
            "Hello World!\n"
          ]
        }
      ],
      "source": [
        "with open(\"hello.txt\")as f:# sefault read in the text mode\n",
        "    print(f.read())\n",
        ""
      ]
    },
    {
      "cell_type": "code",
      "execution_count": null,
      "id": "b60561e6-6ec8-44d3-85c5-c7f18e4a0747",
      "metadata": {
        "id": "b60561e6-6ec8-44d3-85c5-c7f18e4a0747",
        "outputId": "92c2712a-94a4-4e41-fff8-8359533200f9"
      },
      "outputs": [
        {
          "name": "stdout",
          "output_type": "stream",
          "text": [
            "b'\\x89PNG\\r\\n\\x1a\\n\\x00\\x00\\x00\\rIHDR\\x00\\x00\\x00@\\x00\\x00\\x00@\\x08\\x06\\x00\\x00\\x00\\xaaiq\\xde\\x00\\x00\\x00\\x06bKGD\\x00\\xff\\x00\\xff\\x00\\xff\\xa0\\xbd\\xa7\\x93\\x00\\x00\\x00\\tpHYs\\x00\\x00\\x06\\xe6\\x00\\x00\\x06\\xe6\\x01E\\x01\\xf3\\xd9\\x00\\x00\\x00\\x07tIME\\x07\\xde\\x0c\\x0c\\x16\"\\x1a)\\xbd\\xe5\\xde\\x00\\x00\\x08\\x11IDATx\\xda\\xed[}lUg\\x19\\xff=\\xb7\\xa5\"\\xad\\t\\x8a\\x97\\x8dm\\xd1\\xe0:\\x84v\\x93U\\x836\\x8a\\x01u\\x04\\xdd\\xec6\\xc5\\x12\\xc7D\\xa3.\\x93u\\x9a\\x8d\\xb4:\\rn\\xb93\\x88\\xe0\\x18\\x88\\x8bd\\xfee\\xc4i\\xb2\\xa1\\xf8A\\x97\\xc9V\\xb0\\xc0V(\\x13\\xd6t.3\\x1d\\x10#\\xf2Qh7\\xa6\\xa5\\xeb\\xc7=\\xcf\\xcf?\\xee\\xb9\\xe7\\x9es\\xef9\\xe7\\xbe\\xe7\\xf6v;\\xc6\\xbem\\xd3\\xf7\\xbe\\xe7\\xde\\xb7\\xe7\\xf9=\\xcf\\xef\\xf9:o\\x81\\xa915\\xa6\\xc6\\xff\\xf3\\x90\\xc9\\xdc\\xfc\\xe6\\x9ft\\\\6>\\xc6\\xe5$\\xe7\\x03HR\\x99$9\\x9bd\\x12\\xaa\\xb3IN\\'9Hb@\\xa1\\x03\\t\\x8b\\x83\\n\\x0c(\\xac\\x01Q\\xed\\x1d\\x9a6\\xfd\\xc9\\xa3\\xa9\\xa6\\xe1\\xff)\\x00\\x9aS/U\\r\\xd7\\xf4\\xb7)\\xb1\\x02\\xd4\\x06\\x90B\\x12\\xd9\\x1f8s-\\\\\\xd3\\xdc5{mX\\xc9]\\xe9\\x84\\xd5\\xd6\\xbdaU\\x7f\\xec\\x01\\xb8i\\xeb\\xfe\\x05\\xb0\\xf47$\\xafG\\x9e\\x90^\\xe1\\x0b\\x04\\xf5y\\x9f\\xeb\\xb3\\xca\\x0b\\xa4\\xf5\\xb5C\\x0f}\\xa9=\\xb6\\x004?\\xf1D\\xc5\\xf0?\\x93\\x7f\\x07Y\\xcb<-\\x1b\\tY\\xf0\\xbe\\x82\\xcf\\x8e\\x13\\xdax\\xf8\\xa1\\xd5\\xc7\\xca\\t@\\xa2\\\\\\x1b\\r\\x9fJ\\xde\\xe6\\x16^\\x89\\x03P\\xdc\"\\xd4[H\\x1cp\\x0b\\t\\x1f0\\x0c\\xd6\\xa6A\\xf1\\xab\\xa5\\xa9_L/\\'\\x00\\x95\\xe5\\xda\\x88\\xcaO\\xc2\\x11\\x9e\\x17\\xabFF>\\xb3\\xdbv`M\\xa9\\xdd\\x1doT$N\\x83\\x9c\\xe9o\\t\\xc6ku\\xc3\\xffN\\xdc\\x00\\xa0=v\\x16\\x00`\\x0eA\\x00\\x04\\x88]\\xbb]\\xde{w\\xaai\\x18\\xe4\\xaeB\\r#D\\xeb\\xf0\\xb7\\x04\\xc5\\x87cI\\x01R\\x93\\xd9\\x1b\\x05\\xac\\xc5 \\xc5uQH.\\x0e\\xd2p4ZX\\x0bcI\\x01!*5\\xa7\\xbdy\\xcb7<\\xf5`\\xe5\\x8f\\xda\\xb7\\x02\\xc0\\xc8\\x0f\\xda\\xd7\\x12\\x9c\\x07\\xdbB\\xdc_@$\\n\\x00\\x8a\\xb7\\xc5\\x12\\x00\\xcd\\x8b\\xebJ\\xdc?\\x9a\\x96\\xd6\\x8cEpF\\xa8\\x86]`x\\x00\\xf2\\xb3\\x04\\x10\\xf1t\\x82\\xfef;\\xa3\\xb8\\x93C\\xb0\\xd6\\xf3\\xec\\xc5\\xf6/\\xf1\\x04 \\x9c\\xc3\\x98h\\x08\\xf4XKL-@w\\x12<\\x0c\\x02\\xa2\\x84\\x02P[\\x8b`V{\\x04\\x15P\\x10\\xf6\\xe4#\\x04\\xaf\\x0f\\x17\\xdc\\x07\\xdc8\\x02\\xf0\\xf4\\xba\\x1b\\x7f\\x18\\xf53\\x1f\\xfd\\xce\\xe3\\x1ba\\x03`\\x9c\\x0f\\xa8\\xbe5\\x00\\xdc\\xf4p\\xe7\\'\\xa8\\xda\\xa0\\xd4\\x05 \\xaf\\x02)\\xcc\\xdeL&\\xf9\\x01\\xa1\\xa0\\xda\\xdaeF\\xd3\\xb4h\\xdf\\xb3\\x05P\\xed\\xf0O@\\t\\x8b:O\\x8a\\xe6\\x03\\xde5\\xc7\\xe2\\xfa[[\\xa1X\\x96w\\x9b\\x97\\x90`\\x0fT\\xfe\\x8a\\xcb\\xdf\\xb1G$\\xa5\\x13\\x06\\xa0i\\xcb\\xbe%T\\xd9\\xa8\\xaa\\x8d !\\x1e\\x8f\\x8c\\x00\\x87\\x06\\xaf\\xd7\\x16:\\xfe\\x8b\\xae\\xb0\\'%\\xf8\\x03W\\xf1r\\x1d\\x04\\xcb\\x0b\\xb9\\x88\\xcf\\x03\\n\\x9c}\\xed\\x19\\x9e\\xfd\\xd6\\xed2\\xe7\\x91\\x0b%\\'BM[:[T\\xa5\\x93d\\xe3\\xc4\\x92\\x17\\x9f\\xb5\\x82|\\x00!\\x14\\x80!\\xf7\\xb3\\xd6g\\x01\\xd0e\\xb0\\xf40\\xcf\\xb5U\\x97\\x04@\\xd3\\xc3\\xfbV\\xa8\\xe2\\x11\\x13n\\xa2\\\\kA\\xf9\\x80\\x89\\xe7\\xcf\\nNu\\x81`\\xbd\\x0f\\xe9\\xa1\\x07#\\x03p\\xeb\\xd6\\xbf\\xcc$\\x12;@M\\x98\\xe4\\xef\\x13,p\\x8c\\xc0\\r\\xd7z\\x81\\xe0\\xae\\xd7\\xe9{\\xf8\\x8f;\\xe6F\\x02\\xc0R\\xf92\\xa93\\xbc\\t\\x88\\xa96Q\\xd6| \\xd4\\xf4\\x1d!5Oh\\x87\\x06\\x00\\xb5\\x12H\\x7f!\\x12\\x00J|\\xc3/\\x01\\xf1\\xf0\\x15\\x93A\\x8bB\\x80|\\xc6E[K33\\x02\\x86i\\xdf\\x9e\\x8b\\x9a\\x03p\\xe3\\xe6\\xbd\\xef%\\xb5\\xceH\\x80@\\xbe\\x96\\x87\\x02\\xfe\\x06/G3\\xd5\\x97\\xb5\\xc8+\\xa8\\x8f\\xe0\\xb9k\\x8bx\\xaa\\xf9\\xedF\\x00\\xa8H-\\\\\\xda(Y\\xc3Q\\n\\x1c\\x9f\\xb5\\x10\\xb3\\x7f\\x9e\\xa7\\xd6^\\t\\xd5+\\x1c\\xc1\\xe1#8<\\xa0\\x08F\\x13W\\x1b\\x01\\x90P\\xad5\\xce\\xcb\\xcbV\\xe0\\x98\\xa6\\xba\\xdc\\xdf\\xf3\\xe8\\x9a\\xfdH\\x8c-\\xcf\\t\\xed\\x12\\x1c!\\xd6\\x00\\xbd\\xc6(\\x11\"YK;\\xff~3\\x0b\\x1c\\x83p\\xf7FB\\xf4\\x0e\\x9e\\xbb+\\x89\\xb4lr\\x00pb\\x7f\\xfe\\\\\\xed\\xe8\\xe1\\\\\\xab5\\xa3\\x80\\xa2v\\xf2c?\\xa2\\x86\\xbbWH.=\\xb6\\xfd\\xee\\xe3\\xb0\\xf0(`\\xbd;\\x84\\xef\\x01\\x94H_cF\\x01a\\xadG\\x1f%Q\\xa0\\xb4\\xb5<[\\xbc\\x00\\xf0)\\x08\\xbf\\xaf\\xd53\\x1az\\xd6\\xf5\\xbd\\xc8\\x7f\\xad\\xd9\\x0e\\xd5\\xcf\\x05$=E(\\xe1o\\x01\\x95\\x85\\x16\\xc0\\xb9\\x1e\\xcd\\xc1\\xc7\\xa1\\x15\\xd30xT\\x88v%\\xbauD\\x8f\\x1c\\xf9\\xd9W\\x06\\'Tj\\x9f\\xb9\\xfb\\x83\\xd0\\xf4\\xafA\\x9d\\xef1\\xf5\\xac\\x99;\\xf3\\x00\\x1aD\\xf4\\x01\\xaf\\x83\\xac\\x0euh\\xf9\\xf9@\\xce\\xc3\\x8f\\x81\\xbc\\xbf\\xab\\xbao3R)\\xe5\\xf9\\x96\\x1a\\xa4\\xab\\x1b\\xf0@\\xeb,#I-\\xcb\\x9e\\xa4\\x01`6\\xc8F\\xd0j\\x845>\\x1fP\\xf1p\\xda3\\xcf\\x07\\xa5\\x80\\xff\\x00u\\xb6Y5H\\x9e yE\\t\\\\\\xbf`)o\\xe8\\xde\\xbc\\xaa\\x97g\\xdb\\x96bM\\xeb6(\\xaeEB\\x13ES\\xf9\\xec\\xcd\\xc2D\\xab!\\x8e\\xce#t\\xc1>\\xaf\\x1a\\xf9\\x00\\x92\\'Ksrh\\xe9\\xde\\xbc\\xaa\\x97\\xe7\\xda\\xd6C\\xb8\\x17\\xc0\\x07\\x8c\\xda\\xee\\x851;\\xcf\\x91Eqta\\t\\x91\\x0e\\x98\\xf9\\x00\\xe2\\x84Dvh\\xfax\\xd7\\x8fo\\xff-\\xfb[W\\x83\\\\g\\xc8\\xec\\x00\\xf3-j\\xca\\x01\\xda\\xd7\\x90=\\x15 \\xcf\\x1a\\x01 \\x19\\nD*p\\xd2\\xe9\\x8a\\x07x\\xfe\\xdb\\x97\\x83\\xba\\xcd\\xf09Z8g#9:SP\\xd8eD\\x01\\x0b8\\x111\\xf6\\x0f\\x1e\\xd9\\xf2\\xc5>Po\\x05\\xf1N#\\xad\\xa3H\\xfenZ\\xe4\\x14\\xa5\\x84\\xeb\\xb5\\xa6;\\x8d,\\xa0J+^\\x19G\\x9a\\x00\\xc5\\x13\\x02\\x03(\\xa0d\\xb7-\\xdb\"s\\x93\\xcf\\xd7j\\x04\\xed\\x87:\\xba@J\\x0c\\xa3\\xa6\\xf2\\xb0\\x91\\x05\\xecI}\\xfaU\\xc2\\xe7q6\\x02\\x0b\\x9c\\x97\\x9c\\x1e\\x9dq\\xb7F}\\xb4f\\x05k\\xbf\\xc0\\xd1\\x19\\xec\\xe3\\xf9\\x9b\\xfc\\xbd\\xcc\\xed\\x1c1\\xee\\x07\\xd0\\xe2c\\xc6\\x05\\x8e2\\xdby\\xad\\x8a\\xde\\xad\\xf1\\x11\\x86%\\x80\\x12\\x06nFY;\"5D*\\xc7\\xc6v\\x82\\xec7kn\\xaaa\\xb7&\\x84\\xc3\\x81ilDP\\xf2\\xad#3\\xfapmWG$\\x00:6\\xad|\\x9d\\xc0\\x9d&\\xf9@a\\x92\\xc3\\x80\\x1b4\\x88\\xd9\\xc5L\\xd94\\xf6\\xbboJ\\x12-\"\\xd0\\xc8]\\xe1\\x03\\xebW\\xfcI\\x80ME\\xf3\\x01\\xcf\\xde4\\xd4Z\\x10\\xa7\\rA\\t\\x03\\xd7\\x13\\xd3\\xe5\\xa7R\\x7fpo\\xc9\\xcf\\x05\\x0elh\\xfe\\xaeR?K\\xf0t`>\\xa06\\xdcZbx\\xa2!(E)\\xe11\\xc5\\xff\\x80\\xf2u\\xa9\\x7f\\xf6\\x9e\\t?\\x19\\xea\\xdat\\xdb\\x93\\x00\\xaeZ|\\xdf\\x8e\\xf7\\x8c[\\x15\\rT\\xce\\xb1s\\xc6\\xcc\\xb7\\xf0\\x85\\x92\\xc3\\x9cZ\\x7f@\\x82{2\\xf7\\xae\\xce\\x9e\\x9e\\xba\\xc0I\\x9c\\xd4iXd\\xe6\\x96\\xeb\\xb5c\\x81C\\xa8@\\x0f\\xfev\\xe5\\xcb\\xb2r\\xa7\\xf5\\xa6\\x1e\\x93\\xe3\\x99o\\xf6\\x80\\\\hX\\x9af\\x8f\\xbb|O\\xae\\xde\\xb9\\x11o\\xe1(\\x1f\\x00\\xa7\\xef\\xca\\x00\\xe0+h (C /\\x05&9`N\\xe3\\xd9}D\\xf7I\\xdd\\xc1U1< \\x11\\xa54u\\xe65\\xa0\\xd6D*q\\x15\\xef\\x8a\\xe9\\t\\x11\\x83\\xc6Dii\\xac\\xeb:Q\\xee\\xe3\\xcd\\xe5\\x05\\xc0\\xbc4-\\xe6\\',\\xc0\\xfa#\\xc8Y\\x00\\x97x\\xc3[y\\x8f\\x88\\x94\\x0f\\x00X9\\x8dN\\xac\\xc8\\x19\\x03Y/\\xf5\\xfb\\x8f\\x03\\x00_\\xfc\\xd82\\x08\\x9ev\\x07\\xf7r\\x02P\\xbe\\x93\\xa2\\xaa\\x03e\\x89\\xfd\\xd0\\xdfI}\\xe7qG\\xdc\\xeb\\x9e{\\x06\\xc0\\x0b.\\x0b\\x18\\x8c\\'\\x00HwEzR\\x13\\x08Jz\\xd4\\xa7\\xa6\\x1au1\\xa0;\\xa6\\x16\\x80\\x0e\\xf3|>,\\xf3\\xc3J\\x1e\\xfbx\\xd2\\x91\\xb7w\\xf1\\x87 h\\xcc\\xdd1\\x0f\\xc62\\x0f\\x00\\x00\\x9el\\xfe9\\xa8wF\\xeb\\xe5\\xb9\\xdf\\xe7\\x8c!\\x80; 2+s\\xe6\\x07\\xd3\\xec~\\xdd6\\xa9\\xef\\xba7\\xa6N\\x10\\xc04\\xdc\\x8bQ}?\\xa8K\\xa258\\x0b\\x1c{\\r -y\\xcb\\x7f\\xc6\\xf9\\xaa\\xb6\\xd8f\\x829\\x8a\\xa6\\x12\\xe8;\\xb6\\x16b\\xad\\x07uz\\x91^\\xbd\\xc9\\x96\\x97\\x00\\xb9\\x0f\\xf5\\xcfn\\x17)\\xf7A\\xd9I\\xfc\\xaf1\\x9e\\xbc\\xf92\\x8c\\x8e\\xac\\x06\\xf8U\\xc0>p\\x91\\xaf\\xfd\\xf0\\xd1\\x0b\\xe1/\\x91\\xc6c\\xb2\\xb0\\xeb|\\xeck\\x81P0^\\xfe\\xd4,h\\xba\\x0e`\\x1d\\xa0\\x0b2\\xbfQ\\x07\"\\t\\xe0\"\\x04\\xafA\\xd1\\x0f\\xf0y\\x08\\x0e\\xa1R\\x0e\\xc9\\xfc\\xe7\\xce`jL\\x8d\\xa915&y\\xfc\\x17\\xe4\\xcc\\xfc\\xa7\\x9c\\xd5n\\x7f\\x00\\x00\\x00\\x00IEND\\xaeB`\\x82'\n"
          ]
        }
      ],
      "source": [
        "with open(\"logo.png\",\"rb\") as f:# this rb is used for reading the binary file\n",
        "    print(f.read())\n",
        ""
      ]
    },
    {
      "cell_type": "code",
      "execution_count": null,
      "id": "6351d145-720c-4662-b8b8-57cbbf3da686",
      "metadata": {
        "id": "6351d145-720c-4662-b8b8-57cbbf3da686",
        "outputId": "1b410537-a51b-4568-bda6-fb5b023f3d58"
      },
      "outputs": [
        {
          "name": "stdout",
          "output_type": "stream",
          "text": [
            "{\"name\": \"ram\", \"age\": 22, \"address\": \"ktm\", \"skills\": [\"python\", \"djanjo\", \"ml\"], \"is_programmer\": true, \"phone\": null} <class 'str'>\n"
          ]
        }
      ],
      "source": [
        "# JSON String\n",
        "\n",
        "import json\n",
        "person={\n",
        "    \"name\":'ram',\n",
        "    \"age\":22,\n",
        "    \"address\":'ktm',\n",
        "    \"skills\":['python','djanjo','ml'],\n",
        "    \"is_programmer\":True,\n",
        "    \"phone\":None\n",
        "}\n",
        "x= json.dumps(person)\n",
        "print(x,type(x))\n",
        "\n",
        ""
      ]
    },
    {
      "cell_type": "code",
      "execution_count": null,
      "id": "0ca6667d-2e00-473d-8c01-5ddaf2c089da",
      "metadata": {
        "id": "0ca6667d-2e00-473d-8c01-5ddaf2c089da",
        "outputId": "6d958ede-17b3-4bd1-d240-7c8ce6164a68"
      },
      "outputs": [
        {
          "name": "stdout",
          "output_type": "stream",
          "text": [
            "[{\"name\": \"ram\", \"age\": 22, \"address\": \"ktm\", \"skills\": [\"python\", \"djanjo\", \"ml\"], \"is_programmer\": true, \"phone\": null}] <class 'str'>\n"
          ]
        }
      ],
      "source": [
        "# JSON String\n",
        "\n",
        "import json\n",
        "person=[{\n",
        "    \"name\":'ram',\n",
        "    \"age\":22,\n",
        "    \"address\":'ktm',\n",
        "    \"skills\":['python','djanjo','ml'],\n",
        "    \"is_programmer\":True,\n",
        "    \"phone\":None\n",
        "}]\n",
        "x= json.dumps(person)\n",
        "print(x,type(x))\n",
        ""
      ]
    },
    {
      "cell_type": "code",
      "execution_count": null,
      "id": "a7c838d2-b7f2-4f1f-bee4-c81122571e07",
      "metadata": {
        "id": "a7c838d2-b7f2-4f1f-bee4-c81122571e07",
        "outputId": "8619c33a-e3bb-4ec6-cd7e-17df4b1a0f2e"
      },
      "outputs": [
        {
          "name": "stdout",
          "output_type": "stream",
          "text": [
            "{'name': 'ram', 'age': 22, 'address': 'ktm', 'skills': ['python', 'djanjo', 'ml'], 'is_programmer': True, 'phone': None} <class 'dict'>\n"
          ]
        }
      ],
      "source": [
        "# JSON String\n",
        "import json\n",
        "\n",
        "person = \"\"\"{\n",
        "    \"name\": \"ram\",\n",
        "    \"age\": 22,\n",
        "    \"address\": \"ktm\",\n",
        "    \"skills\": [\"python\", \"djanjo\", \"ml\"],\n",
        "    \"is_programmer\": true,\n",
        "    \"phone\": null\n",
        "}\n",
        "\"\"\"\n",
        "\n",
        "x = json.loads(person)\n",
        "print(x, type(x))\n",
        "\n",
        ""
      ]
    },
    {
      "cell_type": "code",
      "execution_count": null,
      "id": "626a4f12-b50d-43ee-aeb5-ff4b391e72b9",
      "metadata": {
        "id": "626a4f12-b50d-43ee-aeb5-ff4b391e72b9",
        "outputId": "4dddde54-987c-405d-87f9-8e4cd747efaa"
      },
      "outputs": [
        {
          "name": "stdout",
          "output_type": "stream",
          "text": [
            "{'name': 'ram', 'age': 22, 'address': 'ktm', 'skills': ['python', 'djanjo', 'ml'], 'is_programmer': True, 'phone': None} <class 'dict'>\n"
          ]
        }
      ],
      "source": [
        "import json\n",
        "\n",
        "person = \"\"\"{\n",
        "    \"name\": \"ram\",\n",
        "    \"age\": 22,\n",
        "    \"address\": \"ktm\",\n",
        "    \"skills\": [\"python\", \"djanjo\", \"ml\"],\n",
        "    \"is_programmer\": true,\n",
        "    \"phone\": null\n",
        "}\n",
        "\"\"\"\n",
        "\n",
        "x = json.loads(person)\n",
        "print(x, type(x))\n",
        "\n",
        "# Convert the dictionary to a JSON string and write to file\n",
        "with open(\"person.txt\", \"w\") as f:\n",
        "    f.write(json.dumps(x))\n"
      ]
    },
    {
      "cell_type": "code",
      "execution_count": null,
      "id": "aa9beae7-551f-4220-abc9-129b85a7181f",
      "metadata": {
        "id": "aa9beae7-551f-4220-abc9-129b85a7181f",
        "outputId": "7be037e4-006e-4a92-bd04-944dfb4d9acc"
      },
      "outputs": [
        {
          "name": "stdout",
          "output_type": "stream",
          "text": [
            "{'name': 'ram', 'age': 22, 'address': 'ktm', 'skills': ['python', 'djanjo', 'ml'], 'is_programmer': True, 'phone': None} <class 'dict'>\n"
          ]
        }
      ],
      "source": [
        "# this is the another technique for the loding the the json file\n",
        "\n",
        "import json\n",
        "\n",
        "person = \"\"\"{\n",
        "    \"name\": \"ram\",\n",
        "    \"age\": 22,\n",
        "    \"address\": \"ktm\",\n",
        "    \"skills\": [\"python\", \"djanjo\", \"ml\"],\n",
        "    \"is_programmer\": true,\n",
        "    \"phone\": null\n",
        "}\n",
        "\"\"\"\n",
        "\n",
        "x = json.loads(person)\n",
        "print(x, type(x))\n",
        "\n",
        "# Convert the dictionary to a JSON string and write to file\n",
        "with open(\"person.txt\", \"w\") as f:\n",
        "    json.dump(x,f)\n"
      ]
    },
    {
      "cell_type": "code",
      "execution_count": null,
      "id": "a0b2caee-19d1-449f-93d0-a75978cc0b3e",
      "metadata": {
        "id": "a0b2caee-19d1-449f-93d0-a75978cc0b3e",
        "outputId": "7f1780ba-7304-47fa-d855-9a7187d4060a"
      },
      "outputs": [
        {
          "name": "stdout",
          "output_type": "stream",
          "text": [
            "{'name': 'ram', 'age': 22, 'address': 'ktm', 'skills': ['python', 'djanjo', 'ml'], 'is_programmer': True, 'phone': None} <class 'dict'>\n"
          ]
        }
      ],
      "source": [
        "import json\n",
        "\n",
        "person = \"\"\"{\n",
        "    \"name\": \"ram\",\n",
        "    \"age\": 22,\n",
        "    \"address\": \"ktm\",\n",
        "    \"skills\": [\"python\", \"djanjo\", \"ml\"],\n",
        "    \"is_programmer\": true,\n",
        "    \"phone\": null\n",
        "}\n",
        "\"\"\"\n",
        "\n",
        "x = json.loads(person)\n",
        "print(x, type(x))\n",
        "\n",
        "# Convert the dictionary to a JSON string and write to file\n",
        "with open(\"person.txt\", \"w\") as f:\n",
        "    f.write(json.dumps(x))\n"
      ]
    },
    {
      "cell_type": "code",
      "execution_count": null,
      "id": "8d71052f-59a3-4902-8c54-56380376617f",
      "metadata": {
        "id": "8d71052f-59a3-4902-8c54-56380376617f",
        "outputId": "6471fcb0-70e5-43da-bed8-b58348d9ebc4"
      },
      "outputs": [
        {
          "name": "stdout",
          "output_type": "stream",
          "text": [
            "python\n"
          ]
        }
      ],
      "source": [
        "f= open(\"person.txt\",\"r\")\n",
        "data=f.read()\n",
        "print(x['skills'][0])"
      ]
    },
    {
      "cell_type": "code",
      "execution_count": null,
      "id": "7205e37f-f742-4571-b7f7-3070aadf5e0e",
      "metadata": {
        "id": "7205e37f-f742-4571-b7f7-3070aadf5e0e"
      },
      "outputs": [],
      "source": []
    }
  ],
  "metadata": {
    "kernelspec": {
      "display_name": "Python 3 (ipykernel)",
      "language": "python",
      "name": "python3"
    },
    "language_info": {
      "codemirror_mode": {
        "name": "ipython",
        "version": 3
      },
      "file_extension": ".py",
      "mimetype": "text/x-python",
      "name": "python",
      "nbconvert_exporter": "python",
      "pygments_lexer": "ipython3",
      "version": "3.13.1"
    },
    "colab": {
      "provenance": [],
      "include_colab_link": true
    }
  },
  "nbformat": 4,
  "nbformat_minor": 5
}