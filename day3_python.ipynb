{
  "cells": [
    {
      "cell_type": "markdown",
      "metadata": {
        "id": "view-in-github",
        "colab_type": "text"
      },
      "source": [
        "<a href=\"https://colab.research.google.com/github/AbishekMishra183/data-science-ml-journey/blob/main/day3_python.ipynb\" target=\"_parent\"><img src=\"https://colab.research.google.com/assets/colab-badge.svg\" alt=\"Open In Colab\"/></a>"
      ]
    },
    {
      "cell_type": "code",
      "execution_count": null,
      "id": "c1f6d842-cd2f-4b13-bf89-a7f4068703f5",
      "metadata": {
        "id": "c1f6d842-cd2f-4b13-bf89-a7f4068703f5",
        "outputId": "ba2370cb-b01d-46b9-dc66-3b2d58576383"
      },
      "outputs": [
        {
          "name": "stdout",
          "output_type": "stream",
          "text": [
            "authorized\n",
            "hi\n",
            "hell0\n"
          ]
        }
      ],
      "source": [
        "age=21#this is the looping  of the if case\n",
        "if age>=18:\n",
        "  print(\"authorized\")\n",
        "print(\"hi\")\n",
        "print(\"hell0\")"
      ]
    },
    {
      "cell_type": "code",
      "execution_count": null,
      "id": "87d6eb9f-e857-4fad-9b35-91697ea0f4b8",
      "metadata": {
        "id": "87d6eb9f-e857-4fad-9b35-91697ea0f4b8",
        "outputId": "95d86ff2-9b30-4714-d6d8-116de862b4e1"
      },
      "outputs": [
        {
          "name": "stdin",
          "output_type": "stream",
          "text": [
            "enter your age 18\n"
          ]
        },
        {
          "name": "stdout",
          "output_type": "stream",
          "text": [
            "authorized\n"
          ]
        }
      ],
      "source": [
        "age=int(input(\"enter your age\"))# this is the looping  of the if case\n",
        "if age>=18:\n",
        "    print(\"authorized\")\n",
        "if age<18:\n",
        "    print(\"unauthorized\")"
      ]
    },
    {
      "cell_type": "code",
      "execution_count": null,
      "id": "44552133-c843-41fe-aa7b-33124fee5b3e",
      "metadata": {
        "id": "44552133-c843-41fe-aa7b-33124fee5b3e",
        "outputId": "953e13ee-2f7f-40a7-d1b1-3e14e64ca370"
      },
      "outputs": [
        {
          "name": "stdin",
          "output_type": "stream",
          "text": [
            "enter number x 12\n",
            "enter number y 12\n"
          ]
        },
        {
          "name": "stdout",
          "output_type": "stream",
          "text": [
            "they are equal\n"
          ]
        }
      ],
      "source": [
        "x=int(input(\"enter number x\"))# checking the value are equal, greater , smaller\n",
        "# every if block is checked once then only the output is written as the conclusion\n",
        "y=int(input(\"enter number y\"))\n",
        "if x>y:\n",
        "    print(\"x is greatest\",x)\n",
        "if y>x:\n",
        "    print(\"y is the greatest\",y)\n",
        "if y==x:\n",
        "    print(\"they are equal\")"
      ]
    },
    {
      "cell_type": "code",
      "execution_count": null,
      "id": "17a4e934-87b2-4e7d-ac82-218f4d604e89",
      "metadata": {
        "id": "17a4e934-87b2-4e7d-ac82-218f4d604e89",
        "outputId": "34fcce37-c8bd-453a-fd3a-06554b134291"
      },
      "outputs": [
        {
          "name": "stdin",
          "output_type": "stream",
          "text": [
            "enter your age 18\n"
          ]
        },
        {
          "name": "stdout",
          "output_type": "stream",
          "text": [
            "authorized\n"
          ]
        }
      ],
      "source": [
        "age=int(input(\"enter your age\"))# this is the looping  of the if , else case\n",
        "# first the if is evaluated if the if is worng then the else is printif\n",
        "if age>=18:\n",
        "    print(\"authorized\")\n",
        "else :\n",
        "    print(\"unauthorized\")"
      ]
    },
    {
      "cell_type": "code",
      "execution_count": null,
      "id": "e2385a8a-e442-4078-a2fe-ec0a72466a49",
      "metadata": {
        "id": "e2385a8a-e442-4078-a2fe-ec0a72466a49",
        "outputId": "4eb172b7-1d8d-460f-862a-ef819f322cb2"
      },
      "outputs": [
        {
          "name": "stdin",
          "output_type": "stream",
          "text": [
            "enter number x 12\n",
            "enter number y 13\n"
          ]
        },
        {
          "name": "stdout",
          "output_type": "stream",
          "text": [
            "y is the greatest 13\n"
          ]
        }
      ],
      "source": [
        "x=int(input(\"enter number x\")) # if , else, elif for the muntiple condition\n",
        "y=int(input(\"enter number y\"))\n",
        "if x>y:\n",
        "    print(\"x is greatest\",x)\n",
        "elif y>x:\n",
        "    print(\"y is the greatest\",y)\n",
        "else :\n",
        "    print(\"they are equal\")"
      ]
    },
    {
      "cell_type": "code",
      "execution_count": null,
      "id": "3ac20003-457a-4d81-831c-224a08f9569c",
      "metadata": {
        "id": "3ac20003-457a-4d81-831c-224a08f9569c",
        "outputId": "f6146331-ab04-4a95-85bf-93c52f19820a"
      },
      "outputs": [
        {
          "name": "stdin",
          "output_type": "stream",
          "text": [
            "enter number x 12\n",
            "enter number y 13\n"
          ]
        },
        {
          "name": "stdout",
          "output_type": "stream",
          "text": [
            "y is the greatest 13\n"
          ]
        }
      ],
      "source": [
        "x=int(input(\"enter number x\")) # if , else, elif for the muntiple condition\n",
        "y=int(input(\"enter number y\"))\n",
        "if x>y:\n",
        "    print(\"x is greatest\",x)\n",
        "elif y>x:\n",
        "    print(\"y is the greatest\",y)\n",
        "elif x==y :\n",
        "    print(\"they are equal\")"
      ]
    },
    {
      "cell_type": "code",
      "execution_count": null,
      "id": "fba19743-a1b9-4551-adaf-329f9ff6d89c",
      "metadata": {
        "id": "fba19743-a1b9-4551-adaf-329f9ff6d89c",
        "outputId": "edd50567-faea-4d33-e220-4a40b7b7ed9c"
      },
      "outputs": [
        {
          "name": "stdin",
          "output_type": "stream",
          "text": [
            "enter the user name admin\n",
            "enter the password ajhd\n"
          ]
        },
        {
          "name": "stdout",
          "output_type": "stream",
          "text": [
            "login in failed\n"
          ]
        }
      ],
      "source": [
        "username=input(\"enter the user name\")\n",
        "passwords =\"admin123\"\n",
        "password=(input(\"enter the password\"))\n",
        "if username ==\"admin\" and password==\"admin123\":\n",
        "    print(\"login successfully\")\n",
        "else:\n",
        "  print(\"login in failed\")\n",
        "\n",
        ""
      ]
    },
    {
      "cell_type": "code",
      "execution_count": null,
      "id": "a58ca7e0-1091-4da0-aaa2-8d1ce0bb8105",
      "metadata": {
        "id": "a58ca7e0-1091-4da0-aaa2-8d1ce0bb8105",
        "outputId": "fc915d94-5fe0-4d3f-957a-ed3c092f3061"
      },
      "outputs": [
        {
          "name": "stdin",
          "output_type": "stream",
          "text": [
            "enter the user name admin\n",
            "enter the secret key secretkey\n",
            "enter the password adjbkh\n"
          ]
        },
        {
          "name": "stdout",
          "output_type": "stream",
          "text": [
            "login successfully\n"
          ]
        }
      ],
      "source": [
        "username=input(\"enter the user name\")# validating with the help of the input\n",
        "secret=input(\"enter the secret key\")\n",
        "password=(input(\"enter the password\"))\n",
        "if username ==\"admin\" and password ==\"admin123\" or secret==\"secretkey\" :\n",
        "    print(\"login successfully\")\n",
        "else:\n",
        " print(\"login in failed\")\n",
        ""
      ]
    },
    {
      "cell_type": "code",
      "execution_count": null,
      "id": "98d3bce9-555f-4ee4-8aab-788e9805b5f6",
      "metadata": {
        "id": "98d3bce9-555f-4ee4-8aab-788e9805b5f6",
        "outputId": "3d568f93-2101-4ae6-9f7f-89aa5683b619"
      },
      "outputs": [
        {
          "name": "stdin",
          "output_type": "stream",
          "text": [
            "enter the user name admin\n",
            "enter the password admin123\n"
          ]
        },
        {
          "name": "stdout",
          "output_type": "stream",
          "text": [
            "login successfully\n"
          ]
        }
      ],
      "source": [
        "username=input(\"enter the user name\")# validating with the help of the input\n",
        "\n",
        "password=(input(\"enter the password\"))\n",
        "\n",
        "if username ==\"admin\" and password ==\"admin123\" :\n",
        "    print(\"login successfully\")\n",
        "else:\n",
        "    secret=input(\"enter the secret key\")\n",
        "    if secret==\"secretkey\" :\n",
        "      print(\"login in successfully\")\n",
        "    else:\n",
        "     print(\"login failed\")\n",
        ""
      ]
    },
    {
      "cell_type": "code",
      "execution_count": null,
      "id": "627ee6eb-40e5-442c-adc9-04c52dcebc5f",
      "metadata": {
        "id": "627ee6eb-40e5-442c-adc9-04c52dcebc5f",
        "outputId": "eebfbb2c-2d2e-49c3-91f2-afa5b214a27a"
      },
      "outputs": [
        {
          "name": "stdin",
          "output_type": "stream",
          "text": [
            "enter the age 38\n"
          ]
        },
        {
          "name": "stdout",
          "output_type": "stream",
          "text": [
            "middle aged\n"
          ]
        }
      ],
      "source": [
        "#input age\n",
        "# check for the different situation\n",
        "\n",
        "age=int(input(\"enter the age\"))\n",
        "if age>1 and age<=12 :\n",
        "    print(\"child\")\n",
        "elif age>=13 and age<=17:\n",
        "  print(\"teenager\")\n",
        "elif age>=18 and age<=35:\n",
        "  print(\"young adult\")\n",
        "elif age>=36 and age<=45:\n",
        "  print(\"middle aged\")\n",
        "else:\n",
        "  print(\"older adult\")\n"
      ]
    },
    {
      "cell_type": "code",
      "execution_count": null,
      "id": "997e3264-e945-4c30-a7fd-21ff18426657",
      "metadata": {
        "id": "997e3264-e945-4c30-a7fd-21ff18426657",
        "outputId": "343ba798-0236-4010-988f-5e2a7959643b"
      },
      "outputs": [
        {
          "name": "stdout",
          "output_type": "stream",
          "text": [
            "1\n",
            "2\n",
            "3\n",
            "4\n",
            "5\n"
          ]
        }
      ],
      "source": [
        "# FOR LOOP\n",
        "x= [1, 2, 3,4,5]\n",
        "for i in x:\n",
        "    print(i)\n"
      ]
    },
    {
      "cell_type": "code",
      "execution_count": null,
      "id": "0794770d-1be4-43be-925f-eb2a6f1c5f2c",
      "metadata": {
        "id": "0794770d-1be4-43be-925f-eb2a6f1c5f2c",
        "outputId": "15022ead-127e-4280-eb62-8cc95da722a2"
      },
      "outputs": [
        {
          "name": "stdout",
          "output_type": "stream",
          "text": [
            "1 2 3 4\n"
          ]
        }
      ],
      "source": [
        "x= [1, 2, 3,4,5]\n",
        "print(x[0],x[1],x[2],x[3])"
      ]
    },
    {
      "cell_type": "code",
      "execution_count": null,
      "id": "a11ee110-d90c-4bda-ab5e-e56414225409",
      "metadata": {
        "id": "a11ee110-d90c-4bda-ab5e-e56414225409",
        "outputId": "f051e6b9-16e0-418a-de9c-8178bfb65776"
      },
      "outputs": [
        {
          "name": "stdout",
          "output_type": "stream",
          "text": [
            "15\n"
          ]
        }
      ],
      "source": [
        "x= [1, 2, 3,4,5]# to find the sum of the list in the python\n",
        "sum=0\n",
        "for i in x:\n",
        "  sum=sum+i#0+1+2+3+4+5\n",
        "print(sum)"
      ]
    },
    {
      "cell_type": "code",
      "execution_count": null,
      "id": "9e350dbd-0eaa-470a-ad84-1a4c61511692",
      "metadata": {
        "id": "9e350dbd-0eaa-470a-ad84-1a4c61511692",
        "outputId": "0ab51f26-5f1f-421f-d846-4ba87a192fdd"
      },
      "outputs": [
        {
          "name": "stdout",
          "output_type": "stream",
          "text": [
            "120\n"
          ]
        }
      ],
      "source": [
        "x= [1, 2, 3,4,5]# to find the muntiply of the list in the python\n",
        "mul=1\n",
        "for i in x:\n",
        "  mul=mul*i #1*1*2*3*4*5\n",
        "print(mul)"
      ]
    },
    {
      "cell_type": "code",
      "execution_count": null,
      "id": "cf0c1ab5-304a-4189-9cbb-48bb7ab0b094",
      "metadata": {
        "id": "cf0c1ab5-304a-4189-9cbb-48bb7ab0b094",
        "outputId": "2d8f1886-7041-4d38-cf65-8638fee1354d"
      },
      "outputs": [
        {
          "name": "stdout",
          "output_type": "stream",
          "text": [
            "[1, 4, 9, 16, 25]\n"
          ]
        }
      ],
      "source": [
        "x = [1, 2, 3, 4, 5]\n",
        "squares = []\n",
        "\n",
        "for i in x:\n",
        "    squares.append(i ** 2)\n",
        "\n",
        "print(squares)\n"
      ]
    },
    {
      "cell_type": "code",
      "execution_count": null,
      "id": "875afaf4-822b-4b2b-a7c8-b30b9db2c2f7",
      "metadata": {
        "id": "875afaf4-822b-4b2b-a7c8-b30b9db2c2f7"
      },
      "outputs": [],
      "source": []
    }
  ],
  "metadata": {
    "kernelspec": {
      "display_name": "Python 3 (ipykernel)",
      "language": "python",
      "name": "python3"
    },
    "language_info": {
      "codemirror_mode": {
        "name": "ipython",
        "version": 3
      },
      "file_extension": ".py",
      "mimetype": "text/x-python",
      "name": "python",
      "nbconvert_exporter": "python",
      "pygments_lexer": "ipython3",
      "version": "3.13.1"
    },
    "colab": {
      "provenance": [],
      "include_colab_link": true
    }
  },
  "nbformat": 4,
  "nbformat_minor": 5
}