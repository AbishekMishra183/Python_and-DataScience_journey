{
  "nbformat": 4,
  "nbformat_minor": 0,
  "metadata": {
    "colab": {
      "provenance": [],
      "authorship_tag": "ABX9TyPA02NSwt7NYtZQTa1XlNBR",
      "include_colab_link": true
    },
    "kernelspec": {
      "name": "python3",
      "display_name": "Python 3"
    },
    "language_info": {
      "name": "python"
    }
  },
  "cells": [
    {
      "cell_type": "markdown",
      "metadata": {
        "id": "view-in-github",
        "colab_type": "text"
      },
      "source": [
        "<a href=\"https://colab.research.google.com/github/AbishekMishra183/data-science-ml-journey/blob/main/Day13_practice_fileHandeling.ipynb\" target=\"_parent\"><img src=\"https://colab.research.google.com/assets/colab-badge.svg\" alt=\"Open In Colab\"/></a>"
      ]
    },
    {
      "cell_type": "code",
      "execution_count": null,
      "metadata": {
        "colab": {
          "base_uri": "https://localhost:8080/",
          "height": 0
        },
        "id": "W-dpRktu9CQl",
        "outputId": "49ecbbf7-7e1d-41ac-bb24-821f48cc492f"
      },
      "outputs": [
        {
          "output_type": "stream",
          "name": "stdout",
          "text": [
            "\n",
            "Personal Diary App\n",
            "1. Add Entry\n",
            "2. View Entries\n",
            "3. Search Entries\n",
            "4. Exit\n",
            "Choose an option: 1\n",
            "Write your diary entry:\n",
            "Hello ! its me Abishek Mishra\n",
            "Entry added successfully!\n",
            "\n",
            "Personal Diary App\n",
            "1. Add Entry\n",
            "2. View Entries\n",
            "3. Search Entries\n",
            "4. Exit\n"
          ]
        }
      ],
      "source": [
        "import datetime\n",
        "\n",
        "FILENAME = \"my_diary.txt\"\n",
        "\n",
        "def add_entry():\n",
        "    date = datetime.datetime.now().strftime(\"%Y-%m-%d %H:%M:%S\")\n",
        "    entry = input(\"Write your diary entry:\\n\")\n",
        "    with open(FILENAME, \"a\") as file:\n",
        "        file.write(f\"{date}\\n{entry}\\n{'-'*40}\\n\")\n",
        "    print(\"Entry added successfully!\")\n",
        "\n",
        "def view_entries():\n",
        "    try:\n",
        "        with open(FILENAME, \"r\") as file:\n",
        "            content = file.read()\n",
        "            print(\"\\n--- All Diary Entries ---\")\n",
        "            print(content)\n",
        "    except FileNotFoundError:\n",
        "        print(\"No entries found. Start by adding one.\")\n",
        "\n",
        "def search_entries():\n",
        "    keyword = input(\"Enter keyword or date (YYYY-MM-DD) to search: \")\n",
        "    try:\n",
        "        with open(FILENAME, \"r\") as file:\n",
        "            entries = file.read().split('-'*40)\n",
        "            found = False\n",
        "            for entry in entries:\n",
        "                if keyword in entry:\n",
        "                    print(entry)\n",
        "                    print('-'*40)\n",
        "                    found = True\n",
        "            if not found:\n",
        "                print(\"No matching entries found.\")\n",
        "    except FileNotFoundError:\n",
        "        print(\"Diary file not found.\")\n",
        "\n",
        "def menu():\n",
        "    while True:\n",
        "        print(\"\\nPersonal Diary App\")\n",
        "        print(\"1. Add Entry\")\n",
        "        print(\"2. View Entries\")\n",
        "        print(\"3. Search Entries\")\n",
        "        print(\"4. Exit\")\n",
        "        choice = input(\"Choose an option: \")\n",
        "\n",
        "        if choice == \"1\":\n",
        "            add_entry()\n",
        "        elif choice == \"2\":\n",
        "            view_entries()\n",
        "        elif choice == \"3\":\n",
        "            search_entries()\n",
        "        elif choice == \"4\":\n",
        "            print(\"Goodbye!\")\n",
        "            break\n",
        "        else:\n",
        "            print(\"Invalid option. Please try again.\")\n",
        "\n",
        "menu()\n"
      ]
    }
  ]
}